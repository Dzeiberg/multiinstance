{
 "cells": [
  {
   "cell_type": "code",
   "execution_count": null,
   "metadata": {},
   "outputs": [],
   "source": [
    "# default_exp distanceApproaches"
   ]
  },
  {
   "cell_type": "code",
   "execution_count": 2,
   "metadata": {
    "ExecuteTime": {
     "end_time": "2021-02-18T18:32:21.217216Z",
     "start_time": "2021-02-18T18:32:20.708048Z"
    }
   },
   "outputs": [
    {
     "ename": "ModuleNotFoundError",
     "evalue": "No module named 'community'",
     "output_type": "error",
     "traceback": [
      "\u001b[0;31m---------------------------------------------------------------------------\u001b[0m",
      "\u001b[0;31mModuleNotFoundError\u001b[0m                       Traceback (most recent call last)",
      "\u001b[0;32m<ipython-input-2-e53e63d5dcd2>\u001b[0m in \u001b[0;36m<module>\u001b[0;34m\u001b[0m\n\u001b[1;32m      1\u001b[0m \u001b[0;31m# export\u001b[0m\u001b[0;34m\u001b[0m\u001b[0;34m\u001b[0m\u001b[0;34m\u001b[0m\u001b[0m\n\u001b[0;32m----> 2\u001b[0;31m \u001b[0;32mfrom\u001b[0m \u001b[0mmultiinstance\u001b[0m\u001b[0;34m.\u001b[0m\u001b[0mutils\u001b[0m \u001b[0;32mimport\u001b[0m \u001b[0;34m*\u001b[0m\u001b[0;34m\u001b[0m\u001b[0;34m\u001b[0m\u001b[0m\n\u001b[0m\u001b[1;32m      3\u001b[0m \u001b[0;34m\u001b[0m\u001b[0m\n\u001b[1;32m      4\u001b[0m \u001b[0;32mimport\u001b[0m \u001b[0mseaborn\u001b[0m \u001b[0;32mas\u001b[0m \u001b[0msns\u001b[0m\u001b[0;34m\u001b[0m\u001b[0;34m\u001b[0m\u001b[0m\n\u001b[1;32m      5\u001b[0m \u001b[0;34m\u001b[0m\u001b[0m\n",
      "\u001b[0;32m/ssdata/multiinstance/multiinstance/utils.py\u001b[0m in \u001b[0;36m<module>\u001b[0;34m\u001b[0m\n\u001b[1;32m     10\u001b[0m \u001b[0;32mimport\u001b[0m \u001b[0mnumpy\u001b[0m \u001b[0;32mas\u001b[0m \u001b[0mnp\u001b[0m\u001b[0;34m\u001b[0m\u001b[0;34m\u001b[0m\u001b[0m\n\u001b[1;32m     11\u001b[0m \u001b[0;34m\u001b[0m\u001b[0m\n\u001b[0;32m---> 12\u001b[0;31m \u001b[0;32mimport\u001b[0m \u001b[0mcommunity\u001b[0m \u001b[0;32mas\u001b[0m \u001b[0mcommunity_louvain\u001b[0m\u001b[0;34m\u001b[0m\u001b[0;34m\u001b[0m\u001b[0m\n\u001b[0m\u001b[1;32m     13\u001b[0m \u001b[0;32mimport\u001b[0m \u001b[0mnetworkx\u001b[0m \u001b[0;32mas\u001b[0m \u001b[0mnx\u001b[0m\u001b[0;34m\u001b[0m\u001b[0;34m\u001b[0m\u001b[0m\n\u001b[1;32m     14\u001b[0m \u001b[0;32mimport\u001b[0m \u001b[0migraph\u001b[0m \u001b[0;32mas\u001b[0m \u001b[0mig\u001b[0m\u001b[0;34m\u001b[0m\u001b[0;34m\u001b[0m\u001b[0m\n",
      "\u001b[0;31mModuleNotFoundError\u001b[0m: No module named 'community'"
     ]
    }
   ],
   "source": [
    "# export\n",
    "from multiinstance.utils import *\n",
    "\n",
    "import seaborn as sns\n",
    "\n",
    "import community as community_louvain\n",
    "import networkx as nx\n",
    "\n",
    "from multiinstance.data.syntheticData import buildDataset,getBag\n",
    "import numpy as np\n",
    "from sklearn.linear_model import LogisticRegression\n",
    "from sklearn.svm import SVC\n",
    "from sklearn.ensemble import BaggingClassifier\n",
    "from sklearn.metrics import roc_auc_score\n",
    "from sklearn.neighbors import KernelDensity\n",
    "from scipy.special import logsumexp\n",
    "import scipy.stats as ss\n",
    "from tqdm.notebook import tqdm\n",
    "import matplotlib.pyplot as plt"
   ]
  },
  {
   "cell_type": "code",
   "execution_count": 1,
   "metadata": {
    "ExecuteTime": {
     "end_time": "2021-02-18T18:06:55.771837Z",
     "start_time": "2021-02-18T18:06:55.747676Z"
    }
   },
   "outputs": [],
   "source": []
  },
  {
   "cell_type": "code",
   "execution_count": null,
   "metadata": {},
   "outputs": [],
   "source": [
    "# export\n",
    "def fitKDE(vec):\n",
    "    kde = KernelDensity(kernel=\"gaussian\").fit(vec)\n",
    "    return kde\n",
    "\n",
    "def KLD(lnDensI,lnDensJ):\n",
    "        return ss.entropy(np.exp(lnDensI), qk=np.exp(lnDensJ),base=2)\n",
    "    \n",
    "def JSD(ds, kdeI, i, j):\n",
    "    _,uI = getTransformScores(ds,i)\n",
    "    uI = uI.reshape((-1,1))\n",
    "    _,uJ = getTransformScores(ds,j)\n",
    "    uJ = uJ.reshape((-1,1))\n",
    "    kdeJ = fitKDE(uJ)\n",
    "    lnDensI0 = kdeI.score_samples(uI)\n",
    "    lnDensJ0 = kdeJ.score_samples(uI)\n",
    "    lnDensM0 = np.array([logsumexp((ldi,ldj),\n",
    "                                       b=np.array([.5,.5])) for ldi,ldj in zip(lnDensI0, lnDensJ0)])\n",
    "    lnDensI1 = kdeI.score_samples(uJ)\n",
    "    lnDensJ1 = kdeJ.score_samples(uJ)\n",
    "    lnDensM1 = np.array([logsumexp((ldi,ldj),\n",
    "                                       b=np.array([.5,.5])) for ldi,ldj in zip(lnDensI1, lnDensJ1)])\n",
    "    x = KLD(lnDensI0,lnDensM0)\n",
    "    y = KLD(lnDensJ1, lnDensM1)\n",
    "    return x + y\n",
    "\n",
    "def getJSDDistMat(ds):\n",
    "    N = ds.N\n",
    "    dist = np.zeros((N,N))\n",
    "    for i in range(N):\n",
    "        _, uI = getTransformScores(ds,i)\n",
    "        kdeI = fitKDE(uI.reshape((-1,1)))\n",
    "        for j in range(i+1, N):\n",
    "            jsd = JSD(ds, kdeI, i,j)\n",
    "            dist[i,j] = jsd\n",
    "            dist[j,i] = jsd\n",
    "    return dist\n",
    "\n",
    "def getKLDMat(ds):\n",
    "    N = ds.N\n",
    "    dist = np.zeros((N,N))\n",
    "    for i in range(N):\n",
    "        _, uI = getTransformScores(ds,i)\n",
    "        uI = uI.reshape((-1,1))\n",
    "        kdeI = fitKDE(uI)\n",
    "        for j in range(N):\n",
    "            _,uJ = getTransformScores(ds,j)\n",
    "            uJ = uJ.reshape((-1,1))\n",
    "            kdeJ = fitKDE(uJ)\n",
    "            lnDensI = kdeI.score_samples(uI)\n",
    "            lnDensJ = kdeJ.score_samples(uI)\n",
    "            dist[i,j] = KLD(lnDensI, lnDensJ)\n",
    "    return dist\n",
    "\n",
    "def getWassersteinMat(ds):\n",
    "    N = ds.N\n",
    "    dist = np.zeros((N,N))\n",
    "    for i in range(N):\n",
    "        _, uI = getTransformScores(ds,i)\n",
    "#         uI = uI.reshape((-1,1))\n",
    "        for j in range(N):\n",
    "            _,uJ = getTransformScores(ds,j)\n",
    "#             uJ = uJ.reshape((-1,1))\n",
    "            dist[i,j] = ss.wasserstein_distance(uI,uJ)\n",
    "    return dist\n",
    "\n",
    "def getOptimalAdjacency(trueAlphas):\n",
    "    N = trueAlphas.shape[0]\n",
    "    adj = np.zeros((N,N))\n",
    "    for i,a0 in enumerate(trueAlphas):\n",
    "        for j,a1 in enumerate(trueAlphas[i+1:],start=i+1):\n",
    "            adj[i,j] = np.abs(a0 - a1)\n",
    "            adj[j,i] = np.abs(a0 - a1)\n",
    "    return adj"
   ]
  },
  {
   "cell_type": "code",
   "execution_count": null,
   "metadata": {},
   "outputs": [],
   "source": [
    "# hide\n",
    "primeAEs = []\n",
    "localAEs = []\n",
    "baselineAEs = []"
   ]
  },
  {
   "cell_type": "code",
   "execution_count": null,
   "metadata": {},
   "outputs": [],
   "source": [
    "# hide\n",
    "for rep in tqdm(range(10),total=10,leave=False, desc=\"dataset rep\"):\n",
    "    ds = buildDataset(100,alphaDistr=lambda: np.random.uniform(0.01,0.5))\n",
    "    ds = addTransformScores(ds)\n",
    "    # compute dist mat\n",
    "    wassMat = getWassersteinMat(ds)\n",
    "    order = np.argsort(ds.trueAlphas.flatten())\n",
    "    plt.figure()\n",
    "    sns.heatmap(wassMat[order][:,order])\n",
    "    plt.title(\"Wasserstein Matrix orderd by True Alpha\")\n",
    "    plt.show()\n",
    "    \n",
    "    plt.figure()\n",
    "    sns.heatmap(getOptimalAdjacency(ds.trueAlphas)[order][:,order])\n",
    "    plt.title(\"Alpha MAE ordered by true alpha\")\n",
    "    plt.show()\n",
    "    # find partition using Louvain alg\n",
    "    g = nx.from_numpy_array(1 / np.exp(wassMat))\n",
    "    partition = community_louvain.best_partition(g)\n",
    "    values = np.array(list(partition.values()))\n",
    "    plt.figure()\n",
    "    for k in np.unique(values):\n",
    "        print(\"k:{}    n={}\".format(k, (values == k).sum()))\n",
    "    clusterorder = np.argsort(values)\n",
    "    sns.heatmap(getOptimalAdjacency(ds.trueAlphas)[clusterorder][:,clusterorder])\n",
    "    plt.title(\"Alpha MAE ordered by cluster assignment (K={})\".format(len(np.unique(values))))\n",
    "    plt.show()\n",
    "    ds.clusters = [np.where(values  == v)[0] for v in np.unique(values)]    \n",
    "    ds.alphaHats, ds.curves = getBagAlphaHats(ds,10)\n",
    "    ds.clusterAlphaHat, ds.clusterCurves = getCliqueAlphaHats(ds,ds.clusters, numbootstraps=10)\n",
    "\n",
    "    ds.alphaPrime = getAlphaPrime(ds.clusters, ds.clusterAlphaHat)\n",
    "\n",
    "    globalAlphaHat,_ = getCliqueAlphaHats(ds, [np.arange(ds.N)], numbootstraps=10)\n",
    "\n",
    "    primeAEs.append(np.abs(ds.alphaPrime - ds.trueAlphas))\n",
    "    localAEs.append(np.abs(ds.alphaHats - ds.trueAlphas))\n",
    "    baselineAEs.append(np.abs(ds.trueAlphas - globalAlphaHat.mean()))"
   ]
  },
  {
   "cell_type": "code",
   "execution_count": null,
   "metadata": {},
   "outputs": [],
   "source": [
    "# hide\n",
    "np.mean(primeAEs), np.mean(localAEs), np.mean(baselineAEs)"
   ]
  },
  {
   "cell_type": "code",
   "execution_count": null,
   "metadata": {},
   "outputs": [],
   "source": []
  }
 ],
 "metadata": {
  "kernelspec": {
   "display_name": "Python 3",
   "language": "python",
   "name": "python3"
  },
  "language_info": {
   "codemirror_mode": {
    "name": "ipython",
    "version": 3
   },
   "file_extension": ".py",
   "mimetype": "text/x-python",
   "name": "python",
   "nbconvert_exporter": "python",
   "pygments_lexer": "ipython3",
   "version": "3.7.6"
  }
 },
 "nbformat": 4,
 "nbformat_minor": 4
}
