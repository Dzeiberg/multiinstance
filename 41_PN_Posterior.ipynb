{
 "cells": [
  {
   "cell_type": "code",
   "execution_count": 20,
   "metadata": {
    "ExecuteTime": {
     "end_time": "2021-04-23T16:18:55.866623Z",
     "start_time": "2021-04-23T16:18:55.859335Z"
    }
   },
   "outputs": [],
   "source": [
    "from multiinstance.data.gaussian_dg import GaussianMixtureDataGenerator\n",
    "\n",
    "import numpy as np\n",
    "\n",
    "from easydict import EasyDict\n",
    "import matplotlib.pyplot as plt"
   ]
  },
  {
   "cell_type": "code",
   "execution_count": 78,
   "metadata": {
    "ExecuteTime": {
     "end_time": "2021-04-23T16:37:13.326587Z",
     "start_time": "2021-04-23T16:37:13.322015Z"
    }
   },
   "outputs": [],
   "source": [
    "from sklearn.metrics import roc_auc_score"
   ]
  },
  {
   "cell_type": "code",
   "execution_count": 45,
   "metadata": {
    "ExecuteTime": {
     "end_time": "2021-04-23T16:27:14.861268Z",
     "start_time": "2021-04-23T16:27:14.851531Z"
    }
   },
   "outputs": [],
   "source": [
    "from tensorflow.keras.models import Sequential, Model, load_model\n",
    "from tensorflow.keras import layers\n",
    "from tensorflow.keras.layers import Input, Dense, Lambda, Activation, Concatenate\n",
    "from tensorflow.keras.utils import plot_model\n",
    "from tensorflow.keras.datasets import mnist\n",
    "from tensorflow.keras.optimizers import Adam\n",
    "from tensorflow.keras import backend as KB\n",
    "from tensorflow.keras.losses import BinaryCrossentropy\n",
    "from tensorflow import summary\n",
    "import tensorflow.keras.backend as K\n",
    "import tensorflow as tf"
   ]
  },
  {
   "cell_type": "code",
   "execution_count": 4,
   "metadata": {
    "ExecuteTime": {
     "end_time": "2021-04-23T16:13:05.868749Z",
     "start_time": "2021-04-23T16:13:05.853620Z"
    }
   },
   "outputs": [],
   "source": [
    "def generateParams(nClusters, nComps, dim,aucpn_range=[0.8,0.85]):\n",
    "    posMeans,posCovs,negMeans,negCovs,dgs =[], [],[],[],[]\n",
    "    for comp in range(nClusters):\n",
    "        dg = GaussianMixtureDataGenerator(dim,nComps,aucpn_range,100,1000)\n",
    "        pos,neg = dg.components_pos[0], dg.components_neg[0]\n",
    "        r = np.zeros(dim)\n",
    "        for _ in range(1):\n",
    "            r += np.random.normal(loc=0,scale=10,size=dim)\n",
    "        posMeans.append(pos.mean+r)\n",
    "        posCovs.append(pos.cov)\n",
    "        negMeans.append(neg.mean+r)\n",
    "        negCovs.append(neg.cov)\n",
    "        dgs.append(dg)\n",
    "    val = EasyDict\n",
    "    val.posMeans = posMeans\n",
    "    val.posCovs = posCovs\n",
    "    val.negMeans = negMeans\n",
    "    val.negCovs = negCovs\n",
    "    val.dgs = dgs\n",
    "    return val"
   ]
  },
  {
   "cell_type": "code",
   "execution_count": 317,
   "metadata": {
    "ExecuteTime": {
     "end_time": "2021-04-23T18:08:22.356588Z",
     "start_time": "2021-04-23T18:08:22.350103Z"
    }
   },
   "outputs": [],
   "source": [
    "args = EasyDict()\n",
    "args.nClusters = 1\n",
    "args.nComps = 1\n",
    "args.dim = 10\n",
    "args.aucpn_range=[0.7,.8]\n",
    "args.hdim = 4"
   ]
  },
  {
   "cell_type": "code",
   "execution_count": 318,
   "metadata": {
    "ExecuteTime": {
     "end_time": "2021-04-23T18:09:33.566392Z",
     "start_time": "2021-04-23T18:08:24.396680Z"
    },
    "scrolled": true
   },
   "outputs": [],
   "source": [
    "data = generateParams(args.nClusters, args.nComps, args.dim, args.aucpn_range)"
   ]
  },
  {
   "cell_type": "code",
   "execution_count": 319,
   "metadata": {
    "ExecuteTime": {
     "end_time": "2021-04-23T18:09:33.569785Z",
     "start_time": "2021-04-23T18:09:33.567923Z"
    }
   },
   "outputs": [],
   "source": [
    "# rnge = np.arange(-5,15,.1)\n",
    "# plt.plot(rnge,data.dgs[0].pn_posterior_cc(rnge))\n",
    "# plt.plot(rnge,data.dgs[0].dens_pos(rnge),label=\"f1(x)\")\n",
    "# plt.plot(rnge,data.dgs[0].dens_neg(rnge),label=\"f0(x)\")\n",
    "# plt.legend()"
   ]
  },
  {
   "cell_type": "code",
   "execution_count": 320,
   "metadata": {
    "ExecuteTime": {
     "end_time": "2021-04-23T18:09:33.602642Z",
     "start_time": "2021-04-23T18:09:33.571296Z"
    }
   },
   "outputs": [],
   "source": [
    "x,y = data.dgs[0].pn_data(20000,.5)\n",
    "y = y.astype(bool)"
   ]
  },
  {
   "cell_type": "code",
   "execution_count": 321,
   "metadata": {
    "ExecuteTime": {
     "end_time": "2021-04-23T18:09:33.629274Z",
     "start_time": "2021-04-23T18:09:33.604153Z"
    }
   },
   "outputs": [],
   "source": [
    "model = Sequential(name=\"model\")\n",
    "model.add(Dense(args.hdim, input_shape=(args.dim,), activation='relu',))\n",
    "model.add(Dense(args.hdim, activation='relu'))\n",
    "model.add(Dense(1, activation=\"sigmoid\"))\n"
   ]
  },
  {
   "cell_type": "code",
   "execution_count": 322,
   "metadata": {
    "ExecuteTime": {
     "end_time": "2021-04-23T18:09:33.639391Z",
     "start_time": "2021-04-23T18:09:33.630605Z"
    }
   },
   "outputs": [],
   "source": [
    "model.compile(loss=tf.keras.losses.BinaryCrossentropy())"
   ]
  },
  {
   "cell_type": "code",
   "execution_count": 323,
   "metadata": {
    "ExecuteTime": {
     "end_time": "2021-04-23T18:09:51.234663Z",
     "start_time": "2021-04-23T18:09:33.640706Z"
    }
   },
   "outputs": [
    {
     "name": "stdout",
     "output_type": "stream",
     "text": [
      "Epoch 1/20\n",
      "625/625 [==============================] - 1s 1ms/step - loss: 0.6783\n",
      "Epoch 2/20\n",
      "625/625 [==============================] - 1s 1ms/step - loss: 0.6251\n",
      "Epoch 3/20\n",
      "625/625 [==============================] - 1s 1ms/step - loss: 0.6129\n",
      "Epoch 4/20\n",
      "625/625 [==============================] - 1s 1ms/step - loss: 0.5963\n",
      "Epoch 5/20\n",
      "625/625 [==============================] - 1s 1ms/step - loss: 0.5929\n",
      "Epoch 6/20\n",
      "625/625 [==============================] - 1s 1ms/step - loss: 0.5921\n",
      "Epoch 7/20\n",
      "625/625 [==============================] - 1s 1ms/step - loss: 0.5869\n",
      "Epoch 8/20\n",
      "625/625 [==============================] - 1s 1ms/step - loss: 0.5864\n",
      "Epoch 9/20\n",
      "625/625 [==============================] - 1s 1ms/step - loss: 0.5818\n",
      "Epoch 10/20\n",
      "625/625 [==============================] - 1s 1ms/step - loss: 0.5918\n",
      "Epoch 11/20\n",
      "625/625 [==============================] - 1s 1ms/step - loss: 0.5888\n",
      "Epoch 12/20\n",
      "625/625 [==============================] - 1s 1ms/step - loss: 0.5917\n",
      "Epoch 13/20\n",
      "625/625 [==============================] - 1s 1ms/step - loss: 0.5871\n",
      "Epoch 14/20\n",
      "625/625 [==============================] - 1s 1ms/step - loss: 0.5848\n",
      "Epoch 15/20\n",
      "625/625 [==============================] - 1s 2ms/step - loss: 0.5853\n",
      "Epoch 16/20\n",
      "625/625 [==============================] - 1s 1ms/step - loss: 0.5846\n",
      "Epoch 17/20\n",
      "625/625 [==============================] - 1s 1ms/step - loss: 0.5861\n",
      "Epoch 18/20\n",
      "625/625 [==============================] - 1s 1ms/step - loss: 0.5840\n",
      "Epoch 19/20\n",
      "625/625 [==============================] - 1s 1ms/step - loss: 0.5850\n",
      "Epoch 20/20\n",
      "625/625 [==============================] - 1s 1ms/step - loss: 0.5844\n"
     ]
    },
    {
     "data": {
      "text/plain": [
       "<tensorflow.python.keras.callbacks.History at 0x7f68fc3b67d0>"
      ]
     },
     "execution_count": 323,
     "metadata": {},
     "output_type": "execute_result"
    }
   ],
   "source": [
    "# NMixup = 20000\n",
    "# randindx1 = np.random.choice(np.arange(p.shape[0]),size=NMixup)\n",
    "# randindx2 = np.random.choice(np.arange(p.shape[0]),size=NMixup)\n",
    "# beta = np.random.beta(2,2,size=NMixup)\n",
    "# m = x[y][randindx1] * beta + (1 - beta) * x[~y][randindx2]\n",
    "# m = m.reshape((-1,1))\n",
    "# beta = beta.reshape((-1,1))\n",
    "\n",
    "# model.fit(np.concatenate((x,m)),np.concatenate((y,beta)),epochs=20)\n",
    "\n",
    "model.fit(x,y,epochs=20)"
   ]
  },
  {
   "cell_type": "code",
   "execution_count": 324,
   "metadata": {
    "ExecuteTime": {
     "end_time": "2021-04-23T18:09:51.241161Z",
     "start_time": "2021-04-23T18:09:51.237736Z"
    }
   },
   "outputs": [],
   "source": [
    "# rnge = np.arange(-5,15,.1)\n",
    "# plt.plot(rnge,data.dgs[0].pn_posterior_cc(rnge),label=\"p\")\n",
    "# plt.plot(rnge,data.dgs[0].dens_pos(rnge),label=\"f1(x)\")\n",
    "# plt.plot(rnge,data.dgs[0].dens_neg(rnge),label=\"f0(x)\")\n",
    "# plt.plot(rnge,model.predict(rnge.reshape((-1,1))),label=\"pHat\")\n",
    "# # plt.hist(x[y.astype(bool)],density=True,label=\"p\")\n",
    "# # plt.hist(x[~y.astype(bool)],density=True,label=\"n\")\n",
    "# plt.legend()"
   ]
  },
  {
   "cell_type": "code",
   "execution_count": 325,
   "metadata": {
    "ExecuteTime": {
     "end_time": "2021-04-23T18:09:51.628964Z",
     "start_time": "2021-04-23T18:09:51.244895Z"
    }
   },
   "outputs": [
    {
     "data": {
      "text/plain": [
       "0.7556967149999999"
      ]
     },
     "execution_count": 325,
     "metadata": {},
     "output_type": "execute_result"
    }
   ],
   "source": [
    "roc_auc_score(y,model.predict(x))"
   ]
  },
  {
   "cell_type": "code",
   "execution_count": 326,
   "metadata": {
    "ExecuteTime": {
     "end_time": "2021-04-23T18:09:51.652409Z",
     "start_time": "2021-04-23T18:09:51.630420Z"
    }
   },
   "outputs": [
    {
     "data": {
      "text/plain": [
       "0.8004858799999999"
      ]
     },
     "execution_count": 326,
     "metadata": {},
     "output_type": "execute_result"
    }
   ],
   "source": [
    "roc_auc_score(y, data.dgs[0].pn_posterior_cc(x))"
   ]
  },
  {
   "cell_type": "code",
   "execution_count": null,
   "metadata": {},
   "outputs": [],
   "source": []
  }
 ],
 "metadata": {
  "kernelspec": {
   "display_name": "tf",
   "language": "python",
   "name": "tf"
  },
  "language_info": {
   "codemirror_mode": {
    "name": "ipython",
    "version": 3
   },
   "file_extension": ".py",
   "mimetype": "text/x-python",
   "name": "python",
   "nbconvert_exporter": "python",
   "pygments_lexer": "ipython3",
   "version": "3.7.7"
  }
 },
 "nbformat": 4,
 "nbformat_minor": 4
}
