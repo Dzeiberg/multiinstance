{
 "cells": [
  {
   "cell_type": "code",
   "execution_count": null,
   "metadata": {},
   "outputs": [],
   "source": [
    "import numpy as np\n",
    "import seaborn as sns\n",
    "import matplotlib.pyplot as plt\n",
    "from easydict import EasyDict"
   ]
  },
  {
   "cell_type": "code",
   "execution_count": null,
   "metadata": {},
   "outputs": [],
   "source": [
    "def var(pi,m1,m2):\n",
    "    p = (pi*m1 + (1-pi) * m2)\n",
    "    return p * (1 - p)"
   ]
  },
  {
   "cell_type": "code",
   "execution_count": null,
   "metadata": {},
   "outputs": [],
   "source": [
    "plt.plot([p * (1-p) for p in np.arange(-10,10,.01)])"
   ]
  },
  {
   "cell_type": "code",
   "execution_count": null,
   "metadata": {},
   "outputs": [],
   "source": [
    "fig,ax = plt.subplots(3,3,figsize=(16,16),)\n",
    "for k,pi in enumerate(np.arange(0.1,1,.1)):\n",
    "    vals = np.zeros((11,11))\n",
    "    for i,m1 in enumerate(np.arange(0,1.1,.1)):\n",
    "        for j,m2 in enumerate(np.arange(0,1.1,.1)):\n",
    "            vals[i,j] = var(pi,m1,m2) - m1*(1-m1) - m2*(1-m2)\n",
    "    \n",
    "    sns.heatmap(vals[::-1],\n",
    "                ax=ax[int(k/3),k%3],\n",
    "                xticklabels=[\"{:.1f}\".format(i) for i in np.arange(0,1.1,.1)],\n",
    "                yticklabels=[\"{:.1f}\".format(i) for i in np.arange(1,-.1,-.1)],)\n",
    "    ax[int(k/3),k%3].set_title(\"$\\pi$ = {:.1f}\\n avg={:.3f}\".format(pi,np.mean(vals)))\n",
    "plt.show()"
   ]
  },
  {
   "cell_type": "code",
   "execution_count": null,
   "metadata": {},
   "outputs": [],
   "source": [
    "c"
   ]
  }
 ],
 "metadata": {
  "language_info": {
   "name": "python",
   "pygments_lexer": "ipython3"
  }
 },
 "nbformat": 4,
 "nbformat_minor": 4
}
