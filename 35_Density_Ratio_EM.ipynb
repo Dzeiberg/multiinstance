{
 "cells": [
  {
   "cell_type": "code",
   "execution_count": 1,
   "metadata": {
    "ExecuteTime": {
     "end_time": "2021-04-16T19:36:14.861685Z",
     "start_time": "2021-04-16T19:36:14.839308Z"
    }
   },
   "outputs": [],
   "source": [
    "%load_ext autoreload\n",
    "%autoreload 2"
   ]
  },
  {
   "cell_type": "code",
   "execution_count": 2,
   "metadata": {
    "ExecuteTime": {
     "end_time": "2021-04-16T19:36:25.923775Z",
     "start_time": "2021-04-16T19:36:15.015251Z"
    }
   },
   "outputs": [],
   "source": [
    "from multiinstance.em import generateBags\n",
    "\n",
    "import numpy as np\n",
    "import matplotlib.pyplot as plt\n",
    "\n",
    "import scipy.stats as ss\n",
    "from sklearn.cluster import KMeans\n",
    "\n",
    "from multiinstance.utils import estimate\n",
    "\n",
    "from easydict import EasyDict\n",
    "\n",
    "from dist_curve.transforms import getOptimalTransform\n",
    "\n",
    "from sklearn.tree import DecisionTreeClassifier\n",
    "\n",
    "from sklearn.metrics import adjusted_rand_score\n",
    "\n",
    "from scipy.spatial.distance import cdist"
   ]
  },
  {
   "cell_type": "markdown",
   "metadata": {},
   "source": [
    "starting in the simplest case: 1 bag with 1 pair of components"
   ]
  },
  {
   "cell_type": "code",
   "execution_count": 3,
   "metadata": {
    "ExecuteTime": {
     "end_time": "2021-04-16T19:36:25.977388Z",
     "start_time": "2021-04-16T19:36:25.927496Z"
    }
   },
   "outputs": [],
   "source": [
    "posMeans = [[-2,-6], [6,6]]\n",
    "negMeans = [[-1,-2], [4,3]]"
   ]
  },
  {
   "cell_type": "code",
   "execution_count": 4,
   "metadata": {
    "ExecuteTime": {
     "end_time": "2021-04-16T19:36:26.226164Z",
     "start_time": "2021-04-16T19:36:25.979441Z"
    }
   },
   "outputs": [],
   "source": [
    "bags = generateBags(100,pos_means=posMeans,\n",
    "                    neg_means=negMeans,NPos=25,NUnlabeled=75)"
   ]
  },
  {
   "cell_type": "code",
   "execution_count": null,
   "metadata": {
    "ExecuteTime": {
     "end_time": "2021-04-16T17:30:07.320541Z",
     "start_time": "2021-04-16T17:30:07.084685Z"
    }
   },
   "outputs": [],
   "source": [
    "fig,ax = plt.subplots(1,2,figsize=(10,4))\n",
    "for b,a in zip(bags,ax):\n",
    "    a.scatter(b.x_unlabeled[:,0], b.x_unlabeled[:,1],color=\"blue\",alpha=.5)\n",
    "    a.scatter(b.X_pos[:,0], b.X_pos[:,1],color=\"red\",alpha=.5)"
   ]
  },
  {
   "cell_type": "markdown",
   "metadata": {},
   "source": [
    "## Run K-Means Globally"
   ]
  },
  {
   "cell_type": "code",
   "execution_count": 5,
   "metadata": {
    "ExecuteTime": {
     "end_time": "2021-04-16T19:36:27.018902Z",
     "start_time": "2021-04-16T19:36:26.973583Z"
    }
   },
   "outputs": [],
   "source": [
    "globalPositives = np.concatenate([b.X_pos for b in bags])"
   ]
  },
  {
   "cell_type": "code",
   "execution_count": 6,
   "metadata": {
    "ExecuteTime": {
     "end_time": "2021-04-16T19:36:27.912643Z",
     "start_time": "2021-04-16T19:36:27.818111Z"
    }
   },
   "outputs": [],
   "source": [
    "kmeans= KMeans(n_clusters=2).fit(globalPositives)"
   ]
  },
  {
   "cell_type": "markdown",
   "metadata": {},
   "source": [
    "I need to match the fitted cluster centers to the correct positive distribution"
   ]
  },
  {
   "cell_type": "code",
   "execution_count": 7,
   "metadata": {
    "ExecuteTime": {
     "end_time": "2021-04-16T19:36:30.451992Z",
     "start_time": "2021-04-16T19:36:30.404610Z"
    }
   },
   "outputs": [],
   "source": [
    "kmeans.clusterMap = cdist(kmeans.cluster_centers_, posMeans).argmin(1)"
   ]
  },
  {
   "cell_type": "markdown",
   "metadata": {},
   "source": [
    "## Cluster Unlabeled Instances"
   ]
  },
  {
   "cell_type": "code",
   "execution_count": 8,
   "metadata": {
    "ExecuteTime": {
     "end_time": "2021-04-16T19:36:34.769875Z",
     "start_time": "2021-04-16T19:36:34.691804Z"
    }
   },
   "outputs": [],
   "source": [
    "for i,b in enumerate(bags):\n",
    "    bags[i].unlabeled_cluster_assignment =kmeans.clusterMap[kmeans.predict(b.x_unlabeled)]"
   ]
  },
  {
   "cell_type": "markdown",
   "metadata": {},
   "source": [
    "If rand score is high and the accuracy is low, the cluster labels need to be swapped"
   ]
  },
  {
   "cell_type": "code",
   "execution_count": 9,
   "metadata": {
    "ExecuteTime": {
     "end_time": "2021-04-16T19:36:35.697145Z",
     "start_time": "2021-04-16T19:36:35.647334Z"
    }
   },
   "outputs": [
    {
     "data": {
      "text/plain": [
       "1.0"
      ]
     },
     "execution_count": 9,
     "metadata": {},
     "output_type": "execute_result"
    }
   ],
   "source": [
    "(bags[0].unlabeled_cluster_assignment[:bags[0].unlabeled_pos_componenet_labels.shape[0]] == bags[0].unlabeled_pos_componenet_labels).sum() / bags[0].unlabeled_pos_componenet_labels.shape[0]"
   ]
  },
  {
   "cell_type": "code",
   "execution_count": 10,
   "metadata": {
    "ExecuteTime": {
     "end_time": "2021-04-16T19:36:36.134560Z",
     "start_time": "2021-04-16T19:36:36.086421Z"
    },
    "code_folding": []
   },
   "outputs": [
    {
     "data": {
      "text/plain": [
       "1.0"
      ]
     },
     "execution_count": 10,
     "metadata": {},
     "output_type": "execute_result"
    }
   ],
   "source": [
    "adjusted_rand_score(bags[0].unlabeled_cluster_assignment[:bags[0].unlabeled_pos_componenet_labels.shape[0]],\n",
    "                    bags[0].unlabeled_pos_componenet_labels)"
   ]
  },
  {
   "cell_type": "markdown",
   "metadata": {},
   "source": [
    "## Run DistCurve on Each Cluster"
   ]
  },
  {
   "cell_type": "code",
   "execution_count": 11,
   "metadata": {
    "ExecuteTime": {
     "end_time": "2021-04-16T19:36:40.989784Z",
     "start_time": "2021-04-16T19:36:40.113439Z"
    }
   },
   "outputs": [],
   "source": [
    "NClusters = kmeans.cluster_centers_.shape[0]\n",
    "clusterAlphaHats = np.zeros(NClusters)\n",
    "for clusterNum in range(NClusters):\n",
    "    unlabeled = np.concatenate([b.x_unlabeled[b.unlabeled_cluster_assignment == clusterNum] for b in bags])\n",
    "    pos = globalPositives[kmeans.clusterMap[kmeans.labels_] == clusterNum]\n",
    "    clusterAlphaHats[clusterNum], _ = estimate(pos, unlabeled)"
   ]
  },
  {
   "cell_type": "markdown",
   "metadata": {},
   "source": [
    "## Run NNPU to get Posterior"
   ]
  },
  {
   "cell_type": "code",
   "execution_count": null,
   "metadata": {
    "ExecuteTime": {
     "end_time": "2021-04-16T17:30:08.221499Z",
     "start_time": "2021-04-16T17:30:08.215821Z"
    }
   },
   "outputs": [],
   "source": [
    "def logDensities(xi,compNum):\n",
    "    p_x_y0 = ss.multivariate_normal.logpdf(xi, mean=negMeans[compNum],cov=np.eye(2))\n",
    "    p_x_y1 = ss.multivariate_normal.logpdf(xi, mean=posMeans[compNum],cov=np.eye(2))\n",
    "    return p_x_y0, p_x_y1"
   ]
  },
  {
   "cell_type": "code",
   "execution_count": null,
   "metadata": {
    "ExecuteTime": {
     "end_time": "2021-04-16T17:30:08.228713Z",
     "start_time": "2021-04-16T17:30:08.222730Z"
    }
   },
   "outputs": [],
   "source": [
    "def getPosterior(xi,compNum,alpha):\n",
    "    f0,f1 = logDensities(xi,compNum)\n",
    "    f0,f1= np.exp(f0), np.exp(f1) \n",
    "    posterior = alpha / (alpha + (1-alpha)*f0/f1)\n",
    "    return posterior"
   ]
  },
  {
   "cell_type": "code",
   "execution_count": null,
   "metadata": {
    "ExecuteTime": {
     "end_time": "2021-04-16T17:30:08.235690Z",
     "start_time": "2021-04-16T17:30:08.229912Z"
    }
   },
   "outputs": [],
   "source": [
    "# def posteriorCorrection(xPositive, xUnlabeled, compNum):\n",
    "#     alpha = clusterAlphaHats[compNum]\n",
    "#     y = np.cgancatenate((np.ones(xPositive.shape[0]),\n",
    "#                         np.zeros(xUnlabeled.shape[0])))\n",
    "#     x = np.concatenate([xPositive, xUnlabeled])\n",
    "#     tau,aucpu = getOptimalTransform(x,y)\n",
    "#     tau = tau[xPositive.shape[0]:]\n",
    "#     S0S1 = xUnlabeled.shape[0] / xPositive.shape[0]\n",
    "#     post =  alpha * S0S1 * (tau / (1 - tau))\n",
    "#     post[np.isinf(post)] = np.nanmax(post)\n",
    "#     post[post <= 0] = 1e-3\n",
    "#     return post\n",
    "\n",
    "def posteriorCorrection(xPositive, xUnlabeled, compNum):\n",
    "    c1 = xPositive.shape[0]\n",
    "    cu = xUnlabeled.shape[0]\n",
    "    alpha = clusterAlphaHats[compNum]\n",
    "    lnf0,lnf1 = logDensities(xUnlabeled, compNum)\n",
    "    f1 = np.exp(lnf1)\n",
    "    f0 = np.exp(lnf0)\n",
    "    k1 = c1 / (c1 + cu)\n",
    "    k2 = (c1 + alpha * cu) / (c1 + cu)\n",
    "    tau = k1 * f1 / (k2 * f1 + (1 - k2) * f0)\n",
    "    S0S1= cu / c1\n",
    "    post = alpha * S0S1 * (tau / (1 - tau))\n",
    "    return post"
   ]
  },
  {
   "cell_type": "markdown",
   "metadata": {},
   "source": [
    "## Convert Posterior To Component Density Ratio"
   ]
  },
  {
   "cell_type": "code",
   "execution_count": 12,
   "metadata": {
    "ExecuteTime": {
     "end_time": "2021-04-16T19:36:47.494579Z",
     "start_time": "2021-04-16T19:36:47.450394Z"
    }
   },
   "outputs": [],
   "source": [
    "def densityRatioFromPosterior(xi,compNum, alpha):\n",
    "    posteriorXi = getPosterior(xi,compNum,alpha)\n",
    "    return (alpha * (1 - posteriorXi)) / (posteriorXi * (1 - alpha))"
   ]
  },
  {
   "cell_type": "code",
   "execution_count": 15,
   "metadata": {
    "ExecuteTime": {
     "end_time": "2021-04-16T19:37:23.691635Z",
     "start_time": "2021-04-16T19:37:23.640405Z"
    }
   },
   "outputs": [],
   "source": [
    "def ratioFromPosteriorVec(posts, alpha):\n",
    "    return (alpha * (1 - posts)) / (posts * (1 - alpha))"
   ]
  },
  {
   "cell_type": "code",
   "execution_count": null,
   "metadata": {
    "ExecuteTime": {
     "end_time": "2021-04-16T17:30:08.257708Z",
     "start_time": "2021-04-16T17:30:08.252383Z"
    }
   },
   "outputs": [],
   "source": [
    "def densityRatio(xi, compNum):\n",
    "    p_x_y0, p_x_y1 = logDensities(xi,compNum)\n",
    "    return np.exp(p_x_y0 - p_x_y1)"
   ]
  },
  {
   "cell_type": "markdown",
   "metadata": {},
   "source": [
    "## Run EM Algorithm to get alpha, pi and rho"
   ]
  },
  {
   "cell_type": "code",
   "execution_count": null,
   "metadata": {
    "ExecuteTime": {
     "end_time": "2021-04-16T17:30:37.718145Z",
     "start_time": "2021-04-16T17:30:08.259264Z"
    }
   },
   "outputs": [],
   "source": [
    "aes = []\n",
    "for i,b in enumerate(bags):\n",
    "    etas = []\n",
    "    for compNum in range(len(posMeans)):\n",
    "        eta_i_j = np.array(.5)\n",
    "#         ratios = np.array([densityRatio(xi,\n",
    "#                                         compNum) for xi in b.x_unlabeled[b.unlabeled_cluster_assignment == compNum]])\n",
    "        ratios = np.array([densityRatioFromPosterior(xi,\n",
    "                                                     compNum,\n",
    "                                                     clusterAlphaHats[compNum]) for xi in b.x_unlabeled[b.unlabeled_cluster_assignment == compNum]])\n",
    "        plt.hist(np.log10(ratios))\n",
    "        plt.show()\n",
    "        for i in range(50):\n",
    "            den = eta_i_j + (1 - eta_i_j) * ratios\n",
    "            eta_i_j = np.mean(eta_i_j / den)\n",
    "        etas.append(eta_i_j)\n",
    "    eta_j = np.array(etas)\n",
    "    gamma_j = np.unique(b.unlabeled_cluster_assignment,\n",
    "                        return_counts=True)[1]/b.unlabeled_cluster_assignment.shape[0]\n",
    "    alpha_j = eta_j.dot(gamma_j)\n",
    "#     plt.hist(np.log10(ratios))\n",
    "#     plt.show()\n",
    "    print(\"alpha: {:.3f}, {:.3f}\".format(alpha_j,b.alpha))\n",
    "    aes.append(np.abs(b.alpha - alpha_j))\n",
    "    pi_j = np.multiply(eta_j, gamma_j) / alpha_j\n",
    "#     print(\"pi\",pi_j, b.pi)\n",
    "    rho_j = np.multiply(1 - eta_j, gamma_j) / (1 - alpha_j)\n",
    "#     print(\"rho\",rho_j, b.rho)\n",
    "print(np.mean(aes))"
   ]
  },
  {
   "cell_type": "markdown",
   "metadata": {},
   "source": [
    "## Estimate Posterior using all points in cluster"
   ]
  },
  {
   "cell_type": "code",
   "execution_count": 13,
   "metadata": {
    "ExecuteTime": {
     "end_time": "2021-04-16T19:36:51.285970Z",
     "start_time": "2021-04-16T19:36:50.778513Z"
    }
   },
   "outputs": [],
   "source": [
    "from multiinstance.nnpu import getPosterior as getNNPUPosterior"
   ]
  },
  {
   "cell_type": "code",
   "execution_count": 18,
   "metadata": {
    "ExecuteTime": {
     "end_time": "2021-04-16T19:46:35.462589Z",
     "start_time": "2021-04-16T19:45:52.815394Z"
    },
    "scrolled": true
   },
   "outputs": [
    {
     "data": {
      "image/png": "[encoded data removed]",
      "text/plain": [
       "<Figure size 432x288 with 1 Axes>"
      ]
     },
     "metadata": {
      "needs_background": "light"
     },
     "output_type": "display_data"
    },
    {
     "data": {
      "image/png": "[encoded data removed]",
      "text/plain": [
       "<Figure size 432x288 with 1 Axes>"
      ]
     },
     "metadata": {
      "needs_background": "light"
     },
     "output_type": "display_data"
    },
    {
     "name": "stdout",
     "output_type": "stream",
     "text": [
      "0.438 - 0.448\n",
      "0.019 - 0.049\n",
      "0.953 - 0.944\n",
      "0.197 - 0.213\n",
      "0.183 - 0.240\n",
      "0.678 - 0.667\n",
      "0.617 - 0.594\n",
      "0.352 - 0.353\n",
      "0.642 - 0.655\n",
      "0.424 - 0.460\n",
      "0.760 - 0.752\n",
      "0.669 - 0.688\n",
      "0.165 - 0.200\n",
      "0.172 - 0.219\n",
      "0.554 - 0.555\n",
      "0.799 - 0.791\n",
      "0.456 - 0.450\n",
      "0.121 - 0.155\n",
      "0.483 - 0.530\n",
      "0.468 - 0.474\n",
      "0.633 - 0.661\n",
      "0.770 - 0.726\n",
      "0.384 - 0.412\n",
      "0.017 - 0.014\n",
      "0.729 - 0.739\n",
      "0.510 - 0.519\n",
      "0.768 - 0.757\n",
      "0.514 - 0.501\n",
      "0.567 - 0.573\n",
      "0.733 - 0.731\n",
      "0.223 - 0.260\n",
      "0.770 - 0.771\n",
      "0.656 - 0.638\n",
      "0.660 - 0.654\n",
      "0.042 - 0.098\n",
      "0.522 - 0.527\n",
      "0.366 - 0.412\n",
      "0.367 - 0.415\n",
      "0.198 - 0.237\n",
      "0.823 - 0.814\n",
      "0.615 - 0.611\n",
      "0.092 - 0.116\n",
      "0.403 - 0.422\n",
      "0.450 - 0.476\n",
      "0.290 - 0.379\n",
      "0.692 - 0.691\n",
      "0.168 - 0.180\n",
      "0.568 - 0.556\n",
      "0.642 - 0.643\n",
      "0.277 - 0.263\n",
      "0.332 - 0.391\n",
      "0.935 - 0.944\n",
      "0.714 - 0.727\n",
      "0.893 - 0.899\n",
      "0.385 - 0.412\n",
      "0.850 - 0.828\n",
      "0.477 - 0.493\n",
      "0.587 - 0.592\n",
      "0.240 - 0.277\n",
      "0.493 - 0.505\n",
      "0.481 - 0.504\n",
      "0.363 - 0.378\n",
      "0.681 - 0.670\n",
      "0.897 - 0.904\n",
      "0.665 - 0.665\n",
      "0.382 - 0.413\n",
      "0.277 - 0.306\n",
      "0.525 - 0.538\n",
      "0.780 - 0.806\n",
      "0.542 - 0.527\n",
      "0.582 - 0.564\n",
      "0.868 - 0.865\n",
      "0.290 - 0.312\n",
      "0.469 - 0.468\n",
      "0.642 - 0.659\n",
      "0.248 - 0.280\n",
      "0.273 - 0.312\n",
      "0.631 - 0.648\n",
      "0.571 - 0.597\n",
      "0.648 - 0.666\n",
      "0.406 - 0.427\n",
      "0.456 - 0.511\n",
      "0.584 - 0.618\n",
      "0.251 - 0.209\n",
      "0.614 - 0.628\n",
      "0.735 - 0.752\n",
      "0.426 - 0.457\n",
      "0.481 - 0.474\n",
      "0.098 - 0.124\n",
      "0.089 - 0.122\n",
      "0.843 - 0.836\n",
      "0.218 - 0.270\n",
      "0.726 - 0.696\n",
      "0.941 - 0.900\n",
      "0.464 - 0.476\n",
      "0.605 - 0.630\n",
      "0.067 - 0.116\n",
      "0.166 - 0.153\n",
      "0.720 - 0.736\n",
      "0.475 - 0.484\n",
      "0.021397080399180007\n"
     ]
    }
   ],
   "source": [
    "etas = np.zeros((len(bags), len(posMeans)))\n",
    "for compNum in range(len(posMeans)):\n",
    "    # Use all points in the cluster to calculate the posterior\n",
    "    unlabeledInCluster = [b.x_unlabeled[b.unlabeled_cluster_assignment == compNum] for b in bags]\n",
    "    posInCluster = [b.X_pos[kmeans.clusterMap[kmeans.predict(b.X_pos)] == compNum] for b in bags]\n",
    "    xP = np.concatenate(posInCluster)\n",
    "    xU = np.concatenate(unlabeledInCluster)\n",
    "    yP = np.ones(xP.shape[0])\n",
    "    yU = np.ones(xU.shape[0]) * -1\n",
    "    posteriors = getNNPUPosterior(np.concatenate((xP,xU)).astype(np.float32),\n",
    "                                  np.concatenate((yP,yU)).astype(np.int32),\n",
    "                                  clusterAlphaHats[compNum],\n",
    "                                   args=EasyDict(d={'batchsize': 128,\n",
    "                                                    'hdim': 4,\n",
    "                                                    'epochs': 100,\n",
    "                                                    'lr': 0.001,\n",
    "                                                    'weightDecayRate': 0.005}))\n",
    "    plt.hist(posteriors)\n",
    "    plt.show()\n",
    "    # Calculate bag eta_i_j\n",
    "    for bagNum,b in enumerate(bags):\n",
    "        # Extract posterior at unlabeled points in this bag and in this cluster\n",
    "        mask = np.concatenate([np.ones(u.shape[0]) * (i == bagNum) for i,u in enumerate(unlabeledInCluster)]).astype(bool)\n",
    "        mask = np.concatenate((np.concatenate([np.zeros(p.shape[0]) for p in posInCluster]),mask))\n",
    "        posts = posteriors[mask.astype(bool)]\n",
    "        # calculate density ratio given posterior values and cluster alphaHat\n",
    "        ratios = ratioFromPosteriorVec(posts, clusterAlphaHats[compNum])\n",
    "#         plt.hist(ratios)\n",
    "#         plt.show()\n",
    "        # Run EM algorithm\n",
    "        eta_i_j = np.array(.5)\n",
    "        for iterNum in range(500):\n",
    "            den = eta_i_j + (1 - eta_i_j) * ratios\n",
    "            eta_i_j = np.mean(eta_i_j / den)\n",
    "        etas[bagNum,compNum] = eta_i_j\n",
    "\n",
    "absErrs = []\n",
    "for bagNum, b in enumerate(bags):\n",
    "    eta_j = etas[bagNum]\n",
    "    gamma_j = np.unique(b.unlabeled_cluster_assignment,\n",
    "                        return_counts=True)[1]/b.unlabeled_cluster_assignment.shape[0]\n",
    "    alpha_j = eta_j.dot(gamma_j)\n",
    "    print(\"{:.3f} - {:.3f}\".format(alpha_j, b.alpha))\n",
    "    absErrs.append(np.abs(alpha_j - b.alpha))\n",
    "print(np.mean(absErrs))"
   ]
  },
  {
   "cell_type": "code",
   "execution_count": null,
   "metadata": {},
   "outputs": [],
   "source": []
  }
 ],
 "metadata": {
  "kernelspec": {
   "display_name": "tf",
   "language": "python",
   "name": "tf"
  },
  "language_info": {
   "codemirror_mode": {
    "name": "ipython",
    "version": 3
   },
   "file_extension": ".py",
   "mimetype": "text/x-python",
   "name": "python",
   "nbconvert_exporter": "python",
   "pygments_lexer": "ipython3",
   "version": "3.7.7"
  }
 },
 "nbformat": 4,
 "nbformat_minor": 2
}
