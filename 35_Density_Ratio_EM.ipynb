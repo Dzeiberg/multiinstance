{
 "cells": [
  {
   "cell_type": "code",
   "execution_count": null,
   "metadata": {},
   "outputs": [],
   "source": [
    "from multiinstance.em import generateBags\n",
    "\n",
    "import numpy as np\n",
    "import matplotlib.pyplot as plt\n",
    "\n",
    "import scipy.stats as ss\n",
    "from sklearn.cluster import KMeans\n",
    "\n",
    "from multiinstance.utils import estimate"
   ]
  },
  {
   "cell_type": "markdown",
   "metadata": {},
   "source": [
    "starting in the simplest case: 1 bag with 1 pair of components"
   ]
  },
  {
   "cell_type": "code",
   "execution_count": null,
   "metadata": {},
   "outputs": [],
   "source": [
    "posMeans = [[-2,-6], [6,6]]\n",
    "negMeans = [[0,-2], [4,2]]"
   ]
  },
  {
   "cell_type": "code",
   "execution_count": null,
   "metadata": {},
   "outputs": [],
   "source": [
    "bags = generateBags(2,pos_means=posMeans,\n",
    "                    neg_means=negMeans,NPos=2000,NUnlabeled=10000)"
   ]
  },
  {
   "cell_type": "code",
   "execution_count": null,
   "metadata": {},
   "outputs": [],
   "source": [
    "fig,ax = plt.subplots(1,2,figsize=(10,4))\n",
    "for b,a in zip(bags,ax):\n",
    "    a.scatter(b.x_unlabeled[:,0], b.x_unlabeled[:,1],color=\"blue\",alpha=.5)\n",
    "    a.scatter(b.X_pos[:,0], b.X_pos[:,1],color=\"red\",alpha=.5)"
   ]
  },
  {
   "cell_type": "markdown",
   "metadata": {},
   "source": [
    "## Run K-Means Globally"
   ]
  },
  {
   "cell_type": "code",
   "execution_count": null,
   "metadata": {},
   "outputs": [],
   "source": [
    "globalPositives = np.concatenate([b.X_pos for b in bags])"
   ]
  },
  {
   "cell_type": "code",
   "execution_count": null,
   "metadata": {},
   "outputs": [],
   "source": [
    "kmeans= KMeans(n_clusters=2).fit(globalPositives)"
   ]
  },
  {
   "cell_type": "code",
   "execution_count": null,
   "metadata": {},
   "outputs": [],
   "source": [
    "kmeans.cluster_centers_"
   ]
  },
  {
   "cell_type": "markdown",
   "metadata": {},
   "source": [
    "## Cluster Unlabeled Instances"
   ]
  },
  {
   "cell_type": "code",
   "execution_count": null,
   "metadata": {},
   "outputs": [],
   "source": [
    "for i,b in enumerate(bags):\n",
    "    bags[i].unlabeled_cluster_assignment =kmeans.predict(b.x_unlabeled)"
   ]
  },
  {
   "cell_type": "markdown",
   "metadata": {},
   "source": [
    "## Run DistCurve on Each Cluster"
   ]
  },
  {
   "cell_type": "code",
   "execution_count": null,
   "metadata": {},
   "outputs": [],
   "source": [
    "NClusters = kmeans.cluster_centers_.shape[0]\n",
    "global_etas = np.zeros(NClusters)\n",
    "for clusterNum in range(NClusters):\n",
    "    unlabeled = np.concatenate([b.x_unlabeled[b.unlabeled_cluster_assignment == clusterNum] for b in bags])\n",
    "    pos = globalPositives[kmeans.labels_ == clusterNum]\n",
    "    global_etas[clusterNum], _ = estimate(pos, unlabeled)"
   ]
  },
  {
   "cell_type": "markdown",
   "metadata": {},
   "source": [
    "## Run NNPU to get Posterior"
   ]
  },
  {
   "cell_type": "code",
   "execution_count": null,
   "metadata": {},
   "outputs": [],
   "source": []
  },
  {
   "cell_type": "markdown",
   "metadata": {},
   "source": [
    "## Convert Posterior To Component Density Ratio"
   ]
  },
  {
   "cell_type": "code",
   "execution_count": null,
   "metadata": {},
   "outputs": [],
   "source": [
    "def densityRatio(xi, compNum):\n",
    "    p_x_y0 = ss.multivariate_normal.logpdf(xi, mean=negMeans[compNum],cov=np.eye(2))\n",
    "    p_x_y1 = ss.multivariate_normal.logpdf(xi, mean=posMeans[compNum],cov=np.eye(2))\n",
    "    return np.exp(p_x_y0 - p_x_y1)"
   ]
  },
  {
   "cell_type": "markdown",
   "metadata": {},
   "source": [
    "## Run EM Algorithm to get alpha, pi and rho"
   ]
  },
  {
   "cell_type": "code",
   "execution_count": null,
   "metadata": {},
   "outputs": [],
   "source": [
    "for i,b in enumerate(bags):\n",
    "    etas = []\n",
    "    for compNum in range(len(posMeans)):\n",
    "        eta_i_j = np.array(.5)\n",
    "        ratios = np.array([densityRatio(xi,compNum) for xi in b.x_unlabeled[b.unlabeled_cluster_assignment == compNum]])\n",
    "        for i in range(50):\n",
    "            den = eta_i_j + (1 - eta_i_j) * ratios\n",
    "            eta_i_j = np.mean(eta_i_j / den)\n",
    "        etas.append(eta_i_j)\n",
    "\n",
    "    eta_j = np.array(etas)\n",
    "    gamma_j = np.unique(bags[0].unlabeled_cluster_assignment,\n",
    "                        return_counts=True)[1]/b.unlabeled_cluster_assignment.shape[0]\n",
    "    alpha_j = eta_j.dot(gamma_j)\n",
    "    print(\"alpha: {:.3f}, {:.3f}\".format(alpha_j,b.alpha))\n",
    "    pi_j = np.multiply(eta_j, gamma_j) / alpha_j\n",
    "    print(\"pi\",pi_j, b.pi)\n",
    "    rho_j = np.multiply(1 - eta_j, gamma_j) / (1 - alpha_j)\n",
    "    print(\"rho\",rho_j, b.rho)"
   ]
  },
  {
   "cell_type": "code",
   "execution_count": null,
   "metadata": {},
   "outputs": [],
   "source": []
  }
 ],
 "metadata": {
  "language_info": {
   "name": "python",
   "pygments_lexer": "ipython3"
  }
 },
 "nbformat": 4,
 "nbformat_minor": 2
}
