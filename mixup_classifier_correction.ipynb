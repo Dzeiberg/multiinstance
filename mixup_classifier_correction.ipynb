{
 "cells": [
  {
   "cell_type": "code",
   "execution_count": null,
   "metadata": {},
   "outputs": [],
   "source": [
    "import matplotlib.pyplot as plt\n",
    "import numpy as np\n",
    "from sklearn.linear_model import LogisticRegression\n",
    "from multiinstance.utils import *"
   ]
  },
  {
   "cell_type": "code",
   "execution_count": null,
   "metadata": {},
   "outputs": [],
   "source": [
    "posMean = np.array([3,3])\n",
    "negMean = np.array([-2,-2])"
   ]
  },
  {
   "cell_type": "code",
   "execution_count": null,
   "metadata": {},
   "outputs": [],
   "source": [
    "p = np.random.multivariate_normal(mean=posMean, cov=np.eye(2),size=100)"
   ]
  },
  {
   "cell_type": "code",
   "execution_count": null,
   "metadata": {},
   "outputs": [],
   "source": [
    "u = np.concatenate((np.random.multivariate_normal(mean=posMean,\n",
    "                                                  cov=np.eye(2),\n",
    "                                                  size=800),\n",
    "                    np.random.multivariate_normal(mean=negMean,\n",
    "                                                  cov=np.eye(2),\n",
    "                                                  size=200)))\n",
    "# u = np.random.multivariate_normal(mean=negMean,cov=np.eye(2),size=1000)"
   ]
  },
  {
   "cell_type": "code",
   "execution_count": null,
   "metadata": {},
   "outputs": [],
   "source": [
    "alphaHat,_ = estimate(p,u)"
   ]
  },
  {
   "cell_type": "code",
   "execution_count": null,
   "metadata": {},
   "outputs": [],
   "source": [
    "lambda_i = np.random.beta(2,2,size=(u.shape[0],1))\n",
    "# lambda_i = np.ones((u.shape[0],1)) * .5"
   ]
  },
  {
   "cell_type": "code",
   "execution_count": null,
   "metadata": {},
   "outputs": [],
   "source": [
    "mix = (1-lambda_i) * u + (lambda_i) * p[np.random.choice(np.arange(p.shape[0]),\n",
    "                                                         replace=True,\n",
    "                                                         size=u.shape[0])]"
   ]
  },
  {
   "cell_type": "code",
   "execution_count": null,
   "metadata": {},
   "outputs": [],
   "source": [
    "plt.scatter(p[:,0],p[:,1],color=\"red\")\n",
    "plt.scatter(u[:,0],u[:,1],color=\"black\")\n",
    "plt.scatter(mix[:,0],mix[:,1],color=\"blue\",alpha=.15)"
   ]
  },
  {
   "cell_type": "code",
   "execution_count": null,
   "metadata": {},
   "outputs": [],
   "source": [
    "lr1 = LogisticRegression(class_weight=\"balanced\")\n",
    "lr1.fit(np.concatenate((p,u)), np.concatenate((np.ones(p.shape[0]),\n",
    "                                               np.zeros(u.shape[0]))))\n",
    "m1,b1 = -1 * lr1.coef_[0][0]/lr1.coef_[0][1],  -lr1.intercept_ / lr1.coef_[0][1]"
   ]
  },
  {
   "cell_type": "code",
   "execution_count": null,
   "metadata": {},
   "outputs": [],
   "source": [
    "lr2 = LogisticRegression(class_weight=\"balanced\")\n",
    "\n",
    "lr2.fit(np.concatenate((p,mix)), np.concatenate((np.ones(p.shape[0]),\n",
    "                                                  np.random.binomial(1,lambda_i.flatten()*(1-alphaHat[0]),\n",
    "                                                                     size=mix.shape[0]))))"
   ]
  },
  {
   "cell_type": "markdown",
   "metadata": {},
   "source": [
    "mixture point labels:\n",
    "\n",
    "$ \\lambda * (1 - \\hat{\\alpha})$\n",
    "\n",
    "* lambda provides linear interpolation\n",
    "* 1-alpha probability unlabeled point is negative"
   ]
  },
  {
   "cell_type": "code",
   "execution_count": null,
   "metadata": {},
   "outputs": [],
   "source": [
    "m2,b2 = -1 * lr2.coef_[0][0]/lr2.coef_[0][1],  -1 * lr2.intercept_ / lr2.coef_[0][1]"
   ]
  },
  {
   "cell_type": "code",
   "execution_count": null,
   "metadata": {},
   "outputs": [],
   "source": [
    "r = np.arange(-5,5,.1)\n",
    "plt.plot(r, r * m1 + b1,color=\"blue\")\n",
    "# plt.plot(r, r * m2 + b2,color=\"orange\")\n",
    "plt.scatter(p[:,0],p[:,1],color=\"red\",alpha=1)\n",
    "plt.scatter(u[:,0],u[:,1],color=\"black\",alpha=.15)\n",
    "# plt.scatter(mix[:,0],mix[:,1],color=\"blue\",alpha=.15)"
   ]
  },
  {
   "cell_type": "code",
   "execution_count": null,
   "metadata": {},
   "outputs": [],
   "source": [
    "alphaHat.numpy()"
   ]
  },
  {
   "cell_type": "code",
   "execution_count": null,
   "metadata": {},
   "outputs": [],
   "source": []
  },
  {
   "cell_type": "code",
   "execution_count": null,
   "metadata": {},
   "outputs": [],
   "source": []
  }
 ],
 "metadata": {
  "language_info": {
   "name": "python",
   "pygments_lexer": "ipython3"
  }
 },
 "nbformat": 4,
 "nbformat_minor": 4
}
