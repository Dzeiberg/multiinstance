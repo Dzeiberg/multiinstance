{
 "cells": [
  {
   "cell_type": "code",
   "execution_count": null,
   "metadata": {},
   "outputs": [],
   "source": [
    "from multiinstance.utils import *\n",
    "from multiinstance.distanceApproaches import *\n",
    "from multiinstance.data.syntheticData import buildDataset\n",
    "import numpy as np\n",
    "import matplotlib.pyplot as plt\n",
    "import seaborn as sns\n",
    "from dist_curve.curve_constructor import makeCurve\n",
    "from tqdm.notebook import tqdm"
   ]
  },
  {
   "cell_type": "code",
   "execution_count": null,
   "metadata": {},
   "outputs": [],
   "source": [
    "from scipy.spatial.distance import pdist, squareform"
   ]
  },
  {
   "cell_type": "code",
   "execution_count": null,
   "metadata": {},
   "outputs": [],
   "source": [
    "import scipy.stats as ss"
   ]
  },
  {
   "cell_type": "code",
   "execution_count": null,
   "metadata": {},
   "outputs": [],
   "source": [
    "from dist_curve.model import getTrainedEstimator\n",
    "estimator = getTrainedEstimator()"
   ]
  },
  {
   "cell_type": "code",
   "execution_count": null,
   "metadata": {},
   "outputs": [],
   "source": [
    "def getUnlabeledInstanceProbs(bagNum, wassMat, ds,v1=True):\n",
    "    simMat = 1 / (np.exp(wassMat))\n",
    "    scores = []\n",
    "    for j in range(ds.N):\n",
    "        if v1:\n",
    "            scores.append(np.ones(ds.numU[j]) * simMat[bagNum, j] / ds.numU[j])\n",
    "        else:\n",
    "            scores.append(np.ones(ds.numU[j]) * simMat[bagNum, j])\n",
    "    scores = np.concatenate(scores)\n",
    "    probs = scores / scores.sum()"
   ]
  },
  {
   "cell_type": "code",
   "execution_count": null,
   "metadata": {},
   "outputs": [],
   "source": [
    "def getBagEst(bagNum, wassMat, ds, numRepeats=100,v1=True):\n",
    "    P,U = list(zip(*[ds.getBag(i) for i in range(len(ds.numP))]))\n",
    "    P = np.concatenate(P)\n",
    "    U = np.concatenate(U)\n",
    "    UProbs = getUnlabeledInstanceProbs(bagNum, wassMat, ds,v1=v1)\n",
    "    ests= np.zeros(numRepeats)\n",
    "    for rep in tqdm(range(numRepeats),total=numRepeats,leave=False, desc=\"repeating bootstrapping for bag {}\".format(bagNum)):\n",
    "        UBootIdxs = np.random.choice(np.arange(U.shape[0]), size=U.shape[0], replace=True, p=UProbs)\n",
    "        UBoot = U[UBootIdxs]\n",
    "        curve = makeCurve(P,UBoot)\n",
    "        curve = (curve / curve.sum()).reshape((1,-1))\n",
    "        ests[rep] = estimator.predict(curve)\n",
    "    return np.mean(ests)"
   ]
  },
  {
   "cell_type": "code",
   "execution_count": null,
   "metadata": {},
   "outputs": [],
   "source": [
    "def getGlobalEst(ds,numRepeats=10):\n",
    "    P,U = list(zip(*[ds.getBag(i) for i in range(len(ds.numP))]))\n",
    "    P = np.concatenate(P)\n",
    "    U = np.concatenate(U)\n",
    "    ests= np.zeros(numRepeats)\n",
    "    for rep in tqdm(range(numRepeats),total=numRepeats,leave=False, desc=\"repeating bootstrapping for global est\"):\n",
    "        UBootIdxs = np.random.choice(np.arange(U.shape[0]), size=U.shape[0], replace=True)\n",
    "        UBoot = U[UBootIdxs]\n",
    "        PBoot = P[np.random.choice(np.arange(P.shape[0]),size=P.shape[0], replace=True)]\n",
    "        curve = makeCurve(PBoot,UBoot)\n",
    "        curve = (curve / curve.sum()).reshape((1,-1))\n",
    "        ests[rep] = estimator.predict(curve)\n",
    "    return ests.mean()"
   ]
  },
  {
   "cell_type": "code",
   "execution_count": null,
   "metadata": {},
   "outputs": [],
   "source": [
    "def getExpectedAlpha(ds):\n",
    "    return ds.numU.dot(ds.trueAlphas) / ds.numU.sum()"
   ]
  },
  {
   "cell_type": "code",
   "execution_count": null,
   "metadata": {},
   "outputs": [],
   "source": [
    "NReps = 10\n",
    "DSize = 100\n",
    "NBagReps = 10\n",
    "absErrs = np.zeros((NReps, DSize))\n",
    "absErrs1 = np.zeros((NReps, DSize))\n",
    "globalAbsErrs= np.zeros_like(absErrs)\n",
    "for rep in tqdm(range(NReps),total=NReps,leave=False,desc=\"dataset repetition\"):\n",
    "    dsi = buildDataset(DSize,alphaDistr=lambda: np.random.uniform(0.01,0.5))\n",
    "    dsi = addTransformScores(dsi)\n",
    "    wassMat = getWassersteinMat(dsi)\n",
    "    globalEst = getGlobalEst(dsi)\n",
    "    globalAbsErrs[rep] = np.abs(dsi.trueAlphas - globalEst).flatten()\n",
    "    for bagNum in tqdm(range(dsi.N),total=dsi.N,leave=False, desc=\"processing bags for ds {}\".format(rep)):\n",
    "        alphaHat = getBagEst(bagNum, wassMat, dsi, numRepeats=NBagReps,v1=False)\n",
    "        absErrs[rep,bagNum] = np.abs(alphaHat - dsi.trueAlphas[bagNum])\n",
    "        alphaHat = getBagEst(bagNum, wassMat, dsi, numRepeats=NBagReps,v1=True)\n",
    "        absErrs1[rep,bagNum] = np.abs(alphaHat - dsi.trueAlphas[bagNum])\n",
    "        "
   ]
  },
  {
   "cell_type": "code",
   "execution_count": null,
   "metadata": {},
   "outputs": [],
   "source": [
    "np.mean(globalAbsErrs), np.mean(absErrs), np.mean(absErrs1)"
   ]
  },
  {
   "cell_type": "code",
   "execution_count": null,
   "metadata": {},
   "outputs": [],
   "source": []
  },
  {
   "cell_type": "code",
   "execution_count": null,
   "metadata": {},
   "outputs": [],
   "source": [
    "order = np.argsort(dsi.trueAlphas.flatten())\n",
    "sns.heatmap(squareform(pdist(dsi.trueAlphas))[order][:,order])"
   ]
  },
  {
   "cell_type": "code",
   "execution_count": null,
   "metadata": {},
   "outputs": [],
   "source": []
  }
 ],
 "metadata": {
  "language_info": {
   "name": "python",
   "pygments_lexer": "ipython3"
  }
 },
 "nbformat": 4,
 "nbformat_minor": 4
}
