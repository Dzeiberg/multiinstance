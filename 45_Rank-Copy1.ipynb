{
 "cells": [
  {
   "cell_type": "code",
   "execution_count": null,
   "metadata": {},
   "outputs": [],
   "source": [
    "# default_exp ranker"
   ]
  },
  {
   "cell_type": "code",
   "execution_count": null,
   "metadata": {},
   "outputs": [],
   "source": [
    "from tensorflow import one_hot"
   ]
  },
  {
   "cell_type": "code",
   "execution_count": null,
   "metadata": {},
   "outputs": [],
   "source": [
    "# export\n",
    "from multiinstance.data.gaussian_dg import GaussianMixtureDataGenerator\n",
    "\n",
    "import matplotlib.pyplot as plt\n",
    "\n",
    "from dist_curve.transforms import getOptimalTransform\n",
    "\n",
    "from sklearn.metrics import roc_auc_score\n",
    "\n",
    "from tqdm.notebook import tqdm,trange\n",
    "\n",
    "import numpy as np\n",
    "\n",
    "from sklearn.model_selection import train_test_split\n",
    "\n",
    "import tensorflow as tf\n",
    "\n",
    "# from multiinstance.density_ratio_em import DensityRatioEM\n",
    "\n",
    "from multiinstance.nnpu import getPosterior\n",
    "\n",
    "from easydict import EasyDict\n",
    "from sklearn.model_selection import StratifiedKFold\n",
    "\n",
    "from tensorflow.keras import backend as K\n",
    "from tensorflow.keras.layers import Activation, Dense, Input, Subtract\n",
    "from tensorflow.keras.models import Model\n",
    "import numpy as np\n",
    "import math\n",
    "\n",
    "import pandas as pd\n",
    "from tqdm.notebook import trange"
   ]
  },
  {
   "cell_type": "code",
   "execution_count": null,
   "metadata": {},
   "outputs": [],
   "source": [
    "dg = GaussianMixtureDataGenerator(10,1,[0.8,.9],100,1000)"
   ]
  },
  {
   "cell_type": "code",
   "execution_count": null,
   "metadata": {},
   "outputs": [],
   "source": [
    "[xPU,yPU,yPN] = dg.pu_data()"
   ]
  },
  {
   "cell_type": "code",
   "execution_count": null,
   "metadata": {},
   "outputs": [],
   "source": [
    "# xPUTrain,xPUVal,yPUTrain,yPUVal,yPNTrain,yPNVal = train_test_split(xPU,yPU,yPN)\n",
    "\n",
    "xPUTrain,xPUVal,yPUTrain,yPUVal,yPNTrain,yPNVal = train_test_split(xPU,yPU,yPN,test_size=.2)\n",
    "yPUTrain= yPUTrain[:,0].astype(bool)\n",
    "posTrain = xPUTrain[yPUTrain]\n",
    "uTrain = xPUTrain[~yPUTrain]\n",
    "posidxs = np.random.choice(np.arange(posTrain.shape[0]),size=uTrain.shape[0],replace=True)\n",
    "xpos = posTrain[posidxs]\n",
    "xPUTrain = np.concatenate((xpos,uTrain))\n",
    "yPUTrain = np.concatenate((np.ones(uTrain.shape[0]),\n",
    "                           np.zeros(uTrain.shape[0])))"
   ]
  },
  {
   "cell_type": "code",
   "execution_count": null,
   "metadata": {},
   "outputs": [],
   "source": [
    "from sklearn.metrics import ndcg_score"
   ]
  },
  {
   "cell_type": "markdown",
   "metadata": {},
   "source": [
    "# RankNet"
   ]
  },
  {
   "cell_type": "code",
   "execution_count": null,
   "metadata": {},
   "outputs": [],
   "source": [
    "# export\n",
    "class RankNet:\n",
    "    def buildModel(self,input_shape):\n",
    "        layers = tf.keras.models.Sequential([\n",
    "            tf.keras.layers.Dense(64,activation=\"relu\"),\n",
    "            tf.keras.layers.Dense(64,activation=\"relu\"),\n",
    "            tf.keras.layers.Dense(64,activation=\"relu\"),\n",
    "            tf.keras.layers.Dense(1)\n",
    "        ],name=\"dense_layers\")\n",
    "        inp1 = tf.keras.layers.Input(shape=(input_shape,),name=\"input_1\")\n",
    "        inp2 = tf.keras.layers.Input(shape=(input_shape,),name=\"input_2\")\n",
    "        score_1 = layers(inp1)\n",
    "        score_2 = layers(inp2)\n",
    "        score_diff = tf.keras.layers.Subtract()([score_1, score_2])\n",
    "        prob = tf.keras.layers.Activation(\"sigmoid\")(score_diff)\n",
    "        self.model = tf.keras.models.Model(inputs=[inp1,inp2],outputs=prob)\n",
    "        self.ranker = tf.keras.backend.function([inp1],[score_1])\n",
    "        self.model.compile(tf.keras.optimizers.Adam(learning_rate=1e-4),\n",
    "                           loss=tf.keras.losses.BinaryCrossentropy())\n",
    "\n",
    "    def train(self,xPU,yPU,NIters=1000, batch_size=128,):\n",
    "        skf = StratifiedKFold()\n",
    "        ranks = np.zeros(xPU.shape[0])\n",
    "        for trainIndices,valIndices in skf.split(xPU,yPU):\n",
    "            xPUTrain,xPUVal,yPUTrain,yPUVal = xPU[trainIndices],xPU[valIndices],yPU[trainIndices],yPU[valIndices]\n",
    "            ranks[valIndices] = self.trainFold(xPUTrain,xPUVal,yPUTrain,yPUVal,NIters,batch_size)\n",
    "        print(roc_auc_score(yPU,ranks))\n",
    "        return ranks\n",
    "\n",
    "    def trainFold(self,xPUTrain,xPUVal,yPUTrain,yPUVal,NIters=10000, batch_size=128,):\n",
    "        batchesPerEpoch = np.ceil(xPUTrain.shape[0] / batch_size).astype(int) # +/- rounding error\n",
    "        self.buildModel(xPUTrain.shape[1])\n",
    "        # Early stopping variables\n",
    "        minvalLoss,patience = np.inf,0\n",
    "        posTrain,unlabeledTrain = xPUTrain[yPUTrain],xPUTrain[~yPUTrain]\n",
    "        posVal,unlabeledVal = xPUVal[yPUVal],xPUVal[~yPUVal]\n",
    "        for iters in trange(NIters,leave=False):\n",
    "            idxs1 = np.random.randint(0,high=posTrain.shape[0],size=batch_size)\n",
    "            idxs2 = np.random.randint(0,high=unlabeledTrain.shape[0],size=batch_size)\n",
    "            posInputs,unlabeledInputs = posTrain[idxs1],unlabeledTrain[idxs2]\n",
    "            inputs = np.stack([posInputs,unlabeledInputs],axis=-1)\n",
    "            b = np.random.binomial(1,.5,inputs.shape[0]).astype(bool)\n",
    "            inputs[b] = inputs[b][...,[1,0]]\n",
    "            inp1,inp2 = inputs[...,0], inputs[...,1]\n",
    "            target = ~b\n",
    "            trainLoss = self.model.train_on_batch([inp1,inp2],target)\n",
    "            if not iters % batchesPerEpoch:\n",
    "                i1 = np.random.choice(range(xPUVal.shape[0]),replace=False,\n",
    "                                       size=int(xPUVal.shape[0] / 2))\n",
    "                i2 = np.random.choice(list(set(range(xPUVal.shape[0])) - set(i1)),size=i1.shape,replace=True)\n",
    "                inp1,inp2 = xPUVal[i1],xPUVal[i2]\n",
    "                y1,y2 = yPUVal[i1],yPUVal[i2]\n",
    "                target = y1 > y2\n",
    "                valLoss = self.model.evaluate([inp1,inp2],target)\n",
    "                scores = self.ranker(xPUVal)\n",
    "                if valLoss < minvalLoss:\n",
    "                    print(\"minvalLoss, \",valLoss)\n",
    "                    minvalLoss = valLoss\n",
    "                    patience = 0\n",
    "                else:\n",
    "                    patience += 1\n",
    "                if patience == 15:\n",
    "                    break\n",
    "        return self.ranker(xPUVal)[0].ravel()\n"
   ]
  },
  {
   "cell_type": "code",
   "execution_count": null,
   "metadata": {},
   "outputs": [
    {
     "data": {
      "application/vnd.jupyter.widget-view+json": {
       "model_id": "98fa51d16ba04262be07bafcb1caf8bb",
       "version_major": 2,
       "version_minor": 0
      },
      "text/plain": [
       "HBox(children=(FloatProgress(value=0.0, max=1000.0), HTML(value='')))"
      ]
     },
     "metadata": {},
     "output_type": "display_data"
    },
    {
     "name": "stdout",
     "output_type": "stream",
     "text": [
      "4/4 [==============================] - 0s 2ms/step - loss: 0.7057\n",
      "minvalLoss,  0.7057119011878967\n",
      "4/4 [==============================] - 0s 2ms/step - loss: 0.7119\n",
      "4/4 [==============================] - 0s 1ms/step - loss: 0.7170\n",
      "4/4 [==============================] - 0s 1ms/step - loss: 0.6908\n",
      "minvalLoss,  0.690820574760437\n",
      "4/4 [==============================] - 0s 2ms/step - loss: 0.7121\n",
      "4/4 [==============================] - 0s 2ms/step - loss: 0.6920\n",
      "4/4 [==============================] - 0s 2ms/step - loss: 0.6959\n",
      "4/4 [==============================] - 0s 2ms/step - loss: 0.7072\n",
      "4/4 [==============================] - 0s 2ms/step - loss: 0.7058\n",
      "4/4 [==============================] - 0s 1ms/step - loss: 0.7154\n",
      "4/4 [==============================] - 0s 1ms/step - loss: 0.7045\n",
      "4/4 [==============================] - 0s 2ms/step - loss: 0.6977\n",
      "4/4 [==============================] - 0s 1ms/step - loss: 0.6912\n",
      "4/4 [==============================] - 0s 1ms/step - loss: 0.6882\n",
      "minvalLoss,  0.6881860494613647\n",
      "4/4 [==============================] - 0s 1ms/step - loss: 0.6906\n",
      "4/4 [==============================] - 0s 1ms/step - loss: 0.6608\n",
      "minvalLoss,  0.660796582698822\n",
      "4/4 [==============================] - 0s 2ms/step - loss: 0.6958\n",
      "4/4 [==============================] - 0s 1ms/step - loss: 0.6981\n",
      "4/4 [==============================] - 0s 2ms/step - loss: 0.6790\n",
      "4/4 [==============================] - 0s 2ms/step - loss: 0.7207\n",
      "4/4 [==============================] - 0s 1ms/step - loss: 0.6820\n",
      "4/4 [==============================] - 0s 2ms/step - loss: 0.6943\n",
      "4/4 [==============================] - 0s 2ms/step - loss: 0.6841\n",
      "4/4 [==============================] - 0s 1ms/step - loss: 0.7726\n",
      "4/4 [==============================] - 0s 2ms/step - loss: 0.7014\n",
      "4/4 [==============================] - 0s 2ms/step - loss: 0.7106\n",
      "4/4 [==============================] - 0s 1ms/step - loss: 0.7390\n",
      "4/4 [==============================] - 0s 1ms/step - loss: 0.7069\n",
      "4/4 [==============================] - 0s 1ms/step - loss: 0.6990\n",
      "4/4 [==============================] - 0s 1ms/step - loss: 0.7356\n",
      "4/4 [==============================] - 0s 1ms/step - loss: 0.7175\n"
     ]
    },
    {
     "data": {
      "application/vnd.jupyter.widget-view+json": {
       "model_id": "4df0c0149b4b4b0ea50cbf257b650dd2",
       "version_major": 2,
       "version_minor": 0
      },
      "text/plain": [
       "HBox(children=(FloatProgress(value=0.0, max=1000.0), HTML(value='')))"
      ]
     },
     "metadata": {},
     "output_type": "display_data"
    },
    {
     "name": "stdout",
     "output_type": "stream",
     "text": [
      "4/4 [==============================] - 0s 2ms/step - loss: 0.7197\n",
      "minvalLoss,  0.7197121381759644\n",
      "4/4 [==============================] - 0s 1ms/step - loss: 0.7038\n",
      "minvalLoss,  0.7037843465805054\n",
      "4/4 [==============================] - 0s 2ms/step - loss: 0.7188\n",
      "4/4 [==============================] - 0s 1ms/step - loss: 0.7068\n",
      "4/4 [==============================] - 0s 2ms/step - loss: 0.7302\n",
      "4/4 [==============================] - 0s 2ms/step - loss: 0.6954\n",
      "minvalLoss,  0.6953619122505188\n",
      "4/4 [==============================] - 0s 2ms/step - loss: 0.6876\n",
      "minvalLoss,  0.6876232028007507\n",
      "4/4 [==============================] - 0s 2ms/step - loss: 0.7243\n",
      "4/4 [==============================] - 0s 1ms/step - loss: 0.7052\n",
      "4/4 [==============================] - 0s 1ms/step - loss: 0.6784\n",
      "minvalLoss,  0.6783671975135803\n",
      "4/4 [==============================] - 0s 2ms/step - loss: 0.7076\n",
      "4/4 [==============================] - 0s 1ms/step - loss: 0.6939\n",
      "4/4 [==============================] - 0s 1ms/step - loss: 0.6746\n",
      "minvalLoss,  0.6745843291282654\n",
      "4/4 [==============================] - 0s 1ms/step - loss: 0.7188\n",
      "4/4 [==============================] - 0s 1ms/step - loss: 0.6986\n",
      "4/4 [==============================] - 0s 1ms/step - loss: 0.7077\n",
      "4/4 [==============================] - 0s 1ms/step - loss: 0.6544\n",
      "minvalLoss,  0.654448926448822\n",
      "4/4 [==============================] - 0s 1ms/step - loss: 0.7040\n",
      "4/4 [==============================] - 0s 2ms/step - loss: 0.7055\n",
      "4/4 [==============================] - 0s 2ms/step - loss: 0.6949\n",
      "4/4 [==============================] - 0s 1ms/step - loss: 0.7042\n",
      "4/4 [==============================] - 0s 2ms/step - loss: 0.7147\n",
      "4/4 [==============================] - 0s 2ms/step - loss: 0.7102\n",
      "4/4 [==============================] - 0s 1ms/step - loss: 0.7136\n",
      "4/4 [==============================] - 0s 2ms/step - loss: 0.7447\n",
      "4/4 [==============================] - 0s 1ms/step - loss: 0.7210\n",
      "4/4 [==============================] - 0s 1ms/step - loss: 0.7559\n",
      "4/4 [==============================] - 0s 1ms/step - loss: 0.6608\n",
      "4/4 [==============================] - 0s 1ms/step - loss: 0.7569\n",
      "4/4 [==============================] - 0s 1ms/step - loss: 0.7592\n",
      "4/4 [==============================] - 0s 1ms/step - loss: 0.7044\n",
      "4/4 [==============================] - 0s 1ms/step - loss: 0.7431\n"
     ]
    },
    {
     "data": {
      "application/vnd.jupyter.widget-view+json": {
       "model_id": "09ad5cb16994442688d8d10c56f3b84e",
       "version_major": 2,
       "version_minor": 0
      },
      "text/plain": [
       "HBox(children=(FloatProgress(value=0.0, max=1000.0), HTML(value='')))"
      ]
     },
     "metadata": {},
     "output_type": "display_data"
    },
    {
     "name": "stdout",
     "output_type": "stream",
     "text": [
      "4/4 [==============================] - 0s 1ms/step - loss: 0.7036\n",
      "minvalLoss,  0.703574001789093\n",
      "4/4 [==============================] - 0s 2ms/step - loss: 0.6924\n",
      "minvalLoss,  0.692406952381134\n",
      "4/4 [==============================] - 0s 1ms/step - loss: 0.6876\n",
      "minvalLoss,  0.6875813603401184\n",
      "4/4 [==============================] - 0s 1ms/step - loss: 0.6626\n",
      "minvalLoss,  0.662632167339325\n",
      "4/4 [==============================] - 0s 2ms/step - loss: 0.7228\n",
      "4/4 [==============================] - 0s 1ms/step - loss: 0.7324\n",
      "4/4 [==============================] - 0s 2ms/step - loss: 0.6884\n",
      "4/4 [==============================] - 0s 2ms/step - loss: 0.7165\n",
      "4/4 [==============================] - 0s 1ms/step - loss: 0.6747\n",
      "4/4 [==============================] - 0s 1ms/step - loss: 0.6877\n",
      "4/4 [==============================] - 0s 2ms/step - loss: 0.6991\n",
      "4/4 [==============================] - 0s 1ms/step - loss: 0.7189\n",
      "4/4 [==============================] - 0s 1ms/step - loss: 0.7547\n",
      "4/4 [==============================] - 0s 1ms/step - loss: 0.7063\n",
      "4/4 [==============================] - 0s 1ms/step - loss: 0.7011\n",
      "4/4 [==============================] - 0s 1ms/step - loss: 0.7142\n",
      "4/4 [==============================] - 0s 2ms/step - loss: 0.7005\n",
      "4/4 [==============================] - 0s 2ms/step - loss: 0.7353\n",
      "4/4 [==============================] - 0s 1ms/step - loss: 0.7341\n"
     ]
    },
    {
     "data": {
      "application/vnd.jupyter.widget-view+json": {
       "model_id": "893e203bbfa74e0eb581fc194c5eb867",
       "version_major": 2,
       "version_minor": 0
      },
      "text/plain": [
       "HBox(children=(FloatProgress(value=0.0, max=1000.0), HTML(value='')))"
      ]
     },
     "metadata": {},
     "output_type": "display_data"
    },
    {
     "name": "stdout",
     "output_type": "stream",
     "text": [
      "4/4 [==============================] - 0s 1ms/step - loss: 0.6578\n",
      "minvalLoss,  0.6578065752983093\n",
      "4/4 [==============================] - 0s 2ms/step - loss: 0.7059\n",
      "4/4 [==============================] - 0s 2ms/step - loss: 0.7297\n",
      "4/4 [==============================] - 0s 1ms/step - loss: 0.7258\n",
      "4/4 [==============================] - 0s 1ms/step - loss: 0.6862\n",
      "4/4 [==============================] - 0s 1ms/step - loss: 0.7176\n",
      "4/4 [==============================] - 0s 1ms/step - loss: 0.7152\n",
      "4/4 [==============================] - 0s 2ms/step - loss: 0.6931\n",
      "4/4 [==============================] - 0s 2ms/step - loss: 0.6553\n",
      "minvalLoss,  0.6552771925926208\n",
      "4/4 [==============================] - 0s 1ms/step - loss: 0.6870\n",
      "4/4 [==============================] - 0s 2ms/step - loss: 0.6433\n",
      "minvalLoss,  0.6433157920837402\n",
      "4/4 [==============================] - 0s 1ms/step - loss: 0.6582\n",
      "4/4 [==============================] - 0s 2ms/step - loss: 0.6841\n",
      "4/4 [==============================] - 0s 1ms/step - loss: 0.7046\n",
      "4/4 [==============================] - 0s 1ms/step - loss: 0.6924\n",
      "4/4 [==============================] - 0s 1ms/step - loss: 0.7014\n",
      "4/4 [==============================] - 0s 2ms/step - loss: 0.6722\n",
      "4/4 [==============================] - 0s 1ms/step - loss: 0.7118\n",
      "4/4 [==============================] - 0s 1ms/step - loss: 0.6726\n",
      "4/4 [==============================] - 0s 1ms/step - loss: 0.7069\n",
      "4/4 [==============================] - 0s 1ms/step - loss: 0.6835\n",
      "4/4 [==============================] - 0s 1ms/step - loss: 0.6621\n",
      "4/4 [==============================] - 0s 2ms/step - loss: 0.7143\n",
      "4/4 [==============================] - 0s 1ms/step - loss: 0.7218\n",
      "4/4 [==============================] - 0s 1ms/step - loss: 0.7170\n",
      "4/4 [==============================] - 0s 1ms/step - loss: 0.6744\n"
     ]
    },
    {
     "data": {
      "application/vnd.jupyter.widget-view+json": {
       "model_id": "f22701a9f9b441b0a2f81af78462ff18",
       "version_major": 2,
       "version_minor": 0
      },
      "text/plain": [
       "HBox(children=(FloatProgress(value=0.0, max=1000.0), HTML(value='')))"
      ]
     },
     "metadata": {},
     "output_type": "display_data"
    },
    {
     "name": "stdout",
     "output_type": "stream",
     "text": [
      "4/4 [==============================] - 0s 1ms/step - loss: 0.7594\n",
      "minvalLoss,  0.7593696117401123\n",
      "4/4 [==============================] - 0s 2ms/step - loss: 0.7260\n",
      "minvalLoss,  0.7259723544120789\n",
      "4/4 [==============================] - 0s 2ms/step - loss: 0.7377\n",
      "4/4 [==============================] - 0s 1ms/step - loss: 0.7200\n",
      "minvalLoss,  0.7200474739074707\n",
      "4/4 [==============================] - 0s 2ms/step - loss: 0.7091\n",
      "minvalLoss,  0.7091053128242493\n",
      "4/4 [==============================] - 0s 2ms/step - loss: 0.6533\n",
      "minvalLoss,  0.6532502174377441\n",
      "4/4 [==============================] - 0s 1ms/step - loss: 0.7033\n",
      "4/4 [==============================] - 0s 3ms/step - loss: 0.7098\n",
      "4/4 [==============================] - 0s 1ms/step - loss: 0.7153\n",
      "4/4 [==============================] - 0s 1ms/step - loss: 0.7108\n",
      "4/4 [==============================] - 0s 1ms/step - loss: 0.7186\n",
      "4/4 [==============================] - 0s 1ms/step - loss: 0.6972\n",
      "4/4 [==============================] - 0s 2ms/step - loss: 0.7182\n",
      "4/4 [==============================] - 0s 4ms/step - loss: 0.7342\n",
      "4/4 [==============================] - 0s 1ms/step - loss: 0.6867\n",
      "4/4 [==============================] - 0s 1ms/step - loss: 0.7052\n",
      "4/4 [==============================] - 0s 1ms/step - loss: 0.7668\n",
      "4/4 [==============================] - 0s 1ms/step - loss: 0.7439\n",
      "4/4 [==============================] - 0s 1ms/step - loss: 0.6877\n",
      "4/4 [==============================] - 0s 1ms/step - loss: 0.7480\n",
      "4/4 [==============================] - 0s 1ms/step - loss: 0.6961\n",
      "0.59241\n"
     ]
    },
    {
     "data": {
      "text/plain": [
       "array([ 0.04753315, -0.02644825,  0.32925704, ..., -0.38464999,\n",
       "       -1.59322953, -0.99549162])"
      ]
     },
     "execution_count": null,
     "metadata": {},
     "output_type": "execute_result"
    }
   ],
   "source": [
    "ranker = RankNet()\n",
    "ranker.train(xPU,yPU[:,0].astype(bool))"
   ]
  },
  {
   "cell_type": "code",
   "execution_count": null,
   "metadata": {},
   "outputs": [
    {
     "data": {
      "text/plain": [
       "0.891967591199035"
      ]
     },
     "execution_count": null,
     "metadata": {},
     "output_type": "execute_result"
    }
   ],
   "source": [
    "ndcg_score(np.asarray([dg.pu_posterior(xPUVal)]),np.asarray([ranker.ranker(xPUVal)[0].ravel()]))"
   ]
  },
  {
   "cell_type": "code",
   "execution_count": null,
   "metadata": {},
   "outputs": [
    {
     "data": {
      "text/plain": [
       "[<matplotlib.lines.Line2D at 0x7fdd441e1ad0>]"
      ]
     },
     "execution_count": null,
     "metadata": {},
     "output_type": "execute_result"
    },
    {
     "data": {
      "image/png": "[encoded data removed]",
      "text/plain": [
       "<Figure size 432x288 with 1 Axes>"
      ]
     },
     "metadata": {
      "needs_background": "light"
     },
     "output_type": "display_data"
    }
   ],
   "source": [
    "plt.scatter(ranker.ranker(xPUVal[~yPUVal.ravel().astype(bool)])[0],dg.pn_posterior_cc(xPUVal[~yPUVal.ravel().astype(bool)]),color=\"blue\")\n",
    "plt.scatter(ranker.ranker(xPUVal[yPUVal.ravel().astype(bool)])[0],dg.pn_posterior_cc(xPUVal[yPUVal.ravel().astype(bool)]),color=\"red\",alpha=.25)\n",
    "plt.plot([0,1],[0,1],color=\"black\")"
   ]
  },
  {
   "cell_type": "code",
   "execution_count": null,
   "metadata": {},
   "outputs": [],
   "source": [
    "import pandas as pd\n",
    "from tqdm.notebook import trange"
   ]
  },
  {
   "cell_type": "code",
   "execution_count": null,
   "metadata": {},
   "outputs": [],
   "source": [
    "# export ranker\n",
    "class RankerNN(object):\n",
    "\n",
    "    def __init__(self, input_size, hidden_layer_sizes=(100,), activation=('relu',), solver='adam'):\n",
    "        \"\"\"\n",
    "        Parameters\n",
    "        ----------\n",
    "        input_size : integer\n",
    "            Number of input features.\n",
    "        hidden_layer_sizes : tuple, length = n_layers - 2, default (100,)\n",
    "            The ith element represents the number of neurons in the ith\n",
    "            hidden layer.\n",
    "        activation : tuple, length = n_layers - 2, default ('relu',)\n",
    "            The ith element represents activation function in the ith\n",
    "            hidden layer.\n",
    "        solver : {'adam', 'sgd', 'rmsprop', 'adagrad', 'adadelta', adamax},\n",
    "        default 'adam'\n",
    "            The solver for weight optimization.\n",
    "            - 'adam' refers to a stochastic gradient-based optimizer proposed\n",
    "              by Kingma, Diederik, and Jimmy Ba\n",
    "        \"\"\"\n",
    "        if len(hidden_layer_sizes) != len(activation):\n",
    "            raise ValueError('hidden_layer_sizes and activation should have the same size.')\n",
    "        self.model = self._build_model(input_size, hidden_layer_sizes, activation)\n",
    "        self.model.compile(optimizer=solver, loss=\"binary_crossentropy\")\n",
    "\n",
    "    @staticmethod\n",
    "    def _build_model(input_shape, hidden_layer_sizes, activation):\n",
    "        \"\"\"\n",
    "        Build Keras Ranker NN model (Ranknet / LambdaRank NN).\n",
    "        \"\"\"\n",
    "        # Neural network structure\n",
    "        hidden_layers = []\n",
    "        for i in range(len(hidden_layer_sizes)):\n",
    "            hidden_layers.append(Dense(hidden_layer_sizes[i], activation=activation[i], name=str(activation[i]) + '_layer' + str(i)))\n",
    "        h0 = Dense(1, activation='linear', name='Identity_layer')\n",
    "        input1 = Input(shape=(input_shape,), name='Input_layer1')\n",
    "        input2 = Input(shape=(input_shape,), name='Input_layer2')\n",
    "        x1 = input1\n",
    "        x2 = input2\n",
    "        for i in range(len(hidden_layer_sizes)):\n",
    "            x1 = hidden_layers[i](x1)\n",
    "            x2 = hidden_layers[i](x2)\n",
    "        x1 = h0(x1)\n",
    "        x2 = h0(x2)\n",
    "        # Subtract layer\n",
    "        subtracted = Subtract(name='Subtract_layer')([x1, x2])\n",
    "        # sigmoid\n",
    "        out = Activation('sigmoid', name='Activation_layer')(subtracted)\n",
    "        # build model\n",
    "        model = Model(inputs=[input1, input2], outputs=out)\n",
    "        return model\n",
    "\n",
    "    @staticmethod\n",
    "    def _CalcDCG(labels):\n",
    "        sumdcg = 0.0\n",
    "        for i in range(len(labels)):\n",
    "            rel = labels[i]\n",
    "            if rel != 0:\n",
    "                sumdcg += ((2 ** rel) - 1) / math.log2(i + 2)\n",
    "        return sumdcg\n",
    "\n",
    "    def _fetch_qid_data(self, y, qid, eval_at=None):\n",
    "        \"\"\"Fetch indices, relevances, idcg and dcg for each query id.\n",
    "        Parameters\n",
    "        ----------\n",
    "        y : array, shape (n_samples,)\n",
    "            Target labels.\n",
    "        qid: array, shape (n_samples,)\n",
    "            Query id that represents the grouping of samples.\n",
    "        eval_at: integer\n",
    "            The rank postion to evaluate dcg and idcg.\n",
    "        Returns\n",
    "        -------\n",
    "        qid2indices : array, shape (n_unique_qid,)\n",
    "            Start index for each qid.\n",
    "        qid2rel : array, shape (n_unique_qid,)\n",
    "            A list of target labels (relevances) for each qid.\n",
    "        qid2idcg: array, shape (n_unique_qid,)\n",
    "            Calculated idcg@eval_at for each qid.\n",
    "        qid2dcg: array, shape (n_unique_qid,)\n",
    "            Calculated dcg@eval_at for each qid.\n",
    "        \"\"\"\n",
    "        qid_unique, qid2indices, qid_inverse_indices = np.unique(qid, return_index=True, return_inverse=True)\n",
    "        # get item releveance for each query id\n",
    "        qid2rel = [[] for _ in range(len(qid_unique))]\n",
    "        for i, qid_unique_index in enumerate(qid_inverse_indices):\n",
    "            qid2rel[qid_unique_index].append(y[i])\n",
    "        # get dcg, idcg for each query id @eval_at\n",
    "        if eval_at:\n",
    "            qid2dcg = [self._CalcDCG(qid2rel[i][:eval_at]) for i in range(len(qid_unique))]\n",
    "            qid2idcg = [self._CalcDCG(sorted(qid2rel[i], reverse=True)[:eval_at]) for i in range(len(qid_unique))]\n",
    "        else:\n",
    "            qid2dcg = [self._CalcDCG(qid2rel[i]) for i in range(len(qid_unique))]\n",
    "            qid2idcg = [self._CalcDCG(sorted(qid2rel[i], reverse=True)) for i in range(len(qid_unique))]\n",
    "        return qid2indices, qid2rel, qid2idcg, qid2dcg\n",
    "\n",
    "\n",
    "    def _transform_pairwise(self, X, y, qid):\n",
    "        return None, None, None, None\n",
    "\n",
    "\n",
    "    def fit(self, X, y, qid, batch_size=None, epochs=1, verbose=1, validation_split=0.0):\n",
    "        \"\"\"Transform data and fit model.\n",
    "        Parameters\n",
    "        ----------\n",
    "        X : array, shape (n_samples, n_features)\n",
    "            Features.\n",
    "        y : array, shape (n_samples,)\n",
    "            Target labels.\n",
    "        qid: array, shape (n_samples,)\n",
    "            Query id that represents the grouping of samples.\n",
    "        \"\"\"\n",
    "        X1_trans, X2_trans, y_trans, weight = self._transform_pairwise(X, y, qid)\n",
    "        X1_trans = tf.convert_to_tensor(X1_trans)\n",
    "        X2_trans = tf.convert_to_tensor(X2_trans)\n",
    "        y_trans = tf.convert_to_tensor(y_trans)\n",
    "        self.model.fit([X1_trans, X2_trans], y_trans, sample_weight=pd.Series(weight), batch_size=batch_size, epochs=epochs,\n",
    "                       verbose=verbose, validation_split=validation_split)\n",
    "        self.evaluate(X, y, qid)\n",
    "\n",
    "    def predict(self, X):\n",
    "        \"\"\"Predict output.\n",
    "        Parameters\n",
    "        ----------\n",
    "        X : array, shape (n_samples, n_features)\n",
    "            Features.\n",
    "        Returns\n",
    "        -------\n",
    "        y_pred: array, shape (n_samples,)\n",
    "            Model prediction.\n",
    "        \"\"\"\n",
    "        ranker_output = K.function([self.model.layers[0].input], [self.model.layers[-3].get_output_at(0)])\n",
    "        return ranker_output([X])[0].ravel()\n",
    "\n",
    "    def evaluate(self, X, y, qid, eval_at=None):\n",
    "        \"\"\"Predict and evaluate ndcg@eval_at.\n",
    "        Parameters\n",
    "        ----------\n",
    "        X : array, shape (n_samples, n_features)\n",
    "            Features.\n",
    "        y : array, shape (n_samples,)\n",
    "            Target labels.\n",
    "        qid: array, shape (n_samples,)\n",
    "            Query id that represents the grouping of samples.\n",
    "        eval_at: integer\n",
    "            The rank postion to evaluate NDCG.\n",
    "        Returns\n",
    "        -------\n",
    "        ndcg@eval_at: float\n",
    "        \"\"\"\n",
    "        y_pred = self.predict(X)\n",
    "        tmp = np.array(np.hstack([y.reshape(-1, 1), y_pred.reshape(-1, 1), qid.reshape(-1, 1)]))\n",
    "        tmp = tmp[np.lexsort((-tmp[:, 1], tmp[:, 2]))]\n",
    "        y_sorted = tmp[:, 0]\n",
    "        qid_sorted = tmp[:, 2]\n",
    "        ndcg = self._EvalNDCG(y_sorted, qid_sorted, eval_at)\n",
    "        if eval_at:\n",
    "            print('ndcg@' + str(eval_at) + ': ' + str(ndcg))\n",
    "        else:\n",
    "            print('ndcg: ' + str(ndcg))\n",
    "\n",
    "    def _EvalNDCG(self, y, qid, eval_at=None):\n",
    "        \"\"\"Evaluate ndcg@eval_at.\n",
    "        Calculated ndcg@n is consistent with ndcg@n- in xgboost.\n",
    "        \"\"\"\n",
    "        _, _, qid2idcg, qid2dcg = self._fetch_qid_data(y, qid, eval_at)\n",
    "        sumndcg = 0\n",
    "        count = 0.0\n",
    "        for qid_unique_idx in range(len(qid2idcg)):\n",
    "            count += 1\n",
    "            if qid2idcg[qid_unique_idx] == 0:\n",
    "                continue\n",
    "            idcg = qid2idcg[qid_unique_idx]\n",
    "            dcg = qid2dcg[qid_unique_idx]\n",
    "            sumndcg += dcg / idcg\n",
    "        return sumndcg / count\n",
    "\n",
    "\n",
    "class RankNetNN(RankerNN):\n",
    "\n",
    "    def __init__(self, input_size, hidden_layer_sizes=(100,), activation=('relu',), solver='adam'):\n",
    "        super(RankNetNN, self).__init__(input_size, hidden_layer_sizes, activation, solver)\n",
    "\n",
    "    def _transform_pairwise(self, X, y, qid):\n",
    "        \"\"\"Transform data into ranknet pairs with balanced labels for\n",
    "        binary classification.\n",
    "        Parameters\n",
    "        ----------\n",
    "        X : array, shape (n_samples, n_features)\n",
    "            Features.\n",
    "        y : array, shape (n_samples,)\n",
    "            Target labels.\n",
    "        qid: array, shape (n_samples,)\n",
    "            Query id that represents the grouping of samples.\n",
    "        Returns\n",
    "        -------\n",
    "        X1_trans : array, shape (k, n_feaures)\n",
    "            Features of pair 1\n",
    "        X2_trans : array, shape (k, n_feaures)\n",
    "            Features of pair 2\n",
    "        weight: array, shape (k, n_faetures)\n",
    "            Sample weight lambda.\n",
    "        y_trans : array, shape (k,)\n",
    "            Output class labels, where classes have values {0, 1}\n",
    "        \"\"\"\n",
    "        qid2indices, qid2rel, qid2idcg, _ = self._fetch_qid_data(y, qid)\n",
    "        X1 = []\n",
    "        X2 = []\n",
    "        weight = []\n",
    "        Y = []\n",
    "        for qid_unique_idx in range(len(qid2indices)):\n",
    "            if qid2idcg[qid_unique_idx] == 0:\n",
    "                continue\n",
    "            IDCG = 1.0 / qid2idcg[qid_unique_idx]\n",
    "            rel_list = qid2rel[qid_unique_idx]\n",
    "            qid_start_idx = qid2indices[qid_unique_idx]\n",
    "            for pos_idx in range(len(rel_list)):\n",
    "                for neg_idx in range(len(rel_list)):\n",
    "                    if rel_list[pos_idx] <= rel_list[neg_idx]:\n",
    "                        continue\n",
    "                    # balanced class\n",
    "                    if 1 != (-1) ** (qid_unique_idx + pos_idx + neg_idx):\n",
    "                        X1.append(X[qid_start_idx + pos_idx])\n",
    "                        X2.append(X[qid_start_idx + neg_idx])\n",
    "                        weight.append(1)\n",
    "                        Y.append(1)\n",
    "                    else:\n",
    "                        X1.append(X[qid_start_idx + neg_idx])\n",
    "                        X2.append(X[qid_start_idx + pos_idx])\n",
    "                        weight.append(1)\n",
    "                        Y.append(0)\n",
    "        return np.asarray(X1), np.asarray(X2), np.asarray(Y), np.asarray(weight)\n",
    "\n",
    "\n",
    "class LambdaRankNN(RankerNN):\n",
    "\n",
    "    def __init__(self, input_size, hidden_layer_sizes=(100,), activation=('relu',), solver='adam'):\n",
    "        super(LambdaRankNN, self).__init__(input_size, hidden_layer_sizes, activation, solver)\n",
    "\n",
    "    def _transform_pairwise(self, X, y, qid):\n",
    "        \"\"\"Transform data into lambdarank pairs with balanced labels\n",
    "        for binary classification.\n",
    "        Parameters\n",
    "        ----------\n",
    "        X : array, shape (n_samples, n_features)\n",
    "            Features.\n",
    "        y : array, shape (n_samples,)\n",
    "            Target labels.\n",
    "        qid: array, shape (n_samples,)\n",
    "            Query id that represents the grouping of samples.\n",
    "        Returns\n",
    "        -------\n",
    "        X1_trans : array, shape (k, n_feaures)\n",
    "            Features of pair 1\n",
    "        X2_trans : array, shape (k, n_feaures)\n",
    "            Features of pair 2\n",
    "        weight: array, shape (k, n_faetures)\n",
    "            Sample weight lambda.\n",
    "        y_trans : array, shape (k,)\n",
    "            Output class labels, where classes have values {0, 1}\n",
    "        \"\"\"\n",
    "        qid2indices, qid2rel, qid2idcg, _ = self._fetch_qid_data(y, qid)\n",
    "        X1 = []\n",
    "        X2 = []\n",
    "        weight = []\n",
    "        Y = []\n",
    "        for qid_unique_idx in trange(len(qid2indices)):\n",
    "            if qid2idcg[qid_unique_idx] == 0:\n",
    "                continue\n",
    "            IDCG = 1.0 / qid2idcg[qid_unique_idx]\n",
    "            rel_list = qid2rel[qid_unique_idx]\n",
    "            qid_start_idx = qid2indices[qid_unique_idx]\n",
    "            for pos_idx in trange(len(rel_list)):\n",
    "                for neg_idx in range(len(rel_list)):\n",
    "                    if rel_list[pos_idx] <= rel_list[neg_idx]:\n",
    "                        continue\n",
    "                    # calculate lambda\n",
    "                    pos_loginv = 1.0 / math.log2(pos_idx + 2)\n",
    "                    neg_loginv = 1.0 / math.log2(neg_idx + 2)\n",
    "                    pos_label = rel_list[pos_idx]\n",
    "                    neg_label = rel_list[neg_idx]\n",
    "                    original = ((1 << pos_label) - 1) * pos_loginv + ((1 << neg_label) - 1) * neg_loginv\n",
    "                    changed = ((1 << neg_label) - 1) * pos_loginv + ((1 << pos_label) - 1) * neg_loginv\n",
    "                    delta = (original - changed) * IDCG\n",
    "                    if delta < 0:\n",
    "                        delta = -delta\n",
    "                    # balanced class\n",
    "                    if 1 != (-1) ** (qid_unique_idx + pos_idx + neg_idx):\n",
    "                        X1.append(X[qid_start_idx + pos_idx])\n",
    "                        X2.append(X[qid_start_idx + neg_idx])\n",
    "                        weight.append(delta)\n",
    "                        Y.append(1)\n",
    "                    else:\n",
    "                        X1.append(X[qid_start_idx + neg_idx])\n",
    "                        X2.append(X[qid_start_idx + pos_idx])\n",
    "                        weight.append(delta)\n",
    "                        Y.append(0)\n",
    "        return np.asarray(X1), np.asarray(X2), np.asarray(Y), np.asarray(weight)"
   ]
  },
  {
   "cell_type": "code",
   "execution_count": null,
   "metadata": {},
   "outputs": [],
   "source": [
    "lambdaRanker = LambdaRankNN(xPU.shape[1],\n",
    "                            hidden_layer_sizes=(32,),\n",
    "                            activation=(\"relu\",))"
   ]
  },
  {
   "cell_type": "code",
   "execution_count": null,
   "metadata": {},
   "outputs": [
    {
     "data": {
      "application/vnd.jupyter.widget-view+json": {
       "model_id": "b096ac55fccb458eb3908ddd5bca6dc6",
       "version_major": 2,
       "version_minor": 0
      },
      "text/plain": [
       "HBox(children=(FloatProgress(value=0.0, max=1.0), HTML(value='')))"
      ]
     },
     "metadata": {},
     "output_type": "display_data"
    },
    {
     "data": {
      "application/vnd.jupyter.widget-view+json": {
       "model_id": "56aa3b22668d41a78f0162e58aeafbc9",
       "version_major": 2,
       "version_minor": 0
      },
      "text/plain": [
       "HBox(children=(FloatProgress(value=0.0, max=1602.0), HTML(value='')))"
      ]
     },
     "metadata": {},
     "output_type": "display_data"
    },
    {
     "name": "stdout",
     "output_type": "stream",
     "text": [
      "\n",
      "\n",
      "Epoch 1/5\n",
      "4010/4010 [==============================] - 8s 2ms/step - loss: 1.3758e-04 - val_loss: 1.0615e-05\n",
      "Epoch 2/5\n",
      "4010/4010 [==============================] - 7s 2ms/step - loss: 3.6216e-05 - val_loss: 5.4137e-06\n",
      "Epoch 3/5\n",
      "4010/4010 [==============================] - 7s 2ms/step - loss: 1.8294e-05 - val_loss: 2.7933e-06\n",
      "Epoch 4/5\n",
      "4010/4010 [==============================] - 7s 2ms/step - loss: 9.5126e-06 - val_loss: 1.6927e-06\n",
      "Epoch 5/5\n",
      "4010/4010 [==============================] - 7s 2ms/step - loss: 5.6320e-06 - val_loss: 1.0818e-06\n",
      "ndcg: 0.9997252234953563\n"
     ]
    }
   ],
   "source": [
    "lambdaRanker.fit(xPUTrain,yPUTrain.ravel().astype(int),\n",
    "                 np.ones_like(yPUTrain),\n",
    "                 batch_size=128,epochs=5,validation_split=.2)"
   ]
  },
  {
   "cell_type": "code",
   "execution_count": null,
   "metadata": {},
   "outputs": [
    {
     "data": {
      "text/plain": [
       "0.9699102344422729"
      ]
     },
     "execution_count": null,
     "metadata": {},
     "output_type": "execute_result"
    }
   ],
   "source": [
    "ndcg_score(np.asarray([dg.pu_posterior(xPUTrain)]),np.asarray([lambdaRanker.predict(xPUTrain).ravel()]))"
   ]
  },
  {
   "cell_type": "code",
   "execution_count": null,
   "metadata": {},
   "outputs": [
    {
     "data": {
      "text/plain": [
       "0.9421618366329816"
      ]
     },
     "execution_count": null,
     "metadata": {},
     "output_type": "execute_result"
    }
   ],
   "source": [
    "ndcg_score(np.asarray([dg.pu_posterior(xPUVal)]),np.asarray([lambdaRanker.predict(xPUVal).ravel()]))"
   ]
  },
  {
   "cell_type": "code",
   "execution_count": null,
   "metadata": {},
   "outputs": [
    {
     "data": {
      "text/plain": [
       "0.9979956390342284"
      ]
     },
     "execution_count": null,
     "metadata": {},
     "output_type": "execute_result"
    }
   ],
   "source": [
    "roc_auc_score(yPUTrain,lambdaRanker.predict(xPUTrain))"
   ]
  },
  {
   "cell_type": "code",
   "execution_count": null,
   "metadata": {},
   "outputs": [
    {
     "data": {
      "text/plain": [
       "0.47547260110074174"
      ]
     },
     "execution_count": null,
     "metadata": {},
     "output_type": "execute_result"
    }
   ],
   "source": [
    "roc_auc_score(yPUVal,lambdaRanker.predict(xPUVal))"
   ]
  },
  {
   "cell_type": "code",
   "execution_count": null,
   "metadata": {},
   "outputs": [
    {
     "data": {
      "text/plain": [
       "[<matplotlib.lines.Line2D at 0x7fdc0603c810>]"
      ]
     },
     "execution_count": null,
     "metadata": {},
     "output_type": "execute_result"
    },
    {
     "data": {
      "image/png": "[encoded data removed]",
      "text/plain": [
       "<Figure size 432x288 with 1 Axes>"
      ]
     },
     "metadata": {
      "needs_background": "light"
     },
     "output_type": "display_data"
    }
   ],
   "source": [
    "plt.scatter(lambdaRanker.predict(xPUVal[~yPUVal.ravel().astype(bool)]),dg.pn_posterior_cc(xPUVal[~yPUVal.ravel().astype(bool)]),color=\"blue\")\n",
    "plt.scatter(lambdaRanker.predict(xPUVal[yPUVal.ravel().astype(bool)]),dg.pn_posterior_cc(xPUVal[yPUVal.ravel().astype(bool)]),color=\"red\",alpha=.25)\n",
    "plt.plot([0,1],[0,1],color=\"black\")"
   ]
  },
  {
   "cell_type": "code",
   "execution_count": null,
   "metadata": {},
   "outputs": [
    {
     "data": {
      "text/plain": [
       "[<matplotlib.lines.Line2D at 0x7fdc0610d710>]"
      ]
     },
     "execution_count": null,
     "metadata": {},
     "output_type": "execute_result"
    },
    {
     "data": {
      "image/png": "[encoded data removed]",
      "text/plain": [
       "<Figure size 432x288 with 1 Axes>"
      ]
     },
     "metadata": {
      "needs_background": "light"
     },
     "output_type": "display_data"
    }
   ],
   "source": [
    "plt.scatter(lambdaRanker.predict(xPUTrain[~yPUTrain.ravel().astype(bool)]),dg.pu_posterior(xPUTrain[~yPUTrain.ravel().astype(bool)]),color=\"blue\")\n",
    "plt.scatter(lambdaRanker.predict(xPUTrain[yPUTrain.ravel().astype(bool)]),dg.pu_posterior(xPUTrain[yPUTrain.ravel().astype(bool)]),color=\"red\",alpha=.25)\n",
    "plt.plot([0,1],[0,1],color=\"black\")"
   ]
  },
  {
   "cell_type": "code",
   "execution_count": null,
   "metadata": {},
   "outputs": [],
   "source": []
  }
 ],
 "metadata": {
  "kernelspec": {
   "display_name": "tf",
   "language": "python",
   "name": "tf"
  }
 },
 "nbformat": 4,
 "nbformat_minor": 4
}
