{
 "cells": [
  {
   "cell_type": "code",
   "execution_count": 1,
   "metadata": {
    "ExecuteTime": {
     "end_time": "2021-04-02T19:46:00.703398Z",
     "start_time": "2021-04-02T19:45:47.782493Z"
    }
   },
   "outputs": [],
   "source": [
    "from multiinstance.utils import *\n",
    "\n",
    "import numpy as np\n",
    "\n",
    "from dist_curve.curve_constructor import makeCurve\n",
    "\n",
    "import scipy.stats as ss\n",
    "\n",
    "import matplotlib.pyplot as plt"
   ]
  },
  {
   "cell_type": "code",
   "execution_count": 40,
   "metadata": {
    "ExecuteTime": {
     "end_time": "2021-04-05T16:44:08.212624Z",
     "start_time": "2021-04-05T16:44:08.207944Z"
    }
   },
   "outputs": [],
   "source": [
    "from easydict import EasyDict"
   ]
  },
  {
   "cell_type": "code",
   "execution_count": 69,
   "metadata": {
    "ExecuteTime": {
     "end_time": "2021-04-05T17:05:13.566159Z",
     "start_time": "2021-04-05T17:05:13.545645Z"
    }
   },
   "outputs": [],
   "source": [
    "def getBagPositive(weights=None, size_lam=25):\n",
    "    # Positive\n",
    "    if weights is None:\n",
    "        weights = np.random.dirichlet((1,1))\n",
    "    size= np.random.poisson(size_lam)\n",
    "    p = np.concatenate((np.random.normal(loc=-3,size=int(weights[0] * size)),\n",
    "                        np.random.normal(loc=3,size=int(weights[1] * size))))\n",
    "    assignments = np.zeros(size)\n",
    "    assignments[int(weights[0] * size):] = 1\n",
    "    return p,assignments, weights\n",
    "\n",
    "def getBag():\n",
    "    d = EasyDict()\n",
    "    d.pos, d.pos_component_assignments, d.gamma_1 = getBagPositive(size_lam=10)\n",
    "    d.alpha = np.random.uniform()\n",
    "    unlabeledPos, d.uPos_comp_assign, _ = getBagPositive(weights=d.gamma_1, size_lam=int(100 * d.alpha))\n",
    "    d.gamma_0 = np.random.dirichlet((1,))\n",
    "    unlabeledNeg = np.random.normal(size=int(d.gamma_0[0] * 100 * (1-d.alpha)))\n",
    "    d.unlabeled = np.concatenate((unlabeledPos, unlabeledNeg))\n",
    "    return d\n",
    "    "
   ]
  },
  {
   "cell_type": "code",
   "execution_count": 56,
   "metadata": {
    "ExecuteTime": {
     "end_time": "2021-04-05T16:49:02.797032Z",
     "start_time": "2021-04-05T16:49:02.588942Z"
    }
   },
   "outputs": [
    {
     "data": {
      "text/plain": [
       "<matplotlib.legend.Legend at 0x7fd148c4fad0>"
      ]
     },
     "execution_count": 56,
     "metadata": {},
     "output_type": "execute_result"
    },
    {
     "data": {
      "image/png": "[encoded data removed]",
      "text/plain": [
       "<Figure size 432x288 with 1 Axes>"
      ]
     },
     "metadata": {
      "needs_background": "light"
     },
     "output_type": "display_data"
    }
   ],
   "source": [
    "bags = [getBag() for _ in range(100)]\n",
    "plt.hist(np.concatenate([d.unlabeled for d in bags]), label=\"unlabeled\",alpha=1,density=True)\n",
    "plt.hist(np.concatenate([d.pos for d in bags]),label=\"pos\",density=True,alpha=.5)\n",
    "plt.legend()"
   ]
  },
  {
   "cell_type": "markdown",
   "metadata": {},
   "source": []
  },
  {
   "cell_type": "markdown",
   "metadata": {},
   "source": [
    "## bag$_i$\n",
    "$ f_1^i(x)= \\sum_{j\\in j_1}r_j^i \\phi_j^1(x) $\n",
    "\n",
    "$ f^i(x) = \\alpha_i \\sum_{j\\in j_1} r_j^i \\phi_j^1(x) + (1 - \\alpha_i)\\sum_{j\\in j_0} \\gamma_j^0 \\phi_j^0(x)$\n",
    "\n",
    "## Merged bags\n",
    "\n",
    "$w_i = \\frac{|c_i|}{\\sum_j |c_j|} $\n",
    "\n",
    "$ w_i^0 = \\frac{|m_i|}{\\sum_j |m_j|} $\n",
    "\n",
    "$ f_1(x) = \\sum_{j \\in j_1} (\\sum_{i \\in b_i} w_i^1r_j^i) \\phi^1_j(x)$\n",
    "\n",
    "$ f(x) = \\sum_{j \\in j_1}[(\\sum_{i \\in b_i} w^0_i \\alpha_ir_j^i) \\phi_j^1(x)]  + \\sum_{j \\in j_0}[\\sum_{i\\in b_i}w^0_i(1 - \\alpha_i))\\gamma_j^0\\phi_j^0(x)]$ "
   ]
  },
  {
   "cell_type": "code",
   "execution_count": 200,
   "metadata": {
    "ExecuteTime": {
     "end_time": "2021-04-05T18:12:08.917450Z",
     "start_time": "2021-04-05T18:12:08.898290Z"
    }
   },
   "outputs": [],
   "source": [
    "def mergeBags(bags):\n",
    "    \"Calculate the mixing coefficients of the positive and unlabeled distributions of the merged bags\"\n",
    "    # calculate bag weights based on pos/ unlabeled sizes\n",
    "    w1 = np.array([d.pos.shape[0] for d in bags])\n",
    "    w0 = np.array([d.unlabeled.shape[0] for d in bags])\n",
    "    w1 = w1 / w1.sum()\n",
    "    w0 = w0 / w0.sum()\n",
    "    # calculate positive component weights\n",
    "    gamma_1s = np.concatenate([d.gamma_1.reshape((1,-1)) for d in bags],axis=0)\n",
    "    g1 = np.multiply(gamma_1s.T,w1).T.sum(0)\n",
    "    # unlabeled positive components weights\n",
    "    alpha_i = np.array([d.alpha for d in bags])\n",
    "    wa = np.multiply(w0,alpha_i)\n",
    "    gamma_0s = np.concatenate([d.gamma_0.reshape((1,-1)) for d in bags],axis=0)\n",
    "    gUnlabeled1 = np.multiply(gamma_1s.T,wa).T.sum(0)\n",
    "    # unlabeled negative components weights\n",
    "    wa1 = np.multiply(w0,1 - alpha_i).reshape((-1,1))\n",
    "    gUnlabeled0 = np.multiply(gamma_0s, wa1).sum()\n",
    "    # get results\n",
    "    d = EasyDict()\n",
    "    d.g1 = g1\n",
    "    d.gUnlabeled1 = gUnlabeled1\n",
    "    d.gUnlabeled0 = gUnlabeled0\n",
    "    # Ensure positive and unlabeled component weights form valid simplex\n",
    "    assert np.allclose(g1.sum(), np.ones(1))\n",
    "    assert np.allclose(gUnlabeled0.sum() + gUnlabeled1.sum(),np.ones(1))\n",
    "    return d"
   ]
  },
  {
   "cell_type": "code",
   "execution_count": 198,
   "metadata": {
    "ExecuteTime": {
     "end_time": "2021-04-05T18:10:39.960906Z",
     "start_time": "2021-04-05T18:10:39.948742Z"
    }
   },
   "outputs": [
    {
     "data": {
      "text/plain": [
       "{'g1': array([0.3788221, 0.6211779]),\n",
       " 'gUnlabeled1': array([0.14711823, 0.24123882]),\n",
       " 'gUnlabeled0': 0.6116429534501413}"
      ]
     },
     "execution_count": 198,
     "metadata": {},
     "output_type": "execute_result"
    }
   ],
   "source": [
    "bags = [getBag()]\n",
    "\n",
    "mergeBags(bags)"
   ]
  },
  {
   "cell_type": "code",
   "execution_count": null,
   "metadata": {},
   "outputs": [],
   "source": []
  }
 ],
 "metadata": {
  "kernelspec": {
   "display_name": "tf",
   "language": "python",
   "name": "tf"
  },
  "language_info": {
   "codemirror_mode": {
    "name": "ipython",
    "version": 3
   },
   "file_extension": ".py",
   "mimetype": "text/x-python",
   "name": "python",
   "nbconvert_exporter": "python",
   "pygments_lexer": "ipython3",
   "version": "3.7.7"
  }
 },
 "nbformat": 4,
 "nbformat_minor": 2
}
