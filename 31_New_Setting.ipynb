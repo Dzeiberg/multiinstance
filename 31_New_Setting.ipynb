{
 "cells": [
  {
   "cell_type": "code",
   "execution_count": null,
   "metadata": {},
   "outputs": [],
   "source": [
    "from multiinstance.utils import *\n",
    "\n",
    "import numpy as np\n",
    "\n",
    "from dist_curve.curve_constructor import makeCurve\n",
    "\n",
    "import scipy.stats as ss\n",
    "\n",
    "import matplotlib.pyplot as plt"
   ]
  },
  {
   "cell_type": "code",
   "execution_count": null,
   "metadata": {},
   "outputs": [],
   "source": [
    "rnge = np.arange(-10,15,.1)\n",
    "plt.plot(rnge,ss.norm.pdf(rnge, loc=5,scale=2))\n",
    "plt.plot(rnge,ss.norm.pdf(rnge,loc=-1,scale=2))"
   ]
  },
  {
   "cell_type": "code",
   "execution_count": null,
   "metadata": {},
   "outputs": [],
   "source": [
    "def getSample():\n",
    "    \"\"\"\n",
    "    Return a biased set of positives and unbiased set of unlabeled; bias added through double sampling\n",
    "    Return:\n",
    "        - pos: (1,p) float\n",
    "        - unlabeled: (1, u) float\n",
    "        - alpha : float\n",
    "    \"\"\"\n",
    "    NP = 100\n",
    "    NU = 1000\n",
    "    P,U = 5,-1\n",
    "    posMean = np.random.normal(loc=P,scale=2)\n",
    "    pos = np.random.normal(loc=posMean,size=NP)\n",
    "    alpha = np.random.beta(2,2)\n",
    "    unlabeled = np.concatenate((np.random.normal(loc=P,size=int(alpha*NU)),\n",
    "                                np.random.normal(loc=U,size=int((1-alpha)*NU))))\n",
    "    return pos, unlabeled,alpha"
   ]
  },
  {
   "cell_type": "code",
   "execution_count": null,
   "metadata": {},
   "outputs": [],
   "source": [
    "def minmax(c):\n",
    "    \"return 0-1 scaled vector\"\n",
    "    return (c - c.min()) / (c.max() - c.min())"
   ]
  },
  {
   "cell_type": "code",
   "execution_count": null,
   "metadata": {},
   "outputs": [],
   "source": [
    "p,u,alpha = getSample()\n",
    "plt.hist(p,color=\"blue\",density=True)\n",
    "plt.hist(u,color=\"red\",density=True,alpha=.5)\n",
    "plt.plot(rnge, ss.norm.pdf(rnge,5,2))\n",
    "plt.show()\n",
    "curve = makeCurve(p.reshape((-1,1)),u.reshape((-1,1)),)\n",
    "curve = (curve - curve.min()) / (curve.max() - curve.min())\n",
    "plt.plot(curve)\n",
    "plt.vlines(100*alpha,0,1)\n",
    "alphaHats,curves = getEsts(p.reshape((-1,1)),u.reshape((-1,1)))\n",
    "print(np.mean(np.abs(alphaHats - alpha)))"
   ]
  },
  {
   "cell_type": "code",
   "execution_count": null,
   "metadata": {},
   "outputs": [],
   "source": [
    "p2,u2,alpha2 = getSample()\n",
    "plt.hist(p2,color=\"blue\",density=True)\n",
    "plt.hist(u2,color=\"red\",density=True,alpha=.5)\n",
    "plt.plot(rnge, ss.norm.pdf(rnge,5,2))\n",
    "plt.show()\n",
    "plt.clf()\n",
    "curve = minmax(makeCurve(p2.reshape((-1,1)),u2.reshape((-1,1)),))\n",
    "plt.plot(curve)\n",
    "plt.vlines(100*alpha2,0,1)\n",
    "alphaHats,curves = getEsts(p2.reshape((-1,1)),u2.reshape((-1,1)))\n",
    "print(np.mean(np.abs(alphaHats - alpha2)))"
   ]
  },
  {
   "cell_type": "code",
   "execution_count": null,
   "metadata": {},
   "outputs": [],
   "source": [
    "plt.hist(np.concatenate((p,p2)),color=\"blue\",density=True)\n",
    "# plt.hist(u2,color=\"red\",density=True,alpha=.5)\n",
    "plt.plot(rnge, ss.norm.pdf(rnge,5,2))\n",
    "plt.show()\n",
    "plt.clf()\n",
    "curve0 = minmax(makeCurve(np.concatenate((p,p2)).reshape((-1,1)),\n",
    "                         np.concatenate((u,u2)).reshape((-1,1))))\n",
    "plt.plot(curve0)\n",
    "plt.vlines(np.array([alpha,\n",
    "                     alpha2,\n",
    "                     alpha*.5+alpha2*.5])*100,0,1)\n",
    "alphaHats,curves = getEsts(np.concatenate((p,p2)).reshape((-1,1)),\n",
    "                         np.concatenate((u,u2)).reshape((-1,1)))\n",
    "print(np.mean(np.abs(alphaHats.mean() - np.array([alpha,alpha2]))))"
   ]
  },
  {
   "cell_type": "code",
   "execution_count": null,
   "metadata": {},
   "outputs": [],
   "source": [
    "ps = []\n",
    "for _ in range(100):\n",
    "    p,u,alpha = getSample()\n",
    "    ps.append(p)\n",
    "\n",
    "plt.hist(np.concatenate(ps),density=True)\n",
    "plt.plot(rnge, ss.norm.pdf(rnge,5,2))"
   ]
  },
  {
   "cell_type": "code",
   "execution_count": null,
   "metadata": {},
   "outputs": [],
   "source": [
    "def getBiasedPos(size=1000):\n",
    "    weights = np.random.dirichlet(np.ones(3))\n",
    "    p = np.concatenate((np.random.normal(loc=-3,size=int(weights[0] * size)),\n",
    "                        np.random.normal(loc=0,size=int(weights[1] * size)),\n",
    "                        np.random.normal(loc=3,size=int(weights[2] * size))))\n",
    "    assignments = np.zeros(size)\n",
    "    assignments[int(weights[0]*size) : int(weights[1] * size)] = 1\n",
    "    assignments[int(weights[1] * size):] = 2\n",
    "    return p,assignments"
   ]
  },
  {
   "cell_type": "code",
   "execution_count": null,
   "metadata": {},
   "outputs": [],
   "source": [
    "p,assign = list(zip(*[getBiasedPos(size=10) for _ in range(1000)]))\n",
    "p = np.concatenate(p)\n",
    "_ = plt.hist(p,density=True,bins=50)\n",
    "r = np.arange(-5,8,.1)\n",
    "plt.plot(r,ss.norm.pdf(r,loc=-3)/3 + ss.norm.pdf(r,loc=0)/3 + ss.norm.pdf(r,loc=3)/3)"
   ]
  },
  {
   "cell_type": "code",
   "execution_count": null,
   "metadata": {},
   "outputs": [],
   "source": [
    "p,u,alpha = getSample()\n",
    "plt.plot(makeCurve(p.reshape((-1,1)),u.reshape((-1,1)),num_curves_to_average=1))\n",
    "plt.vlines(alpha*100,0,40)"
   ]
  },
  {
   "cell_type": "code",
   "execution_count": null,
   "metadata": {},
   "outputs": [],
   "source": []
  }
 ],
 "metadata": {
  "language_info": {
   "name": "python",
   "pygments_lexer": "ipython3"
  }
 },
 "nbformat": 4,
 "nbformat_minor": 2
}
