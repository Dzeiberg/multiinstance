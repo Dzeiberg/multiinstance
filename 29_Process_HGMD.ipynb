{
 "cells": [
  {
   "cell_type": "code",
   "execution_count": null,
   "metadata": {},
   "outputs": [],
   "source": [
    "from Bio import Entrez\n",
    "\n",
    "Entrez.email = \"zeiberg.d@northeastern.edu\"\n",
    "\n",
    "import pandas as pd\n",
    "\n",
    "from easydict import EasyDict"
   ]
  },
  {
   "cell_type": "code",
   "execution_count": null,
   "metadata": {},
   "outputs": [],
   "source": [
    "from tqdm.notebook import tqdm"
   ]
  },
  {
   "cell_type": "code",
   "execution_count": null,
   "metadata": {},
   "outputs": [],
   "source": [
    "import numpy as np\n",
    "import pickle"
   ]
  },
  {
   "cell_type": "code",
   "execution_count": null,
   "metadata": {},
   "outputs": [],
   "source": [
    "import matlab.engine\n",
    "import matlab\n",
    "eng = matlab.engine.start_matlab()\n",
    "path = eng.addpath(\"~/mutpred2/all_functions/\")"
   ]
  },
  {
   "cell_type": "code",
   "execution_count": null,
   "metadata": {},
   "outputs": [],
   "source": [
    "def getSequenceFromNPID(npid):\n",
    "    \"Return the protein sequence from \"\n",
    "    handle = Entrez.efetch(db=\"protein\",id=\"NP_689699\", rettype=\"fasta\", retmode=\"text\")\n",
    "    lines = handle.readlines()\n",
    "    lines = [l.strip() for l in lines]\n",
    "    return \"\".join(lines[1:])"
   ]
  },
  {
   "cell_type": "code",
   "execution_count": null,
   "metadata": {},
   "outputs": [],
   "source": [
    "df = pd.read_csv(\"/data/common/hgmd/HGMD_PRO_2019.1_hg19.vcf\",delimiter=\"\\t\",header=14)"
   ]
  },
  {
   "cell_type": "code",
   "execution_count": null,
   "metadata": {},
   "outputs": [],
   "source": [
    "df"
   ]
  },
  {
   "cell_type": "code",
   "execution_count": null,
   "metadata": {},
   "outputs": [],
   "source": [
    "def getInfo(row):\n",
    "    d = EasyDict()\n",
    "    for vals in row[\"INFO\"].split(\";\"):\n",
    "        k,v = vals.split(\"=\")\n",
    "        d[k] = v\n",
    "    pid, variant = d.PROT.split(\":\")\n",
    "    pid,_ = pid.split(\".\")\n",
    "    _,variant = variant.split(\".\")\n",
    "    reference,location,missense = variant[0],int(variant[1:-1]),variant[-1]\n",
    "    d.pid = pid\n",
    "    d.reference = reference\n",
    "    d.loc = location - 1\n",
    "    d.missense = missense\n",
    "    return d"
   ]
  },
  {
   "cell_type": "code",
   "execution_count": null,
   "metadata": {},
   "outputs": [],
   "source": [
    " getInfo(df.loc[0])"
   ]
  },
  {
   "cell_type": "code",
   "execution_count": null,
   "metadata": {},
   "outputs": [],
   "source": [
    "def addSeqToInfo(info):\n",
    "    info.seq = getSequenceFromNPID(info.pid)\n",
    "    return info"
   ]
  },
  {
   "cell_type": "code",
   "execution_count": null,
   "metadata": {},
   "outputs": [],
   "source": [
    "protein_ids = set()\n",
    "skipped = []\n",
    "for i,r in tqdm(df.iterrows(),total=df.shape[0]):\n",
    "    try:\n",
    "        info = getInfo(r)\n",
    "        protein_ids.add(info.pid)\n",
    "    except:\n",
    "        skipped.append(i)"
   ]
  },
  {
   "cell_type": "code",
   "execution_count": null,
   "metadata": {},
   "outputs": [],
   "source": [
    "proteins = []\n",
    "for pid in tqdm(protein_ids,total=len(protein_ids)):\n",
    "    d = EasyDict\n",
    "    d.pid = pid\n",
    "    d.seq=getSequenceFromNPID(pid)\n",
    "    pssm = np.array(eng.get_pssm(d.seq))\n",
    "    if not np.all(pssm == 0):\n",
    "        d.pssm = pickle.dumps(pssm)\n",
    "    else:\n",
    "        d.pssm = pickle.dumps(np.nan)\n",
    "    proteins.append(d)"
   ]
  },
  {
   "cell_type": "code",
   "execution_count": null,
   "metadata": {},
   "outputs": [],
   "source": []
  }
 ],
 "metadata": {
  "language_info": {
   "name": "python",
   "pygments_lexer": "ipython3"
  }
 },
 "nbformat": 4,
 "nbformat_minor": 4
}
