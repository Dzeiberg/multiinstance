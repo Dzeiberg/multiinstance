{
 "cells": [
  {
   "cell_type": "code",
   "execution_count": null,
   "metadata": {},
   "outputs": [],
   "source": [
    "from multiinstance.utils import *\n",
    "\n",
    "import numpy as np\n",
    "\n",
    "from dist_curve.curve_constructor import makeCurve\n",
    "\n",
    "import scipy.stats as ss\n",
    "\n",
    "import matplotlib.pyplot as plt"
   ]
  },
  {
   "cell_type": "code",
   "execution_count": null,
   "metadata": {},
   "outputs": [],
   "source": [
    "rnge = np.arange(-10,10,.1)\n",
    "plt.plot(rnge,ss.norm.pdf(rnge, loc=5,scale=2))\n",
    "plt.plot(rnge,ss.norm.pdf(rnge,loc=-3,scale=2))"
   ]
  },
  {
   "cell_type": "code",
   "execution_count": null,
   "metadata": {},
   "outputs": [],
   "source": [
    "def getSample():\n",
    "    posMean = np.random.normal(loc=5,scale=2)\n",
    "    negMean = np.random.normal(loc=-3,scale=2)\n",
    "    pos = np.random.normal(loc=posMean,size=100)\n",
    "    alpha = np.random.beta(2,2)\n",
    "    unlabeled = np.concatenate((np.random.normal(loc=posMean,size=int(alpha*1000)),\n",
    "                                np.random.normal(loc=negMean,size=int((1-alpha)*1000))))\n",
    "    return pos, unlabeled,alpha"
   ]
  },
  {
   "cell_type": "code",
   "execution_count": null,
   "metadata": {},
   "outputs": [],
   "source": [
    "p,u,alpha = getSample()\n",
    "plt.hist(p,color=\"blue\",density=True)\n",
    "plt.hist(u,color=\"red\",density=True,alpha=.5)"
   ]
  },
  {
   "cell_type": "code",
   "execution_count": null,
   "metadata": {},
   "outputs": [],
   "source": [
    "plt.plot(makeCurve(p.reshape((-1,1)),u.reshape((-1,1)),))"
   ]
  },
  {
   "cell_type": "code",
   "execution_count": null,
   "metadata": {},
   "outputs": [],
   "source": [
    "p2,u2,alpha2 = getSample()\n",
    "plt.hist(p2,color=\"blue\",density=True)\n",
    "plt.hist(u2,color=\"red\",density=True,alpha=.5)"
   ]
  },
  {
   "cell_type": "code",
   "execution_count": null,
   "metadata": {},
   "outputs": [],
   "source": []
  }
 ],
 "metadata": {
  "language_info": {
   "name": "python",
   "pygments_lexer": "ipython3"
  }
 },
 "nbformat": 4,
 "nbformat_minor": 2
}
