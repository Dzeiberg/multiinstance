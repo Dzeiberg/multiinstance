{
 "cells": [
  {
   "cell_type": "code",
   "execution_count": null,
   "metadata": {},
   "outputs": [],
   "source": [
    "# default_exp data/realData"
   ]
  },
  {
   "cell_type": "code",
   "execution_count": null,
   "metadata": {},
   "outputs": [],
   "source": []
  },
  {
   "cell_type": "code",
   "execution_count": 1,
   "metadata": {
    "ExecuteTime": {
     "end_time": "2021-02-18T16:59:39.335741Z",
     "start_time": "2021-02-18T16:59:39.193640Z"
    }
   },
   "outputs": [],
   "source": [
    "# export\n",
    "import numpy as np\n",
    "\n",
    "import mat73\n",
    "\n",
    "from scipy.io import loadmat\n",
    "import h5py"
   ]
  },
  {
   "cell_type": "code",
   "execution_count": null,
   "metadata": {},
   "outputs": [],
   "source": [
    "d = loadmat('/home/dzeiberg/ClassPriorEstimation/rawDatasets/anuran.mat')"
   ]
  },
  {
   "cell_type": "code",
   "execution_count": null,
   "metadata": {},
   "outputs": [],
   "source": [
    "d.keys()"
   ]
  },
  {
   "cell_type": "code",
   "execution_count": null,
   "metadata": {},
   "outputs": [],
   "source": [
    "# export\n",
    "def getParams(nPDistr=lambda: np.random.poisson(25) + 1,\n",
    "              nUDistr=lambda: np.random.poisson(30) + 1,\n",
    "              alphaDistr=lambda: np.random.beta(2,10)):\n",
    "    nP = nPDistr()\n",
    "    nU = nUDistr()\n",
    "    alpha = alphaDistr()\n",
    "    numUnlabeledPos = max(1,int(alpha * nU))\n",
    "    numUnlabeledNeg = max(1,nU - numUnlabeledPos)\n",
    "    \n",
    "    return nP, nU, alpha, numUnlabeledPos, numUnlabeledNeg"
   ]
  },
  {
   "cell_type": "code",
   "execution_count": null,
   "metadata": {},
   "outputs": [],
   "source": [
    "# export\n",
    "def getBagDict(nP, nU, alpha, numUnlabeledPos, numUnlabeledNeg, d):\n",
    "    # get indices of all positives and negatives\n",
    "    posIdxs = np.where(d[\"y\"] == 1)[0]\n",
    "    negIdxs = np.where(d[\"y\"] == 0)[0]\n",
    "    # sample positives\n",
    "    posSampleIDXS = np.random.choice(posIdxs,replace=True,size=nP)\n",
    "    # sample unlabeled\n",
    "    unlabeledPosSampleIDXS = np.random.choice(posIdxs,replace=True,size=numUnlabeledPos)\n",
    "    unlabeledNegSampleIDXS = np.random.choice(negIdxs,replace=True,size=numUnlabeledNeg)\n",
    "    unlabeledSampleIDXS = np.concatenate((unlabeledPosSampleIDXS, unlabeledNegSampleIDXS))\n",
    "    posInstances = d[\"X\"][posSampleIDXS]\n",
    "    unlabeledInstances = d[\"X\"][unlabeledSampleIDXS]\n",
    "    hiddenLabels = np.concatenate((np.ones(numUnlabeledPos),\n",
    "                                   np.zeros(numUnlabeledNeg)))\n",
    "    return {\"positiveInstances\": posInstances,\n",
    "            \"unlabeledInstances\": unlabeledInstances,\n",
    "            \"hiddenLabels\": hiddenLabels,\n",
    "            \"alpha_i\": alpha,\n",
    "            \"nP\": nP,\n",
    "            \"nU\": nU}"
   ]
  },
  {
   "cell_type": "code",
   "execution_count": null,
   "metadata": {},
   "outputs": [],
   "source": [
    "# export\n",
    "class Dataset:\n",
    "    def __init__(self, d):\n",
    "        self.positiveInstances = d[\"positiveInstances\"]\n",
    "        self.unlabeledInstances = d[\"unlabeledInstances\"]\n",
    "        self.trueAlphas = d[\"alpha_i\"]\n",
    "        self.N = self.positiveInstances.shape[0]\n",
    "        self.numP = d[\"numP\"]\n",
    "        self.numU = d[\"numU\"]\n",
    "        self.hiddenLabels = d[\"hiddenLabels\"]\n",
    "        \n",
    "    def getBag(self,idx):\n",
    "        p = self.positiveInstances[idx, :self.numP[idx]]\n",
    "        u = self.unlabeledInstances[idx, :self.numU[idx]]\n",
    "        return p,u\n",
    "    \n",
    "    def getAlpha(self,idx):\n",
    "        return self.trueAlphas[idx]\n",
    "    \n",
    "    def __len__(self):\n",
    "        return self.N"
   ]
  },
  {
   "cell_type": "code",
   "execution_count": 3,
   "metadata": {
    "ExecuteTime": {
     "end_time": "2021-02-18T17:25:05.159930Z",
     "start_time": "2021-02-18T17:25:05.130675Z"
    }
   },
   "outputs": [],
   "source": [
    "# export\n",
    "def buildDataset(dsPath, size,\n",
    "                 nPDistr=lambda: np.random.poisson(25) + 1,\n",
    "                 nUDistr=lambda: np.random.poisson(30) + 1,\n",
    "                 alphaDistr=lambda: np.random.beta(2,10)):\n",
    "    try:\n",
    "        ds = loadmat(dsPath)\n",
    "    except:\n",
    "        ds= {}\n",
    "        for k,v in h5py.File(dsPath,\"r\").items():\n",
    "            ds[k] = np.array(v)\n",
    "    bags = []\n",
    "    for bag in range(size):\n",
    "        nP, nU, alpha, numUnlabeledPos, numUnlabeledNeg = getParams(nPDistr=nPDistr,\n",
    "                                                                    nUDistr=nUDistr,\n",
    "                                                                    alphaDistr=alphaDistr)\n",
    "        bagDict = getBagDict(nP, nU, alpha, numUnlabeledPos, numUnlabeledNeg, ds)\n",
    "        bags.append(bagDict)\n",
    "    # calculate max num Pos and Unlabeled to set sizes for matrices\n",
    "    maxP = np.max([d[\"nP\"] for d in bags])\n",
    "    maxU = np.max([d[\"nU\"] for d in bags])\n",
    "    dim = bags[0][\"positiveInstances\"].shape[1]\n",
    "    # init matrices\n",
    "    posMats = np.zeros((len(bags), maxP, dim))\n",
    "    unlabeledMats = np.zeros((len(bags), maxU, dim))\n",
    "    hiddenLabelMats = np.zeros((len(bags), maxU))\n",
    "    alphas = np.zeros((len(bags), 1))\n",
    "    numPos = np.zeros(len(bags),dtype=int)\n",
    "    numU = np.zeros(len(bags),dtype=int)\n",
    "    # fill matrices with bags\n",
    "    for bagNum,bag in enumerate(bags):\n",
    "        posPadding = maxP - bag[\"nP\"]\n",
    "        unlabeledPadding = maxU - bag[\"nU\"]\n",
    "        p_mat= np.concatenate((bag[\"positiveInstances\"],\n",
    "                               np.zeros((posPadding, dim))), axis=0)\n",
    "        posMats[bagNum] = p_mat\n",
    "        u_mat= np.concatenate((bag[\"unlabeledInstances\"],\n",
    "                               np.zeros((unlabeledPadding, dim))), axis=0)\n",
    "        unlabeledMats[bagNum] = u_mat\n",
    "        hiddenLabelMats[bagNum] = np.concatenate((bag[\"hiddenLabels\"],\n",
    "                                                  np.zeros(unlabeledPadding)))\n",
    "        alphas[bagNum] = bag[\"alpha_i\"]\n",
    "        numPos[bagNum] = bag[\"nP\"]\n",
    "        numU[bagNum] = bag[\"nU\"]\n",
    "    dataset = Dataset({\n",
    "        \"positiveInstances\": posMats,\n",
    "        \"unlabeledInstances\": unlabeledMats,\n",
    "        \"alpha_i\": alphas,\n",
    "        \"numP\": numPos,\n",
    "        \"numU\": numU,\n",
    "        \"hiddenLabels\": hiddenLabelMats\n",
    "    })\n",
    "    return dataset"
   ]
  },
  {
   "cell_type": "code",
   "execution_count": null,
   "metadata": {},
   "outputs": [],
   "source": [
    "buildDataset('/home/dzeiberg/ClassPriorEstimation/rawDatasets/activity_recognition_s1.mat',100)"
   ]
  },
  {
   "cell_type": "code",
   "execution_count": null,
   "metadata": {},
   "outputs": [],
   "source": [
    "for k,v in h5py.File('/home/dzeiberg/ClassPriorEstimation/rawDatasets/20newsgroups.mat',\"r\").items():\n",
    "    keys = k\n",
    "    vals = np.array(v)"
   ]
  },
  {
   "cell_type": "code",
   "execution_count": null,
   "metadata": {},
   "outputs": [],
   "source": [
    "k,vals"
   ]
  },
  {
   "cell_type": "code",
   "execution_count": null,
   "metadata": {},
   "outputs": [],
   "source": [
    "np.array(v)"
   ]
  },
  {
   "cell_type": "code",
   "execution_count": null,
   "metadata": {},
   "outputs": [],
   "source": [
    "f[\"X"
   ]
  },
  {
   "cell_type": "code",
   "execution_count": null,
   "metadata": {},
   "outputs": [],
   "source": [
    "buildDataset('/home/dzeiberg/ClassPriorEstimation/rawDatasets/20newsgroups.mat',100)"
   ]
  },
  {
   "cell_type": "code",
   "execution_count": null,
   "metadata": {},
   "outputs": [],
   "source": [
    "dataset = buildDataset(\"/home/dzeiberg/ClassPriorEstimation/rawDatasets/abalone.mat\", 100)"
   ]
  },
  {
   "cell_type": "code",
   "execution_count": null,
   "metadata": {},
   "outputs": [],
   "source": [
    "len(dataset)"
   ]
  },
  {
   "cell_type": "code",
   "execution_count": null,
   "metadata": {},
   "outputs": [],
   "source": [
    "import matplotlib.pyplot as plt"
   ]
  },
  {
   "cell_type": "code",
   "execution_count": null,
   "metadata": {},
   "outputs": [],
   "source": [
    "plt.hist(dataset.trueAlphas)"
   ]
  },
  {
   "cell_type": "code",
   "execution_count": null,
   "metadata": {},
   "outputs": [],
   "source": []
  }
 ],
 "metadata": {
  "kernelspec": {
   "display_name": "tf",
   "language": "python",
   "name": "tf"
  },
  "language_info": {
   "codemirror_mode": {
    "name": "ipython",
    "version": 3
   },
   "file_extension": ".py",
   "mimetype": "text/x-python",
   "name": "python",
   "nbconvert_exporter": "python",
   "pygments_lexer": "ipython3",
   "version": "3.7.7"
  }
 },
 "nbformat": 4,
 "nbformat_minor": 4
}
