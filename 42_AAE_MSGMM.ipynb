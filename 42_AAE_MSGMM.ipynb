{
 "cells": [
  {
   "cell_type": "code",
   "execution_count": null,
   "metadata": {},
   "outputs": [],
   "source": [
    "from multiinstance.data.gaussian_dg import GaussianMixtureDataGenerator\n",
    "\n",
    "import numpy as np\n",
    "\n",
    "from easydict import EasyDict\n",
    "import matplotlib.pyplot as plt"
   ]
  },
  {
   "cell_type": "code",
   "execution_count": null,
   "metadata": {},
   "outputs": [],
   "source": [
    "from sklearn.metrics import roc_auc_score"
   ]
  },
  {
   "cell_type": "code",
   "execution_count": null,
   "metadata": {},
   "outputs": [],
   "source": [
    "from tensorflow.keras.models import Sequential, Model, load_model\n",
    "from tensorflow.keras import layers\n",
    "from tensorflow.keras.layers import Input, Dense, Lambda, Activation, Concatenate\n",
    "from tensorflow.keras.utils import plot_model\n",
    "from tensorflow.keras.datasets import mnist\n",
    "from tensorflow.keras.optimizers import Adam\n",
    "from tensorflow.keras import backend as KB\n",
    "from tensorflow.keras.losses import BinaryCrossentropy\n",
    "from tensorflow import summary\n",
    "import tensorflow.keras.backend as K\n",
    "import tensorflow as tf"
   ]
  },
  {
   "cell_type": "code",
   "execution_count": null,
   "metadata": {},
   "outputs": [],
   "source": [
    "def generateParams(nClusters, nComps, dim,aucpn_range=[0.8,0.85]):\n",
    "    posMeans,posCovs,negMeans,negCovs,dgs =[], [],[],[],[]\n",
    "    for comp in range(nClusters):\n",
    "        dg = GaussianMixtureDataGenerator(dim,nComps,aucpn_range,100,1000)\n",
    "        pos,neg = dg.components_pos[0], dg.components_neg[0]\n",
    "        r = np.zeros(dim)\n",
    "        for _ in range(1):\n",
    "            r += np.random.normal(loc=0,scale=10,size=dim)\n",
    "        posMeans.append(pos.mean+r)\n",
    "        posCovs.append(pos.cov)\n",
    "        negMeans.append(neg.mean+r)\n",
    "        negCovs.append(neg.cov)\n",
    "        dgs.append(dg)\n",
    "    val = EasyDict\n",
    "    val.posMeans = posMeans\n",
    "    val.posCovs = posCovs\n",
    "    val.negMeans = negMeans\n",
    "    val.negCovs = negCovs\n",
    "    val.dgs = dgs\n",
    "    return val"
   ]
  },
  {
   "cell_type": "code",
   "execution_count": null,
   "metadata": {},
   "outputs": [],
   "source": [
    "args = EasyDict()\n",
    "args.nClusters = 1\n",
    "args.nComps = 1\n",
    "args.dim = 10\n",
    "args.aucpn_range=[0.7,1.0]\n",
    "args.hdim = 1000\n",
    "args.latent_dim = 2"
   ]
  },
  {
   "cell_type": "code",
   "execution_count": null,
   "metadata": {},
   "outputs": [],
   "source": [
    "data = generateParams(args.nClusters, args.nComps, args.dim, args.aucpn_range)"
   ]
  },
  {
   "cell_type": "code",
   "execution_count": null,
   "metadata": {},
   "outputs": [],
   "source": [
    "# x,y = data.dgs[0].pn_data(20000,.5)\n",
    "# y = y.astype(bool)\n",
    "\n",
    "x_pu, y_pu, y_pn = data.dgs[0].pu_data()"
   ]
  },
  {
   "cell_type": "code",
   "execution_count": null,
   "metadata": {},
   "outputs": [],
   "source": [
    "encoder = Sequential(name=\"encoder\")\n",
    "encoder.add(Dense(args.hdim, input_shape=(args.dim,), activation='relu',))\n",
    "encoder.add(Dense(args.hdim, activation='relu'))\n",
    "encoder.add(Dense(args.latent_dim, activation=None))\n",
    "\n",
    "decoder = Sequential(layers=[Dense(args.hdim, input_shape=(args.latent_dim,),activation=\"relu\"),\n",
    "                             Dense(args.hdim,activation=\"relu\"),\n",
    "                             Dense(args.dim,activation=\"linear\")],name=\"decoder\")\n",
    "\n",
    "discriminator = Sequential(layers=[Dense(args.hdim,input_shape=(args.latent_dim,),activation=\"relu\"),\n",
    "                                   Dense(args.hdim, activation=\"relu\"),\n",
    "                                   Dense(1, activation=\"sigmoid\")],name=\"discriminator\")\n",
    "\n",
    "autoencoder = Sequential(layers=[encoder, decoder])\n",
    "model_enc_disc = Sequential(layers=[encoder, discriminator])"
   ]
  },
  {
   "cell_type": "code",
   "execution_count": null,
   "metadata": {},
   "outputs": [],
   "source": []
  }
 ],
 "metadata": {
  "kernelspec": {
   "display_name": "tf",
   "language": "python",
   "name": "tf"
  }
 },
 "nbformat": 4,
 "nbformat_minor": 4
}
