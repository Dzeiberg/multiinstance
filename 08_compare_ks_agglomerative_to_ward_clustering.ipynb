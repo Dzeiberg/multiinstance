{
 "cells": [
  {
   "cell_type": "code",
   "execution_count": null,
   "metadata": {},
   "outputs": [],
   "source": [
    "from multiinstance.agglomerative_clustering import AgglomerativeClustering\n",
    "from multiinstance.ward_clustering import WardClustering"
   ]
  },
  {
   "cell_type": "code",
   "execution_count": null,
   "metadata": {},
   "outputs": [],
   "source": [
    "AgglomerativeClustering??"
   ]
  },
  {
   "cell_type": "code",
   "execution_count": null,
   "metadata": {},
   "outputs": [],
   "source": [
    "from multiinstance.utils import *\n",
    "from multiinstance.distanceApproaches import *\n",
    "from multiinstance.data.syntheticData import buildDataset,getBag\n",
    "\n",
    "import seaborn as sns\n",
    "import matplotlib.pyplot as plt\n",
    "\n",
    "\n",
    "import numpy as np\n",
    "\n",
    "import scipy.stats as ss\n",
    "\n",
    "from tqdm.notebook import tqdm"
   ]
  },
  {
   "cell_type": "code",
   "execution_count": null,
   "metadata": {},
   "outputs": [],
   "source": [
    "for rep in range(10):\n",
    "    dsi = buildDataset(25,alphaDistr=lambda: np.random.uniform(.01,.25),\n",
    "                      nP=5,nU=50)\n",
    "\n",
    "    dsi = addTransformScores(dsi)\n",
    "\n",
    "    dsi.alphaHats,dsi.curves = getBagAlphaHats(dsi,numbootstraps=10)\n",
    "\n",
    "    agg0 = AgglomerativeClustering(dsi, 0.65)\n",
    "\n",
    "\n",
    "    agg0.cluster()\n",
    "    fig,ax=plt.subplots(2,1,sharex=True)\n",
    "    ax[0].plot(agg0.meanAbsErrs,label=\"mae\")\n",
    "#     ax[1].plot(agg0.bagEstimateVariances,label=\"var\")\n",
    "    ax[0].legend()\n",
    "    ward = WardClustering(dsi)\n",
    "    ward.cluster()\n",
    "\n",
    "    ward.meanAbsErrs\n",
    "    ax[1].plot(ward.meanAbsErrs,label=\"ward\")\n",
    "    ax[1].legend()\n",
    "    plt.savefig(\"figs/nb_08/fig_{}.pdf\".format(rep),\n",
    "                format=\"pdf\")"
   ]
  },
  {
   "cell_type": "code",
   "execution_count": null,
   "metadata": {},
   "outputs": [],
   "source": []
  }
 ],
 "metadata": {
  "language_info": {
   "name": "python",
   "pygments_lexer": "ipython3"
  }
 },
 "nbformat": 4,
 "nbformat_minor": 4
}
