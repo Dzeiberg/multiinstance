{
 "cells": [
  {
   "cell_type": "code",
   "execution_count": 1,
   "metadata": {
    "ExecuteTime": {
     "end_time": "2021-02-08T18:49:19.798015Z",
     "start_time": "2021-02-08T18:49:14.827498Z"
    }
   },
   "outputs": [],
   "source": [
    "from multiinstance.agglomerative_clustering import AgglomerativeClustering\n",
    "from multiinstance.ward_clustering import WardClustering"
   ]
  },
  {
   "cell_type": "code",
   "execution_count": 2,
   "metadata": {
    "ExecuteTime": {
     "end_time": "2021-02-08T18:49:24.751091Z",
     "start_time": "2021-02-08T18:49:24.668180Z"
    }
   },
   "outputs": [],
   "source": [
    "AgglomerativeClustering??"
   ]
  },
  {
   "cell_type": "code",
   "execution_count": 3,
   "metadata": {
    "ExecuteTime": {
     "end_time": "2021-02-08T18:49:36.141791Z",
     "start_time": "2021-02-08T18:49:36.134532Z"
    }
   },
   "outputs": [],
   "source": [
    "from multiinstance.utils import *\n",
    "from multiinstance.distanceApproaches import *\n",
    "from multiinstance.data.syntheticData import buildDataset,getBag\n",
    "\n",
    "import seaborn as sns\n",
    "import matplotlib.pyplot as plt\n",
    "\n",
    "\n",
    "import numpy as np\n",
    "\n",
    "import scipy.stats as ss\n",
    "\n",
    "from tqdm.notebook import tqdm"
   ]
  },
  {
   "cell_type": "code",
   "execution_count": null,
   "metadata": {
    "ExecuteTime": {
     "start_time": "2021-02-08T19:00:27.719Z"
    },
    "scrolled": false
   },
   "outputs": [
    {
     "data": {
      "application/vnd.jupyter.widget-view+json": {
       "model_id": "",
       "version_major": 2,
       "version_minor": 0
      },
      "text/plain": [
       "HBox(children=(FloatProgress(value=0.0, description='getting bag estimates', max=25.0, style=ProgressStyle(des…"
      ]
     },
     "metadata": {},
     "output_type": "display_data"
    },
    {
     "data": {
      "application/vnd.jupyter.widget-view+json": {
       "model_id": "",
       "version_major": 2,
       "version_minor": 0
      },
      "text/plain": [
       "HBox(children=(FloatProgress(value=0.0, description='clustering iteration', max=25.0, style=ProgressStyle(desc…"
      ]
     },
     "metadata": {},
     "output_type": "display_data"
    },
    {
     "data": {
      "application/vnd.jupyter.widget-view+json": {
       "model_id": "",
       "version_major": 2,
       "version_minor": 0
      },
      "text/plain": [
       "HBox(children=(FloatProgress(value=0.0, description='clustering iteration', max=7.0, style=ProgressStyle(descr…"
      ]
     },
     "metadata": {},
     "output_type": "display_data"
    },
    {
     "data": {
      "application/vnd.jupyter.widget-view+json": {
       "model_id": "4603d00571b34f13994c86f8144444cc",
       "version_major": 2,
       "version_minor": 0
      },
      "text/plain": [
       "HBox(children=(FloatProgress(value=0.0, description='clustering iter', max=24.0, style=ProgressStyle(descripti…"
      ]
     },
     "metadata": {},
     "output_type": "display_data"
    },
    {
     "data": {
      "application/vnd.jupyter.widget-view+json": {
       "model_id": "",
       "version_major": 2,
       "version_minor": 0
      },
      "text/plain": [
       "HBox(children=(FloatProgress(value=0.0, description='ci', max=25.0, style=ProgressStyle(description_width='ini…"
      ]
     },
     "metadata": {},
     "output_type": "display_data"
    },
    {
     "data": {
      "application/vnd.jupyter.widget-view+json": {
       "model_id": "",
       "version_major": 2,
       "version_minor": 0
      },
      "text/plain": [
       "HBox(children=(FloatProgress(value=0.0, description='ci', max=24.0, style=ProgressStyle(description_width='ini…"
      ]
     },
     "metadata": {},
     "output_type": "display_data"
    },
    {
     "data": {
      "application/vnd.jupyter.widget-view+json": {
       "model_id": "828d9c106d594a728c92311b79e46cf5",
       "version_major": 2,
       "version_minor": 0
      },
      "text/plain": [
       "HBox(children=(FloatProgress(value=0.0, description='ci', max=23.0, style=ProgressStyle(description_width='ini…"
      ]
     },
     "metadata": {},
     "output_type": "display_data"
    }
   ],
   "source": [
    "for rep in range(10):\n",
    "    dsi = buildDataset(25,alphaDistr=lambda: np.random.uniform(.01,.25),\n",
    "                      nP=5,nU=50)\n",
    "\n",
    "    dsi = addTransformScores(dsi)\n",
    "\n",
    "    dsi.alphaHats,dsi.curves = getBagAlphaHats(dsi,numbootstraps=10)\n",
    "\n",
    "    agg0 = AgglomerativeClustering(dsi, 0.65)\n",
    "\n",
    "\n",
    "    agg0.cluster()\n",
    "    fig,ax=plt.subplots(2,1,sharex=True)\n",
    "    ax[0].plot(agg0.meanAbsErrs,label=\"mae\")\n",
    "#     ax[1].plot(agg0.bagEstimateVariances,label=\"var\")\n",
    "    ax[0].legend()\n",
    "    ward = WardClustering(dsi)\n",
    "    ward.cluster()\n",
    "\n",
    "    ward.meanAbsErrs\n",
    "    ax[1].plot(ward.meanAbsErrs,label=\"ward\")\n",
    "    ax[1].legend()\n",
    "    plt.savefig(\"figs/nb_08/fig_{}.pdf\".format(rep),\n",
    "                format=\"pdf\")"
   ]
  },
  {
   "cell_type": "code",
   "execution_count": null,
   "metadata": {},
   "outputs": [],
   "source": []
  }
 ],
 "metadata": {
  "kernelspec": {
   "display_name": "tf",
   "language": "python",
   "name": "tf"
  },
  "language_info": {
   "codemirror_mode": {
    "name": "ipython",
    "version": 3
   },
   "file_extension": ".py",
   "mimetype": "text/x-python",
   "name": "python",
   "nbconvert_exporter": "python",
   "pygments_lexer": "ipython3",
   "version": "3.7.7"
  }
 },
 "nbformat": 4,
 "nbformat_minor": 4
}
