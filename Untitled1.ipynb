{
 "cells": [
  {
   "cell_type": "code",
   "execution_count": null,
   "metadata": {},
   "outputs": [],
   "source": [
    "import numpy as np\n",
    "import scipy.stats as ss"
   ]
  },
  {
   "cell_type": "code",
   "execution_count": null,
   "metadata": {},
   "outputs": [],
   "source": [
    "f1 = ss.norm(loc=2,scale=1)\n",
    "f0 = ss.norm(loc=-1,scale=1)\n",
    "alpha = .05\n",
    "f = lambda x: alpha * f1.pdf(x) + (1 - alpha) * f0.pdf(x)\n",
    "posterior = lambda a,x: a / (a + (1 - a) * f0.pdf(x)/f1.pdf(x))"
   ]
  },
  {
   "cell_type": "code",
   "execution_count": null,
   "metadata": {},
   "outputs": [],
   "source": [
    "x = np.concatenate((f1.rvs(size=np.round(1000*alpha).astype(int)),\n",
    "                    f0.rvs(size=np.round(1000*(1-alpha)).astype(int))))"
   ]
  },
  {
   "cell_type": "code",
   "execution_count": null,
   "metadata": {},
   "outputs": [
    {
     "name": "stdout",
     "output_type": "stream",
     "text": [
      "0.13311373277235602\n",
      "0.06534566105113658\n",
      "0.048858000926037426\n",
      "0.043817722946484276\n",
      "0.042124046267759424\n",
      "0.041534456733275035\n",
      "0.04132657522858133\n",
      "0.04125294363474254\n",
      "0.04122682093604803\n",
      "0.04121754788611659\n"
     ]
    }
   ],
   "source": [
    "a = .5\n",
    "for _ in range(10):\n",
    "    a = np.mean(posterior(a,x))\n",
    "    print(a)"
   ]
  },
  {
   "cell_type": "code",
   "execution_count": null,
   "metadata": {},
   "outputs": [],
   "source": []
  }
 ],
 "metadata": {
  "kernelspec": {
   "display_name": "Python 3",
   "language": "python",
   "name": "python3"
  }
 },
 "nbformat": 4,
 "nbformat_minor": 4
}
