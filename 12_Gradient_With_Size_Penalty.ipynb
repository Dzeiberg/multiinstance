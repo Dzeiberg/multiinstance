{
 "cells": [
  {
   "cell_type": "code",
   "execution_count": 1,
   "metadata": {
    "ExecuteTime": {
     "end_time": "2021-02-22T18:24:42.450449Z",
     "start_time": "2021-02-22T18:24:42.446229Z"
    }
   },
   "outputs": [],
   "source": [
    "# default_exp gradientMethod"
   ]
  },
  {
   "cell_type": "markdown",
   "metadata": {},
   "source": [
    "# Gradient Based Estimation"
   ]
  },
  {
   "cell_type": "markdown",
   "metadata": {},
   "source": [
    "$\\hat{\\alpha_i}$: the local dictCurve estimate for the $i^{th}$ bag\n",
    "\n",
    "$\\hat{\\alpha_{c_i}}$: the $i^{th}$ global distCurve estimate using bootstrapped sample\n",
    "\n",
    "$w_{ji}$: the contribution of bag j to the $i^{th}$ global estimate\n",
    "\n",
    "$\\tilde{\\alpha_i}$: the expected global class prior given the current contribution values and local estimates for each bag"
   ]
  },
  {
   "cell_type": "markdown",
   "metadata": {},
   "source": [
    "$\\tilde{\\alpha_i} = \\frac{w_{1i} \\cdot \\hat{\\alpha_1} \\cdot n_1 \\dots w_{Ni} \\cdot \\hat{\\alpha_N} \\cdot n_N}{w_{1i} \\cdot n_1 \\dots w_{Ni} \\cdot n_N} $\n",
    "\n"
   ]
  },
  {
   "cell_type": "markdown",
   "metadata": {},
   "source": [
    "Loss for cluster $c_i$\n",
    "\n",
    "\n",
    "$\\mathcal{L}_{c_i} = \\frac{1}{2}(\\tilde{\\alpha_i} - \\hat{\\alpha_{c_i}})^2$"
   ]
  },
  {
   "cell_type": "markdown",
   "metadata": {},
   "source": [
    "    def gradientMethod(ds):\n",
    "        alphaHat : init alphaHat for each bag\n",
    "        alpha_C : get K global alpha estimates\n",
    "        init W randomly\n",
    "        for each iteration:\n",
    "            # calcualte loss given the current values of alphaHat and w\n",
    "            loss = lossFunction(w[:,1], alpha_C[1]) + ... + lossFunction(w[:,K], alpha_C[K])\n",
    "            # update alphaHat\n",
    "            alphaHat = alphaHat - eta * grad(loss)\n",
    "            # calculate the loss give the current w and new alphaHats\n",
    "            loss = lossFunction(1) + ... + lossFunction(K)\n",
    "            w = w - eta * grad(loss)\n",
    "            getMAE(alphaHat, alpha)"
   ]
  },
  {
   "cell_type": "code",
   "execution_count": 2,
   "metadata": {
    "ExecuteTime": {
     "end_time": "2021-02-22T18:24:43.618438Z",
     "start_time": "2021-02-22T18:24:42.456816Z"
    }
   },
   "outputs": [
    {
     "ename": "KeyboardInterrupt",
     "evalue": "",
     "output_type": "error",
     "traceback": [
      "\u001b[0;31m---------------------------------------------------------------------------\u001b[0m",
      "\u001b[0;31mKeyboardInterrupt\u001b[0m                         Traceback (most recent call last)",
      "\u001b[0;32m<ipython-input-2-41428ec39a68>\u001b[0m in \u001b[0;36m<module>\u001b[0;34m\u001b[0m\n\u001b[1;32m      6\u001b[0m \u001b[0;32mimport\u001b[0m \u001b[0mautograd\u001b[0m\u001b[0;34m.\u001b[0m\u001b[0mscipy\u001b[0m\u001b[0;34m.\u001b[0m\u001b[0mstats\u001b[0m \u001b[0;32mas\u001b[0m \u001b[0magss\u001b[0m\u001b[0;34m\u001b[0m\u001b[0;34m\u001b[0m\u001b[0m\n\u001b[1;32m      7\u001b[0m \u001b[0;34m\u001b[0m\u001b[0m\n\u001b[0;32m----> 8\u001b[0;31m \u001b[0;32mimport\u001b[0m \u001b[0mmatplotlib\u001b[0m\u001b[0;34m.\u001b[0m\u001b[0mpyplot\u001b[0m \u001b[0;32mas\u001b[0m \u001b[0mplt\u001b[0m\u001b[0;34m\u001b[0m\u001b[0;34m\u001b[0m\u001b[0m\n\u001b[0m\u001b[1;32m      9\u001b[0m \u001b[0;34m\u001b[0m\u001b[0m\n\u001b[1;32m     10\u001b[0m \u001b[0;34m\u001b[0m\u001b[0m\n",
      "\u001b[0;32m~/anaconda3/envs/tf/lib/python3.7/site-packages/matplotlib/pyplot.py\u001b[0m in \u001b[0;36m<module>\u001b[0;34m\u001b[0m\n\u001b[1;32m     32\u001b[0m \u001b[0;32mimport\u001b[0m \u001b[0mmatplotlib\u001b[0m\u001b[0;34m.\u001b[0m\u001b[0mcolorbar\u001b[0m\u001b[0;34m\u001b[0m\u001b[0;34m\u001b[0m\u001b[0m\n\u001b[1;32m     33\u001b[0m \u001b[0;32mimport\u001b[0m \u001b[0mmatplotlib\u001b[0m\u001b[0;34m.\u001b[0m\u001b[0mimage\u001b[0m\u001b[0;34m\u001b[0m\u001b[0;34m\u001b[0m\u001b[0m\n\u001b[0;32m---> 34\u001b[0;31m \u001b[0;32mfrom\u001b[0m \u001b[0mmatplotlib\u001b[0m \u001b[0;32mimport\u001b[0m \u001b[0mrcsetup\u001b[0m\u001b[0;34m,\u001b[0m \u001b[0mstyle\u001b[0m\u001b[0;34m\u001b[0m\u001b[0;34m\u001b[0m\u001b[0m\n\u001b[0m\u001b[1;32m     35\u001b[0m \u001b[0;32mfrom\u001b[0m \u001b[0mmatplotlib\u001b[0m \u001b[0;32mimport\u001b[0m \u001b[0m_pylab_helpers\u001b[0m\u001b[0;34m,\u001b[0m \u001b[0minteractive\u001b[0m\u001b[0;34m\u001b[0m\u001b[0;34m\u001b[0m\u001b[0m\n\u001b[1;32m     36\u001b[0m \u001b[0;32mfrom\u001b[0m \u001b[0mmatplotlib\u001b[0m \u001b[0;32mimport\u001b[0m \u001b[0mcbook\u001b[0m\u001b[0;34m\u001b[0m\u001b[0;34m\u001b[0m\u001b[0m\n",
      "\u001b[0;32m~/anaconda3/envs/tf/lib/python3.7/site-packages/matplotlib/style/__init__.py\u001b[0m in \u001b[0;36m<module>\u001b[0;34m\u001b[0m\n\u001b[0;32m----> 1\u001b[0;31m \u001b[0;32mfrom\u001b[0m \u001b[0;34m.\u001b[0m\u001b[0mcore\u001b[0m \u001b[0;32mimport\u001b[0m \u001b[0muse\u001b[0m\u001b[0;34m,\u001b[0m \u001b[0mcontext\u001b[0m\u001b[0;34m,\u001b[0m \u001b[0mavailable\u001b[0m\u001b[0;34m,\u001b[0m \u001b[0mlibrary\u001b[0m\u001b[0;34m,\u001b[0m \u001b[0mreload_library\u001b[0m\u001b[0;34m\u001b[0m\u001b[0;34m\u001b[0m\u001b[0m\n\u001b[0m",
      "\u001b[0;32m~/anaconda3/envs/tf/lib/python3.7/site-packages/matplotlib/style/core.py\u001b[0m in \u001b[0;36m<module>\u001b[0;34m\u001b[0m\n\u001b[1;32m    213\u001b[0m \u001b[0;31m# Load style library\u001b[0m\u001b[0;34m\u001b[0m\u001b[0;34m\u001b[0m\u001b[0;34m\u001b[0m\u001b[0m\n\u001b[1;32m    214\u001b[0m \u001b[0;31m# ==================\u001b[0m\u001b[0;34m\u001b[0m\u001b[0;34m\u001b[0m\u001b[0;34m\u001b[0m\u001b[0m\n\u001b[0;32m--> 215\u001b[0;31m \u001b[0m_base_library\u001b[0m \u001b[0;34m=\u001b[0m \u001b[0mload_base_library\u001b[0m\u001b[0;34m(\u001b[0m\u001b[0;34m)\u001b[0m\u001b[0;34m\u001b[0m\u001b[0;34m\u001b[0m\u001b[0m\n\u001b[0m\u001b[1;32m    216\u001b[0m \u001b[0;34m\u001b[0m\u001b[0m\n\u001b[1;32m    217\u001b[0m \u001b[0mlibrary\u001b[0m \u001b[0;34m=\u001b[0m \u001b[0;32mNone\u001b[0m\u001b[0;34m\u001b[0m\u001b[0;34m\u001b[0m\u001b[0m\n",
      "\u001b[0;32m~/anaconda3/envs/tf/lib/python3.7/site-packages/matplotlib/style/core.py\u001b[0m in \u001b[0;36mload_base_library\u001b[0;34m()\u001b[0m\n\u001b[1;32m    156\u001b[0m \u001b[0;32mdef\u001b[0m \u001b[0mload_base_library\u001b[0m\u001b[0;34m(\u001b[0m\u001b[0;34m)\u001b[0m\u001b[0;34m:\u001b[0m\u001b[0;34m\u001b[0m\u001b[0;34m\u001b[0m\u001b[0m\n\u001b[1;32m    157\u001b[0m     \u001b[0;34m\"\"\"Load style library defined in this package.\"\"\"\u001b[0m\u001b[0;34m\u001b[0m\u001b[0;34m\u001b[0m\u001b[0m\n\u001b[0;32m--> 158\u001b[0;31m     \u001b[0mlibrary\u001b[0m \u001b[0;34m=\u001b[0m \u001b[0mread_style_directory\u001b[0m\u001b[0;34m(\u001b[0m\u001b[0mBASE_LIBRARY_PATH\u001b[0m\u001b[0;34m)\u001b[0m\u001b[0;34m\u001b[0m\u001b[0;34m\u001b[0m\u001b[0m\n\u001b[0m\u001b[1;32m    159\u001b[0m     \u001b[0;32mreturn\u001b[0m \u001b[0mlibrary\u001b[0m\u001b[0;34m\u001b[0m\u001b[0;34m\u001b[0m\u001b[0m\n\u001b[1;32m    160\u001b[0m \u001b[0;34m\u001b[0m\u001b[0m\n",
      "\u001b[0;32m~/anaconda3/envs/tf/lib/python3.7/site-packages/matplotlib/style/core.py\u001b[0m in \u001b[0;36mread_style_directory\u001b[0;34m(style_dir)\u001b[0m\n\u001b[1;32m    192\u001b[0m         \u001b[0;32mwith\u001b[0m \u001b[0mwarnings\u001b[0m\u001b[0;34m.\u001b[0m\u001b[0mcatch_warnings\u001b[0m\u001b[0;34m(\u001b[0m\u001b[0mrecord\u001b[0m\u001b[0;34m=\u001b[0m\u001b[0;32mTrue\u001b[0m\u001b[0;34m)\u001b[0m \u001b[0;32mas\u001b[0m \u001b[0mwarns\u001b[0m\u001b[0;34m:\u001b[0m\u001b[0;34m\u001b[0m\u001b[0;34m\u001b[0m\u001b[0m\n\u001b[1;32m    193\u001b[0m             styles[path.stem] = rc_params_from_file(\n\u001b[0;32m--> 194\u001b[0;31m                 path, use_default_template=False)\n\u001b[0m\u001b[1;32m    195\u001b[0m         \u001b[0;32mfor\u001b[0m \u001b[0mw\u001b[0m \u001b[0;32min\u001b[0m \u001b[0mwarns\u001b[0m\u001b[0;34m:\u001b[0m\u001b[0;34m\u001b[0m\u001b[0;34m\u001b[0m\u001b[0m\n\u001b[1;32m    196\u001b[0m             \u001b[0m_log\u001b[0m\u001b[0;34m.\u001b[0m\u001b[0mwarning\u001b[0m\u001b[0;34m(\u001b[0m\u001b[0;34m'In %s: %s'\u001b[0m\u001b[0;34m,\u001b[0m \u001b[0mpath\u001b[0m\u001b[0;34m,\u001b[0m \u001b[0mw\u001b[0m\u001b[0;34m.\u001b[0m\u001b[0mmessage\u001b[0m\u001b[0;34m)\u001b[0m\u001b[0;34m\u001b[0m\u001b[0;34m\u001b[0m\u001b[0m\n",
      "\u001b[0;32m~/anaconda3/envs/tf/lib/python3.7/site-packages/matplotlib/__init__.py\u001b[0m in \u001b[0;36mrc_params_from_file\u001b[0;34m(fname, fail_on_error, use_default_template)\u001b[0m\n\u001b[1;32m    982\u001b[0m         \u001b[0mparameters\u001b[0m \u001b[0mspecified\u001b[0m \u001b[0;32min\u001b[0m \u001b[0mthe\u001b[0m \u001b[0mfile\u001b[0m\u001b[0;34m.\u001b[0m \u001b[0;34m(\u001b[0m\u001b[0mUseful\u001b[0m \u001b[0;32mfor\u001b[0m \u001b[0mupdating\u001b[0m \u001b[0mdicts\u001b[0m\u001b[0;34m.\u001b[0m\u001b[0;34m)\u001b[0m\u001b[0;34m\u001b[0m\u001b[0;34m\u001b[0m\u001b[0m\n\u001b[1;32m    983\u001b[0m     \"\"\"\n\u001b[0;32m--> 984\u001b[0;31m     \u001b[0mconfig_from_file\u001b[0m \u001b[0;34m=\u001b[0m \u001b[0m_rc_params_in_file\u001b[0m\u001b[0;34m(\u001b[0m\u001b[0mfname\u001b[0m\u001b[0;34m,\u001b[0m \u001b[0mfail_on_error\u001b[0m\u001b[0;34m)\u001b[0m\u001b[0;34m\u001b[0m\u001b[0;34m\u001b[0m\u001b[0m\n\u001b[0m\u001b[1;32m    985\u001b[0m \u001b[0;34m\u001b[0m\u001b[0m\n\u001b[1;32m    986\u001b[0m     \u001b[0;32mif\u001b[0m \u001b[0;32mnot\u001b[0m \u001b[0muse_default_template\u001b[0m\u001b[0;34m:\u001b[0m\u001b[0;34m\u001b[0m\u001b[0;34m\u001b[0m\u001b[0m\n",
      "\u001b[0;32m~/anaconda3/envs/tf/lib/python3.7/site-packages/matplotlib/__init__.py\u001b[0m in \u001b[0;36m_rc_params_in_file\u001b[0;34m(fname, fail_on_error)\u001b[0m\n\u001b[1;32m    946\u001b[0m             \u001b[0;32melse\u001b[0m\u001b[0;34m:\u001b[0m\u001b[0;34m\u001b[0m\u001b[0;34m\u001b[0m\u001b[0m\n\u001b[1;32m    947\u001b[0m                 \u001b[0;32mtry\u001b[0m\u001b[0;34m:\u001b[0m\u001b[0;34m\u001b[0m\u001b[0;34m\u001b[0m\u001b[0m\n\u001b[0;32m--> 948\u001b[0;31m                     \u001b[0mconfig\u001b[0m\u001b[0;34m[\u001b[0m\u001b[0mkey\u001b[0m\u001b[0;34m]\u001b[0m \u001b[0;34m=\u001b[0m \u001b[0mval\u001b[0m  \u001b[0;31m# try to convert to proper type or skip\u001b[0m\u001b[0;34m\u001b[0m\u001b[0;34m\u001b[0m\u001b[0m\n\u001b[0m\u001b[1;32m    949\u001b[0m                 \u001b[0;32mexcept\u001b[0m \u001b[0mException\u001b[0m \u001b[0;32mas\u001b[0m \u001b[0mmsg\u001b[0m\u001b[0;34m:\u001b[0m\u001b[0;34m\u001b[0m\u001b[0;34m\u001b[0m\u001b[0m\n\u001b[1;32m    950\u001b[0m                     \u001b[0merror_details\u001b[0m \u001b[0;34m=\u001b[0m \u001b[0m_error_details_fmt\u001b[0m \u001b[0;34m%\u001b[0m \u001b[0;34m(\u001b[0m\u001b[0mline_no\u001b[0m\u001b[0;34m,\u001b[0m \u001b[0mline\u001b[0m\u001b[0;34m,\u001b[0m \u001b[0mfname\u001b[0m\u001b[0;34m)\u001b[0m\u001b[0;34m\u001b[0m\u001b[0;34m\u001b[0m\u001b[0m\n",
      "\u001b[0;32m~/anaconda3/envs/tf/lib/python3.7/site-packages/matplotlib/__init__.py\u001b[0m in \u001b[0;36m__setitem__\u001b[0;34m(self, key, val)\u001b[0m\n\u001b[1;32m    804\u001b[0m                         \u001b[0;32mreturn\u001b[0m\u001b[0;34m\u001b[0m\u001b[0;34m\u001b[0m\u001b[0m\n\u001b[1;32m    805\u001b[0m             \u001b[0;32mtry\u001b[0m\u001b[0;34m:\u001b[0m\u001b[0;34m\u001b[0m\u001b[0;34m\u001b[0m\u001b[0m\n\u001b[0;32m--> 806\u001b[0;31m                 \u001b[0mcval\u001b[0m \u001b[0;34m=\u001b[0m \u001b[0mself\u001b[0m\u001b[0;34m.\u001b[0m\u001b[0mvalidate\u001b[0m\u001b[0;34m[\u001b[0m\u001b[0mkey\u001b[0m\u001b[0;34m]\u001b[0m\u001b[0;34m(\u001b[0m\u001b[0mval\u001b[0m\u001b[0;34m)\u001b[0m\u001b[0;34m\u001b[0m\u001b[0;34m\u001b[0m\u001b[0m\n\u001b[0m\u001b[1;32m    807\u001b[0m             \u001b[0;32mexcept\u001b[0m \u001b[0mValueError\u001b[0m \u001b[0;32mas\u001b[0m \u001b[0mve\u001b[0m\u001b[0;34m:\u001b[0m\u001b[0;34m\u001b[0m\u001b[0;34m\u001b[0m\u001b[0m\n\u001b[1;32m    808\u001b[0m                 \u001b[0;32mraise\u001b[0m \u001b[0mValueError\u001b[0m\u001b[0;34m(\u001b[0m\u001b[0;34m\"Key %s: %s\"\u001b[0m \u001b[0;34m%\u001b[0m \u001b[0;34m(\u001b[0m\u001b[0mkey\u001b[0m\u001b[0;34m,\u001b[0m \u001b[0mstr\u001b[0m\u001b[0;34m(\u001b[0m\u001b[0mve\u001b[0m\u001b[0;34m)\u001b[0m\u001b[0;34m)\u001b[0m\u001b[0;34m)\u001b[0m\u001b[0;34m\u001b[0m\u001b[0;34m\u001b[0m\u001b[0m\n",
      "\u001b[0;32m~/anaconda3/envs/tf/lib/python3.7/site-packages/matplotlib/rcsetup.py\u001b[0m in \u001b[0;36mvalidate_color\u001b[0;34m(s)\u001b[0m\n\u001b[1;32m    339\u001b[0m                 \u001b[0;32mreturn\u001b[0m \u001b[0mstmp\u001b[0m\u001b[0;34m\u001b[0m\u001b[0;34m\u001b[0m\u001b[0m\n\u001b[1;32m    340\u001b[0m \u001b[0;34m\u001b[0m\u001b[0m\n\u001b[0;32m--> 341\u001b[0;31m     \u001b[0;32mif\u001b[0m \u001b[0mis_color_like\u001b[0m\u001b[0;34m(\u001b[0m\u001b[0ms\u001b[0m\u001b[0;34m)\u001b[0m\u001b[0;34m:\u001b[0m\u001b[0;34m\u001b[0m\u001b[0;34m\u001b[0m\u001b[0m\n\u001b[0m\u001b[1;32m    342\u001b[0m         \u001b[0;32mreturn\u001b[0m \u001b[0ms\u001b[0m\u001b[0;34m\u001b[0m\u001b[0;34m\u001b[0m\u001b[0m\n\u001b[1;32m    343\u001b[0m \u001b[0;34m\u001b[0m\u001b[0m\n",
      "\u001b[0;32m~/anaconda3/envs/tf/lib/python3.7/site-packages/matplotlib/colors.py\u001b[0m in \u001b[0;36mis_color_like\u001b[0;34m(c)\u001b[0m\n\u001b[1;32m    132\u001b[0m         \u001b[0;32mreturn\u001b[0m \u001b[0;32mTrue\u001b[0m\u001b[0;34m\u001b[0m\u001b[0;34m\u001b[0m\u001b[0m\n\u001b[1;32m    133\u001b[0m     \u001b[0;32mtry\u001b[0m\u001b[0;34m:\u001b[0m\u001b[0;34m\u001b[0m\u001b[0;34m\u001b[0m\u001b[0m\n\u001b[0;32m--> 134\u001b[0;31m         \u001b[0mto_rgba\u001b[0m\u001b[0;34m(\u001b[0m\u001b[0mc\u001b[0m\u001b[0;34m)\u001b[0m\u001b[0;34m\u001b[0m\u001b[0;34m\u001b[0m\u001b[0m\n\u001b[0m\u001b[1;32m    135\u001b[0m     \u001b[0;32mexcept\u001b[0m \u001b[0mValueError\u001b[0m\u001b[0;34m:\u001b[0m\u001b[0;34m\u001b[0m\u001b[0;34m\u001b[0m\u001b[0m\n\u001b[1;32m    136\u001b[0m         \u001b[0;32mreturn\u001b[0m \u001b[0;32mFalse\u001b[0m\u001b[0;34m\u001b[0m\u001b[0;34m\u001b[0m\u001b[0m\n",
      "\u001b[0;32m~/anaconda3/envs/tf/lib/python3.7/site-packages/matplotlib/colors.py\u001b[0m in \u001b[0;36mto_rgba\u001b[0;34m(c, alpha)\u001b[0m\n\u001b[1;32m    173\u001b[0m     \"\"\"\n\u001b[1;32m    174\u001b[0m     \u001b[0;31m# Special-case nth color syntax because it should not be cached.\u001b[0m\u001b[0;34m\u001b[0m\u001b[0;34m\u001b[0m\u001b[0;34m\u001b[0m\u001b[0m\n\u001b[0;32m--> 175\u001b[0;31m     \u001b[0;32mif\u001b[0m \u001b[0m_is_nth_color\u001b[0m\u001b[0;34m(\u001b[0m\u001b[0mc\u001b[0m\u001b[0;34m)\u001b[0m\u001b[0;34m:\u001b[0m\u001b[0;34m\u001b[0m\u001b[0;34m\u001b[0m\u001b[0m\n\u001b[0m\u001b[1;32m    176\u001b[0m         \u001b[0;32mfrom\u001b[0m \u001b[0mmatplotlib\u001b[0m \u001b[0;32mimport\u001b[0m \u001b[0mrcParams\u001b[0m\u001b[0;34m\u001b[0m\u001b[0;34m\u001b[0m\u001b[0m\n\u001b[1;32m    177\u001b[0m         \u001b[0mprop_cycler\u001b[0m \u001b[0;34m=\u001b[0m \u001b[0mrcParams\u001b[0m\u001b[0;34m[\u001b[0m\u001b[0;34m'axes.prop_cycle'\u001b[0m\u001b[0;34m]\u001b[0m\u001b[0;34m\u001b[0m\u001b[0;34m\u001b[0m\u001b[0m\n",
      "\u001b[0;32m~/anaconda3/envs/tf/lib/python3.7/site-packages/matplotlib/colors.py\u001b[0m in \u001b[0;36m_is_nth_color\u001b[0;34m(c)\u001b[0m\n\u001b[1;32m    123\u001b[0m \u001b[0;32mdef\u001b[0m \u001b[0m_is_nth_color\u001b[0m\u001b[0;34m(\u001b[0m\u001b[0mc\u001b[0m\u001b[0;34m)\u001b[0m\u001b[0;34m:\u001b[0m\u001b[0;34m\u001b[0m\u001b[0;34m\u001b[0m\u001b[0m\n\u001b[1;32m    124\u001b[0m     \u001b[0;34m\"\"\"Return whether *c* can be interpreted as an item in the color cycle.\"\"\"\u001b[0m\u001b[0;34m\u001b[0m\u001b[0;34m\u001b[0m\u001b[0m\n\u001b[0;32m--> 125\u001b[0;31m     \u001b[0;32mreturn\u001b[0m \u001b[0misinstance\u001b[0m\u001b[0;34m(\u001b[0m\u001b[0mc\u001b[0m\u001b[0;34m,\u001b[0m \u001b[0mstr\u001b[0m\u001b[0;34m)\u001b[0m \u001b[0;32mand\u001b[0m \u001b[0mre\u001b[0m\u001b[0;34m.\u001b[0m\u001b[0mmatch\u001b[0m\u001b[0;34m(\u001b[0m\u001b[0;34mr\"\\AC[0-9]+\\Z\"\u001b[0m\u001b[0;34m,\u001b[0m \u001b[0mc\u001b[0m\u001b[0;34m)\u001b[0m\u001b[0;34m\u001b[0m\u001b[0;34m\u001b[0m\u001b[0m\n\u001b[0m\u001b[1;32m    126\u001b[0m \u001b[0;34m\u001b[0m\u001b[0m\n\u001b[1;32m    127\u001b[0m \u001b[0;34m\u001b[0m\u001b[0m\n",
      "\u001b[0;32m~/anaconda3/envs/tf/lib/python3.7/re.py\u001b[0m in \u001b[0;36mmatch\u001b[0;34m(pattern, string, flags)\u001b[0m\n\u001b[1;32m    171\u001b[0m     \"\"\"Try to apply the pattern at the start of the string, returning\n\u001b[1;32m    172\u001b[0m     a Match object, or None if no match was found.\"\"\"\n\u001b[0;32m--> 173\u001b[0;31m     \u001b[0;32mreturn\u001b[0m \u001b[0m_compile\u001b[0m\u001b[0;34m(\u001b[0m\u001b[0mpattern\u001b[0m\u001b[0;34m,\u001b[0m \u001b[0mflags\u001b[0m\u001b[0;34m)\u001b[0m\u001b[0;34m.\u001b[0m\u001b[0mmatch\u001b[0m\u001b[0;34m(\u001b[0m\u001b[0mstring\u001b[0m\u001b[0;34m)\u001b[0m\u001b[0;34m\u001b[0m\u001b[0;34m\u001b[0m\u001b[0m\n\u001b[0m\u001b[1;32m    174\u001b[0m \u001b[0;34m\u001b[0m\u001b[0m\n\u001b[1;32m    175\u001b[0m \u001b[0;32mdef\u001b[0m \u001b[0mfullmatch\u001b[0m\u001b[0;34m(\u001b[0m\u001b[0mpattern\u001b[0m\u001b[0;34m,\u001b[0m \u001b[0mstring\u001b[0m\u001b[0;34m,\u001b[0m \u001b[0mflags\u001b[0m\u001b[0;34m=\u001b[0m\u001b[0;36m0\u001b[0m\u001b[0;34m)\u001b[0m\u001b[0;34m:\u001b[0m\u001b[0;34m\u001b[0m\u001b[0;34m\u001b[0m\u001b[0m\n",
      "\u001b[0;31mKeyboardInterrupt\u001b[0m: "
     ]
    }
   ],
   "source": [
    "# export\n",
    "from tqdm.notebook import tqdm\n",
    "\n",
    "import autograd.numpy as np\n",
    "from autograd import grad\n",
    "import autograd.scipy.stats as agss\n",
    "\n",
    "import matplotlib.pyplot as plt\n",
    "\n",
    "\n",
    "from multiinstance.dataset_utils import buildDataset\n",
    "from multiinstance.utils import *\n",
    "from multiinstance.distanceApproaches import *\n",
    "from multiinstance.agglomerative_clustering import AgglomerativeClustering\n",
    "from numba import set_num_threads\n",
    "\n",
    "import scipy.stats as ss\n",
    "from multiinstance.data.realData import buildDataset as getRealDS\n",
    "\n",
    "from glob import glob\n",
    "\n",
    "import scipy.stats as ss"
   ]
  },
  {
   "cell_type": "code",
   "execution_count": null,
   "metadata": {
    "ExecuteTime": {
     "end_time": "2021-02-22T18:24:43.620538Z",
     "start_time": "2021-02-22T18:24:42.453Z"
    }
   },
   "outputs": [],
   "source": [
    "set_num_threads(8)"
   ]
  },
  {
   "cell_type": "code",
   "execution_count": null,
   "metadata": {
    "ExecuteTime": {
     "end_time": "2021-02-22T18:24:43.621314Z",
     "start_time": "2021-02-22T18:24:42.456Z"
    }
   },
   "outputs": [],
   "source": [
    "def bimodal():\n",
    "    if np.random.binomial(1,.5):\n",
    "        return np.random.beta(2,10)\n",
    "    return np.random.beta(10,3)"
   ]
  },
  {
   "cell_type": "code",
   "execution_count": null,
   "metadata": {
    "ExecuteTime": {
     "end_time": "2021-02-22T18:24:43.622042Z",
     "start_time": "2021-02-22T18:24:42.463Z"
    }
   },
   "outputs": [],
   "source": [
    "# export\n",
    "def getGlobalAlphaHat(dsi,reps=10):\n",
    "    alphaHats = np.zeros(reps)\n",
    "    for rep in tqdm(range(reps),total=reps,desc=\"getting global estimates\"):\n",
    "        P, U = list(zip(*[getBootstrapSample(*dsi.getBag(int(i))) for i in range(dsi.N)]))\n",
    "        p = np.concatenate(P)\n",
    "        u = np.concatenate(U)\n",
    "        alphaHats[rep],_ = estimate(p,u)\n",
    "    return alphaHats\n",
    "    \n",
    "\n",
    "def initDS(ds_size=100,n_alpha_ests=50, nP=None, nU=None,\n",
    "           alphaDistr=lambda: np.random.uniform(0.1,.5),posMean=None, negMean=None,cov=None):\n",
    "    dsi = buildDataset(ds_size,alphaDistr=alphaDistr, nP=nP,\n",
    "                       nU=nU,posMean=posMean, negMean=negMean,cov=cov)\n",
    "    return addEsts(dsi)\n",
    "\n",
    "def addEsts(dsi,n_alpha_ests=10):\n",
    "    dsi.alphaHats,dsi.curves = getBagAlphaHats(dsi,numbootstraps=n_alpha_ests)\n",
    "    dsi.alphaHats = dsi.alphaHats.reshape((-1,n_alpha_ests))\n",
    "    dsi.globalAlphaHats = getGlobalAlphaHat(dsi,reps=n_alpha_ests)\n",
    "    return dsi"
   ]
  },
  {
   "cell_type": "code",
   "execution_count": null,
   "metadata": {
    "ExecuteTime": {
     "end_time": "2021-02-22T18:24:43.622801Z",
     "start_time": "2021-02-22T18:24:42.472Z"
    }
   },
   "outputs": [],
   "source": [
    "# export\n",
    "def aL0(w,n,globalAlphaHats,a0,varLambda=.1, anchorLambda=.1):\n",
    "    def loss(localAlphaHats):\n",
    "        lossVal = 0\n",
    "#         localAlphaHats = 1 / (1 + np.exp(-1 * localAlphaHats))\n",
    "        for wi, aH in zip(w, globalAlphaHats):\n",
    "            tilde = 1 / np.sum(np.multiply(n,wi))\n",
    "            wiXA = np.multiply(wi,localAlphaHats)\n",
    "            tilde = tilde * np.sum(np.multiply(wiXA,\n",
    "                                               n))\n",
    "            lossVal = lossVal + .5 * np.square(aH - tilde)\n",
    "        lossVal = lossVal + varLambda * np.sum(np.var(localAlphaHats,axis=1))\n",
    "        lossVal = lossVal + anchorLambda * np.sum(np.square(localAlphaHats - a0))\n",
    "        return lossVal\n",
    "    return loss\n",
    "\n",
    "def wL0(localAlphaHats, n, globalAlphaHats,regLambda=0, wOneLambda=0):\n",
    "#     localAlphaHats = 1 / (1 + np.exp(-1 * localAlphaHats))\n",
    "    def loss(w):\n",
    "        lossVal = 0\n",
    "        for wi,aH in zip(w, globalAlphaHats):\n",
    "            den = 1 / np.sum(np.multiply(n,wi))\n",
    "            wiXA = np.multiply(wi,localAlphaHats)\n",
    "            dot = np.sum(np.multiply(wiXA,n))\n",
    "            tilde =  den * dot\n",
    "            lossVal = lossVal + .5 * np.square(aH - tilde)\n",
    "            # The weights across all local estimates for each global estimate should sum to 1\n",
    "            lossVal = lossVal + wOneLambda * .5 * np.sum(np.square(wi - 1))\n",
    "        lossVal = lossVal + regLambda * np.linalg.norm(w)\n",
    "        return lossVal\n",
    "    return loss\n",
    "\n",
    "def g1(dsi, n_epochs=100,eta=1,varLambda=.1, anchorLambda=.1, regLambda=1e-5, wOneLambda=1):\n",
    "    NBags = dsi.numU.shape[0]\n",
    "    globalAlphaHats = dsi.globalAlphaHats\n",
    "    # initialize values for gradient method\n",
    "    a = dsi.alphaHats\n",
    "    a0 = dsi.alphaHats\n",
    "    n = np.tile(dsi.numU.reshape((-1,1)), (1,a.shape[1]))\n",
    "    w = np.random.uniform(low=0.01, high=1,size=(len(globalAlphaHats),n.shape[0],n.shape[1]))\n",
    "    maes = [np.mean(np.abs(a.mean(1) - dsi.trueAlphas.flatten()))]\n",
    "    for i in tqdm(range(n_epochs), total=n_epochs,leave=False):\n",
    "        # A iteration\n",
    "        alphaLossFn = aL0(w,n,globalAlphaHats,a0,varLambda=varLambda, anchorLambda=anchorLambda)\n",
    "        alphaGrad = grad(alphaLossFn)\n",
    "        a = a - eta * alphaGrad(a)\n",
    "        a = np.maximum(np.zeros_like(a),np.minimum(a,np.ones_like(a)))\n",
    "        # W iteration\n",
    "        wLossFn = wL0(a,n,globalAlphaHats,regLambda=regLambda, wOneLambda=wOneLambda)\n",
    "        wGrad = grad(wLossFn)\n",
    "        w = w - eta * wGrad(w)\n",
    "        maes.append(np.mean(np.abs(a.mean(1) - dsi.trueAlphas.flatten())))\n",
    "    return {\"maes\":maes,\n",
    "            \"alphaHats\": a,\n",
    "            \"weights\": w,\n",
    "           \"baseline_mae\": np.mean(np.abs(dsi.trueAlphas.flatten() - globalAlphaHats.mean()))}"
   ]
  },
  {
   "cell_type": "code",
   "execution_count": null,
   "metadata": {
    "ExecuteTime": {
     "end_time": "2021-02-22T18:24:43.623733Z",
     "start_time": "2021-02-22T18:24:42.475Z"
    }
   },
   "outputs": [],
   "source": [
    "def yangDistributionDifference(posMean, negMean, cov, p=1):\n",
    "        \"\"\"\n",
    "        Eq. (7) from :\n",
    "\n",
    "        Yang, R., Jiang, Y., Mathews, S. et al.\n",
    "        Data Min Knowl Disc (2019) 33: 995.\n",
    "        https://doi.org/10.1007/s10618-019-00622-6\n",
    "        \"\"\"\n",
    "        sampleSize = 1000\n",
    "        #negSample = np.random.beta(aNeg, bNeg, sampleSize)\n",
    "        #posSample = np.random.beta(aPos, bPos, sampleSize)\n",
    "        #negPDF_neg = ss.beta.pdf(negSample,aNeg,bNeg)\n",
    "        #posPDF_neg = ss.beta.pdf(negSample,aPos,bPos)\n",
    "        #negPDF_pos = ss.beta.pdf(posSample,aNeg,bNeg)\n",
    "        #posPDF_pos = ss.beta.pdf(posSample,aPos,bPos)\n",
    "        posSample = np.random.multivariate_normal(mean=posMean, cov=cov,size=sampleSize)\n",
    "        negSample = np.random.multivariate_normal(mean=negMean, cov=cov,size=sampleSize)\n",
    "        negPDF_neg = ss.multivariate_normal.pdf(negSample,mean=negMean, cov=cov)\n",
    "        posPDF_neg = ss.multivariate_normal.pdf(negSample,mean=posMean,cov=cov)\n",
    "        negPDF_pos = ss.multivariate_normal.pdf(posSample,mean=negMean,cov=cov)\n",
    "        posPDF_pos = ss.multivariate_normal.pdf(posSample,mean=posMean,cov=cov)\n",
    "        z = np.zeros(sampleSize)\n",
    "        pdfDiffPos_NEG, pdfDiffNeg_NEG, pdfMax_NEG = _yangHelper(negPDF_neg, posPDF_neg, z)\n",
    "        pdfDiffPos_POS, pdfDiffNeg_POS, pdfMax_POS = _yangHelper(negPDF_pos, posPDF_pos, z)\n",
    "        return _yH2(pdfDiffNeg_NEG, negPDF_neg, pdfDiffPos_POS, posPDF_pos, posPDF_neg, negPDF_pos, pdfMax_NEG, pdfMax_POS,p,sampleSize)\n",
    "\n",
    "def _yangHelper(negPDF,posPDF,z):\n",
    "        pdfDiff = negPDF - posPDF\n",
    "        pdfDiffNeg = np.maximum(pdfDiff, z)\n",
    "        minus1 = -1 * pdfDiff\n",
    "        pdfDiffPos = np.maximum(minus1, z)\n",
    "        pdfMax = np.maximum(negPDF, posPDF)\n",
    "        return pdfDiffPos, pdfDiffNeg, pdfMax\n",
    "\n",
    "def _yH2(pdfDiffNeg_NEG, negPDF_NEG, pdfDiffPos_POS, posPDF_POS, posPDF_NEG, negPDF_POS, pdfMax_NEG, pdfMax_POS,p,sampleSize):\n",
    "        numerator1 = np.mean(pdfDiffNeg_NEG / negPDF_NEG)\n",
    "        numerator2 = np.mean(pdfDiffPos_POS / posPDF_POS)\n",
    "        sumVecs = np.power(numerator1, np.ones_like(numerator1) * p) + np.power(numerator2, np.ones_like(numerator2) * p)\n",
    "        dPHat = np.power(sumVecs, np.ones_like(sumVecs) * (1/p))\n",
    "        dTermNeg = (posPDF_NEG * 0.5) + (negPDF_NEG * 0.5)\n",
    "        dTermPos = (posPDF_POS * 0.5) + (negPDF_POS * 0.5)\n",
    "        denominator = (np.sum(pdfMax_NEG / dTermNeg) + np.sum(pdfMax_POS / dTermPos)) / (2 * sampleSize)\n",
    "        return dPHat / denominator"
   ]
  },
  {
   "cell_type": "code",
   "execution_count": null,
   "metadata": {
    "ExecuteTime": {
     "end_time": "2021-02-22T18:24:43.624431Z",
     "start_time": "2021-02-22T18:24:42.479Z"
    }
   },
   "outputs": [],
   "source": [
    "# export \n",
    "def plotResults(dsi,res):\n",
    "    # plot results\n",
    "    fig,ax = plt.subplots(1,2,figsize=(12,4))\n",
    "    # Plot MAEs\n",
    "    ax[0].plot(res[\"maes\"],label=\"gradient\")\n",
    "    # add global baseline\n",
    "    globalMAE = np.mean(np.abs(dsi.trueAlphas - dsi.globalAlphaHats.mean()))\n",
    "    ax[0].hlines(globalMAE, 0,len(res[\"maes\"]),color=\"black\",label=\"global\")\n",
    "    ax[0].legend()\n",
    "    ax[0].set_title(\"Gradient Method MAE\")\n",
    "    # Plot final alphaHat\n",
    "    N = len(dsi.numU)\n",
    "    K = len(dsi.globalAlphaHats)\n",
    "    for i in range(N):\n",
    "        ax[1].fill_between(np.array([res[\"alphaHats\"][i].min(),\n",
    "                                     res[\"alphaHats\"][i].max()]),\n",
    "                           y1=0,\n",
    "                           y2=dsi.numU[i]+.25,\n",
    "                            alpha=.25,color=\"red\")\n",
    "        ax[1].vlines(res[\"alphaHats\"][i].mean(),0,dsi.numU[i]+1.5,color=\"red\")\n",
    "    ax[1].vlines(dsi.globalAlphaHats.mean(),\n",
    "                 0,\n",
    "                 max(dsi.numU),\n",
    "                 color=\"black\",label=r\"$\\hat{\\alpha_{c_i}}$\")\n",
    "    ax[1].fill_between(np.array([\n",
    "        dsi.globalAlphaHats.min(),\n",
    "        dsi.globalAlphaHats.max()]),\n",
    "    y1=0,y2=np.max(dsi.numU),color=\"black\",alpha=.25)\n",
    "    \n",
    "    for i in range(N):\n",
    "        ax[1].fill_between(np.array([\n",
    "            dsi.alphaHats[i].min(),\n",
    "            dsi.alphaHats[i].max()\n",
    "        ]), y1=0,y2=dsi.numU[i],color=\"blue\",alpha=.25)\n",
    "    ax[1].vlines(dsi.alphaHats.mean(1),\n",
    "                 0,\n",
    "                 dsi.numU-.15,\n",
    "                 color=\"blue\",label=r\"$\\hat{\\alpha}_0$\")\n",
    "    ax[1].vlines(dsi.trueAlphas,0,dsi.numU - .25,color=\"green\",label=r\"$\\alpha$\")\n",
    "    ax[1].vlines(dsi.trueGlobalClassPrior,0,dsi.numU.max(),color=\"orange\",label=r\"$\\alpha_c$\")\n",
    "    ax[1].set_title(\"Alphas\")\n",
    "#     ax[1].set_xlim(0,1)\n",
    "    ax[1].legend(loc=\"upper right\", bbox_to_anchor=(1.25, 1))\n",
    "    # plot weights\n",
    "    #ax[2].vlines(res[\"weights\"],0,np.tile(dsi.numU,(K,1)))\n",
    "    plt.show()"
   ]
  },
  {
   "cell_type": "markdown",
   "metadata": {},
   "source": [
    "## The global estimate is always closer to the larger bag, drawing small bags away from their true class prior"
   ]
  },
  {
   "cell_type": "code",
   "execution_count": null,
   "metadata": {
    "ExecuteTime": {
     "end_time": "2021-02-22T18:24:43.625158Z",
     "start_time": "2021-02-22T18:24:42.483Z"
    },
    "code_folding": [],
    "scrolled": true
   },
   "outputs": [],
   "source": [
    "ds0 = buildDataset(size=1,\n",
    "             alphaDistr=lambda: np.random.choice([.2]),\n",
    "             nP=50,nU=100,\n",
    "             posMean=1,negMean=5,cov=1)\n",
    "\n",
    "ds1 = buildDataset(size=1,\n",
    "             alphaDistr=lambda: np.random.choice([.8]),\n",
    "             nP=75,nU=1000,\n",
    "             posMean=1,negMean=5,cov=1)\n",
    "\n",
    "ds0.merge(ds1)\n",
    "\n",
    "ds0 = addEsts(ds0,n_alpha_ests=1)\n",
    "\n",
    "g0Res = g1(ds0,n_epochs=1000,varLambda=0, anchorLambda=0,regLambda=0, wOneLambda=1)\n",
    "plotResults(ds0,g0Res)\n",
    "g1Res = g1(ds0,n_epochs=1000,varLambda=0, anchorLambda=0,regLambda=0, wOneLambda=0)\n",
    "plotResults(ds0,g1Res)\n"
   ]
  },
  {
   "cell_type": "code",
   "execution_count": null,
   "metadata": {
    "ExecuteTime": {
     "end_time": "2021-02-22T18:24:43.626005Z",
     "start_time": "2021-02-22T18:24:42.491Z"
    }
   },
   "outputs": [],
   "source": [
    "g0Res[\"maes\"][-1], g1Res[\"maes\"][-1]"
   ]
  },
  {
   "cell_type": "code",
   "execution_count": null,
   "metadata": {
    "ExecuteTime": {
     "end_time": "2021-02-22T18:24:43.626651Z",
     "start_time": "2021-02-22T18:24:42.494Z"
    }
   },
   "outputs": [],
   "source": [
    "g0Res[\"alphaHats\"], g0Res[\"weights\"]"
   ]
  },
  {
   "cell_type": "code",
   "execution_count": null,
   "metadata": {
    "ExecuteTime": {
     "end_time": "2021-02-22T18:24:43.627353Z",
     "start_time": "2021-02-22T18:24:42.498Z"
    }
   },
   "outputs": [],
   "source": [
    "g1Res[\"alphaHats\"], g1Res[\"weights\"]"
   ]
  },
  {
   "cell_type": "code",
   "execution_count": null,
   "metadata": {},
   "outputs": [],
   "source": []
  },
  {
   "cell_type": "markdown",
   "metadata": {},
   "source": [
    "## Estimated Expected Global Class Prior"
   ]
  },
  {
   "cell_type": "code",
   "execution_count": null,
   "metadata": {
    "ExecuteTime": {
     "end_time": "2021-02-22T18:24:43.628029Z",
     "start_time": "2021-02-22T18:24:42.503Z"
    }
   },
   "outputs": [],
   "source": [
    "np.sum(np.multiply(np.multiply(g0Res[\"alphaHats\"],\n",
    "                               g0Res[\"weights\"][0]),\n",
    "                   ds0.numU.reshape((-1,1)))) / g0Res[\"weights\"].flatten().dot(ds0.numU)"
   ]
  },
  {
   "cell_type": "markdown",
   "metadata": {},
   "source": [
    "## True Global Class Prior"
   ]
  },
  {
   "cell_type": "code",
   "execution_count": null,
   "metadata": {
    "ExecuteTime": {
     "end_time": "2021-02-22T18:24:43.628686Z",
     "start_time": "2021-02-22T18:24:42.506Z"
    }
   },
   "outputs": [],
   "source": [
    "aC = ds0.trueAlphas.flatten().dot(ds0.numU) / ds0.numU.sum()"
   ]
  },
  {
   "cell_type": "code",
   "execution_count": null,
   "metadata": {
    "ExecuteTime": {
     "end_time": "2021-02-22T18:24:43.629515Z",
     "start_time": "2021-02-22T18:24:42.509Z"
    }
   },
   "outputs": [],
   "source": [
    "aC"
   ]
  },
  {
   "cell_type": "markdown",
   "metadata": {},
   "source": [
    "## Estimated Global Class Prior"
   ]
  },
  {
   "cell_type": "code",
   "execution_count": null,
   "metadata": {
    "ExecuteTime": {
     "end_time": "2021-02-22T18:24:43.630168Z",
     "start_time": "2021-02-22T18:24:42.513Z"
    }
   },
   "outputs": [],
   "source": [
    "ds0.globalAlphaHats.mean()"
   ]
  },
  {
   "cell_type": "markdown",
   "metadata": {},
   "source": [
    "## MAE in Global Estimates compared to true global alpha"
   ]
  },
  {
   "cell_type": "code",
   "execution_count": null,
   "metadata": {
    "ExecuteTime": {
     "end_time": "2021-02-22T18:24:43.630885Z",
     "start_time": "2021-02-22T18:24:42.517Z"
    },
    "scrolled": true
   },
   "outputs": [],
   "source": [
    "np.mean(np.abs(aC - ds0.globalAlphaHats))"
   ]
  },
  {
   "cell_type": "code",
   "execution_count": null,
   "metadata": {},
   "outputs": [],
   "source": []
  },
  {
   "cell_type": "code",
   "execution_count": null,
   "metadata": {},
   "outputs": [],
   "source": []
  },
  {
   "cell_type": "code",
   "execution_count": null,
   "metadata": {},
   "outputs": [],
   "source": []
  },
  {
   "cell_type": "code",
   "execution_count": null,
   "metadata": {
    "ExecuteTime": {
     "end_time": "2021-02-22T18:24:43.631540Z",
     "start_time": "2021-02-22T18:24:42.530Z"
    },
    "scrolled": true
   },
   "outputs": [],
   "source": [
    "ae1,ae2,ae3,ae4, bae,lae = 0,0,0,0,0,0\n",
    "N = 0\n",
    "for rep in tqdm(range(10),total=10,desc=\"reps\"):\n",
    "    print(\"rep: {}\".format(rep))\n",
    "    # build dataset\n",
    "    n_epochs = 1000\n",
    "    dsi = initDS(ds_size=100,n_alpha_ests=50,alphaDistr=lambda:np.random.uniform(.05,.95))\n",
    "    g4Res = g1(dsi,n_epochs=n_epochs,varLambda=0, anchorLambda=0, regLambda=0, wOneLambda=.01)\n",
    "    plotResults(dsi,g4Res)\n",
    "    g3Res = g1(dsi,n_epochs=n_epochs,varLambda=0, anchorLambda=0, regLambda=0, wOneLambda=0)\n",
    "    plotResults(dsi,g3Res)\n",
    "#     ae1 += g1Res[\"maes\"][-1] * dsi.N\n",
    "#     ae2 += g2Res[\"maes\"][-1] * dsi.N\n",
    "    ae3 += g3Res[\"maes\"][-1] * dsi.N\n",
    "    ae4 += g4Res[\"maes\"][-1] * dsi.N\n",
    "    bae += g4Res[\"baseline_mae\"] * dsi.N\n",
    "    lae += g4Res[\"maes\"][0] * dsi.N\n",
    "    N += dsi.N"
   ]
  },
  {
   "cell_type": "code",
   "execution_count": null,
   "metadata": {
    "ExecuteTime": {
     "end_time": "2021-02-22T18:24:43.632219Z",
     "start_time": "2021-02-22T18:24:42.534Z"
    }
   },
   "outputs": [],
   "source": [
    "print(\" g1: {:.4f}\\n g2: {:.4f}\\n g3: {:.4f}\\n g4: {:.4f}\\n global: {:.4f}\\n local: {:.4f}\".format(ae1/N, ae2/N, ae3/N, ae4/N, bae / N, lae/N))"
   ]
  },
  {
   "cell_type": "code",
   "execution_count": null,
   "metadata": {
    "ExecuteTime": {
     "end_time": "2021-02-22T18:24:43.632864Z",
     "start_time": "2021-02-22T18:24:42.538Z"
    }
   },
   "outputs": [],
   "source": [
    "# export\n",
    "def initRealDS(fileName, size=100,n_alpha_ests=10):\n",
    "    dsi = getRealDS(fileName,size,\n",
    "                    nPDistr=lambda: np.random.choice(np.arange(1,5).astype(int)),\n",
    "                    nUDistr=lambda: np.random.choice(np.arange(20,30).astype(int)),\n",
    "                    alphaDistr=lambda: np.random.uniform(0.05,1))\n",
    "    return addEsts(dsi)"
   ]
  },
  {
   "cell_type": "code",
   "execution_count": null,
   "metadata": {
    "ExecuteTime": {
     "end_time": "2021-02-22T18:24:43.633422Z",
     "start_time": "2021-02-22T18:24:42.543Z"
    }
   },
   "outputs": [],
   "source": [
    "fileN"
   ]
  },
  {
   "cell_type": "code",
   "execution_count": null,
   "metadata": {
    "ExecuteTime": {
     "end_time": "2021-02-22T18:24:43.634019Z",
     "start_time": "2021-02-22T18:24:42.563Z"
    },
    "scrolled": true
   },
   "outputs": [],
   "source": [
    "ae0,ae1,bae,lae = 0, 0, 0, 0\n",
    "N = 0\n",
    "# fileNames = glob(\"/home/dzeiberg/ClassPriorEstimation/rawDatasets/*.mat\")[1:]\n",
    "fileNames = glob(\"/ssdata/ClassPriorEstimationPrivate/data/rawDatasets/*.mat\")\n",
    "np.random.shuffle(fileNames)\n",
    "for fileName in tqdm(fileNames, total=len(fileNames),desc=\"reps\"):\n",
    "    name = fileName.split(\"/\")[-1].replace(\".mat\",\"\")\n",
    "    # build dataset\n",
    "    size = 100\n",
    "    dsi = initRealDS(fileName,size=size,\n",
    "                     n_alpha_ests=10)\n",
    "    print(\"dataset: {}\".format(name))\n",
    "    # build dataset\n",
    "    n_epochs = 500\n",
    "    # Run gradient method\n",
    "    g1Results = g1(dsi,n_epochs=n_epochs, varLambda=0, anchorLambda=0, regLambda=0, wOneLambda=0.1)\n",
    "    plotResults(dsi,g1Results)\n",
    "    ae0 += g1Results[\"maes\"][-1] * dsi.N\n",
    "    bae += g1Results[\"baseline_mae\"] * dsi.N\n",
    "    lae += g1Results[\"maes\"][0] * dsi.N\n",
    "    N += dsi.N"
   ]
  },
  {
   "cell_type": "code",
   "execution_count": null,
   "metadata": {
    "ExecuteTime": {
     "end_time": "2021-02-22T18:24:43.634844Z",
     "start_time": "2021-02-22T18:24:42.566Z"
    }
   },
   "outputs": [],
   "source": [
    "# print(\"gradient1: {}\\n gradient2: {}\\n global: {}\\n local: {}\".format(ae0/N, ae1/N, bae / N, lae/N))"
   ]
  },
  {
   "cell_type": "code",
   "execution_count": null,
   "metadata": {},
   "outputs": [],
   "source": []
  }
 ],
 "metadata": {
  "kernelspec": {
   "display_name": "tf",
   "language": "python",
   "name": "tf"
  },
  "language_info": {
   "codemirror_mode": {
    "name": "ipython",
    "version": 3
   },
   "file_extension": ".py",
   "mimetype": "text/x-python",
   "name": "python",
   "nbconvert_exporter": "python",
   "pygments_lexer": "ipython3",
   "version": "3.7.7"
  }
 },
 "nbformat": 4,
 "nbformat_minor": 4
}
