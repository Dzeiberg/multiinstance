{
 "cells": [
  {
   "cell_type": "code",
   "execution_count": null,
   "metadata": {},
   "outputs": [],
   "source": [
    "# default_exp data/syntheticData"
   ]
  },
  {
   "cell_type": "code",
   "execution_count": null,
   "metadata": {},
   "outputs": [],
   "source": [
    "# export\n",
    "import numpy as np"
   ]
  },
  {
   "cell_type": "code",
   "execution_count": null,
   "metadata": {},
   "outputs": [],
   "source": [
    "import scipy.stats as ss\n",
    "import matplotlib.pyplot as plt"
   ]
  },
  {
   "cell_type": "code",
   "execution_count": null,
   "metadata": {},
   "outputs": [],
   "source": [
    "plt.plot(np.arange(1,101,1),ss.poisson.pmf(np.arange(0,100,1),25))\n",
    "plt.title(\"num positive pmf\")"
   ]
  },
  {
   "cell_type": "code",
   "execution_count": null,
   "metadata": {},
   "outputs": [],
   "source": [
    "plt.plot(np.arange(1,101,1), ss.poisson.pmf(np.arange(0,100,1),30))\n",
    "plt.title(\"num unlabeled pmf\")"
   ]
  },
  {
   "cell_type": "code",
   "execution_count": null,
   "metadata": {},
   "outputs": [],
   "source": [
    "plt.plot(np.arange(0,1,.01),ss.beta.pdf(np.arange(0,1,.01),2,10))\n",
    "plt.title(\"alpha pdf\")"
   ]
  },
  {
   "cell_type": "code",
   "execution_count": null,
   "metadata": {},
   "outputs": [],
   "source": [
    "# export\n",
    "\n",
    "def getBag(nP=None, nU=None,posMean=None, negMean=None,cov=None,\n",
    "           alphaDistr=lambda: np.random.beta(2,10)):\n",
    "    if nP is None:\n",
    "        nP = np.random.poisson(25) + 1\n",
    "    if nU is None:\n",
    "        nU = np.random.poisson(30) + 1\n",
    "    alpha = alphaDistr()\n",
    "    numUnlabeledPos = max(1,int(alpha * nU))\n",
    "    numUnlabeledNeg = max(1,nU - numUnlabeledPos)\n",
    "    # Sample Positive Points\n",
    "    oneD = type(posMean) in [int, float]\n",
    "    if oneD:\n",
    "        ptsPos = np.random.normal(posMean,cov,size=nP).reshape((-1,1))\n",
    "        ptsUnlabeled = np.concatenate([\n",
    "                np.random.normal(posMean,\n",
    "                                 cov,\n",
    "                                 size=numUnlabeledPos),\n",
    "                np.random.normal(negMean,\n",
    "                                 cov,\n",
    "                                 size=numUnlabeledNeg)\n",
    "            ],axis=0).reshape((-1,1))\n",
    "    else:\n",
    "        ptsPos = np.random.multivariate_normal(posMean, cov,size=nP)\n",
    "        ptsUnlabeled = np.concatenate([\n",
    "                np.random.multivariate_normal(posMean,\n",
    "                                              cov,\n",
    "                                              size=numUnlabeledPos),\n",
    "                np.random.multivariate_normal(negMean,\n",
    "                                              cov,\n",
    "                                              size=numUnlabeledNeg)\n",
    "            ],axis=0)\n",
    "    hiddenLabels = np.concatenate((np.ones(numUnlabeledPos),\n",
    "                                   np.zeros(numUnlabeledNeg)))\n",
    "    return {\"positiveInstances\":ptsPos,\n",
    "            \"unlabeledInstances\": ptsUnlabeled,\n",
    "            \"alpha_i\":alpha,\n",
    "           \"hiddenLabels\": hiddenLabels,\n",
    "           \"posMean\": posMean,\n",
    "           \"negMean\": negMean,\n",
    "           \"cov\": cov}, ptsPos.shape[0], ptsUnlabeled.shape[0]"
   ]
  },
  {
   "cell_type": "code",
   "execution_count": null,
   "metadata": {},
   "outputs": [],
   "source": [
    "plt.plot(np.arange(1,21),ss.poisson(.5).pmf(np.arange(20)))"
   ]
  },
  {
   "cell_type": "code",
   "execution_count": null,
   "metadata": {},
   "outputs": [],
   "source": [
    "# export\n",
    "def buildDatasetDict(size,nP=None,nU=None,posMean=None, negMean=None,cov=None,\n",
    "                     alphaDistr=lambda: np.random.beta(2,10),):\n",
    "    if posMean is None:\n",
    "        dim = np.random.poisson(1) + 1\n",
    "        posMean = np.random.normal(loc=0,scale=3,size=dim)\n",
    "        negMean = np.random.normal(loc=0,scale=3,size=dim)\n",
    "        cov = np.eye(dim)\n",
    "    bags, numPs, numUs = list(zip(*[getBag(nP=nP,nU=nU,posMean=posMean,negMean=negMean,cov=cov,alphaDistr=alphaDistr) for _ in range(size)]))\n",
    "    maxP, maxU = np.max(numPs), np.max(numUs)\n",
    "    d = bags[0][\"positiveInstances\"].shape[1]\n",
    "    posMats = np.zeros((len(bags), maxP, d))\n",
    "    unlabeledMats = np.zeros((len(bags), maxU, d))\n",
    "    hiddenLabelMats = np.zeros((len(bags), maxU))\n",
    "    alphas = np.zeros((len(bags), 1))\n",
    "    numPos = np.zeros(len(bags),dtype=int)\n",
    "    numU = np.zeros(len(bags),dtype=int)\n",
    "    for bagNum,bag in enumerate(bags):\n",
    "        posPadding = maxP - bag[\"positiveInstances\"].shape[0]\n",
    "        unlabeledPadding = maxU - bag[\"unlabeledInstances\"].shape[0]\n",
    "        dim = bag[\"positiveInstances\"].shape[1]\n",
    "        p_mat= np.concatenate((bag[\"positiveInstances\"], np.zeros((posPadding, d))), axis=0)\n",
    "        posMats[bagNum] = p_mat\n",
    "        u_mat= np.concatenate((bag[\"unlabeledInstances\"], np.zeros((unlabeledPadding, d))), axis=0)\n",
    "        unlabeledMats[bagNum] = u_mat\n",
    "        hiddenLabelMats[bagNum] = np.concatenate((bag[\"hiddenLabels\"], np.zeros(unlabeledPadding)))\n",
    "        alphas[bagNum] = bag[\"alpha_i\"]\n",
    "        numPos[bagNum] = bag[\"positiveInstances\"].shape[0]\n",
    "        numU[bagNum] = bag[\"unlabeledInstances\"].shape[0]\n",
    "    \n",
    "    return {\n",
    "        \"positiveInstances\": posMats,\n",
    "        \"unlabeledInstances\": unlabeledMats,\n",
    "        \"alpha_i\": alphas,\n",
    "        \"numP\": numPos,\n",
    "        \"numU\": numU,\n",
    "        \"hiddenLabels\": hiddenLabelMats,\n",
    "        \"posMean\": posMean,\n",
    "        \"negMean\": negMean,\n",
    "        \"cov\": cov\n",
    "    }"
   ]
  },
  {
   "cell_type": "code",
   "execution_count": null,
   "metadata": {},
   "outputs": [],
   "source": [
    "np.concatenate((np.ones((4,3)),np.zeros((4,0))),axis=1)"
   ]
  },
  {
   "cell_type": "code",
   "execution_count": null,
   "metadata": {},
   "outputs": [],
   "source": [
    "# export\n",
    "class Dataset:\n",
    "    def __init__(self, d):\n",
    "        self.positiveInstances = d[\"positiveInstances\"]\n",
    "        self.unlabeledInstances = d[\"unlabeledInstances\"]\n",
    "        self.trueAlphas = d[\"alpha_i\"]\n",
    "        self.N = self.positiveInstances.shape[0]\n",
    "        self.numP = d[\"numP\"]\n",
    "        self.numU = d[\"numU\"]\n",
    "        self.hiddenLabels = d[\"hiddenLabels\"]\n",
    "        self.posDistMean = d[\"posMean\"]\n",
    "        self.negDistMean = d[\"negMean\"]\n",
    "        self.cov = d[\"cov\"]\n",
    "        \n",
    "    def getBag(self,idx):\n",
    "        p = self.positiveInstances[idx, :self.numP[idx]]\n",
    "        u = self.unlabeledInstances[idx, :self.numU[idx]]\n",
    "        return p,u\n",
    "\n",
    "    def merge(self,ds2):\n",
    "        # fix padding for positives\n",
    "        d1=self.positiveInstances.shape[1]\n",
    "        d2 = ds2.positiveInstances.shape[1]\n",
    "        pad1 = max(d2,d1) - d1\n",
    "        pad2 = max(d2,d1) - d2\n",
    "        p1 = np.concatenate((self.positiveInstances,\n",
    "                             np.zeros((self.positiveInstances.shape[0], pad1,self.positiveInstances.shape[2]))),\n",
    "                           axis=1)\n",
    "        p2 = np.concatenate((ds2.positiveInstances,\n",
    "                             np.zeros((ds2.positiveInstances.shape[0], pad2, ds2.positiveInstances.shape[2]))),\n",
    "                           axis=1)\n",
    "        self.positiveInstances = np.concatenate((p1,p2))\n",
    "        d1=self.unlabeledInstances.shape[1]\n",
    "        d2 = ds2.unlabeledInstances.shape[1]\n",
    "        pad1 = max(d2,d1) - d1\n",
    "        pad2 = max(d2,d1) - d2\n",
    "        u1 = np.concatenate((self.unlabeledInstances,\n",
    "                             np.zeros((self.unlabeledInstances.shape[0], pad1,self.unlabeledInstances.shape[2]))),\n",
    "                           axis=1)\n",
    "        u2 = np.concatenate((ds2.unlabeledInstances,\n",
    "                             np.zeros((ds2.unlabeledInstances.shape[0], pad2, ds2.unlabeledInstances.shape[2]))),\n",
    "                           axis=1)\n",
    "        self.unlabeledInstances = np.concatenate((u1,u2))\n",
    "        self.N += ds2.N\n",
    "        self.numP = np.concatenate((self.numP,ds2.numP))\n",
    "        self.numU = np.concatenate((self.numU,ds2.numU))\n",
    "        self.posDistMean = np.concatenate((np.array([self.posDistMean]),\n",
    "                                           np.array([ds2.posDistMean])))\n",
    "        \n",
    "        self.negDistMean = np.concatenate((np.array([self.negDistMean]),\n",
    "                                           np.array([ds2.negDistMean])))\n",
    "        self.cov = np.concatenate((np.array([self.cov]),\n",
    "                                   np.array([ds2.cov])))\n",
    "        self.trueAlphas = np.concatenate((self.trueAlphas, ds2.trueAlphas))"
   ]
  },
  {
   "cell_type": "code",
   "execution_count": null,
   "metadata": {},
   "outputs": [],
   "source": [
    "# export\n",
    "def buildDataset(size,nP=None,nU=None,posMean=None, negMean=None,cov=None,alphaDistr=lambda: np.random.beta(2,10)):\n",
    "    ddict = buildDatasetDict(size,nP=nP, nU=nU, posMean=posMean, negMean=negMean, cov=cov, alphaDistr=alphaDistr)\n",
    "    return Dataset(ddict)"
   ]
  },
  {
   "cell_type": "code",
   "execution_count": null,
   "metadata": {},
   "outputs": [],
   "source": [
    "# hide\n",
    "d = buildDataset(2, alphaDistr=lambda: np.random.beta(2,2),posMean=[1,2],negMean=[2,2],cov=np.eye(2))\n",
    "d2 = buildDataset(3, alphaDistr=lambda: np.random.beta(2,2),posMean=[1,2],negMean=[2,2],cov=np.eye(2))"
   ]
  },
  {
   "cell_type": "code",
   "execution_count": null,
   "metadata": {},
   "outputs": [],
   "source": [
    "d.trueAlphas, d2.trueAlphas"
   ]
  },
  {
   "cell_type": "code",
   "execution_count": null,
   "metadata": {},
   "outputs": [],
   "source": [
    "d.merge(d2)"
   ]
  },
  {
   "cell_type": "code",
   "execution_count": null,
   "metadata": {},
   "outputs": [],
   "source": [
    "d.trueAlphas"
   ]
  },
  {
   "cell_type": "code",
   "execution_count": null,
   "metadata": {},
   "outputs": [],
   "source": [
    "d.positiveInstances.shape"
   ]
  },
  {
   "cell_type": "code",
   "execution_count": null,
   "metadata": {},
   "outputs": [],
   "source": []
  }
 ],
 "metadata": {
  "language_info": {
   "name": "python",
   "pygments_lexer": "ipython3"
  }
 },
 "nbformat": 4,
 "nbformat_minor": 4
}
