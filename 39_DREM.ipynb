{
 "cells": [
  {
   "cell_type": "code",
   "execution_count": null,
   "metadata": {
    "ExecuteTime": {
     "end_time": "2021-04-21T13:43:32.203653Z",
     "start_time": "2021-04-21T13:43:32.199858Z"
    }
   },
   "outputs": [],
   "source": [
    "# default_exp density_ratio_em"
   ]
  },
  {
   "cell_type": "code",
   "execution_count": null,
   "metadata": {
    "ExecuteTime": {
     "end_time": "2021-04-23T20:20:09.416456Z",
     "start_time": "2021-04-23T20:20:09.394871Z"
    }
   },
   "outputs": [],
   "source": [
    "%load_ext autoreload\n",
    "%autoreload 2"
   ]
  },
  {
   "cell_type": "code",
   "execution_count": null,
   "metadata": {
    "ExecuteTime": {
     "end_time": "2021-04-23T20:20:20.547613Z",
     "start_time": "2021-04-23T20:20:09.419124Z"
    }
   },
   "outputs": [],
   "source": [
    "# export\n",
    "from multiinstance.em import generateBags\n",
    "from multiinstance.utils import estimate\n",
    "from multiinstance.nnpu import getPosterior as getNNPUPosterior\n",
    "\n",
    "import numpy as np\n",
    "import matplotlib.pyplot as plt\n",
    "import scipy.stats as ss\n",
    "from sklearn.cluster import KMeans\n",
    "from sklearn.metrics import roc_auc_score\n",
    "from easydict import EasyDict\n",
    "from scipy.spatial.distance import cdist\n",
    "from tqdm.notebook import tqdm"
   ]
  },
  {
   "cell_type": "code",
   "execution_count": 3,
   "metadata": {
    "ExecuteTime": {
     "end_time": "2021-04-23T20:20:20.620920Z",
     "start_time": "2021-04-23T20:20:20.554653Z"
    }
   },
   "outputs": [],
   "source": [
    "from multiinstance.data.gaussian_dg import GaussianMixtureDataGenerator"
   ]
  },
  {
   "cell_type": "code",
   "execution_count": 4,
   "metadata": {
    "ExecuteTime": {
     "end_time": "2021-04-23T20:20:20.655893Z",
     "start_time": "2021-04-23T20:20:20.622178Z"
    }
   },
   "outputs": [],
   "source": [
    "from dist_curve.transforms import getOptimalTransform"
   ]
  },
  {
   "cell_type": "code",
   "execution_count": 14,
   "metadata": {
    "ExecuteTime": {
     "end_time": "2021-04-23T21:24:39.578294Z",
     "start_time": "2021-04-23T21:24:39.505577Z"
    }
   },
   "outputs": [],
   "source": [
    "# export\n",
    "class DensityRatioEM:\n",
    "    def __init__(self, bags,n_clusters):\n",
    "        self.bags = bags\n",
    "        self.n_clusters = n_clusters\n",
    "        self.findGlobalClusters()\n",
    "\n",
    "    def findGlobalClusters(self):\n",
    "        \"Run K-Means on the positives from all bags then assign each unlabeled point to a cluster based on the resulting clusters of K-Means\"\n",
    "        globalPositives = np.concatenate([b.X_pos for b in bags])\n",
    "        kmeans = KMeans(n_clusters=self.n_clusters).fit(globalPositives)\n",
    "        # Cluster Unlabeled\n",
    "        for bagNum,b in enumerate(self.bags):\n",
    "            self.bags[bagNum].unlabeled_cluster_assignment = kmeans.predict(b.x_unlabeled)\n",
    "            self.bags[bagNum].positive_cluster_assignment = kmeans.predict(b.X_pos)\n",
    "        self.kmeans = kmeans\n",
    "\n",
    "    def getClusterEstimates(self,componentInfo=None):\n",
    "        \"Estimate the class prior and density ratios of the unlabeled points for each cluster\"\n",
    "        self.clusterAlphaHats= np.zeros(self.n_clusters)\n",
    "        # NClusters x NBags size list containing the density ratio for the unlabeled points\n",
    "        # from the specified bag in the specified cluster\n",
    "        self.bagRatios = []\n",
    "        for cnum in range(self.n_clusters):\n",
    "            unlabeledInCluster = [b.x_unlabeled[b.unlabeled_cluster_assignment == cnum] for b in self.bags]\n",
    "            posInCluster = [b.X_pos[b.positive_cluster_assignment == cnum] for b in self.bags]\n",
    "            unlabeled = np.concatenate(unlabeledInCluster)\n",
    "            positive = np.concatenate(posInCluster)\n",
    "            # estimate class prior\n",
    "            tau, aucpu = getOptimalTransform(np.concatenate((positive, unlabeled)), \n",
    "                                         np.concatenate((np.ones(positive.shape[0]),\n",
    "                                                         np.zeros(unlabeled.shape[0]))))\n",
    "            tau_pos = np.ascontiguousarray(tau[:positive.shape[0]].reshape((-1,1)))\n",
    "            tau_u = np.ascontiguousarray(tau[positive.shape[0]:].reshape((-1,1)))\n",
    "            self.clusterAlphaHats[cnum],_ = estimate(tau_pos, tau_u)\n",
    "            ####\n",
    "            #self.clusterAlphaHats[cnum],_ = estimate(positive, unlabeled)\n",
    "            # Estimate density ratio for all unlabeled points in each bag that are in this cluster\n",
    "            self.bagRatios.append(self.estimateClusterDensityRatio(posInCluster,\n",
    "                                                                   unlabeledInCluster,\n",
    "                                                                   cnum,\n",
    "                                                                   componentInfo))\n",
    "\n",
    "    def ratioFromPosteriorVec(self, posts, alpha):\n",
    "        return (alpha * (1 - posts)) / (posts * (1 - alpha))\n",
    "\n",
    "    def estimateClusterDensityRatio(self,posInCluster,unlabeledInCluster,cnum,componentInfo=None,\n",
    "                                 args=EasyDict(d={'batchsize': 128,\n",
    "                                                  'hdim': 300,\n",
    "                                                  'epochs': 250,\n",
    "                                                  'lr': 0.001,\n",
    "                                                  'weightDecayRate': 0.005})):\n",
    "        p = np.concatenate(posInCluster)\n",
    "        u = np.concatenate(unlabeledInCluster)\n",
    "        # PU Labels {1: pos, -1: unlabeled}\n",
    "        y = np.concatenate((np.ones(p.shape[0]),\n",
    "                            np.ones(u.shape[0])*-1)).astype(np.int32)\n",
    "        # Run NNPU\n",
    "        if componentInfo is None:\n",
    "            posteriors = getNNPUPosterior(np.concatenate((p,u)).astype(np.float32),\n",
    "                                          y,\n",
    "                                          self.clusterAlphaHats[cnum],\n",
    "                                          args = args)\n",
    "            # convert cluster posterior to density ratio\n",
    "            ratios = np.nan_to_num(self.ratioFromPosteriorVec(posteriors, self.clusterAlphaHats[cnum]))\n",
    "        else:\n",
    "            clusterMap = cdist(self.kmeans.cluster_centers_, componentInfo.posMeans).argmin(1)\n",
    "            # pos\n",
    "            cnum = clusterMap[cnum]\n",
    "            f1 = ss.multivariate_normal.pdf(np.concatenate((p,u)),\n",
    "                                 mean=componentInfo.posMeans[cnum],\n",
    "                                 cov=componentInfo.posCovs[cnum])\n",
    "            # Neg\n",
    "            f0 = ss.multivariate_normal.pdf(np.concatenate((p,u)),\n",
    "                                 mean=componentInfo.negMeans[cnum],\n",
    "                                 cov=componentInfo.negCovs[cnum])\n",
    "            ratios = f0/f1\n",
    "        \n",
    "        # Remove positive points from posterior list\n",
    "        ratios = ratios[p.shape[0]:]\n",
    "        # Store the ratios for the unlabeled set of each bag\n",
    "        bagRatios = []\n",
    "        # Get ratios for unlabeled sets of each bag\n",
    "        idx = 0\n",
    "        for bagNum in range(len(posInCluster)):\n",
    "            numU = unlabeledInCluster[bagNum].shape[0]\n",
    "            bagRatios.append(ratios[idx:idx+numU])\n",
    "            idx += numU\n",
    "        return bagRatios\n",
    "    \n",
    "    def EM(self,NIters=500):\n",
    "        self.eta = np.zeros((len(self.bags), self.n_clusters))\n",
    "        for cnum in range(self.n_clusters):\n",
    "            for bagNum, b in enumerate(self.bags):\n",
    "                ratios = self.bagRatios[cnum][bagNum]\n",
    "                eta_i_j = np.array(.5)\n",
    "                for em_iter in range(NIters):\n",
    "                    den = eta_i_j + (1 - eta_i_j) * ratios\n",
    "                    eta_i_j = np.mean(eta_i_j / den)\n",
    "                self.eta[bagNum,cnum] = eta_i_j\n",
    "    \n",
    "    def run(self,componentInfo=None):\n",
    "        \n",
    "        self.getClusterEstimates(componentInfo)\n",
    "        self.EM()\n",
    "        self.estimateBagParameters()\n",
    "    \n",
    "    \n",
    "    def posterior(self, bagNum, clusterNum):\n",
    "        eta_i_j = self.eta[bagNum, clusterNum]\n",
    "        densityRatios = self.bagRatios[clusterNum][bagNum]\n",
    "        return eta_i_j / (eta_i_j + (1 - eta_i_j)*densityRatios)\n",
    "    \n",
    "    def getAUC(self):\n",
    "        labels = []\n",
    "        posts = []\n",
    "        for bagNum in range(len(self.bags)):\n",
    "            for cnum in range(self.n_clusters):\n",
    "                posts.append(self.posterior(bagNum,cnum))\n",
    "                labels.append(self.bags[bagNum].hiddenLabels[self.bags[bagNum].unlabeled_cluster_assignment == cnum])\n",
    "        labels = np.concatenate(labels)\n",
    "        posts = np.concatenate(posts)\n",
    "        return roc_auc_score(labels, posts)\n",
    "\n",
    "    def estimateBagParameters(self):\n",
    "        N = len(self.bags)\n",
    "        self.alphaHats = np.zeros(N)\n",
    "        self.pi = np.zeros((N,self.n_clusters))\n",
    "        self.rho = np.zeros((N,self.n_clusters))\n",
    "        for bagNum, b in enumerate(self.bags):\n",
    "            eta_j = self.eta[bagNum]\n",
    "            gamma_j = np.unique(b.unlabeled_cluster_assignment,\n",
    "                                return_counts=True)[1] / b.unlabeled_cluster_assignment.shape[0]\n",
    "            alpha_j = eta_j.dot(gamma_j)\n",
    "            pi_j = np.multiply(eta_j, gamma_j) / alpha_j\n",
    "            rho_j = np.multiply(1 - eta_j, gamma_j) / (1 - alpha_j)\n",
    "            self.alphaHats[bagNum] = alpha_j\n",
    "            self.pi[bagNum] = pi_j\n",
    "            self.rho[bagNum] = rho_j"
   ]
  },
  {
   "cell_type": "markdown",
   "metadata": {},
   "source": [
    "## Test Method"
   ]
  },
  {
   "cell_type": "code",
   "execution_count": 13,
   "metadata": {
    "ExecuteTime": {
     "end_time": "2021-04-23T21:22:58.368061Z",
     "start_time": "2021-04-23T21:22:58.306289Z"
    }
   },
   "outputs": [],
   "source": [
    "posMeans = [[0,-4], [12,6]]\n",
    "negMeans = [[-0,-0], [8,3]]\n",
    "bags = generateBags(10,pos_means=posMeans,\n",
    "                    neg_means=negMeans,\n",
    "                    pos_covs=[np.eye(2)]*2,\n",
    "                    neg_covs = [np.eye(2)]*2,\n",
    "                    NPos=25,NUnlabeled=75)"
   ]
  },
  {
   "cell_type": "code",
   "execution_count": null,
   "metadata": {
    "ExecuteTime": {
     "end_time": "2021-04-23T20:19:00.195181Z",
     "start_time": "2021-04-23T20:18:59.945141Z"
    }
   },
   "outputs": [],
   "source": [
    "fig,ax = plt.subplots(1,2,figsize=(10,4))\n",
    "for b,a in zip(bags,ax):\n",
    "    a.scatter(b.x_unlabeled[:,0], b.x_unlabeled[:,1],color=\"blue\",alpha=.5)\n",
    "    a.scatter(b.X_pos[:,0], b.X_pos[:,1],color=\"red\",alpha=.5)"
   ]
  },
  {
   "cell_type": "code",
   "execution_count": null,
   "metadata": {
    "ExecuteTime": {
     "end_time": "2021-04-23T20:19:01.445547Z",
     "start_time": "2021-04-23T20:19:01.408397Z"
    }
   },
   "outputs": [],
   "source": [
    "drem = DensityRatioEM(bags,len(posMeans))"
   ]
  },
  {
   "cell_type": "code",
   "execution_count": null,
   "metadata": {
    "ExecuteTime": {
     "end_time": "2021-04-23T20:19:27.277857Z",
     "start_time": "2021-04-23T20:19:04.881407Z"
    }
   },
   "outputs": [],
   "source": [
    "drem.run(componentInfo=EasyDict({\"posMeans\":posMeans,\n",
    "                                 \"negMeans\":negMeans,\n",
    "                                 \"posCovs\":[np.eye(2)]*2,\n",
    "                                 \"negCovs\":[np.eye(2)]*2}))\n",
    "# drem.run()"
   ]
  },
  {
   "cell_type": "code",
   "execution_count": null,
   "metadata": {
    "ExecuteTime": {
     "end_time": "2021-04-23T20:19:53.260266Z",
     "start_time": "2021-04-23T20:19:53.247470Z"
    }
   },
   "outputs": [],
   "source": [
    "drem.getAUC()"
   ]
  },
  {
   "cell_type": "markdown",
   "metadata": {},
   "source": [
    " Alpha MAE"
   ]
  },
  {
   "cell_type": "code",
   "execution_count": null,
   "metadata": {
    "ExecuteTime": {
     "end_time": "2021-04-23T20:19:54.875745Z",
     "start_time": "2021-04-23T20:19:54.866987Z"
    }
   },
   "outputs": [],
   "source": [
    "np.mean(np.abs(drem.alphaHats - np.array([b.alpha for b in bags])))"
   ]
  },
  {
   "cell_type": "markdown",
   "metadata": {},
   "source": [
    "# Baseline"
   ]
  },
  {
   "cell_type": "code",
   "execution_count": 6,
   "metadata": {
    "ExecuteTime": {
     "end_time": "2021-04-23T20:20:20.762016Z",
     "start_time": "2021-04-23T20:20:20.721535Z"
    }
   },
   "outputs": [],
   "source": [
    "def posteriorCorrection(tau, alpha, S0S1):\n",
    "    post =  alpha * S0S1 * (tau / (1 - tau))\n",
    "    post = np.nan_to_num(post)\n",
    "    return post\n",
    "\n",
    "def baseline(bags):\n",
    "    # apply transforms\n",
    "    posts = []\n",
    "    labels = []\n",
    "    absErrs = []\n",
    "    for b in tqdm(bags,leave=False):\n",
    "        tau, aucpu = getOptimalTransform(np.concatenate((b.X_pos,\n",
    "                                                         b.x_unlabeled)), \n",
    "                                         np.concatenate((np.ones(b.X_pos.shape[0]),\n",
    "                                                        np.zeros(b.x_unlabeled.shape[0]))))\n",
    "        tau_pos = np.ascontiguousarray(tau[:b.X_pos.shape[0]].reshape((-1,1)))\n",
    "        tau_u = np.ascontiguousarray(tau[b.X_pos.shape[0]:].reshape((-1,1)))\n",
    "        alphaHat,_ = estimate(tau_pos, tau_u)\n",
    "        alphaHat = alphaHat.numpy()[0,0]\n",
    "        absErrs.append(np.abs(alphaHat - b.alpha))\n",
    "        s0s1 = b.x_unlabeled.shape[0] / b.X_pos.shape[0]\n",
    "        posts.append(getNNPUPosterior(np.concatenate((tau_pos, tau_u)).astype(np.float32),\n",
    "                                      np.concatenate((np.ones(tau_pos.shape[0]),\n",
    "                                                      np.ones(tau_u.shape[0]) * -1)).astype(np.int32),\n",
    "                                     alphaHat)[tau_pos.shape[0]:])\n",
    "        #posts.append(posteriorCorrection(tau_u, alphaHat, s0s1))\n",
    "        labels.append(b.hiddenLabels)\n",
    "    return roc_auc_score(np.concatenate(labels),\n",
    "                         np.concatenate(posts)), np.mean(absErrs)"
   ]
  },
  {
   "cell_type": "markdown",
   "metadata": {},
   "source": [
    "# Experiments"
   ]
  },
  {
   "cell_type": "code",
   "execution_count": 11,
   "metadata": {
    "ExecuteTime": {
     "end_time": "2021-04-23T21:21:17.120309Z",
     "start_time": "2021-04-23T21:21:17.023686Z"
    }
   },
   "outputs": [],
   "source": [
    "getNNPUPosterior??"
   ]
  },
  {
   "cell_type": "code",
   "execution_count": 7,
   "metadata": {
    "ExecuteTime": {
     "end_time": "2021-04-23T20:20:23.055906Z",
     "start_time": "2021-04-23T20:20:23.003382Z"
    }
   },
   "outputs": [],
   "source": [
    "def generateParams(nClusters, nComps, dim,aucpn_range=[0.8,0.85]):\n",
    "    posMeans,posCovs,negMeans,negCovs,dgs =[], [],[],[],[]\n",
    "    for comp in range(nClusters):\n",
    "        dg = GaussianMixtureDataGenerator(dim,nComps,aucpn_range,100,1000)\n",
    "        pos,neg = dg.components_pos[0], dg.components_neg[0]\n",
    "        r = np.zeros(dim)\n",
    "        for _ in range(1):\n",
    "            r += np.random.normal(loc=0,scale=10,size=dim)\n",
    "        posMeans.append(pos.mean+r)\n",
    "        posCovs.append(pos.cov)\n",
    "        negMeans.append(neg.mean+r)\n",
    "        negCovs.append(neg.cov)\n",
    "        dgs.append(dg)\n",
    "    return posMeans,posCovs, negMeans,negCovs,dgs"
   ]
  },
  {
   "cell_type": "code",
   "execution_count": 15,
   "metadata": {
    "ExecuteTime": {
     "end_time": "2021-04-23T21:26:01.219604Z",
     "start_time": "2021-04-23T21:24:59.022218Z"
    }
   },
   "outputs": [],
   "source": [
    "NClusters = 3\n",
    "Dim = 5\n",
    "aucpn_range=  [.8,1.]\n",
    "NBags = 100\n",
    "NPos = 100\n",
    "NUnlabeled = 250\n",
    "\n",
    "posMeans,posCovs,negMeans,negCovs,dgs = generateParams(NClusters,1,Dim,aucpn_range=aucpn_range)\n",
    "\n",
    "bags = generateBags(NBags,\n",
    "                    pos_means=posMeans,\n",
    "                    neg_means=negMeans,\n",
    "                    pos_covs=posCovs,\n",
    "                    neg_covs=negCovs,\n",
    "                    NPos=NPos,NUnlabeled=NUnlabeled)"
   ]
  },
  {
   "cell_type": "code",
   "execution_count": 16,
   "metadata": {
    "ExecuteTime": {
     "end_time": "2021-04-23T21:26:43.266155Z",
     "start_time": "2021-04-23T21:26:43.217221Z"
    }
   },
   "outputs": [],
   "source": [
    "# fig,ax = plt.subplots(1,2,figsize=(10,4))\n",
    "# for b,a in zip(bags,ax):\n",
    "#     a.scatter(b.x_unlabeled[:,0], b.x_unlabeled[:,1],color=\"blue\",alpha=.5)\n",
    "#     a.scatter(b.X_pos[:,0], b.X_pos[:,1],color=\"red\",alpha=.5)"
   ]
  },
  {
   "cell_type": "code",
   "execution_count": 17,
   "metadata": {
    "ExecuteTime": {
     "end_time": "2021-04-23T22:24:22.147978Z",
     "start_time": "2021-04-23T21:26:43.471461Z"
    },
    "scrolled": false
   },
   "outputs": [
    {
     "name": "stdout",
     "output_type": "stream",
     "text": [
      "* NClusters: 3\n",
      "* Dim:5\n",
      "* auc_pn_range:[0.8, 1.0]\n",
      "* NBags:100\n",
      "* NPos:100\n",
      "* NUnlabeled:250\n",
      "\n",
      "\n",
      "**True PN Posterior**\n",
      "\n"
     ]
    },
    {
     "data": {
      "application/vnd.jupyter.widget-view+json": {
       "model_id": "",
       "version_major": 2,
       "version_minor": 0
      },
      "text/plain": [
       "HBox(children=(FloatProgress(value=0.0, description='Training univariate transforms', max=6.0, style=ProgressS…"
      ]
     },
     "metadata": {},
     "output_type": "display_data"
    },
    {
     "data": {
      "application/vnd.jupyter.widget-view+json": {
       "model_id": "",
       "version_major": 2,
       "version_minor": 0
      },
      "text/plain": [
       "HBox(children=(FloatProgress(value=0.0, description='Training univariate transforms', max=6.0, style=ProgressS…"
      ]
     },
     "metadata": {},
     "output_type": "display_data"
    },
    {
     "data": {
      "application/vnd.jupyter.widget-view+json": {
       "model_id": "",
       "version_major": 2,
       "version_minor": 0
      },
      "text/plain": [
       "HBox(children=(FloatProgress(value=0.0, description='Training univariate transforms', max=6.0, style=ProgressS…"
      ]
     },
     "metadata": {},
     "output_type": "display_data"
    },
    {
     "name": "stdout",
     "output_type": "stream",
     "text": [
      "* AUC:0.875\n",
      "* MAE:0.036\n",
      "\n"
     ]
    },
    {
     "data": {
      "application/vnd.jupyter.widget-view+json": {
       "model_id": "",
       "version_major": 2,
       "version_minor": 0
      },
      "text/plain": [
       "HBox(children=(FloatProgress(value=0.0, description='Training univariate transforms', max=6.0, style=ProgressS…"
      ]
     },
     "metadata": {},
     "output_type": "display_data"
    },
    {
     "data": {
      "application/vnd.jupyter.widget-view+json": {
       "model_id": "",
       "version_major": 2,
       "version_minor": 0
      },
      "text/plain": [
       "HBox(children=(FloatProgress(value=0.0, description='Training univariate transforms', max=6.0, style=ProgressS…"
      ]
     },
     "metadata": {},
     "output_type": "display_data"
    },
    {
     "data": {
      "application/vnd.jupyter.widget-view+json": {
       "model_id": "",
       "version_major": 2,
       "version_minor": 0
      },
      "text/plain": [
       "HBox(children=(FloatProgress(value=0.0, description='Training univariate transforms', max=6.0, style=ProgressS…"
      ]
     },
     "metadata": {},
     "output_type": "display_data"
    },
    {
     "name": "stdout",
     "output_type": "stream",
     "text": [
      "**DREM**\n",
      "\n",
      "* AUC:0.620\n",
      "* MAE:0.152\n",
      "\n",
      "**Baseline**\n",
      "\n"
     ]
    },
    {
     "data": {
      "application/vnd.jupyter.widget-view+json": {
       "model_id": "",
       "version_major": 2,
       "version_minor": 0
      },
      "text/plain": [
       "HBox(children=(FloatProgress(value=0.0), HTML(value='')))"
      ]
     },
     "metadata": {},
     "output_type": "display_data"
    },
    {
     "data": {
      "application/vnd.jupyter.widget-view+json": {
       "model_id": "",
       "version_major": 2,
       "version_minor": 0
      },
      "text/plain": [
       "HBox(children=(FloatProgress(value=0.0, description='Training univariate transforms', max=6.0, style=ProgressS…"
      ]
     },
     "metadata": {},
     "output_type": "display_data"
    },
    {
     "data": {
      "application/vnd.jupyter.widget-view+json": {
       "model_id": "",
       "version_major": 2,
       "version_minor": 0
      },
      "text/plain": [
       "HBox(children=(FloatProgress(value=0.0, description='Training univariate transforms', max=6.0, style=ProgressS…"
      ]
     },
     "metadata": {},
     "output_type": "display_data"
    },
    {
     "data": {
      "application/vnd.jupyter.widget-view+json": {
       "model_id": "",
       "version_major": 2,
       "version_minor": 0
      },
      "text/plain": [
       "HBox(children=(FloatProgress(value=0.0, description='Training univariate transforms', max=6.0, style=ProgressS…"
      ]
     },
     "metadata": {},
     "output_type": "display_data"
    },
    {
     "data": {
      "application/vnd.jupyter.widget-view+json": {
       "model_id": "",
       "version_major": 2,
       "version_minor": 0
      },
      "text/plain": [
       "HBox(children=(FloatProgress(value=0.0, description='Training univariate transforms', max=6.0, style=ProgressS…"
      ]
     },
     "metadata": {},
     "output_type": "display_data"
    },
    {
     "data": {
      "application/vnd.jupyter.widget-view+json": {
       "model_id": "",
       "version_major": 2,
       "version_minor": 0
      },
      "text/plain": [
       "HBox(children=(FloatProgress(value=0.0, description='Training univariate transforms', max=6.0, style=ProgressS…"
      ]
     },
     "metadata": {},
     "output_type": "display_data"
    },
    {
     "data": {
      "application/vnd.jupyter.widget-view+json": {
       "model_id": "",
       "version_major": 2,
       "version_minor": 0
      },
      "text/plain": [
       "HBox(children=(FloatProgress(value=0.0, description='Training univariate transforms', max=6.0, style=ProgressS…"
      ]
     },
     "metadata": {},
     "output_type": "display_data"
    },
    {
     "data": {
      "application/vnd.jupyter.widget-view+json": {
       "model_id": "",
       "version_major": 2,
       "version_minor": 0
      },
      "text/plain": [
       "HBox(children=(FloatProgress(value=0.0, description='Training univariate transforms', max=6.0, style=ProgressS…"
      ]
     },
     "metadata": {},
     "output_type": "display_data"
    },
    {
     "data": {
      "application/vnd.jupyter.widget-view+json": {
       "model_id": "",
       "version_major": 2,
       "version_minor": 0
      },
      "text/plain": [
       "HBox(children=(FloatProgress(value=0.0, description='Training univariate transforms', max=6.0, style=ProgressS…"
      ]
     },
     "metadata": {},
     "output_type": "display_data"
    },
    {
     "data": {
      "application/vnd.jupyter.widget-view+json": {
       "model_id": "",
       "version_major": 2,
       "version_minor": 0
      },
      "text/plain": [
       "HBox(children=(FloatProgress(value=0.0, description='Training univariate transforms', max=6.0, style=ProgressS…"
      ]
     },
     "metadata": {},
     "output_type": "display_data"
    },
    {
     "data": {
      "application/vnd.jupyter.widget-view+json": {
       "model_id": "",
       "version_major": 2,
       "version_minor": 0
      },
      "text/plain": [
       "HBox(children=(FloatProgress(value=0.0, description='Training univariate transforms', max=6.0, style=ProgressS…"
      ]
     },
     "metadata": {},
     "output_type": "display_data"
    },
    {
     "data": {
      "application/vnd.jupyter.widget-view+json": {
       "model_id": "",
       "version_major": 2,
       "version_minor": 0
      },
      "text/plain": [
       "HBox(children=(FloatProgress(value=0.0, description='Training univariate transforms', max=6.0, style=ProgressS…"
      ]
     },
     "metadata": {},
     "output_type": "display_data"
    },
    {
     "data": {
      "application/vnd.jupyter.widget-view+json": {
       "model_id": "",
       "version_major": 2,
       "version_minor": 0
      },
      "text/plain": [
       "HBox(children=(FloatProgress(value=0.0, description='Training univariate transforms', max=6.0, style=ProgressS…"
      ]
     },
     "metadata": {},
     "output_type": "display_data"
    },
    {
     "data": {
      "application/vnd.jupyter.widget-view+json": {
       "model_id": "",
       "version_major": 2,
       "version_minor": 0
      },
      "text/plain": [
       "HBox(children=(FloatProgress(value=0.0, description='Training univariate transforms', max=6.0, style=ProgressS…"
      ]
     },
     "metadata": {},
     "output_type": "display_data"
    },
    {
     "data": {
      "application/vnd.jupyter.widget-view+json": {
       "model_id": "",
       "version_major": 2,
       "version_minor": 0
      },
      "text/plain": [
       "HBox(children=(FloatProgress(value=0.0, description='Training univariate transforms', max=6.0, style=ProgressS…"
      ]
     },
     "metadata": {},
     "output_type": "display_data"
    },
    {
     "data": {
      "application/vnd.jupyter.widget-view+json": {
       "model_id": "",
       "version_major": 2,
       "version_minor": 0
      },
      "text/plain": [
       "HBox(children=(FloatProgress(value=0.0, description='Training univariate transforms', max=6.0, style=ProgressS…"
      ]
     },
     "metadata": {},
     "output_type": "display_data"
    },
    {
     "data": {
      "application/vnd.jupyter.widget-view+json": {
       "model_id": "",
       "version_major": 2,
       "version_minor": 0
      },
      "text/plain": [
       "HBox(children=(FloatProgress(value=0.0, description='Training univariate transforms', max=6.0, style=ProgressS…"
      ]
     },
     "metadata": {},
     "output_type": "display_data"
    },
    {
     "data": {
      "application/vnd.jupyter.widget-view+json": {
       "model_id": "",
       "version_major": 2,
       "version_minor": 0
      },
      "text/plain": [
       "HBox(children=(FloatProgress(value=0.0, description='Training univariate transforms', max=6.0, style=ProgressS…"
      ]
     },
     "metadata": {},
     "output_type": "display_data"
    },
    {
     "data": {
      "application/vnd.jupyter.widget-view+json": {
       "model_id": "",
       "version_major": 2,
       "version_minor": 0
      },
      "text/plain": [
       "HBox(children=(FloatProgress(value=0.0, description='Training univariate transforms', max=6.0, style=ProgressS…"
      ]
     },
     "metadata": {},
     "output_type": "display_data"
    },
    {
     "data": {
      "application/vnd.jupyter.widget-view+json": {
       "model_id": "",
       "version_major": 2,
       "version_minor": 0
      },
      "text/plain": [
       "HBox(children=(FloatProgress(value=0.0, description='Training univariate transforms', max=6.0, style=ProgressS…"
      ]
     },
     "metadata": {},
     "output_type": "display_data"
    },
    {
     "data": {
      "application/vnd.jupyter.widget-view+json": {
       "model_id": "",
       "version_major": 2,
       "version_minor": 0
      },
      "text/plain": [
       "HBox(children=(FloatProgress(value=0.0, description='Training univariate transforms', max=6.0, style=ProgressS…"
      ]
     },
     "metadata": {},
     "output_type": "display_data"
    },
    {
     "data": {
      "application/vnd.jupyter.widget-view+json": {
       "model_id": "",
       "version_major": 2,
       "version_minor": 0
      },
      "text/plain": [
       "HBox(children=(FloatProgress(value=0.0, description='Training univariate transforms', max=6.0, style=ProgressS…"
      ]
     },
     "metadata": {},
     "output_type": "display_data"
    },
    {
     "data": {
      "application/vnd.jupyter.widget-view+json": {
       "model_id": "",
       "version_major": 2,
       "version_minor": 0
      },
      "text/plain": [
       "HBox(children=(FloatProgress(value=0.0, description='Training univariate transforms', max=6.0, style=ProgressS…"
      ]
     },
     "metadata": {},
     "output_type": "display_data"
    },
    {
     "data": {
      "application/vnd.jupyter.widget-view+json": {
       "model_id": "",
       "version_major": 2,
       "version_minor": 0
      },
      "text/plain": [
       "HBox(children=(FloatProgress(value=0.0, description='Training univariate transforms', max=6.0, style=ProgressS…"
      ]
     },
     "metadata": {},
     "output_type": "display_data"
    },
    {
     "data": {
      "application/vnd.jupyter.widget-view+json": {
       "model_id": "",
       "version_major": 2,
       "version_minor": 0
      },
      "text/plain": [
       "HBox(children=(FloatProgress(value=0.0, description='Training univariate transforms', max=6.0, style=ProgressS…"
      ]
     },
     "metadata": {},
     "output_type": "display_data"
    },
    {
     "data": {
      "application/vnd.jupyter.widget-view+json": {
       "model_id": "",
       "version_major": 2,
       "version_minor": 0
      },
      "text/plain": [
       "HBox(children=(FloatProgress(value=0.0, description='Training univariate transforms', max=6.0, style=ProgressS…"
      ]
     },
     "metadata": {},
     "output_type": "display_data"
    },
    {
     "data": {
      "application/vnd.jupyter.widget-view+json": {
       "model_id": "",
       "version_major": 2,
       "version_minor": 0
      },
      "text/plain": [
       "HBox(children=(FloatProgress(value=0.0, description='Training univariate transforms', max=6.0, style=ProgressS…"
      ]
     },
     "metadata": {},
     "output_type": "display_data"
    },
    {
     "data": {
      "application/vnd.jupyter.widget-view+json": {
       "model_id": "",
       "version_major": 2,
       "version_minor": 0
      },
      "text/plain": [
       "HBox(children=(FloatProgress(value=0.0, description='Training univariate transforms', max=6.0, style=ProgressS…"
      ]
     },
     "metadata": {},
     "output_type": "display_data"
    },
    {
     "data": {
      "application/vnd.jupyter.widget-view+json": {
       "model_id": "",
       "version_major": 2,
       "version_minor": 0
      },
      "text/plain": [
       "HBox(children=(FloatProgress(value=0.0, description='Training univariate transforms', max=6.0, style=ProgressS…"
      ]
     },
     "metadata": {},
     "output_type": "display_data"
    },
    {
     "data": {
      "application/vnd.jupyter.widget-view+json": {
       "model_id": "",
       "version_major": 2,
       "version_minor": 0
      },
      "text/plain": [
       "HBox(children=(FloatProgress(value=0.0, description='Training univariate transforms', max=6.0, style=ProgressS…"
      ]
     },
     "metadata": {},
     "output_type": "display_data"
    },
    {
     "data": {
      "application/vnd.jupyter.widget-view+json": {
       "model_id": "",
       "version_major": 2,
       "version_minor": 0
      },
      "text/plain": [
       "HBox(children=(FloatProgress(value=0.0, description='Training univariate transforms', max=6.0, style=ProgressS…"
      ]
     },
     "metadata": {},
     "output_type": "display_data"
    },
    {
     "data": {
      "application/vnd.jupyter.widget-view+json": {
       "model_id": "",
       "version_major": 2,
       "version_minor": 0
      },
      "text/plain": [
       "HBox(children=(FloatProgress(value=0.0, description='Training univariate transforms', max=6.0, style=ProgressS…"
      ]
     },
     "metadata": {},
     "output_type": "display_data"
    },
    {
     "data": {
      "application/vnd.jupyter.widget-view+json": {
       "model_id": "",
       "version_major": 2,
       "version_minor": 0
      },
      "text/plain": [
       "HBox(children=(FloatProgress(value=0.0, description='Training univariate transforms', max=6.0, style=ProgressS…"
      ]
     },
     "metadata": {},
     "output_type": "display_data"
    },
    {
     "data": {
      "application/vnd.jupyter.widget-view+json": {
       "model_id": "",
       "version_major": 2,
       "version_minor": 0
      },
      "text/plain": [
       "HBox(children=(FloatProgress(value=0.0, description='Training univariate transforms', max=6.0, style=ProgressS…"
      ]
     },
     "metadata": {},
     "output_type": "display_data"
    },
    {
     "data": {
      "application/vnd.jupyter.widget-view+json": {
       "model_id": "",
       "version_major": 2,
       "version_minor": 0
      },
      "text/plain": [
       "HBox(children=(FloatProgress(value=0.0, description='Training univariate transforms', max=6.0, style=ProgressS…"
      ]
     },
     "metadata": {},
     "output_type": "display_data"
    },
    {
     "data": {
      "application/vnd.jupyter.widget-view+json": {
       "model_id": "",
       "version_major": 2,
       "version_minor": 0
      },
      "text/plain": [
       "HBox(children=(FloatProgress(value=0.0, description='Training univariate transforms', max=6.0, style=ProgressS…"
      ]
     },
     "metadata": {},
     "output_type": "display_data"
    },
    {
     "data": {
      "application/vnd.jupyter.widget-view+json": {
       "model_id": "",
       "version_major": 2,
       "version_minor": 0
      },
      "text/plain": [
       "HBox(children=(FloatProgress(value=0.0, description='Training univariate transforms', max=6.0, style=ProgressS…"
      ]
     },
     "metadata": {},
     "output_type": "display_data"
    },
    {
     "data": {
      "application/vnd.jupyter.widget-view+json": {
       "model_id": "",
       "version_major": 2,
       "version_minor": 0
      },
      "text/plain": [
       "HBox(children=(FloatProgress(value=0.0, description='Training univariate transforms', max=6.0, style=ProgressS…"
      ]
     },
     "metadata": {},
     "output_type": "display_data"
    },
    {
     "data": {
      "application/vnd.jupyter.widget-view+json": {
       "model_id": "",
       "version_major": 2,
       "version_minor": 0
      },
      "text/plain": [
       "HBox(children=(FloatProgress(value=0.0, description='Training univariate transforms', max=6.0, style=ProgressS…"
      ]
     },
     "metadata": {},
     "output_type": "display_data"
    },
    {
     "data": {
      "application/vnd.jupyter.widget-view+json": {
       "model_id": "",
       "version_major": 2,
       "version_minor": 0
      },
      "text/plain": [
       "HBox(children=(FloatProgress(value=0.0, description='Training univariate transforms', max=6.0, style=ProgressS…"
      ]
     },
     "metadata": {},
     "output_type": "display_data"
    },
    {
     "data": {
      "application/vnd.jupyter.widget-view+json": {
       "model_id": "",
       "version_major": 2,
       "version_minor": 0
      },
      "text/plain": [
       "HBox(children=(FloatProgress(value=0.0, description='Training univariate transforms', max=6.0, style=ProgressS…"
      ]
     },
     "metadata": {},
     "output_type": "display_data"
    },
    {
     "data": {
      "application/vnd.jupyter.widget-view+json": {
       "model_id": "",
       "version_major": 2,
       "version_minor": 0
      },
      "text/plain": [
       "HBox(children=(FloatProgress(value=0.0, description='Training univariate transforms', max=6.0, style=ProgressS…"
      ]
     },
     "metadata": {},
     "output_type": "display_data"
    },
    {
     "data": {
      "application/vnd.jupyter.widget-view+json": {
       "model_id": "",
       "version_major": 2,
       "version_minor": 0
      },
      "text/plain": [
       "HBox(children=(FloatProgress(value=0.0, description='Training univariate transforms', max=6.0, style=ProgressS…"
      ]
     },
     "metadata": {},
     "output_type": "display_data"
    },
    {
     "data": {
      "application/vnd.jupyter.widget-view+json": {
       "model_id": "",
       "version_major": 2,
       "version_minor": 0
      },
      "text/plain": [
       "HBox(children=(FloatProgress(value=0.0, description='Training univariate transforms', max=6.0, style=ProgressS…"
      ]
     },
     "metadata": {},
     "output_type": "display_data"
    },
    {
     "data": {
      "application/vnd.jupyter.widget-view+json": {
       "model_id": "",
       "version_major": 2,
       "version_minor": 0
      },
      "text/plain": [
       "HBox(children=(FloatProgress(value=0.0, description='Training univariate transforms', max=6.0, style=ProgressS…"
      ]
     },
     "metadata": {},
     "output_type": "display_data"
    },
    {
     "data": {
      "application/vnd.jupyter.widget-view+json": {
       "model_id": "",
       "version_major": 2,
       "version_minor": 0
      },
      "text/plain": [
       "HBox(children=(FloatProgress(value=0.0, description='Training univariate transforms', max=6.0, style=ProgressS…"
      ]
     },
     "metadata": {},
     "output_type": "display_data"
    },
    {
     "data": {
      "application/vnd.jupyter.widget-view+json": {
       "model_id": "",
       "version_major": 2,
       "version_minor": 0
      },
      "text/plain": [
       "HBox(children=(FloatProgress(value=0.0, description='Training univariate transforms', max=6.0, style=ProgressS…"
      ]
     },
     "metadata": {},
     "output_type": "display_data"
    },
    {
     "data": {
      "application/vnd.jupyter.widget-view+json": {
       "model_id": "",
       "version_major": 2,
       "version_minor": 0
      },
      "text/plain": [
       "HBox(children=(FloatProgress(value=0.0, description='Training univariate transforms', max=6.0, style=ProgressS…"
      ]
     },
     "metadata": {},
     "output_type": "display_data"
    },
    {
     "data": {
      "application/vnd.jupyter.widget-view+json": {
       "model_id": "",
       "version_major": 2,
       "version_minor": 0
      },
      "text/plain": [
       "HBox(children=(FloatProgress(value=0.0, description='Training univariate transforms', max=6.0, style=ProgressS…"
      ]
     },
     "metadata": {},
     "output_type": "display_data"
    },
    {
     "data": {
      "application/vnd.jupyter.widget-view+json": {
       "model_id": "",
       "version_major": 2,
       "version_minor": 0
      },
      "text/plain": [
       "HBox(children=(FloatProgress(value=0.0, description='Training univariate transforms', max=6.0, style=ProgressS…"
      ]
     },
     "metadata": {},
     "output_type": "display_data"
    },
    {
     "data": {
      "application/vnd.jupyter.widget-view+json": {
       "model_id": "",
       "version_major": 2,
       "version_minor": 0
      },
      "text/plain": [
       "HBox(children=(FloatProgress(value=0.0, description='Training univariate transforms', max=6.0, style=ProgressS…"
      ]
     },
     "metadata": {},
     "output_type": "display_data"
    },
    {
     "data": {
      "application/vnd.jupyter.widget-view+json": {
       "model_id": "",
       "version_major": 2,
       "version_minor": 0
      },
      "text/plain": [
       "HBox(children=(FloatProgress(value=0.0, description='Training univariate transforms', max=6.0, style=ProgressS…"
      ]
     },
     "metadata": {},
     "output_type": "display_data"
    },
    {
     "data": {
      "application/vnd.jupyter.widget-view+json": {
       "model_id": "",
       "version_major": 2,
       "version_minor": 0
      },
      "text/plain": [
       "HBox(children=(FloatProgress(value=0.0, description='Training univariate transforms', max=6.0, style=ProgressS…"
      ]
     },
     "metadata": {},
     "output_type": "display_data"
    },
    {
     "data": {
      "application/vnd.jupyter.widget-view+json": {
       "model_id": "",
       "version_major": 2,
       "version_minor": 0
      },
      "text/plain": [
       "HBox(children=(FloatProgress(value=0.0, description='Training univariate transforms', max=6.0, style=ProgressS…"
      ]
     },
     "metadata": {},
     "output_type": "display_data"
    },
    {
     "data": {
      "application/vnd.jupyter.widget-view+json": {
       "model_id": "",
       "version_major": 2,
       "version_minor": 0
      },
      "text/plain": [
       "HBox(children=(FloatProgress(value=0.0, description='Training univariate transforms', max=6.0, style=ProgressS…"
      ]
     },
     "metadata": {},
     "output_type": "display_data"
    },
    {
     "data": {
      "application/vnd.jupyter.widget-view+json": {
       "model_id": "",
       "version_major": 2,
       "version_minor": 0
      },
      "text/plain": [
       "HBox(children=(FloatProgress(value=0.0, description='Training univariate transforms', max=6.0, style=ProgressS…"
      ]
     },
     "metadata": {},
     "output_type": "display_data"
    },
    {
     "data": {
      "application/vnd.jupyter.widget-view+json": {
       "model_id": "",
       "version_major": 2,
       "version_minor": 0
      },
      "text/plain": [
       "HBox(children=(FloatProgress(value=0.0, description='Training univariate transforms', max=6.0, style=ProgressS…"
      ]
     },
     "metadata": {},
     "output_type": "display_data"
    },
    {
     "data": {
      "application/vnd.jupyter.widget-view+json": {
       "model_id": "",
       "version_major": 2,
       "version_minor": 0
      },
      "text/plain": [
       "HBox(children=(FloatProgress(value=0.0, description='Training univariate transforms', max=6.0, style=ProgressS…"
      ]
     },
     "metadata": {},
     "output_type": "display_data"
    },
    {
     "data": {
      "application/vnd.jupyter.widget-view+json": {
       "model_id": "",
       "version_major": 2,
       "version_minor": 0
      },
      "text/plain": [
       "HBox(children=(FloatProgress(value=0.0, description='Training univariate transforms', max=6.0, style=ProgressS…"
      ]
     },
     "metadata": {},
     "output_type": "display_data"
    },
    {
     "data": {
      "application/vnd.jupyter.widget-view+json": {
       "model_id": "",
       "version_major": 2,
       "version_minor": 0
      },
      "text/plain": [
       "HBox(children=(FloatProgress(value=0.0, description='Training univariate transforms', max=6.0, style=ProgressS…"
      ]
     },
     "metadata": {},
     "output_type": "display_data"
    },
    {
     "data": {
      "application/vnd.jupyter.widget-view+json": {
       "model_id": "",
       "version_major": 2,
       "version_minor": 0
      },
      "text/plain": [
       "HBox(children=(FloatProgress(value=0.0, description='Training univariate transforms', max=6.0, style=ProgressS…"
      ]
     },
     "metadata": {},
     "output_type": "display_data"
    },
    {
     "data": {
      "application/vnd.jupyter.widget-view+json": {
       "model_id": "",
       "version_major": 2,
       "version_minor": 0
      },
      "text/plain": [
       "HBox(children=(FloatProgress(value=0.0, description='Training univariate transforms', max=6.0, style=ProgressS…"
      ]
     },
     "metadata": {},
     "output_type": "display_data"
    },
    {
     "data": {
      "application/vnd.jupyter.widget-view+json": {
       "model_id": "",
       "version_major": 2,
       "version_minor": 0
      },
      "text/plain": [
       "HBox(children=(FloatProgress(value=0.0, description='Training univariate transforms', max=6.0, style=ProgressS…"
      ]
     },
     "metadata": {},
     "output_type": "display_data"
    },
    {
     "data": {
      "application/vnd.jupyter.widget-view+json": {
       "model_id": "",
       "version_major": 2,
       "version_minor": 0
      },
      "text/plain": [
       "HBox(children=(FloatProgress(value=0.0, description='Training univariate transforms', max=6.0, style=ProgressS…"
      ]
     },
     "metadata": {},
     "output_type": "display_data"
    },
    {
     "data": {
      "application/vnd.jupyter.widget-view+json": {
       "model_id": "",
       "version_major": 2,
       "version_minor": 0
      },
      "text/plain": [
       "HBox(children=(FloatProgress(value=0.0, description='Training univariate transforms', max=6.0, style=ProgressS…"
      ]
     },
     "metadata": {},
     "output_type": "display_data"
    },
    {
     "data": {
      "application/vnd.jupyter.widget-view+json": {
       "model_id": "",
       "version_major": 2,
       "version_minor": 0
      },
      "text/plain": [
       "HBox(children=(FloatProgress(value=0.0, description='Training univariate transforms', max=6.0, style=ProgressS…"
      ]
     },
     "metadata": {},
     "output_type": "display_data"
    },
    {
     "data": {
      "application/vnd.jupyter.widget-view+json": {
       "model_id": "",
       "version_major": 2,
       "version_minor": 0
      },
      "text/plain": [
       "HBox(children=(FloatProgress(value=0.0, description='Training univariate transforms', max=6.0, style=ProgressS…"
      ]
     },
     "metadata": {},
     "output_type": "display_data"
    },
    {
     "data": {
      "application/vnd.jupyter.widget-view+json": {
       "model_id": "",
       "version_major": 2,
       "version_minor": 0
      },
      "text/plain": [
       "HBox(children=(FloatProgress(value=0.0, description='Training univariate transforms', max=6.0, style=ProgressS…"
      ]
     },
     "metadata": {},
     "output_type": "display_data"
    },
    {
     "data": {
      "application/vnd.jupyter.widget-view+json": {
       "model_id": "",
       "version_major": 2,
       "version_minor": 0
      },
      "text/plain": [
       "HBox(children=(FloatProgress(value=0.0, description='Training univariate transforms', max=6.0, style=ProgressS…"
      ]
     },
     "metadata": {},
     "output_type": "display_data"
    },
    {
     "data": {
      "application/vnd.jupyter.widget-view+json": {
       "model_id": "",
       "version_major": 2,
       "version_minor": 0
      },
      "text/plain": [
       "HBox(children=(FloatProgress(value=0.0, description='Training univariate transforms', max=6.0, style=ProgressS…"
      ]
     },
     "metadata": {},
     "output_type": "display_data"
    },
    {
     "data": {
      "application/vnd.jupyter.widget-view+json": {
       "model_id": "",
       "version_major": 2,
       "version_minor": 0
      },
      "text/plain": [
       "HBox(children=(FloatProgress(value=0.0, description='Training univariate transforms', max=6.0, style=ProgressS…"
      ]
     },
     "metadata": {},
     "output_type": "display_data"
    },
    {
     "data": {
      "application/vnd.jupyter.widget-view+json": {
       "model_id": "",
       "version_major": 2,
       "version_minor": 0
      },
      "text/plain": [
       "HBox(children=(FloatProgress(value=0.0, description='Training univariate transforms', max=6.0, style=ProgressS…"
      ]
     },
     "metadata": {},
     "output_type": "display_data"
    },
    {
     "data": {
      "application/vnd.jupyter.widget-view+json": {
       "model_id": "",
       "version_major": 2,
       "version_minor": 0
      },
      "text/plain": [
       "HBox(children=(FloatProgress(value=0.0, description='Training univariate transforms', max=6.0, style=ProgressS…"
      ]
     },
     "metadata": {},
     "output_type": "display_data"
    },
    {
     "data": {
      "application/vnd.jupyter.widget-view+json": {
       "model_id": "",
       "version_major": 2,
       "version_minor": 0
      },
      "text/plain": [
       "HBox(children=(FloatProgress(value=0.0, description='Training univariate transforms', max=6.0, style=ProgressS…"
      ]
     },
     "metadata": {},
     "output_type": "display_data"
    },
    {
     "data": {
      "application/vnd.jupyter.widget-view+json": {
       "model_id": "",
       "version_major": 2,
       "version_minor": 0
      },
      "text/plain": [
       "HBox(children=(FloatProgress(value=0.0, description='Training univariate transforms', max=6.0, style=ProgressS…"
      ]
     },
     "metadata": {},
     "output_type": "display_data"
    },
    {
     "data": {
      "application/vnd.jupyter.widget-view+json": {
       "model_id": "",
       "version_major": 2,
       "version_minor": 0
      },
      "text/plain": [
       "HBox(children=(FloatProgress(value=0.0, description='Training univariate transforms', max=6.0, style=ProgressS…"
      ]
     },
     "metadata": {},
     "output_type": "display_data"
    },
    {
     "data": {
      "application/vnd.jupyter.widget-view+json": {
       "model_id": "",
       "version_major": 2,
       "version_minor": 0
      },
      "text/plain": [
       "HBox(children=(FloatProgress(value=0.0, description='Training univariate transforms', max=6.0, style=ProgressS…"
      ]
     },
     "metadata": {},
     "output_type": "display_data"
    },
    {
     "data": {
      "application/vnd.jupyter.widget-view+json": {
       "model_id": "",
       "version_major": 2,
       "version_minor": 0
      },
      "text/plain": [
       "HBox(children=(FloatProgress(value=0.0, description='Training univariate transforms', max=6.0, style=ProgressS…"
      ]
     },
     "metadata": {},
     "output_type": "display_data"
    },
    {
     "data": {
      "application/vnd.jupyter.widget-view+json": {
       "model_id": "",
       "version_major": 2,
       "version_minor": 0
      },
      "text/plain": [
       "HBox(children=(FloatProgress(value=0.0, description='Training univariate transforms', max=6.0, style=ProgressS…"
      ]
     },
     "metadata": {},
     "output_type": "display_data"
    },
    {
     "data": {
      "application/vnd.jupyter.widget-view+json": {
       "model_id": "",
       "version_major": 2,
       "version_minor": 0
      },
      "text/plain": [
       "HBox(children=(FloatProgress(value=0.0, description='Training univariate transforms', max=6.0, style=ProgressS…"
      ]
     },
     "metadata": {},
     "output_type": "display_data"
    },
    {
     "data": {
      "application/vnd.jupyter.widget-view+json": {
       "model_id": "",
       "version_major": 2,
       "version_minor": 0
      },
      "text/plain": [
       "HBox(children=(FloatProgress(value=0.0, description='Training univariate transforms', max=6.0, style=ProgressS…"
      ]
     },
     "metadata": {},
     "output_type": "display_data"
    },
    {
     "data": {
      "application/vnd.jupyter.widget-view+json": {
       "model_id": "",
       "version_major": 2,
       "version_minor": 0
      },
      "text/plain": [
       "HBox(children=(FloatProgress(value=0.0, description='Training univariate transforms', max=6.0, style=ProgressS…"
      ]
     },
     "metadata": {},
     "output_type": "display_data"
    },
    {
     "data": {
      "application/vnd.jupyter.widget-view+json": {
       "model_id": "",
       "version_major": 2,
       "version_minor": 0
      },
      "text/plain": [
       "HBox(children=(FloatProgress(value=0.0, description='Training univariate transforms', max=6.0, style=ProgressS…"
      ]
     },
     "metadata": {},
     "output_type": "display_data"
    },
    {
     "data": {
      "application/vnd.jupyter.widget-view+json": {
       "model_id": "",
       "version_major": 2,
       "version_minor": 0
      },
      "text/plain": [
       "HBox(children=(FloatProgress(value=0.0, description='Training univariate transforms', max=6.0, style=ProgressS…"
      ]
     },
     "metadata": {},
     "output_type": "display_data"
    },
    {
     "data": {
      "application/vnd.jupyter.widget-view+json": {
       "model_id": "",
       "version_major": 2,
       "version_minor": 0
      },
      "text/plain": [
       "HBox(children=(FloatProgress(value=0.0, description='Training univariate transforms', max=6.0, style=ProgressS…"
      ]
     },
     "metadata": {},
     "output_type": "display_data"
    },
    {
     "data": {
      "application/vnd.jupyter.widget-view+json": {
       "model_id": "",
       "version_major": 2,
       "version_minor": 0
      },
      "text/plain": [
       "HBox(children=(FloatProgress(value=0.0, description='Training univariate transforms', max=6.0, style=ProgressS…"
      ]
     },
     "metadata": {},
     "output_type": "display_data"
    },
    {
     "data": {
      "application/vnd.jupyter.widget-view+json": {
       "model_id": "",
       "version_major": 2,
       "version_minor": 0
      },
      "text/plain": [
       "HBox(children=(FloatProgress(value=0.0, description='Training univariate transforms', max=6.0, style=ProgressS…"
      ]
     },
     "metadata": {},
     "output_type": "display_data"
    },
    {
     "data": {
      "application/vnd.jupyter.widget-view+json": {
       "model_id": "",
       "version_major": 2,
       "version_minor": 0
      },
      "text/plain": [
       "HBox(children=(FloatProgress(value=0.0, description='Training univariate transforms', max=6.0, style=ProgressS…"
      ]
     },
     "metadata": {},
     "output_type": "display_data"
    },
    {
     "data": {
      "application/vnd.jupyter.widget-view+json": {
       "model_id": "",
       "version_major": 2,
       "version_minor": 0
      },
      "text/plain": [
       "HBox(children=(FloatProgress(value=0.0, description='Training univariate transforms', max=6.0, style=ProgressS…"
      ]
     },
     "metadata": {},
     "output_type": "display_data"
    },
    {
     "data": {
      "application/vnd.jupyter.widget-view+json": {
       "model_id": "",
       "version_major": 2,
       "version_minor": 0
      },
      "text/plain": [
       "HBox(children=(FloatProgress(value=0.0, description='Training univariate transforms', max=6.0, style=ProgressS…"
      ]
     },
     "metadata": {},
     "output_type": "display_data"
    },
    {
     "data": {
      "application/vnd.jupyter.widget-view+json": {
       "model_id": "",
       "version_major": 2,
       "version_minor": 0
      },
      "text/plain": [
       "HBox(children=(FloatProgress(value=0.0, description='Training univariate transforms', max=6.0, style=ProgressS…"
      ]
     },
     "metadata": {},
     "output_type": "display_data"
    },
    {
     "data": {
      "application/vnd.jupyter.widget-view+json": {
       "model_id": "",
       "version_major": 2,
       "version_minor": 0
      },
      "text/plain": [
       "HBox(children=(FloatProgress(value=0.0, description='Training univariate transforms', max=6.0, style=ProgressS…"
      ]
     },
     "metadata": {},
     "output_type": "display_data"
    },
    {
     "data": {
      "application/vnd.jupyter.widget-view+json": {
       "model_id": "",
       "version_major": 2,
       "version_minor": 0
      },
      "text/plain": [
       "HBox(children=(FloatProgress(value=0.0, description='Training univariate transforms', max=6.0, style=ProgressS…"
      ]
     },
     "metadata": {},
     "output_type": "display_data"
    },
    {
     "data": {
      "application/vnd.jupyter.widget-view+json": {
       "model_id": "",
       "version_major": 2,
       "version_minor": 0
      },
      "text/plain": [
       "HBox(children=(FloatProgress(value=0.0, description='Training univariate transforms', max=6.0, style=ProgressS…"
      ]
     },
     "metadata": {},
     "output_type": "display_data"
    },
    {
     "data": {
      "application/vnd.jupyter.widget-view+json": {
       "model_id": "",
       "version_major": 2,
       "version_minor": 0
      },
      "text/plain": [
       "HBox(children=(FloatProgress(value=0.0, description='Training univariate transforms', max=6.0, style=ProgressS…"
      ]
     },
     "metadata": {},
     "output_type": "display_data"
    },
    {
     "data": {
      "application/vnd.jupyter.widget-view+json": {
       "model_id": "",
       "version_major": 2,
       "version_minor": 0
      },
      "text/plain": [
       "HBox(children=(FloatProgress(value=0.0, description='Training univariate transforms', max=6.0, style=ProgressS…"
      ]
     },
     "metadata": {},
     "output_type": "display_data"
    },
    {
     "data": {
      "application/vnd.jupyter.widget-view+json": {
       "model_id": "",
       "version_major": 2,
       "version_minor": 0
      },
      "text/plain": [
       "HBox(children=(FloatProgress(value=0.0, description='Training univariate transforms', max=6.0, style=ProgressS…"
      ]
     },
     "metadata": {},
     "output_type": "display_data"
    },
    {
     "data": {
      "application/vnd.jupyter.widget-view+json": {
       "model_id": "",
       "version_major": 2,
       "version_minor": 0
      },
      "text/plain": [
       "HBox(children=(FloatProgress(value=0.0, description='Training univariate transforms', max=6.0, style=ProgressS…"
      ]
     },
     "metadata": {},
     "output_type": "display_data"
    },
    {
     "data": {
      "application/vnd.jupyter.widget-view+json": {
       "model_id": "",
       "version_major": 2,
       "version_minor": 0
      },
      "text/plain": [
       "HBox(children=(FloatProgress(value=0.0, description='Training univariate transforms', max=6.0, style=ProgressS…"
      ]
     },
     "metadata": {},
     "output_type": "display_data"
    },
    {
     "data": {
      "application/vnd.jupyter.widget-view+json": {
       "model_id": "",
       "version_major": 2,
       "version_minor": 0
      },
      "text/plain": [
       "HBox(children=(FloatProgress(value=0.0, description='Training univariate transforms', max=6.0, style=ProgressS…"
      ]
     },
     "metadata": {},
     "output_type": "display_data"
    },
    {
     "data": {
      "application/vnd.jupyter.widget-view+json": {
       "model_id": "",
       "version_major": 2,
       "version_minor": 0
      },
      "text/plain": [
       "HBox(children=(FloatProgress(value=0.0, description='Training univariate transforms', max=6.0, style=ProgressS…"
      ]
     },
     "metadata": {},
     "output_type": "display_data"
    },
    {
     "name": "stdout",
     "output_type": "stream",
     "text": [
      "* AUC:0.585\n",
      "* MAE:0.185\n"
     ]
    }
   ],
   "source": [
    "print(\"* NClusters: {}\\n* Dim:{}\\n* auc_pn_range:{}\\n* NBags:{}\\n* NPos:{}\\n* NUnlabeled:{}\\n\".format(NClusters,\n",
    "                                                                                        Dim,\n",
    "                                                                                        aucpn_range,\n",
    "                                                                                        NBags,\n",
    "                                                                                        NPos,\n",
    "                                                                                        NUnlabeled))\n",
    "drem = DensityRatioEM(bags,len(posMeans))\n",
    "# True Posterior\n",
    "print(\"\\n**True PN Posterior**\\n\")\n",
    "drem.run(componentInfo=EasyDict({\"posMeans\":posMeans,\n",
    "                   \"posCovs\":posCovs,\n",
    "                   \"negMeans\":negMeans,\n",
    "                   \"negCovs\":negCovs}))\n",
    "print(\"* AUC:{:.3f}\\n* MAE:{:.3f}\\n\".format(drem.getAUC(),np.mean(np.abs(drem.alphaHats - [b.alpha for b in drem.bags]))))\n",
    "# DREM\n",
    "drem.run()\n",
    "print(\"**DREM**\\n\")\n",
    "print(\"* AUC:{:.3f}\\n* MAE:{:.3f}\".format(drem.getAUC(),np.mean(np.abs(drem.alphaHats - [b.alpha for b in drem.bags]))))\n",
    "# Baseline\n",
    "print(\"\\n**Baseline**\\n\")\n",
    "print(\"* AUC:{:.3f}\\n* MAE:{:.3f}\".format(*baseline(bags)))\n"
   ]
  },
  {
   "cell_type": "code",
   "execution_count": null,
   "metadata": {},
   "outputs": [],
   "source": []
  },
  {
   "cell_type": "markdown",
   "metadata": {},
   "source": [
    "# Results V2\n",
    "\n",
    "## Experiment 1\n",
    "* NClusters: 3\n",
    "* Dim:2\n",
    "* auc_pn_range:[0.9, 1.0]\n",
    "* NBags:100\n",
    "* NPos:100\n",
    "* NUnlabeled:250\n",
    "\n",
    "\n",
    "**True PN Posterior**\n",
    "\n",
    "* AUC:0.934\n",
    "* MAE:0.023\n",
    "\n",
    "**DREM**\n",
    "\n",
    "* AUC:0.671\n",
    "* MAE:0.172\n",
    "\n",
    "**Baseline**\n",
    "\n",
    "* AUC:0.615\n",
    "* MAE:0.186\n",
    "\n",
    "## Experiment 2\n",
    "* NClusters: 3\n",
    "* Dim:5\n",
    "* auc_pn_range:[0.9, 1.0]\n",
    "* NBags:100\n",
    "* NPos:100\n",
    "* NUnlabeled:250\n",
    "\n",
    "\n",
    "**True PN Posterior**\n",
    "\n",
    "* AUC:0.932\n",
    "* MAE:0.018\n",
    "\n",
    "**DREM**\n",
    "\n",
    "* AUC:0.888\n",
    "* MAE:0.093\n",
    "\n",
    "**Baseline**\n",
    "\n",
    "* AUC:0.595\n",
    "* MAE:0.168\n",
    "\n",
    "## Experiment 3\n",
    "* NClusters: 3\n",
    "* Dim:5\n",
    "* auc_pn_range:[0.8, 0.9]\n",
    "* NBags:100\n",
    "* NPos:100\n",
    "* NUnlabeled:250\n",
    "\n",
    "\n",
    "**True PN Posterior**\n",
    "\n",
    "* AUC:0.882\n",
    "* MAE:0.039\n",
    "\n",
    "**DREM**\n",
    "\n",
    "* AUC:0.758\n",
    "* MAE:0.128\n",
    "\n",
    "**Baseline**\n",
    "\n",
    "* AUC:0.591\n",
    "* MAE:0.168\n",
    "\n",
    "## Experiment 4\n",
    "* NClusters: 3\n",
    "* Dim:10\n",
    "* auc_pn_range:[0.8, 0.9]\n",
    "* NBags:100\n",
    "* NPos:100\n",
    "* NUnlabeled:250\n",
    "\n",
    "\n",
    "**True PN Posterior**\n",
    "\n",
    "* AUC:0.879\n",
    "* MAE:0.038\n",
    "\n",
    "**DREM**\n",
    "\n",
    "* AUC:0.500\n",
    "* MAE:0.489\n",
    "\n",
    "**Baseline**\n",
    "\n",
    "* AUC:0.563\n",
    "* MAE:0.191\n",
    "\n",
    "## Experiment 5\n",
    "* NClusters: 3\n",
    "* Dim:10\n",
    "* auc_pn_range:[0.9, 1.0]\n",
    "* NBags:100\n",
    "* NPos:100\n",
    "* NUnlabeled:250\n",
    "\n",
    "\n",
    "**True PN Posterior**\n",
    "\n",
    "* AUC:0.929\n",
    "* MAE:0.025\n",
    "\n",
    "**DREM**\n",
    "\n",
    "* AUC:0.500\n",
    "* MAE:0.520\n",
    "\n",
    "**Baseline**\n",
    "\n",
    "* AUC:0.568\n",
    "* MAE:0.203\n",
    "\n",
    "## Experiment 6\n",
    "* NClusters: 3\n",
    "* Dim:10\n",
    "* auc_pn_range:[0.95, 1.0]\n",
    "* NBags:100\n",
    "* NPos:100\n",
    "* NUnlabeled:250\n",
    "\n",
    "\n",
    "**True PN Posterior**\n",
    "\n",
    "* AUC:0.966\n",
    "* MAE:0.018\n",
    "\n",
    "**DREM**\n",
    "\n",
    "* AUC:0.564\n",
    "* MAE:0.329\n",
    "\n",
    "**Baseline**\n",
    "\n",
    "* AUC:0.616\n",
    "* MAE:0.158"
   ]
  },
  {
   "cell_type": "markdown",
   "metadata": {},
   "source": [
    "# Results v1\n",
    "**Experiment 1**\n",
    "\n",
    "* 3 Clusters\n",
    "* 2D\n",
    "* AUC in [0.99,1]\n",
    "* 100 bags\n",
    "* 100P / 250U\n",
    "\n",
    "**DREM**\n",
    "\n",
    "* AUC: 0.982\n",
    "* MAE: 0.027\n",
    "\n",
    "*Local*\n",
    "* 0.877\n",
    "* 0.088\n",
    "\n",
    "**Experiment 2**\n",
    "\n",
    "* 3 Clusters\n",
    "* 5D\n",
    "* AUC in [0.99,1]\n",
    "* 100 bags\n",
    "* 100P / 250U\n",
    "\n",
    "**DREM**\n",
    "\n",
    "* AUC: 0.990\n",
    "* MAE: 0.0420\n",
    "\n",
    "*Local*\n",
    "* AUC: 0.784\n",
    "* MAE: 0.154\n",
    "\n",
    "\n",
    "**Experiment 3**\n",
    "\n",
    "* 2 Clusters\n",
    "* 2D\n",
    "* AUC in [0.9,1]\n",
    "* 100 bags\n",
    "* 100P / 250U\n",
    "\n",
    "**DREM**\n",
    "\n",
    "* AUC: 0.915\n",
    "* MAE: 0.051\n",
    "\n",
    "*Local*\n",
    "* AUC: 0.695\n",
    "* MAE: 0.198\n",
    "\n",
    "**Experiment 4**\n",
    "* 2 clusters\n",
    "* 2D\n",
    "* AUCPN in [0.8,0.9]\n",
    "* 100 bags\n",
    "* 100P / 250U\n",
    "\n",
    "**DREM**\n",
    "* 0.836\n",
    "* 0.103\n",
    "\n",
    "*Local*\n",
    "* 0.64\n",
    "* 0.22\n",
    "\n",
    "**Experiment 5**\n",
    "* 3 Clusters\n",
    "* 5D\n",
    "* AUCPN [0.8,0.9]\n",
    "* 100 bags\n",
    "* 100P /250U\n",
    "\n",
    "**DREM**\n",
    "* AUC: 0.6085\n",
    "* MAE: 0.2153\n",
    "\n",
    "*Local*\n",
    "* AUC: .587\n",
    "* MAE: 0.191\n",
    "\n",
    "**Experiment 5**\n",
    "* 3 Clusters\n",
    "* 5D\n",
    "* AUCPN [0.7,0.8]\n",
    "* 100 bags\n",
    "* 100P /250U\n",
    "\n",
    "*DREM*\n",
    "* AUC: 0.5\n",
    "* MAE: 0.5\n",
    "\n",
    "**Local**\n",
    "* AUC: .536\n",
    "* MAE: 0.194\n",
    "\n",
    "**Experiment 6**\n",
    "* 5 Clusters\n",
    "* 10D\n",
    "* AUCPN [0.7,0.8]\n",
    "* 100 bags\n",
    "* 100P /250U\n",
    "\n",
    "**DREM**\n",
    "* AUC: 0.617\n",
    "* MAE: 0.242\n",
    "\n",
    "*Local*\n",
    "* AUC: .53\n",
    "* MAE: 0.22\n",
    "\n",
    "**Experiment 7**\n",
    "* 5 Clusters\n",
    "* 10D\n",
    "* AUCPN [0.9, 1.0]\n",
    "* 100 bags\n",
    "* 100P /250U\n",
    "\n",
    "*DREM*\n",
    "* AUC: 0.61\n",
    "* MAE: 0.25\n",
    "\n",
    "**Local**\n",
    "* AUC: .63\n",
    "* MAE: 0.2\n",
    "\n"
   ]
  },
  {
   "cell_type": "code",
   "execution_count": null,
   "metadata": {},
   "outputs": [],
   "source": []
  }
 ],
 "metadata": {
  "kernelspec": {
   "display_name": "tf",
   "language": "python",
   "name": "tf"
  },
  "language_info": {
   "codemirror_mode": {
    "name": "ipython",
    "version": 3
   },
   "file_extension": ".py",
   "mimetype": "text/x-python",
   "name": "python",
   "nbconvert_exporter": "python",
   "pygments_lexer": "ipython3",
   "version": "3.7.7"
  }
 },
 "nbformat": 4,
 "nbformat_minor": 4
}
