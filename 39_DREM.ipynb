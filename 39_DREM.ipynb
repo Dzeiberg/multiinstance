{
 "cells": [
  {
   "cell_type": "code",
   "execution_count": 119,
   "metadata": {
    "ExecuteTime": {
     "end_time": "2021-04-16T19:53:50.968512Z",
     "start_time": "2021-04-16T19:53:50.917962Z"
    }
   },
   "outputs": [],
   "source": [
    "# default_exp density_ratio_em"
   ]
  },
  {
   "cell_type": "code",
   "execution_count": 1,
   "metadata": {
    "ExecuteTime": {
     "end_time": "2021-04-16T18:31:06.441847Z",
     "start_time": "2021-04-16T18:31:06.419624Z"
    }
   },
   "outputs": [],
   "source": [
    "%load_ext autoreload\n",
    "%autoreload 2"
   ]
  },
  {
   "cell_type": "code",
   "execution_count": 120,
   "metadata": {
    "ExecuteTime": {
     "end_time": "2021-04-16T19:53:57.718075Z",
     "start_time": "2021-04-16T19:53:57.649829Z"
    }
   },
   "outputs": [],
   "source": [
    "# export\n",
    "from multiinstance.em import generateBags\n",
    "from multiinstance.utils import estimate\n",
    "from multiinstance.nnpu import getPosterior as getNNPUPosterior\n",
    "\n",
    "import numpy as np\n",
    "import matplotlib.pyplot as plt\n",
    "import scipy.stats as ss\n",
    "from sklearn.cluster import KMeans\n",
    "from easydict import EasyDict\n",
    "from scipy.spatial.distance import cdist"
   ]
  },
  {
   "cell_type": "code",
   "execution_count": 121,
   "metadata": {
    "ExecuteTime": {
     "end_time": "2021-04-16T19:54:07.869838Z",
     "start_time": "2021-04-16T19:54:07.799373Z"
    }
   },
   "outputs": [],
   "source": [
    "# export\n",
    "class DensityRatioEM:\n",
    "    def __init__(self, bags,n_clusters):\n",
    "        self.bags = bags\n",
    "        self.n_clusters = n_clusters\n",
    "\n",
    "    def findGlobalClusters(self):\n",
    "        \"Run K-Means on the positives from all bags then assign each unlabeled point to a cluster based on the resulting clusters of K-Means\"\n",
    "        globalPositives = np.concatenate([b.X_pos for b in bags])\n",
    "        kmeans = KMeans(n_clusters=self.n_clusters).fit(globalPositives)\n",
    "        # Cluster Unlabeled\n",
    "        for bagNum,b in enumerate(self.bags):\n",
    "            self.bags[bagNum].unlabeled_cluster_assignment = kmeans.predict(b.x_unlabeled)\n",
    "            self.bags[bagNum].positive_cluster_assignment = kmeans.predict(b.X_pos)\n",
    "        self.kmeans = kmeans\n",
    "\n",
    "    def getClusterEstimates(self):\n",
    "        \"Estimate the class prior and density ratios of the unlabeled points for each cluster\"\n",
    "        self.clusterAlphaHats= np.zeros(self.n_clusters)\n",
    "        # NClusters x NBags size list containing the density ratio for the unlabeled points\n",
    "        # from the specified bag in the specified cluster\n",
    "        self.bagRatios = []\n",
    "        for cnum in range(self.n_clusters):\n",
    "            unlabeledInCluster = [b.x_unlabeled[b.unlabeled_cluster_assignment == cnum] for b in self.bags]\n",
    "            posInCluster = [b.X_pos[b.positive_cluster_assignment == cnum] for b in self.bags]\n",
    "            unlabeled = np.concatenate(unlabeledInCluster)\n",
    "            positive = np.concatenate(posInCluster)\n",
    "            # estimate class prior\n",
    "            self.clusterAlphaHats[cnum],_ = estimate(positive, unlabeled)\n",
    "            # Estimate density ratio for all unlabeled points in each bag that are in this cluster\n",
    "            self.bagRatios.append(self.estimateClusterDensityRatio(posInCluster,\n",
    "                                                                   unlabeledInCluster,\n",
    "                                                                   cnum))\n",
    "\n",
    "    def ratioFromPosteriorVec(self, posts, alpha):\n",
    "        return (alpha * (1 - posts)) / (posts * (1 - alpha))\n",
    "\n",
    "    def estimateClusterDensityRatio(self,posInCluster,unlabeledInCluster,cnum,\n",
    "                                 args=EasyDict(d={'batchsize': 128,\n",
    "                                                  'hdim': 4,\n",
    "                                                  'epochs': 100,\n",
    "                                                  'lr': 0.001,\n",
    "                                                  'weightDecayRate': 0.005})):\n",
    "        p = np.concatenate(posInCluster)\n",
    "        u = np.concatenate(unlabeledInCluster)\n",
    "        # PU Labels {1: pos, -1: unlabeled}\n",
    "        y = np.concatenate((np.ones(p.shape[0]),\n",
    "                            np.ones(u.shape[0])*-1)).astype(np.int32)\n",
    "        # Run NNPU\n",
    "        posteriors = getNNPUPosterior(np.concatenate((p,u)).astype(np.float32),\n",
    "                                      y,\n",
    "                                      self.clusterAlphaHats[cnum],\n",
    "                                      args = args)\n",
    "        # convert cluster posterior to density ratio\n",
    "        ratios = self.ratioFromPosteriorVec(posteriors, self.clusterAlphaHats[cnum])\n",
    "        # Remove positive points from posterior list\n",
    "        ratios = ratios[p.shape[0]:]\n",
    "        # Store the ratios for the unlabeled set of each bag\n",
    "        bagRatios = []\n",
    "        # Get ratios for unlabeled sets of each bag\n",
    "        idx = 0\n",
    "        for bagNum in range(len(posInCluster)):\n",
    "            numU = unlabeledInCluster[bagNum].shape[0]\n",
    "            bagRatios.append(ratios[idx:idx+numU])\n",
    "            idx += numU\n",
    "        return bagRatios\n",
    "    \n",
    "    def EM(self,NIters=500):\n",
    "        self.eta = np.zeros((len(self.bags), self.n_clusters))\n",
    "        for cnum in range(self.n_clusters):\n",
    "            for bagNum, b in enumerate(self.bags):\n",
    "                ratios = self.bagRatios[cnum][bagNum]\n",
    "                eta_i_j = np.array(.5)\n",
    "                for em_iter in range(NIters):\n",
    "                    den = eta_i_j + (1 - eta_i_j) * ratios\n",
    "                    eta_i_j = np.mean(eta_i_j / den)\n",
    "                self.eta[bagNum,cnum] = eta_i_j\n",
    "    \n",
    "    def run(self):\n",
    "        self.findGlobalClusters()\n",
    "        self.getClusterEstimates()\n",
    "        self.EM()\n",
    "        self.estimateBagParameters()\n",
    "\n",
    "    def estimateBagParameters(self):\n",
    "        N = len(self.bags)\n",
    "        self.alphaHats = np.zeros(N)\n",
    "        self.pi = np.zeros((N,self.n_clusters))\n",
    "        self.rho = np.zeros((N,self.n_clusters))\n",
    "        for bagNum, b in enumerate(self.bags):\n",
    "            eta_j = self.eta[bagNum]\n",
    "            gamma_j = np.unique(b.unlabeled_cluster_assignment,\n",
    "                                return_counts=True)[1] / b.unlabeled_cluster_assignment.shape[0]\n",
    "            alpha_j = eta_j.dot(gamma_j)\n",
    "            pi_j = np.multiply(eta_j, gamma_j) / alpha_j\n",
    "            rho_j = np.multiply(1 - eta_j, gamma_j) / (1 - alpha_j)\n",
    "            self.alphaHats[bagNum] = alpha_j\n",
    "            self.pi[bagNum] = pi_j\n",
    "            self.rho[bagNum] = rho_j"
   ]
  },
  {
   "cell_type": "code",
   "execution_count": 122,
   "metadata": {
    "ExecuteTime": {
     "end_time": "2021-04-16T19:54:10.543760Z",
     "start_time": "2021-04-16T19:54:10.393291Z"
    }
   },
   "outputs": [],
   "source": [
    "posMeans = [[-2,-6], [6,6]]\n",
    "negMeans = [[-1,-2], [4,3]]\n",
    "bags = generateBags(100,pos_means=posMeans,\n",
    "                    neg_means=negMeans,NPos=25,NUnlabeled=75)"
   ]
  },
  {
   "cell_type": "code",
   "execution_count": 123,
   "metadata": {
    "ExecuteTime": {
     "end_time": "2021-04-16T19:54:10.680090Z",
     "start_time": "2021-04-16T19:54:10.628601Z"
    }
   },
   "outputs": [],
   "source": [
    "drem = DensityRatioEM(bags,len(posMeans))"
   ]
  },
  {
   "cell_type": "code",
   "execution_count": null,
   "metadata": {
    "ExecuteTime": {
     "start_time": "2021-04-16T19:54:11.133Z"
    }
   },
   "outputs": [],
   "source": [
    "drem.run()"
   ]
  },
  {
   "cell_type": "code",
   "execution_count": null,
   "metadata": {
    "ExecuteTime": {
     "start_time": "2021-04-16T19:54:12.233Z"
    }
   },
   "outputs": [],
   "source": [
    "np.mean(np.abs(drem.alphaHats - np.array([b.alpha for b in bags])))"
   ]
  },
  {
   "cell_type": "code",
   "execution_count": null,
   "metadata": {},
   "outputs": [],
   "source": []
  }
 ],
 "metadata": {
  "kernelspec": {
   "display_name": "tf",
   "language": "python",
   "name": "tf"
  },
  "language_info": {
   "codemirror_mode": {
    "name": "ipython",
    "version": 3
   },
   "file_extension": ".py",
   "mimetype": "text/x-python",
   "name": "python",
   "nbconvert_exporter": "python",
   "pygments_lexer": "ipython3",
   "version": "3.7.7"
  }
 },
 "nbformat": 4,
 "nbformat_minor": 4
}
