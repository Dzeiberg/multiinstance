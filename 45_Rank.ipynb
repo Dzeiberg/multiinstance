{
 "cells": [
  {
   "cell_type": "code",
   "execution_count": null,
   "metadata": {},
   "outputs": [],
   "source": [
    "# default_exp ranker"
   ]
  },
  {
   "cell_type": "code",
   "execution_count": null,
   "metadata": {},
   "outputs": [],
   "source": [
    "from tensorflow import one_hot"
   ]
  },
  {
   "cell_type": "code",
   "execution_count": null,
   "metadata": {},
   "outputs": [],
   "source": [
    "# export\n",
    "from multiinstance.data.gaussian_dg import GaussianMixtureDataGenerator\n",
    "\n",
    "import matplotlib.pyplot as plt\n",
    "\n",
    "from dist_curve.transforms import getOptimalTransform\n",
    "\n",
    "from sklearn.metrics import roc_auc_score\n",
    "\n",
    "from tqdm.notebook import tqdm,trange\n",
    "\n",
    "import numpy as np\n",
    "\n",
    "from sklearn.model_selection import train_test_split\n",
    "\n",
    "import tensorflow as tf\n",
    "\n",
    "# from multiinstance.density_ratio_em import DensityRatioEM\n",
    "\n",
    "from multiinstance.nnpu import getPosterior\n",
    "\n",
    "from easydict import EasyDict\n",
    "from sklearn.model_selection import StratifiedKFold"
   ]
  },
  {
   "cell_type": "code",
   "execution_count": null,
   "metadata": {},
   "outputs": [],
   "source": [
    "dg = GaussianMixtureDataGenerator(10,1,[0.8,.9],1000,10000)"
   ]
  },
  {
   "cell_type": "code",
   "execution_count": null,
   "metadata": {},
   "outputs": [],
   "source": [
    "[xPU,yPU,yPN] = dg.pu_data()"
   ]
  },
  {
   "cell_type": "code",
   "execution_count": null,
   "metadata": {},
   "outputs": [],
   "source": [
    "# xPUTrain,xPUVal,yPUTrain,yPUVal,yPNTrain,yPNVal = train_test_split(xPU,yPU,yPN)\n",
    "\n",
    "xPUTrain,xPUVal,yPUTrain,yPUVal,yPNTrain,yPNVal = train_test_split(xPU,yPU,yPN,test_size=.2)\n",
    "yPUTrain= yPUTrain[:,0].astype(bool)\n",
    "posTrain = xPUTrain[yPUTrain]\n",
    "uTrain = xPUTrain[~yPUTrain]\n",
    "posidxs = np.random.choice(np.arange(posTrain.shape[0]),size=uTrain.shape[0],replace=True)\n",
    "xpos = posTrain[posidxs]\n",
    "xPUTrain = np.concatenate((xpos,uTrain))\n",
    "yPUTrain = np.concatenate((np.ones(uTrain.shape[0]),\n",
    "                           np.zeros(uTrain.shape[0])))"
   ]
  },
  {
   "cell_type": "code",
   "execution_count": null,
   "metadata": {},
   "outputs": [],
   "source": [
    "from sklearn.metrics import dcg_score"
   ]
  },
  {
   "cell_type": "markdown",
   "metadata": {},
   "source": [
    "# RankNet"
   ]
  },
  {
   "cell_type": "code",
   "execution_count": null,
   "metadata": {},
   "outputs": [],
   "source": [
    "# export\n",
    "class RankNet:\n",
    "    def buildModel(self,input_shape):\n",
    "        layers = tf.keras.models.Sequential([\n",
    "            tf.keras.layers.Dense(128,activation=\"relu\"),\n",
    "            tf.keras.layers.Dense(128,activation=\"relu\"),\n",
    "            tf.keras.layers.Dense(128,activation=\"relu\"),\n",
    "            tf.keras.layers.Dense(1)\n",
    "        ],name=\"dense_layers\")\n",
    "        inp1 = tf.keras.layers.Input(shape=(input_shape,),name=\"input_1\")\n",
    "        inp2 = tf.keras.layers.Input(shape=(input_shape,),name=\"input_2\")\n",
    "        score_1 = layers(inp1)\n",
    "        score_2 = layers(inp2)\n",
    "        score_diff = tf.keras.layers.Subtract()([score_1, score_2])\n",
    "        prob = tf.keras.layers.Activation(\"sigmoid\")(score_diff)\n",
    "        self.model = tf.keras.models.Model(inputs=[inp1,inp2],outputs=prob)\n",
    "        self.ranker = tf.keras.backend.function([inp1],[score_1])\n",
    "        self.model.compile(tf.keras.optimizers.Adam(learning_rate=1e-4),\n",
    "                           loss=tf.keras.losses.BinaryCrossentropy())\n",
    "\n",
    "    def train(self,xPU,yPU,NIters=1000, batch_size=128,):\n",
    "        skf = StratifiedKFold()\n",
    "        ranks = np.zeros(xPU.shape[0])\n",
    "        for trainIndices,valIndices in skf.split(xPU,yPU):\n",
    "            xPUTrain,xPUVal,yPUTrain,yPUVal = xPU[trainIndices],xPU[valIndices],yPU[trainIndices],yPU[valIndices]\n",
    "            ranks[valIndices] = self.trainFold(xPUTrain,xPUVal,yPUTrain,yPUVal,NIters,batch_size)\n",
    "        print(roc_auc_score(yPU,ranks))\n",
    "        return ranks\n",
    "\n",
    "    def trainFold(self,xPUTrain,xPUVal,yPUTrain,yPUVal,NIters=10000, batch_size=128,):\n",
    "        batchesPerEpoch = np.ceil(xPUTrain.shape[0] / batch_size).astype(int) # +/- rounding error\n",
    "        self.buildModel(xPUTrain.shape[1])\n",
    "        # Early stopping variables\n",
    "        minvalLoss,patience = np.inf,0\n",
    "        posTrain,unlabeledTrain = xPUTrain[yPUTrain],xPUTrain[~yPUTrain]\n",
    "        posVal,unlabeledVal = xPUVal[yPUVal],xPUVal[~yPUVal]\n",
    "        for iters in trange(NIters,leave=False):\n",
    "            idxs1 = np.random.randint(0,high=posTrain.shape[0],size=batch_size)\n",
    "            idxs2 = np.random.randint(0,high=unlabeledTrain.shape[0],size=batch_size)\n",
    "            posInputs,unlabeledInputs = posTrain[idxs1],unlabeledTrain[idxs2]\n",
    "            inputs = np.stack([posInputs,unlabeledInputs],axis=-1)\n",
    "            b = np.random.binomial(1,.5,inputs.shape[0]).astype(bool)\n",
    "            inputs[b] = inputs[b][...,[1,0]]\n",
    "            inp1,inp2 = inputs[...,0], inputs[...,1]\n",
    "            target = ~b\n",
    "            trainLoss = self.model.train_on_batch([inp1,inp2],target)\n",
    "            if not iters % batchesPerEpoch:\n",
    "                i1 = np.random.choice(range(xPUVal.shape[0]),replace=False,\n",
    "                                       size=int(xPUVal.shape[0] / 2))\n",
    "                i2 = np.random.choice(list(set(range(xPUVal.shape[0])) - set(i1)),size=i1.shape,replace=True)\n",
    "                inp1,inp2 = xPUVal[i1],xPUVal[i2]\n",
    "                y1,y2 = yPUVal[i1],yPUVal[i2]\n",
    "                target = y1 > y2\n",
    "                valLoss = self.model.evaluate([inp1,inp2],target)\n",
    "                scores = self.ranker(xPUVal)\n",
    "                if valLoss < minvalLoss:\n",
    "                    print(\"minvalLoss, \",valLoss)\n",
    "                    minvalLoss = valLoss\n",
    "                    patience = 0\n",
    "                else:\n",
    "                    patience += 1\n",
    "                if patience == 15:\n",
    "                    break\n",
    "        return self.ranker(xPUVal)[0].ravel()\n"
   ]
  },
  {
   "cell_type": "code",
   "execution_count": null,
   "metadata": {},
   "outputs": [
    {
     "data": {
      "application/vnd.jupyter.widget-view+json": {
       "model_id": "",
       "version_major": 2,
       "version_minor": 0
      },
      "text/plain": [
       "HBox(children=(FloatProgress(value=0.0, max=1000.0), HTML(value='')))"
      ]
     },
     "metadata": {},
     "output_type": "display_data"
    },
    {
     "name": "stdout",
     "output_type": "stream",
     "text": [
      "35/35 [==============================] - 0s 1ms/step - loss: 0.7010\n",
      "minvalLoss,  0.7009699940681458\n",
      "35/35 [==============================] - 0s 1ms/step - loss: 0.7142\n",
      "35/35 [==============================] - 0s 1ms/step - loss: 0.7498\n",
      "35/35 [==============================] - 0s 933us/step - loss: 0.7996\n",
      "35/35 [==============================] - 0s 2ms/step - loss: 0.8602\n",
      "35/35 [==============================] - 0s 1ms/step - loss: 0.9572\n",
      "35/35 [==============================] - 0s 1ms/step - loss: 0.9444\n",
      "35/35 [==============================] - 0s 2ms/step - loss: 0.9469\n",
      "35/35 [==============================] - 0s 2ms/step - loss: 0.9798\n",
      "35/35 [==============================] - 0s 2ms/step - loss: 0.9524\n",
      "35/35 [==============================] - 0s 2ms/step - loss: 1.0649\n",
      "35/35 [==============================] - 0s 2ms/step - loss: 1.0709\n",
      "35/35 [==============================] - 0s 2ms/step - loss: 0.9976\n",
      "35/35 [==============================] - 0s 1ms/step - loss: 1.0373\n",
      "35/35 [==============================] - 0s 2ms/step - loss: 1.0583\n"
     ]
    },
    {
     "data": {
      "application/vnd.jupyter.widget-view+json": {
       "model_id": "",
       "version_major": 2,
       "version_minor": 0
      },
      "text/plain": [
       "HBox(children=(FloatProgress(value=0.0, max=1000.0), HTML(value='')))"
      ]
     },
     "metadata": {},
     "output_type": "display_data"
    },
    {
     "name": "stdout",
     "output_type": "stream",
     "text": [
      "35/35 [==============================] - 0s 1ms/step - loss: 0.6966\n",
      "minvalLoss,  0.6966102719306946\n",
      "35/35 [==============================] - 0s 1ms/step - loss: 0.6936\n",
      "minvalLoss,  0.6936156153678894\n",
      "35/35 [==============================] - 0s 1ms/step - loss: 0.7039\n",
      "35/35 [==============================] - 0s 1ms/step - loss: 0.7140\n",
      "35/35 [==============================] - 0s 1ms/step - loss: 0.7503\n",
      "35/35 [==============================] - 0s 1ms/step - loss: 0.7200\n",
      "35/35 [==============================] - 0s 867us/step - loss: 0.7549\n",
      "35/35 [==============================] - 0s 848us/step - loss: 0.8040\n",
      "35/35 [==============================] - 0s 1ms/step - loss: 0.7936\n",
      "35/35 [==============================] - 0s 1ms/step - loss: 0.7837\n",
      "35/35 [==============================] - 0s 2ms/step - loss: 0.7958\n",
      "35/35 [==============================] - 0s 2ms/step - loss: 0.8792\n",
      "35/35 [==============================] - 0s 2ms/step - loss: 0.8272\n",
      "35/35 [==============================] - 0s 2ms/step - loss: 0.8343\n",
      "35/35 [==============================] - 0s 2ms/step - loss: 0.8393\n"
     ]
    },
    {
     "data": {
      "application/vnd.jupyter.widget-view+json": {
       "model_id": "",
       "version_major": 2,
       "version_minor": 0
      },
      "text/plain": [
       "HBox(children=(FloatProgress(value=0.0, max=1000.0), HTML(value='')))"
      ]
     },
     "metadata": {},
     "output_type": "display_data"
    },
    {
     "name": "stdout",
     "output_type": "stream",
     "text": [
      "35/35 [==============================] - 0s 1ms/step - loss: 0.7032\n",
      "minvalLoss,  0.7032293677330017\n",
      "35/35 [==============================] - 0s 2ms/step - loss: 0.6818\n",
      "minvalLoss,  0.681765079498291\n",
      "35/35 [==============================] - 0s 1ms/step - loss: 0.7004\n",
      "35/35 [==============================] - 0s 2ms/step - loss: 0.7028\n",
      "35/35 [==============================] - 0s 1ms/step - loss: 0.7244\n",
      "35/35 [==============================] - 0s 2ms/step - loss: 0.7350\n",
      "35/35 [==============================] - 0s 2ms/step - loss: 0.7588\n",
      "35/35 [==============================] - 0s 2ms/step - loss: 0.7908\n",
      "35/35 [==============================] - 0s 2ms/step - loss: 0.8173\n",
      "35/35 [==============================] - 0s 1ms/step - loss: 0.8264\n",
      "35/35 [==============================] - 0s 1ms/step - loss: 0.7932\n",
      "35/35 [==============================] - 0s 1ms/step - loss: 0.8490\n",
      "35/35 [==============================] - 0s 798us/step - loss: 0.8456\n",
      "35/35 [==============================] - 0s 1ms/step - loss: 0.8377\n",
      "35/35 [==============================] - 0s 1ms/step - loss: 0.8661\n"
     ]
    },
    {
     "data": {
      "application/vnd.jupyter.widget-view+json": {
       "model_id": "",
       "version_major": 2,
       "version_minor": 0
      },
      "text/plain": [
       "HBox(children=(FloatProgress(value=0.0, max=1000.0), HTML(value='')))"
      ]
     },
     "metadata": {},
     "output_type": "display_data"
    },
    {
     "name": "stdout",
     "output_type": "stream",
     "text": [
      "35/35 [==============================] - 0s 1ms/step - loss: 0.6963\n",
      "minvalLoss,  0.6963369846343994\n",
      "35/35 [==============================] - 0s 1ms/step - loss: 0.6919\n",
      "minvalLoss,  0.6918933391571045\n",
      "35/35 [==============================] - 0s 1ms/step - loss: 0.6977\n",
      "35/35 [==============================] - 0s 2ms/step - loss: 0.7110\n",
      "35/35 [==============================] - 0s 1ms/step - loss: 0.7179\n",
      "35/35 [==============================] - 0s 2ms/step - loss: 0.7603\n",
      "35/35 [==============================] - 0s 2ms/step - loss: 0.7384\n",
      "35/35 [==============================] - 0s 1ms/step - loss: 0.7538\n",
      "35/35 [==============================] - 0s 2ms/step - loss: 0.7910\n",
      "35/35 [==============================] - 0s 1ms/step - loss: 0.7997\n",
      "35/35 [==============================] - 0s 964us/step - loss: 0.7910\n",
      "35/35 [==============================] - 0s 1ms/step - loss: 0.7859\n",
      "35/35 [==============================] - 0s 1ms/step - loss: 0.8288\n",
      "35/35 [==============================] - 0s 1ms/step - loss: 0.8069\n",
      "35/35 [==============================] - 0s 1ms/step - loss: 0.8342\n"
     ]
    },
    {
     "data": {
      "application/vnd.jupyter.widget-view+json": {
       "model_id": "",
       "version_major": 2,
       "version_minor": 0
      },
      "text/plain": [
       "HBox(children=(FloatProgress(value=0.0, max=1000.0), HTML(value='')))"
      ]
     },
     "metadata": {},
     "output_type": "display_data"
    },
    {
     "name": "stdout",
     "output_type": "stream",
     "text": [
      "35/35 [==============================] - 0s 2ms/step - loss: 0.6948\n",
      "minvalLoss,  0.6947799324989319\n",
      "35/35 [==============================] - 0s 1ms/step - loss: 0.6906\n",
      "minvalLoss,  0.6905512809753418\n",
      "35/35 [==============================] - 0s 2ms/step - loss: 0.6896\n",
      "minvalLoss,  0.6896374225616455\n",
      "35/35 [==============================] - 0s 2ms/step - loss: 0.7027\n",
      "35/35 [==============================] - 0s 2ms/step - loss: 0.7038\n",
      "35/35 [==============================] - 0s 2ms/step - loss: 0.7606\n",
      "35/35 [==============================] - 0s 2ms/step - loss: 0.7363\n",
      "35/35 [==============================] - 0s 2ms/step - loss: 0.7552\n",
      "35/35 [==============================] - 0s 2ms/step - loss: 0.7936\n",
      "35/35 [==============================] - 0s 1ms/step - loss: 0.7773\n",
      "35/35 [==============================] - 0s 2ms/step - loss: 0.7908\n",
      "35/35 [==============================] - 0s 1ms/step - loss: 0.7550\n",
      "35/35 [==============================] - 0s 1ms/step - loss: 0.8235\n",
      "35/35 [==============================] - 0s 1ms/step - loss: 0.8004\n",
      "35/35 [==============================] - 0s 1ms/step - loss: 0.7841\n",
      "0.6880168\n"
     ]
    },
    {
     "data": {
      "text/plain": [
       "array([-0.39754838,  1.71822059, -0.23652111, ...,  0.55799705,\n",
       "        0.15459451,  1.10378778])"
      ]
     },
     "execution_count": null,
     "metadata": {},
     "output_type": "execute_result"
    }
   ],
   "source": [
    "ranker = RankNet()\n",
    "ranker.train(xPU,yPU[:,0].astype(bool))"
   ]
  },
  {
   "cell_type": "code",
   "execution_count": null,
   "metadata": {},
   "outputs": [
    {
     "data": {
      "text/plain": [
       "[<matplotlib.lines.Line2D at 0x7fc16c077210>]"
      ]
     },
     "execution_count": null,
     "metadata": {},
     "output_type": "execute_result"
    },
    {
     "data": {
      "image/png": "[encoded data removed]",
      "text/plain": [
       "<Figure size 432x288 with 1 Axes>"
      ]
     },
     "metadata": {
      "needs_background": "light"
     },
     "output_type": "display_data"
    }
   ],
   "source": [
    "plt.scatter(ranker.ranker(xPUTrain[~yPUTrain.astype(bool)])[0],dg.pn_posterior_cc(xPUTrain[~yPUTrain.astype(bool)]),color=\"blue\")\n",
    "plt.scatter(ranker.ranker(xPUTrain[yPUTrain.astype(bool)])[0],dg.pn_posterior_cc(xPUTrain[yPUTrain.astype(bool)]),color=\"red\",alpha=.05)\n",
    "plt.plot([0,1],[0,1],color=\"black\")"
   ]
  },
  {
   "cell_type": "code",
   "execution_count": null,
   "metadata": {},
   "outputs": [],
   "source": [
    "# export\n",
    "class RankNet2:\n",
    "    def buildModel(self,input_shape):\n",
    "\n",
    "        def loss(t,diff):\n",
    "            return (1-t) * (diff) - t * (diff)\n",
    "\n",
    "        layers = tf.keras.models.Sequential([\n",
    "            tf.keras.layers.Dense(128,activation=\"relu\"),\n",
    "            tf.keras.layers.Dense(128,activation=\"relu\"),\n",
    "            tf.keras.layers.Dense(128,activation=\"relu\"),\n",
    "            tf.keras.layers.Dense(1)\n",
    "        ],name=\"dense_layers\")\n",
    "        inp1 = tf.keras.layers.Input(shape=(input_shape,),name=\"input_1\")\n",
    "        inp2 = tf.keras.layers.Input(shape=(input_shape,),name=\"input_2\")\n",
    "        score_1 = layers(inp1)\n",
    "        score_2 = layers(inp2)\n",
    "        score_diff = tf.keras.layers.Subtract()([score_1, score_2])\n",
    "        prob = tf.keras.layers.Activation(\"sigmoid\")(score_diff)\n",
    "        self.model = tf.keras.models.Model(inputs=[inp1,inp2],outputs=score_diff)\n",
    "        self.ranker = tf.keras.backend.function([inp1],[score_1])\n",
    "        self.model.compile(tf.keras.optimizers.Adam(learning_rate=1e-4),\n",
    "                           loss=loss)\n",
    "\n",
    "    def train(self,xPU,yPU,NIters=5000, batch_size=128,):\n",
    "        skf = StratifiedKFold()\n",
    "        ranks = np.zeros(xPU.shape[0])\n",
    "        for trainIndices,valIndices in skf.split(xPU,yPU):\n",
    "            xPUTrain,xPUVal,yPUTrain,yPUVal = xPU[trainIndices],xPU[valIndices],yPU[trainIndices],yPU[valIndices]\n",
    "            ranks[valIndices] = self.trainFold(xPUTrain,xPUVal,yPUTrain,yPUVal,NIters,batch_size)\n",
    "        print(roc_auc_score(yPU,ranks))\n",
    "        return ranks\n",
    "\n",
    "    def trainFold(self,xPUTrain,xPUVal,yPUTrain,yPUVal,NIters=1000, batch_size=128,):\n",
    "        batchesPerEpoch = np.ceil(xPUTrain.shape[0] / batch_size).astype(int) # +/- rounding error\n",
    "        self.buildModel(xPUTrain.shape[1])\n",
    "        # Early stopping variables\n",
    "        minvalLoss,patience = np.inf,0\n",
    "        posTrain,unlabeledTrain = xPUTrain[yPUTrain],xPUTrain[~yPUTrain]\n",
    "        posVal,unlabeledVal = xPUVal[yPUVal],xPUVal[~yPUVal]\n",
    "        for iters in trange(NIters,leave=False):\n",
    "            idxs1 = np.random.randint(0,high=posTrain.shape[0],size=batch_size)\n",
    "            idxs2 = np.random.randint(0,high=unlabeledTrain.shape[0],size=batch_size)\n",
    "            posInputs,unlabeledInputs = posTrain[idxs1],unlabeledTrain[idxs2]\n",
    "            inputs = np.stack([posInputs,unlabeledInputs],axis=-1)\n",
    "            b = np.random.binomial(1,.5,inputs.shape[0]).astype(bool)\n",
    "            inputs[b] = inputs[b][...,[1,0]]\n",
    "            inp1,inp2 = inputs[...,0], inputs[...,1]\n",
    "            target = ~b\n",
    "            target = target.astype(float)\n",
    "            trainLoss = self.model.train_on_batch([inp1,inp2],target)\n",
    "            if not iters % batchesPerEpoch:\n",
    "                i1 = np.random.choice(range(xPUVal.shape[0]),replace=False,\n",
    "                                       size=int(xPUVal.shape[0] / 2))\n",
    "                i2 = np.random.choice(list(set(range(xPUVal.shape[0])) - set(i1)),size=i1.shape,replace=True)\n",
    "                inp1,inp2 = xPUVal[i1],xPUVal[i2]\n",
    "                y1,y2 = yPUVal[i1],yPUVal[i2]\n",
    "                target = (y1 > y2).astype(float)\n",
    "                valLoss = self.model.evaluate([inp1,inp2],target)\n",
    "                scores = self.ranker(xPUVal)\n",
    "                if valLoss < minvalLoss:\n",
    "                    print(\"minvalLoss, \",valLoss)\n",
    "                    minvalLoss = valLoss\n",
    "                    patience = 0\n",
    "                else:\n",
    "                    patience += 1\n",
    "                if patience == 15:\n",
    "                    break\n",
    "        return self.ranker(xPUVal)[0].ravel()\n"
   ]
  },
  {
   "cell_type": "code",
   "execution_count": null,
   "metadata": {},
   "outputs": [
    {
     "data": {
      "application/vnd.jupyter.widget-view+json": {
       "model_id": "",
       "version_major": 2,
       "version_minor": 0
      },
      "text/plain": [
       "HBox(children=(FloatProgress(value=0.0, max=5000.0), HTML(value='')))"
      ]
     },
     "metadata": {},
     "output_type": "display_data"
    },
    {
     "name": "stdout",
     "output_type": "stream",
     "text": [
      "35/35 [==============================] - 0s 1ms/step - loss: 3.9260e-05\n",
      "minvalLoss,  3.926027784473263e-05\n",
      "35/35 [==============================] - 0s 1ms/step - loss: 0.0169\n",
      "35/35 [==============================] - 0s 1ms/step - loss: 0.0185\n",
      "35/35 [==============================] - 0s 923us/step - loss: -0.0203\n",
      "minvalLoss,  -0.020299648866057396\n",
      "35/35 [==============================] - 0s 1ms/step - loss: 0.0412\n",
      "35/35 [==============================] - 0s 2ms/step - loss: -0.0331\n",
      "minvalLoss,  -0.033074088394641876\n",
      "35/35 [==============================] - 0s 1ms/step - loss: -0.9388\n",
      "minvalLoss,  -0.938795268535614\n",
      "35/35 [==============================] - 0s 2ms/step - loss: -1.0180\n",
      "minvalLoss,  -1.0179767608642578\n",
      "35/35 [==============================] - 0s 1ms/step - loss: -0.3651\n",
      "35/35 [==============================] - 0s 2ms/step - loss: -4.9128\n",
      "minvalLoss,  -4.912788391113281\n",
      "35/35 [==============================] - 0s 2ms/step - loss: 30.2223\n",
      "35/35 [==============================] - 0s 1ms/step - loss: -29.6905\n",
      "minvalLoss,  -29.690465927124023\n",
      "35/35 [==============================] - 0s 2ms/step - loss: -8.1392\n",
      "35/35 [==============================] - 0s 2ms/step - loss: 17.6245\n",
      "35/35 [==============================] - 0s 2ms/step - loss: 22.5457\n",
      "35/35 [==============================] - 0s 2ms/step - loss: -36.3336\n",
      "minvalLoss,  -36.333580017089844\n",
      "35/35 [==============================] - 0s 2ms/step - loss: -92.2625\n",
      "minvalLoss,  -92.26253509521484\n",
      "35/35 [==============================] - 0s 1ms/step - loss: 152.7635\n",
      "35/35 [==============================] - 0s 2ms/step - loss: 7.6267\n",
      "35/35 [==============================] - 0s 1ms/step - loss: 125.6841\n",
      "35/35 [==============================] - 0s 1ms/step - loss: 51.2271\n",
      "35/35 [==============================] - 0s 1ms/step - loss: 12.4233\n",
      "35/35 [==============================] - 0s 1ms/step - loss: -120.8590\n",
      "minvalLoss,  -120.85904693603516\n",
      "35/35 [==============================] - 0s 989us/step - loss: 240.6557\n",
      "35/35 [==============================] - 0s 795us/step - loss: 127.3169\n",
      "35/35 [==============================] - 0s 1ms/step - loss: 368.6917\n",
      "35/35 [==============================] - 0s 1ms/step - loss: -177.9240\n",
      "minvalLoss,  -177.9239501953125\n",
      "35/35 [==============================] - 0s 804us/step - loss: 897.1035\n",
      "35/35 [==============================] - 0s 1ms/step - loss: -5.9024\n",
      "35/35 [==============================] - 0s 1ms/step - loss: -301.1238\n",
      "minvalLoss,  -301.12384033203125\n",
      "35/35 [==============================] - 0s 2ms/step - loss: 46.1144\n",
      "35/35 [==============================] - 0s 2ms/step - loss: -198.4276\n",
      "35/35 [==============================] - 0s 1ms/step - loss: 1213.8491\n",
      "35/35 [==============================] - 0s 1ms/step - loss: -311.3444\n",
      "minvalLoss,  -311.34442138671875\n",
      "35/35 [==============================] - 0s 2ms/step - loss: -799.1719\n",
      "minvalLoss,  -799.1719360351562\n",
      "35/35 [==============================] - 0s 1ms/step - loss: 1086.6715\n",
      "35/35 [==============================] - 0s 1ms/step - loss: 1368.6893\n",
      "35/35 [==============================] - 0s 1ms/step - loss: -376.3820\n",
      "35/35 [==============================] - 0s 1ms/step - loss: -708.0104\n",
      "35/35 [==============================] - 0s 2ms/step - loss: 1694.7996\n",
      "35/35 [==============================] - 0s 2ms/step - loss: 2137.9141\n",
      "35/35 [==============================] - 0s 1ms/step - loss: 3102.9810\n",
      "35/35 [==============================] - 0s 741us/step - loss: -927.5459\n",
      "minvalLoss,  -927.5458984375\n",
      "35/35 [==============================] - 0s 1ms/step - loss: 428.1824\n",
      "35/35 [==============================] - 0s 818us/step - loss: 1631.6414\n",
      "35/35 [==============================] - 0s 1ms/step - loss: -2291.0217\n",
      "minvalLoss,  -2291.021728515625\n",
      "35/35 [==============================] - 0s 1ms/step - loss: 1253.5254\n",
      "35/35 [==============================] - 0s 1ms/step - loss: -530.6541\n",
      "35/35 [==============================] - 0s 1ms/step - loss: 2262.1877\n",
      "35/35 [==============================] - 0s 1ms/step - loss: -3642.2148\n",
      "minvalLoss,  -3642.21484375\n",
      "35/35 [==============================] - 0s 944us/step - loss: -6596.9927\n",
      "minvalLoss,  -6596.99267578125\n",
      "35/35 [==============================] - 0s 1ms/step - loss: 4320.3076\n",
      "35/35 [==============================] - 0s 1ms/step - loss: 3272.4038\n",
      "35/35 [==============================] - 0s 1ms/step - loss: -962.3133\n",
      "35/35 [==============================] - 0s 2ms/step - loss: 1807.7352\n",
      "35/35 [==============================] - 0s 2ms/step - loss: -5651.7827\n",
      "35/35 [==============================] - 0s 1ms/step - loss: 583.9891\n",
      "35/35 [==============================] - 0s 2ms/step - loss: 10040.2266\n",
      "35/35 [==============================] - 0s 1ms/step - loss: 2261.8562\n",
      "35/35 [==============================] - 0s 2ms/step - loss: 10866.9658\n",
      "35/35 [==============================] - 0s 2ms/step - loss: -7299.6113\n",
      "minvalLoss,  -7299.611328125\n",
      "35/35 [==============================] - 0s 2ms/step - loss: 1955.5450\n",
      "35/35 [==============================] - 0s 1ms/step - loss: 17038.8164\n",
      "35/35 [==============================] - 0s 1ms/step - loss: 555.9334\n",
      "35/35 [==============================] - 0s 1ms/step - loss: -28361.4785\n",
      "minvalLoss,  -28361.478515625\n",
      "35/35 [==============================] - 0s 1ms/step - loss: 5236.6470\n",
      "35/35 [==============================] - 0s 1ms/step - loss: -13566.3408\n",
      "35/35 [==============================] - 0s 764us/step - loss: 1565.7615\n",
      "35/35 [==============================] - 0s 1ms/step - loss: 2477.3955\n",
      "35/35 [==============================] - 0s 963us/step - loss: -5386.4961\n",
      "35/35 [==============================] - 0s 1ms/step - loss: 19819.9004\n",
      "35/35 [==============================] - 0s 1ms/step - loss: 14469.2871\n",
      "35/35 [==============================] - 0s 1ms/step - loss: 16297.8125\n"
     ]
    },
    {
     "data": {
      "application/vnd.jupyter.widget-view+json": {
       "model_id": "",
       "version_major": 2,
       "version_minor": 0
      },
      "text/plain": [
       "HBox(children=(FloatProgress(value=0.0, max=5000.0), HTML(value='')))"
      ]
     },
     "metadata": {},
     "output_type": "display_data"
    },
    {
     "name": "stdout",
     "output_type": "stream",
     "text": [
      "35/35 [==============================] - 0s 1ms/step - loss: 0.0037\n",
      "minvalLoss,  0.003716212697327137\n",
      "35/35 [==============================] - 0s 2ms/step - loss: -0.0252\n",
      "minvalLoss,  -0.025180788710713387\n",
      "35/35 [==============================] - 0s 1ms/step - loss: -0.0384\n",
      "minvalLoss,  -0.03837502375245094\n",
      "35/35 [==============================] - 0s 2ms/step - loss: -0.0598\n",
      "minvalLoss,  -0.059807002544403076\n",
      "35/35 [==============================] - 0s 2ms/step - loss: -0.1564\n",
      "minvalLoss,  -0.1564422845840454\n",
      "35/35 [==============================] - 0s 2ms/step - loss: -0.3320\n",
      "minvalLoss,  -0.3320118188858032\n",
      "35/35 [==============================] - 0s 2ms/step - loss: -0.5698\n",
      "minvalLoss,  -0.5697812438011169\n",
      "35/35 [==============================] - 0s 1ms/step - loss: -0.9294\n",
      "minvalLoss,  -0.9293625950813293\n",
      "35/35 [==============================] - 0s 1ms/step - loss: -3.6292\n",
      "minvalLoss,  -3.6292405128479004\n",
      "35/35 [==============================] - 0s 1ms/step - loss: -4.8530\n",
      "minvalLoss,  -4.853033542633057\n",
      "35/35 [==============================] - 0s 1ms/step - loss: -5.6226\n",
      "minvalLoss,  -5.622618675231934\n",
      "35/35 [==============================] - 0s 2ms/step - loss: -19.1958\n",
      "minvalLoss,  -19.195833206176758\n",
      "35/35 [==============================] - 0s 2ms/step - loss: -13.3794\n",
      "35/35 [==============================] - 0s 2ms/step - loss: -19.7862\n",
      "minvalLoss,  -19.786211013793945\n",
      "35/35 [==============================] - 0s 2ms/step - loss: -59.9944\n",
      "minvalLoss,  -59.994422912597656\n",
      "35/35 [==============================] - 0s 1ms/step - loss: -31.2989\n",
      "35/35 [==============================] - 0s 1ms/step - loss: -87.3504\n",
      "minvalLoss,  -87.35037231445312\n",
      "35/35 [==============================] - 0s 2ms/step - loss: -80.6937\n",
      "35/35 [==============================] - 0s 2ms/step - loss: -207.7391\n",
      "minvalLoss,  -207.7391357421875\n",
      "35/35 [==============================] - 0s 1ms/step - loss: -165.1187\n",
      "35/35 [==============================] - 0s 2ms/step - loss: -210.0523\n",
      "minvalLoss,  -210.05233764648438\n",
      "35/35 [==============================] - 0s 1ms/step - loss: -218.1018\n",
      "minvalLoss,  -218.10177612304688\n",
      "35/35 [==============================] - 0s 1ms/step - loss: -446.8770\n",
      "minvalLoss,  -446.87701416015625\n",
      "35/35 [==============================] - 0s 1ms/step - loss: -278.3361\n",
      "35/35 [==============================] - 0s 1ms/step - loss: -645.5280\n",
      "minvalLoss,  -645.5279541015625\n",
      "35/35 [==============================] - 0s 2ms/step - loss: -808.3853\n",
      "minvalLoss,  -808.38525390625\n",
      "35/35 [==============================] - 0s 1ms/step - loss: -713.6631\n",
      "35/35 [==============================] - 0s 1ms/step - loss: -687.7299\n",
      "35/35 [==============================] - 0s 1ms/step - loss: -448.1100\n",
      "35/35 [==============================] - 0s 1ms/step - loss: -569.9442\n",
      "35/35 [==============================] - 0s 1ms/step - loss: -980.3606\n",
      "minvalLoss,  -980.360595703125\n",
      "35/35 [==============================] - 0s 1ms/step - loss: -513.9838\n",
      "35/35 [==============================] - 0s 1ms/step - loss: -818.2238\n",
      "35/35 [==============================] - 0s 1ms/step - loss: -1844.2275\n",
      "minvalLoss,  -1844.2275390625\n",
      "35/35 [==============================] - 0s 1ms/step - loss: -443.2706\n",
      "35/35 [==============================] - 0s 1ms/step - loss: -1781.8141\n",
      "35/35 [==============================] - 0s 2ms/step - loss: -1607.3120\n",
      "35/35 [==============================] - 0s 1ms/step - loss: -2203.9763\n",
      "minvalLoss,  -2203.976318359375\n",
      "35/35 [==============================] - 0s 1ms/step - loss: -372.2511\n",
      "35/35 [==============================] - 0s 1ms/step - loss: -2592.1060\n",
      "minvalLoss,  -2592.10595703125\n",
      "35/35 [==============================] - 0s 1ms/step - loss: -2831.5212\n",
      "minvalLoss,  -2831.521240234375\n",
      "35/35 [==============================] - 0s 1ms/step - loss: -2227.3376\n",
      "35/35 [==============================] - 0s 2ms/step - loss: -2675.0574\n",
      "35/35 [==============================] - 0s 1ms/step - loss: -3330.2410\n",
      "minvalLoss,  -3330.240966796875\n",
      "35/35 [==============================] - 0s 1ms/step - loss: -2636.7153\n",
      "35/35 [==============================] - 0s 2ms/step - loss: -3300.8184\n",
      "35/35 [==============================] - 0s 1ms/step - loss: -1217.7616\n",
      "35/35 [==============================] - 0s 1ms/step - loss: -5843.9736\n",
      "minvalLoss,  -5843.9736328125\n",
      "35/35 [==============================] - 0s 1ms/step - loss: -1339.6326\n",
      "35/35 [==============================] - 0s 1ms/step - loss: -3215.4055\n",
      "35/35 [==============================] - 0s 2ms/step - loss: -5442.2427\n",
      "35/35 [==============================] - 0s 1ms/step - loss: -2220.7522\n",
      "35/35 [==============================] - 0s 1ms/step - loss: -8468.9512\n",
      "minvalLoss,  -8468.951171875\n",
      "35/35 [==============================] - 0s 1ms/step - loss: -7420.1479\n",
      "35/35 [==============================] - 0s 1ms/step - loss: -13550.0908\n",
      "minvalLoss,  -13550.0908203125\n",
      "35/35 [==============================] - 0s 1ms/step - loss: -8395.0986\n",
      "35/35 [==============================] - 0s 1ms/step - loss: -8316.7734\n",
      "35/35 [==============================] - 0s 1ms/step - loss: -14516.2568\n",
      "minvalLoss,  -14516.2568359375\n",
      "35/35 [==============================] - 0s 1ms/step - loss: -12934.2324\n",
      "35/35 [==============================] - 0s 1ms/step - loss: -5607.2275\n",
      "35/35 [==============================] - 0s 1ms/step - loss: -14545.2256\n",
      "minvalLoss,  -14545.2255859375\n",
      "35/35 [==============================] - 0s 2ms/step - loss: -13823.9668\n",
      "35/35 [==============================] - 0s 2ms/step - loss: -10036.9014\n",
      "35/35 [==============================] - 0s 1ms/step - loss: -9972.2109\n",
      "35/35 [==============================] - 0s 1ms/step - loss: -1669.1235\n",
      "35/35 [==============================] - 0s 1ms/step - loss: -10560.0127\n",
      "35/35 [==============================] - 0s 1ms/step - loss: -17785.8984\n",
      "minvalLoss,  -17785.8984375\n",
      "35/35 [==============================] - 0s 2ms/step - loss: -17553.8574\n",
      "35/35 [==============================] - 0s 2ms/step - loss: -18633.4824\n",
      "minvalLoss,  -18633.482421875\n",
      "35/35 [==============================] - 0s 1ms/step - loss: -24749.5742\n",
      "minvalLoss,  -24749.57421875\n",
      "35/35 [==============================] - 0s 2ms/step - loss: -13317.0596\n",
      "35/35 [==============================] - 0s 2ms/step - loss: -21089.3027\n",
      "35/35 [==============================] - 0s 1ms/step - loss: -20078.5098\n"
     ]
    },
    {
     "data": {
      "application/vnd.jupyter.widget-view+json": {
       "model_id": "",
       "version_major": 2,
       "version_minor": 0
      },
      "text/plain": [
       "HBox(children=(FloatProgress(value=0.0, max=5000.0), HTML(value='')))"
      ]
     },
     "metadata": {},
     "output_type": "display_data"
    },
    {
     "name": "stdout",
     "output_type": "stream",
     "text": [
      "35/35 [==============================] - 0s 2ms/step - loss: -0.0032\n",
      "minvalLoss,  -0.0032300336752086878\n",
      "35/35 [==============================] - 0s 1ms/step - loss: -1.4873e-04\n",
      "35/35 [==============================] - 0s 1ms/step - loss: -0.0184\n",
      "minvalLoss,  -0.018375203013420105\n",
      "35/35 [==============================] - 0s 2ms/step - loss: -0.0693\n",
      "minvalLoss,  -0.06926333159208298\n",
      "35/35 [==============================] - 0s 2ms/step - loss: -0.4354\n",
      "minvalLoss,  -0.43537384271621704\n",
      "35/35 [==============================] - 0s 2ms/step - loss: -0.2377\n",
      "35/35 [==============================] - 0s 1ms/step - loss: -0.4889\n",
      "minvalLoss,  -0.4888984262943268\n",
      "35/35 [==============================] - 0s 1ms/step - loss: -0.5614\n",
      "minvalLoss,  -0.5613958835601807\n",
      "35/35 [==============================] - 0s 1ms/step - loss: -4.0704\n",
      "minvalLoss,  -4.07035493850708\n",
      "35/35 [==============================] - 0s 1ms/step - loss: -1.4806\n",
      "35/35 [==============================] - 0s 1ms/step - loss: -12.6088\n",
      "minvalLoss,  -12.60884952545166\n",
      "35/35 [==============================] - 0s 1ms/step - loss: -22.5017\n",
      "minvalLoss,  -22.501651763916016\n",
      "35/35 [==============================] - 0s 1ms/step - loss: -8.1093\n",
      "35/35 [==============================] - 0s 2ms/step - loss: -37.3440\n",
      "minvalLoss,  -37.34397506713867\n",
      "35/35 [==============================] - 0s 1ms/step - loss: -77.0217\n",
      "minvalLoss,  -77.0217056274414\n",
      "35/35 [==============================] - 0s 1ms/step - loss: -67.6592\n",
      "35/35 [==============================] - 0s 1ms/step - loss: -46.4632\n",
      "35/35 [==============================] - 0s 2ms/step - loss: -156.5303\n",
      "minvalLoss,  -156.5303192138672\n",
      "35/35 [==============================] - 0s 2ms/step - loss: -100.2694\n",
      "35/35 [==============================] - 0s 1ms/step - loss: -184.0226\n",
      "minvalLoss,  -184.02261352539062\n",
      "35/35 [==============================] - 0s 1ms/step - loss: -229.0762\n",
      "minvalLoss,  -229.0762176513672\n",
      "35/35 [==============================] - 0s 1ms/step - loss: -282.6434\n",
      "minvalLoss,  -282.6434326171875\n",
      "35/35 [==============================] - 0s 2ms/step - loss: -466.6450\n",
      "minvalLoss,  -466.6449890136719\n",
      "35/35 [==============================] - 0s 2ms/step - loss: -445.6429\n",
      "35/35 [==============================] - 0s 1ms/step - loss: -248.8284\n",
      "35/35 [==============================] - 0s 2ms/step - loss: -406.0043\n",
      "35/35 [==============================] - 0s 2ms/step - loss: -499.5477\n",
      "minvalLoss,  -499.5477294921875\n",
      "35/35 [==============================] - 0s 1ms/step - loss: -716.2130\n",
      "minvalLoss,  -716.2129516601562\n",
      "35/35 [==============================] - 0s 1ms/step - loss: -627.7952\n",
      "35/35 [==============================] - 0s 1ms/step - loss: -467.6388\n",
      "35/35 [==============================] - 0s 1ms/step - loss: -354.3575\n",
      "35/35 [==============================] - 0s 884us/step - loss: -665.2210\n",
      "35/35 [==============================] - 0s 1ms/step - loss: -1324.3922\n",
      "minvalLoss,  -1324.3922119140625\n",
      "35/35 [==============================] - 0s 927us/step - loss: -2015.4491\n",
      "minvalLoss,  -2015.4490966796875\n",
      "35/35 [==============================] - 0s 978us/step - loss: -1250.8757\n",
      "35/35 [==============================] - 0s 1ms/step - loss: -2875.1804\n",
      "minvalLoss,  -2875.180419921875\n",
      "35/35 [==============================] - 0s 2ms/step - loss: -1229.1484\n",
      "35/35 [==============================] - 0s 1ms/step - loss: -1959.2766\n",
      "35/35 [==============================] - 0s 1ms/step - loss: -1899.5289\n",
      "35/35 [==============================] - 0s 1ms/step - loss: -128.6357\n",
      "35/35 [==============================] - 0s 1ms/step - loss: -3844.1323\n",
      "minvalLoss,  -3844.13232421875\n",
      "35/35 [==============================] - 0s 1ms/step - loss: -4190.7090\n",
      "minvalLoss,  -4190.708984375\n",
      "35/35 [==============================] - 0s 1ms/step - loss: -2748.2942\n",
      "35/35 [==============================] - 0s 2ms/step - loss: -4582.7739\n",
      "minvalLoss,  -4582.77392578125\n",
      "35/35 [==============================] - 0s 2ms/step - loss: -4319.3330\n",
      "35/35 [==============================] - 0s 2ms/step - loss: -4482.4214\n",
      "35/35 [==============================] - 0s 2ms/step - loss: -2664.3760\n",
      "35/35 [==============================] - 0s 1ms/step - loss: -1697.7157\n",
      "35/35 [==============================] - 0s 2ms/step - loss: -6670.8159\n",
      "minvalLoss,  -6670.81591796875\n",
      "35/35 [==============================] - 0s 2ms/step - loss: -6793.2534\n",
      "minvalLoss,  -6793.25341796875\n",
      "35/35 [==============================] - 0s 1ms/step - loss: -7420.9717\n",
      "minvalLoss,  -7420.9716796875\n",
      "35/35 [==============================] - 0s 1ms/step - loss: -7365.5562\n",
      "35/35 [==============================] - 0s 1ms/step - loss: -4163.8188\n",
      "35/35 [==============================] - 0s 789us/step - loss: -8158.4111\n",
      "minvalLoss,  -8158.4111328125\n",
      "35/35 [==============================] - 0s 1ms/step - loss: -8619.1514\n",
      "minvalLoss,  -8619.1513671875\n",
      "35/35 [==============================] - 0s 1ms/step - loss: -879.1022\n",
      "35/35 [==============================] - 0s 1ms/step - loss: -10668.1924\n",
      "minvalLoss,  -10668.1923828125\n",
      "35/35 [==============================] - 0s 1ms/step - loss: -5432.5356\n",
      "35/35 [==============================] - 0s 825us/step - loss: -4480.6719\n",
      "35/35 [==============================] - 0s 1ms/step - loss: -10304.6299\n",
      "35/35 [==============================] - 0s 2ms/step - loss: -12929.0039\n",
      "minvalLoss,  -12929.00390625\n",
      "35/35 [==============================] - 0s 2ms/step - loss: -18375.1914\n",
      "minvalLoss,  -18375.19140625\n",
      "35/35 [==============================] - 0s 2ms/step - loss: -16210.0723\n",
      "35/35 [==============================] - 0s 2ms/step - loss: -14082.6143\n",
      "35/35 [==============================] - 0s 2ms/step - loss: -16490.6738\n",
      "35/35 [==============================] - 0s 2ms/step - loss: -17322.7363\n",
      "35/35 [==============================] - 0s 2ms/step - loss: -17747.9277\n",
      "35/35 [==============================] - 0s 1ms/step - loss: -24765.3184\n",
      "minvalLoss,  -24765.318359375\n",
      "35/35 [==============================] - 0s 2ms/step - loss: -13171.5664\n",
      "35/35 [==============================] - 0s 2ms/step - loss: -19101.5527\n",
      "35/35 [==============================] - 0s 1ms/step - loss: -20514.0645\n",
      "35/35 [==============================] - 0s 1ms/step - loss: -9489.5840\n",
      "35/35 [==============================] - 0s 1ms/step - loss: -17016.1699\n"
     ]
    },
    {
     "data": {
      "application/vnd.jupyter.widget-view+json": {
       "model_id": "",
       "version_major": 2,
       "version_minor": 0
      },
      "text/plain": [
       "HBox(children=(FloatProgress(value=0.0, max=5000.0), HTML(value='')))"
      ]
     },
     "metadata": {},
     "output_type": "display_data"
    },
    {
     "name": "stdout",
     "output_type": "stream",
     "text": [
      "35/35 [==============================] - 0s 1ms/step - loss: -0.0069\n",
      "minvalLoss,  -0.006929949391633272\n",
      "35/35 [==============================] - 0s 940us/step - loss: -0.0328\n",
      "minvalLoss,  -0.0328228734433651\n",
      "35/35 [==============================] - 0s 1ms/step - loss: -0.0545\n",
      "minvalLoss,  -0.054454974830150604\n",
      "35/35 [==============================] - 0s 1ms/step - loss: -0.1419\n",
      "minvalLoss,  -0.14186324179172516\n",
      "35/35 [==============================] - 0s 1ms/step - loss: -0.6005\n",
      "minvalLoss,  -0.6004664897918701\n",
      "35/35 [==============================] - 0s 954us/step - loss: -0.3947\n",
      "35/35 [==============================] - 0s 1ms/step - loss: -1.7851\n",
      "minvalLoss,  -1.7851026058197021\n",
      "35/35 [==============================] - 0s 2ms/step - loss: -3.8823\n",
      "minvalLoss,  -3.8822731971740723\n",
      "35/35 [==============================] - 0s 2ms/step - loss: -10.6032\n",
      "minvalLoss,  -10.603181838989258\n",
      "35/35 [==============================] - 0s 1ms/step - loss: -10.8730\n",
      "minvalLoss,  -10.873002052307129\n",
      "35/35 [==============================] - 0s 1ms/step - loss: -9.1344\n",
      "35/35 [==============================] - 0s 1ms/step - loss: -17.1050\n",
      "minvalLoss,  -17.105024337768555\n",
      "35/35 [==============================] - 0s 2ms/step - loss: -29.7829\n",
      "minvalLoss,  -29.78289031982422\n",
      "35/35 [==============================] - 0s 2ms/step - loss: -33.5312\n",
      "minvalLoss,  -33.531211853027344\n",
      "35/35 [==============================] - 0s 2ms/step - loss: -63.2226\n",
      "minvalLoss,  -63.22262954711914\n",
      "35/35 [==============================] - 0s 2ms/step - loss: -67.3191\n",
      "minvalLoss,  -67.319091796875\n",
      "35/35 [==============================] - 0s 2ms/step - loss: -86.7200\n",
      "minvalLoss,  -86.72001647949219\n",
      "35/35 [==============================] - 0s 2ms/step - loss: -167.6018\n",
      "minvalLoss,  -167.60183715820312\n",
      "35/35 [==============================] - 0s 2ms/step - loss: -263.6055\n",
      "minvalLoss,  -263.60546875\n",
      "35/35 [==============================] - 0s 2ms/step - loss: -241.6351\n",
      "35/35 [==============================] - 0s 1ms/step - loss: -171.5638\n",
      "35/35 [==============================] - 0s 1ms/step - loss: -232.5872\n",
      "35/35 [==============================] - 0s 1ms/step - loss: -236.0319\n",
      "35/35 [==============================] - 0s 1ms/step - loss: -244.3873\n",
      "35/35 [==============================] - 0s 730us/step - loss: -703.4503\n",
      "minvalLoss,  -703.4503173828125\n",
      "35/35 [==============================] - 0s 1ms/step - loss: -328.0675\n",
      "35/35 [==============================] - 0s 850us/step - loss: -693.5605\n",
      "35/35 [==============================] - 0s 779us/step - loss: -815.5438\n",
      "minvalLoss,  -815.5438232421875\n",
      "35/35 [==============================] - 0s 1ms/step - loss: -845.6682\n",
      "minvalLoss,  -845.668212890625\n",
      "35/35 [==============================] - 0s 2ms/step - loss: -984.3276\n",
      "minvalLoss,  -984.32763671875\n",
      "35/35 [==============================] - 0s 2ms/step - loss: -586.5172\n",
      "35/35 [==============================] - 0s 1ms/step - loss: -1762.8702\n",
      "minvalLoss,  -1762.8702392578125\n",
      "35/35 [==============================] - 0s 1ms/step - loss: -914.8802\n",
      "35/35 [==============================] - 0s 1ms/step - loss: -1268.0535\n",
      "35/35 [==============================] - 0s 1ms/step - loss: -1557.9520\n",
      "35/35 [==============================] - 0s 1ms/step - loss: -1598.4235\n",
      "35/35 [==============================] - 0s 2ms/step - loss: -2339.5098\n",
      "minvalLoss,  -2339.509765625\n",
      "35/35 [==============================] - 0s 2ms/step - loss: -3021.1755\n",
      "minvalLoss,  -3021.175537109375\n",
      "35/35 [==============================] - 0s 2ms/step - loss: -3171.8887\n",
      "minvalLoss,  -3171.888671875\n",
      "35/35 [==============================] - 0s 2ms/step - loss: -3985.0969\n",
      "minvalLoss,  -3985.096923828125\n",
      "35/35 [==============================] - 0s 2ms/step - loss: -3308.8740\n",
      "35/35 [==============================] - 0s 1ms/step - loss: -3929.3501\n",
      "35/35 [==============================] - 0s 1ms/step - loss: -3048.6743\n",
      "35/35 [==============================] - 0s 698us/step - loss: -2245.3955\n",
      "35/35 [==============================] - 0s 1ms/step - loss: -3230.3816\n",
      "35/35 [==============================] - 0s 1ms/step - loss: -4875.0894\n",
      "minvalLoss,  -4875.08935546875\n",
      "35/35 [==============================] - 0s 1ms/step - loss: -4499.9287\n",
      "35/35 [==============================] - 0s 1ms/step - loss: -3366.2222\n",
      "35/35 [==============================] - 0s 902us/step - loss: -9086.8096\n",
      "minvalLoss,  -9086.8095703125\n",
      "35/35 [==============================] - 0s 949us/step - loss: -2560.5532\n",
      "35/35 [==============================] - 0s 1ms/step - loss: -2125.8665\n",
      "35/35 [==============================] - 0s 1ms/step - loss: -7927.1138\n",
      "35/35 [==============================] - 0s 1ms/step - loss: -8513.3389\n",
      "35/35 [==============================] - 0s 1ms/step - loss: -9315.8809\n",
      "minvalLoss,  -9315.880859375\n",
      "35/35 [==============================] - 0s 1ms/step - loss: -6628.6748\n",
      "35/35 [==============================] - 0s 2ms/step - loss: -12650.9951\n",
      "minvalLoss,  -12650.9951171875\n",
      "35/35 [==============================] - 0s 2ms/step - loss: -5869.3677\n",
      "35/35 [==============================] - 0s 1ms/step - loss: -11427.1895\n",
      "35/35 [==============================] - 0s 2ms/step - loss: -5873.3750\n",
      "35/35 [==============================] - 0s 2ms/step - loss: -8364.6211\n",
      "35/35 [==============================] - 0s 1ms/step - loss: -13120.2393\n",
      "minvalLoss,  -13120.2392578125\n",
      "35/35 [==============================] - 0s 1ms/step - loss: -11926.7354\n",
      "35/35 [==============================] - 0s 2ms/step - loss: -9055.3574\n",
      "35/35 [==============================] - 0s 781us/step - loss: -17982.5371\n",
      "minvalLoss,  -17982.537109375\n",
      "35/35 [==============================] - 0s 1ms/step - loss: -7801.3071\n",
      "35/35 [==============================] - 0s 1ms/step - loss: -4683.1963\n",
      "35/35 [==============================] - 0s 897us/step - loss: -11294.2891\n",
      "35/35 [==============================] - 0s 1ms/step - loss: -14190.7246\n",
      "35/35 [==============================] - 0s 1ms/step - loss: -14113.0771\n",
      "35/35 [==============================] - 0s 1ms/step - loss: -29163.1953\n",
      "minvalLoss,  -29163.1953125\n",
      "35/35 [==============================] - 0s 1ms/step - loss: -26938.1113\n",
      "35/35 [==============================] - 0s 843us/step - loss: -6627.8989\n",
      "35/35 [==============================] - 0s 930us/step - loss: -10096.7051\n"
     ]
    },
    {
     "data": {
      "application/vnd.jupyter.widget-view+json": {
       "model_id": "",
       "version_major": 2,
       "version_minor": 0
      },
      "text/plain": [
       "HBox(children=(FloatProgress(value=0.0, max=5000.0), HTML(value='')))"
      ]
     },
     "metadata": {},
     "output_type": "display_data"
    },
    {
     "name": "stdout",
     "output_type": "stream",
     "text": [
      "35/35 [==============================] - 0s 2ms/step - loss: 0.0012\n",
      "minvalLoss,  0.0011569547932595015\n",
      "35/35 [==============================] - 0s 2ms/step - loss: -0.0265\n",
      "minvalLoss,  -0.02651931904256344\n",
      "35/35 [==============================] - 0s 2ms/step - loss: -0.0955\n",
      "minvalLoss,  -0.09551585465669632\n",
      "35/35 [==============================] - 0s 2ms/step - loss: -0.1293\n",
      "minvalLoss,  -0.12929697334766388\n",
      "35/35 [==============================] - 0s 1ms/step - loss: -0.4259\n",
      "minvalLoss,  -0.4259139597415924\n",
      "35/35 [==============================] - 0s 1ms/step - loss: -0.6677\n",
      "minvalLoss,  -0.6677072644233704\n",
      "35/35 [==============================] - 0s 1ms/step - loss: -2.4396\n",
      "minvalLoss,  -2.4395503997802734\n",
      "35/35 [==============================] - 0s 1ms/step - loss: -5.7605\n",
      "minvalLoss,  -5.760462760925293\n",
      "35/35 [==============================] - 0s 1ms/step - loss: -1.7370\n",
      "35/35 [==============================] - 0s 1ms/step - loss: -4.3364\n",
      "35/35 [==============================] - 0s 2ms/step - loss: -7.8115\n",
      "minvalLoss,  -7.811489582061768\n",
      "35/35 [==============================] - 0s 1ms/step - loss: -24.4863\n",
      "minvalLoss,  -24.486291885375977\n",
      "35/35 [==============================] - 0s 1ms/step - loss: -25.4428\n",
      "minvalLoss,  -25.442781448364258\n",
      "35/35 [==============================] - 0s 951us/step - loss: -27.6131\n",
      "minvalLoss,  -27.613061904907227\n",
      "35/35 [==============================] - 0s 1ms/step - loss: -26.0984\n",
      "35/35 [==============================] - 0s 1ms/step - loss: -95.8298\n",
      "minvalLoss,  -95.82981872558594\n",
      "35/35 [==============================] - 0s 1ms/step - loss: -115.8981\n",
      "minvalLoss,  -115.89807891845703\n",
      "35/35 [==============================] - 0s 954us/step - loss: -88.9169\n",
      "35/35 [==============================] - 0s 1ms/step - loss: -142.4884\n",
      "minvalLoss,  -142.4884033203125\n",
      "35/35 [==============================] - 0s 1ms/step - loss: -54.8190\n",
      "35/35 [==============================] - 0s 1ms/step - loss: -332.6216\n",
      "minvalLoss,  -332.62164306640625\n",
      "35/35 [==============================] - 0s 916us/step - loss: -42.7107\n",
      "35/35 [==============================] - 0s 1ms/step - loss: -352.0696\n",
      "minvalLoss,  -352.0696105957031\n",
      "35/35 [==============================] - 0s 1ms/step - loss: -528.5417\n",
      "minvalLoss,  -528.541748046875\n",
      "35/35 [==============================] - 0s 1ms/step - loss: -282.8164\n",
      "35/35 [==============================] - 0s 1ms/step - loss: -273.7560\n",
      "35/35 [==============================] - 0s 1ms/step - loss: -244.8501\n",
      "35/35 [==============================] - 0s 1ms/step - loss: -1099.8073\n",
      "minvalLoss,  -1099.8072509765625\n",
      "35/35 [==============================] - 0s 2ms/step - loss: -962.1967\n",
      "35/35 [==============================] - 0s 2ms/step - loss: -762.7980\n",
      "35/35 [==============================] - 0s 1ms/step - loss: -1457.7913\n",
      "minvalLoss,  -1457.791259765625\n",
      "35/35 [==============================] - 0s 2ms/step - loss: -305.6499\n",
      "35/35 [==============================] - 0s 2ms/step - loss: -913.8335\n",
      "35/35 [==============================] - 0s 2ms/step - loss: -2364.1536\n",
      "minvalLoss,  -2364.153564453125\n",
      "35/35 [==============================] - 0s 2ms/step - loss: -613.0925\n",
      "35/35 [==============================] - 0s 2ms/step - loss: -1977.0229\n",
      "35/35 [==============================] - 0s 1ms/step - loss: -3208.9275\n",
      "minvalLoss,  -3208.927490234375\n",
      "35/35 [==============================] - 0s 2ms/step - loss: -3324.9763\n",
      "minvalLoss,  -3324.976318359375\n",
      "35/35 [==============================] - 0s 2ms/step - loss: -3128.2930\n",
      "35/35 [==============================] - 0s 2ms/step - loss: -3490.2932\n",
      "minvalLoss,  -3490.293212890625\n",
      "35/35 [==============================] - 0s 1ms/step - loss: -1696.7207\n",
      "35/35 [==============================] - 0s 1ms/step - loss: -3763.8203\n",
      "minvalLoss,  -3763.8203125\n",
      "35/35 [==============================] - 0s 1ms/step - loss: -3125.3357\n",
      "35/35 [==============================] - 0s 2ms/step - loss: -3184.5542\n",
      "35/35 [==============================] - 0s 1ms/step - loss: -5049.6714\n",
      "minvalLoss,  -5049.67138671875\n",
      "35/35 [==============================] - 0s 1ms/step - loss: -2020.3909\n",
      "35/35 [==============================] - 0s 2ms/step - loss: -5186.5605\n",
      "minvalLoss,  -5186.560546875\n",
      "35/35 [==============================] - 0s 2ms/step - loss: -3054.4763\n",
      "35/35 [==============================] - 0s 2ms/step - loss: -6077.3398\n",
      "minvalLoss,  -6077.33984375\n",
      "35/35 [==============================] - 0s 1ms/step - loss: -10607.7441\n",
      "minvalLoss,  -10607.744140625\n",
      "35/35 [==============================] - 0s 957us/step - loss: -7212.6460\n",
      "35/35 [==============================] - 0s 690us/step - loss: -3932.9578\n",
      "35/35 [==============================] - 0s 1ms/step - loss: -9493.3213\n",
      "35/35 [==============================] - 0s 1ms/step - loss: -13205.4531\n",
      "minvalLoss,  -13205.453125\n",
      "35/35 [==============================] - 0s 1ms/step - loss: -18009.8125\n",
      "minvalLoss,  -18009.8125\n",
      "35/35 [==============================] - 0s 1ms/step - loss: -14160.0029\n",
      "35/35 [==============================] - 0s 1ms/step - loss: -13232.8789\n",
      "35/35 [==============================] - 0s 731us/step - loss: -7098.7061\n",
      "35/35 [==============================] - 0s 1ms/step - loss: -9286.4180\n",
      "35/35 [==============================] - 0s 2ms/step - loss: -7001.3086\n",
      "35/35 [==============================] - 0s 2ms/step - loss: -20094.6289\n",
      "minvalLoss,  -20094.62890625\n",
      "35/35 [==============================] - 0s 1ms/step - loss: -15070.9219\n",
      "35/35 [==============================] - 0s 1ms/step - loss: -12620.8184\n",
      "35/35 [==============================] - 0s 2ms/step - loss: -7229.8159\n",
      "35/35 [==============================] - 0s 1ms/step - loss: -6510.7163\n",
      "35/35 [==============================] - 0s 1ms/step - loss: -21322.8945\n",
      "minvalLoss,  -21322.89453125\n",
      "35/35 [==============================] - 0s 1ms/step - loss: -10019.6650\n",
      "35/35 [==============================] - 0s 1ms/step - loss: -25445.0078\n",
      "minvalLoss,  -25445.0078125\n",
      "35/35 [==============================] - 0s 2ms/step - loss: -22710.2852\n",
      "35/35 [==============================] - 0s 2ms/step - loss: -22840.1875\n",
      "35/35 [==============================] - 0s 1ms/step - loss: -21846.0918\n",
      "35/35 [==============================] - 0s 2ms/step - loss: -26169.9707\n",
      "minvalLoss,  -26169.970703125\n",
      "35/35 [==============================] - 0s 934us/step - loss: -16279.2695\n",
      "0.6415072\n"
     ]
    },
    {
     "data": {
      "text/plain": [
       "array([-377969.       ,  265131.3125   ,  219250.34375  , ...,\n",
       "        -61513.1640625,   76888.5234375,  295788.6875   ])"
      ]
     },
     "execution_count": null,
     "metadata": {},
     "output_type": "execute_result"
    }
   ],
   "source": [
    "ranker3 = RankNet2()\n",
    "ranker3.train(xPU,yPU[:,0].astype(bool))"
   ]
  },
  {
   "cell_type": "code",
   "execution_count": null,
   "metadata": {},
   "outputs": [
    {
     "data": {
      "text/plain": [
       "[<matplotlib.lines.Line2D at 0x7fc152a56dd0>]"
      ]
     },
     "execution_count": null,
     "metadata": {},
     "output_type": "execute_result"
    },
    {
     "data": {
      "image/png": "[encoded data removed]",
      "text/plain": [
       "<Figure size 432x288 with 1 Axes>"
      ]
     },
     "metadata": {
      "needs_background": "light"
     },
     "output_type": "display_data"
    }
   ],
   "source": [
    "plt.scatter(ranker3.ranker(xPUTrain[~yPUTrain.astype(bool)])[0],dg.pn_posterior_cc(xPUTrain[~yPUTrain.astype(bool)]),color=\"blue\")\n",
    "plt.scatter(ranker3.ranker(xPUTrain[yPUTrain.astype(bool)])[0],dg.pn_posterior_cc(xPUTrain[yPUTrain.astype(bool)]),color=\"red\",alpha=.05)\n",
    "plt.plot([0,1],[0,1],color=\"black\")"
   ]
  },
  {
   "cell_type": "code",
   "execution_count": null,
   "metadata": {},
   "outputs": [],
   "source": [
    "# export\n",
    "class RankNetTies:\n",
    "    def buildModel(self,input_shape):\n",
    "        layers = tf.keras.models.Sequential([\n",
    "            tf.keras.layers.Dense(128,activation=\"relu\"),\n",
    "            tf.keras.layers.Dense(128,activation=\"relu\"),\n",
    "            tf.keras.layers.Dense(128,activation=\"relu\"),\n",
    "            tf.keras.layers.Dense(1)\n",
    "        ],name=\"dense_layers\")\n",
    "        inp1 = tf.keras.layers.Input(shape=(input_shape,),name=\"input_1\")\n",
    "        inp2 = tf.keras.layers.Input(shape=(input_shape,),name=\"input_2\")\n",
    "        score_1 = layers(inp1)\n",
    "        score_2 = layers(inp2)\n",
    "        score_diff = tf.keras.layers.Subtract()([score_1, score_2])\n",
    "        prob = tf.keras.layers.Activation(\"sigmoid\")(score_diff)\n",
    "        self.model = tf.keras.models.Model(inputs=[inp1,inp2],outputs=prob)\n",
    "        self.ranker = tf.keras.backend.function([inp1],[score_1])\n",
    "        self.model.compile(tf.keras.optimizers.Adam(learning_rate=1e-4),\n",
    "                           loss=tf.keras.losses.BinaryCrossentropy())\n",
    "\n",
    "    def train(self,xPU,yPU,NIters=10000, batch_size=128,):\n",
    "        skf = StratifiedKFold()\n",
    "        ranks = np.zeros(xPU.shape[0])\n",
    "        for trainIndices,valIndices in skf.split(xPU,yPU):\n",
    "            xPUTrain,xPUVal,yPUTrain,yPUVal = xPU[trainIndices],xPU[valIndices],yPU[trainIndices],yPU[valIndices]\n",
    "            ranks[valIndices] = self.trainFold(xPUTrain,xPUVal,yPUTrain,yPUVal,NIters,batch_size)\n",
    "        print(roc_auc_score(yPU,ranks))\n",
    "        return ranks\n",
    "\n",
    "    def trainFold(self,xPUTrain,xPUVal,yPUTrain,yPUVal,NIters=10000, batch_size=128,):\n",
    "        batchesPerEpoch = np.ceil(xPUTrain.shape[0] / batch_size).astype(int) # +/- rounding error\n",
    "        self.buildModel(xPUTrain.shape[1])\n",
    "        # Early stopping variables\n",
    "        minvalLoss,patience = np.inf,0\n",
    "#         posTrain,unlabeledTrain = xPUTrain[yPUTrain],xPUTrain[~yPUTrain]\n",
    "#         posVal,unlabeledVal = xPUVal[yPUVal],xPUVal[~yPUVal]\n",
    "        for iters in trange(NIters,leave=False):\n",
    "            idxs1 = np.random.randint(0,high=xPUTrain.shape[0],size=batch_size)\n",
    "            idxs2 = np.random.randint(0,high=xPUTrain.shape[0],size=batch_size)\n",
    "            inp1 = xPUTrain[idxs1]\n",
    "            inp2 = xPUTrain[idxs2]\n",
    "            t1,t2 = yPUTrain[idxs1].ravel(),yPUTrain[idxs2].ravel()\n",
    "            targets = np.zeros(idxs1.shape[0])\n",
    "            targets[t1 == t2] = .5\n",
    "            targets[t1 > t2] = 1\n",
    "            trainLoss = self.model.train_on_batch([inp1,inp2],targets)\n",
    "            if not iters % batchesPerEpoch:\n",
    "                i1 = np.random.choice(range(xPUVal.shape[0]),replace=False,\n",
    "                                       size=int(xPUVal.shape[0] / 2))\n",
    "                i2 = np.random.choice(list(set(range(xPUVal.shape[0])) - set(i1)),size=i1.shape,replace=True)\n",
    "                inp1,inp2 = xPUVal[i1],xPUVal[i2]\n",
    "                y1,y2 = yPUVal[i1].ravel(),yPUVal[i2].ravel()\n",
    "                targets = np.zeros(y1.shape[0]) \n",
    "                targets[y1 > y2] = 1\n",
    "                targets[y1 == y2] = .5\n",
    "                valLoss = self.model.evaluate([inp1,inp2],targets)\n",
    "                scores = self.ranker(xPUVal)\n",
    "                if valLoss < minvalLoss:\n",
    "                    print(\"minvalLoss, \",valLoss)\n",
    "                    minvalLoss = valLoss\n",
    "                    patience = 0\n",
    "                else:\n",
    "                    patience += 1\n",
    "                if patience == 15:\n",
    "                    break\n",
    "        return self.ranker(xPUVal)[0].ravel()\n"
   ]
  },
  {
   "cell_type": "code",
   "execution_count": null,
   "metadata": {},
   "outputs": [
    {
     "data": {
      "application/vnd.jupyter.widget-view+json": {
       "model_id": "5adc16ba307f47e2931c4291b5e14f89",
       "version_major": 2,
       "version_minor": 0
      },
      "text/plain": [
       "HBox(children=(FloatProgress(value=0.0, max=10000.0), HTML(value='')))"
      ]
     },
     "metadata": {},
     "output_type": "display_data"
    },
    {
     "name": "stdout",
     "output_type": "stream",
     "text": [
      "35/35 [==============================] - 0s 2ms/step - loss: 0.7001\n",
      "minvalLoss,  0.7000850439071655\n",
      "35/35 [==============================] - 0s 2ms/step - loss: 0.6958\n",
      "minvalLoss,  0.6958281993865967\n",
      "35/35 [==============================] - 0s 2ms/step - loss: 0.6983\n",
      "35/35 [==============================] - 0s 1ms/step - loss: 0.7046\n",
      "35/35 [==============================] - 0s 1ms/step - loss: 0.7035\n",
      "35/35 [==============================] - 0s 1ms/step - loss: 0.7069\n",
      "35/35 [==============================] - 0s 1ms/step - loss: 0.7078\n",
      "35/35 [==============================] - 0s 1ms/step - loss: 0.7080\n",
      "35/35 [==============================] - 0s 1ms/step - loss: 0.7098\n",
      "35/35 [==============================] - 0s 1ms/step - loss: 0.7125\n",
      "35/35 [==============================] - 0s 1ms/step - loss: 0.7183\n",
      "35/35 [==============================] - 0s 1ms/step - loss: 0.7120\n",
      "35/35 [==============================] - 0s 1ms/step - loss: 0.7134\n",
      "35/35 [==============================] - 0s 1ms/step - loss: 0.7117\n",
      "35/35 [==============================] - 0s 1ms/step - loss: 0.7174\n",
      "35/35 [==============================] - 0s 757us/step - loss: 0.7157\n",
      "35/35 [==============================] - 0s 2ms/step - loss: 0.7201\n"
     ]
    },
    {
     "data": {
      "application/vnd.jupyter.widget-view+json": {
       "model_id": "94f1524b5d0f468883e906cee19fb0bf",
       "version_major": 2,
       "version_minor": 0
      },
      "text/plain": [
       "HBox(children=(FloatProgress(value=0.0, max=10000.0), HTML(value='')))"
      ]
     },
     "metadata": {},
     "output_type": "display_data"
    },
    {
     "name": "stdout",
     "output_type": "stream",
     "text": [
      "35/35 [==============================] - 0s 2ms/step - loss: 0.7008\n",
      "minvalLoss,  0.7007820010185242\n",
      "35/35 [==============================] - 0s 2ms/step - loss: 0.6924\n",
      "minvalLoss,  0.692373514175415\n",
      "35/35 [==============================] - 0s 2ms/step - loss: 0.6910\n",
      "minvalLoss,  0.6909863948822021\n",
      "35/35 [==============================] - 0s 2ms/step - loss: 0.6908\n",
      "minvalLoss,  0.6907839179039001\n",
      "35/35 [==============================] - 0s 2ms/step - loss: 0.6901\n",
      "minvalLoss,  0.6901016235351562\n",
      "35/35 [==============================] - 0s 1ms/step - loss: 0.6888\n",
      "minvalLoss,  0.6887580752372742\n",
      "35/35 [==============================] - 0s 2ms/step - loss: 0.6893\n",
      "35/35 [==============================] - 0s 2ms/step - loss: 0.6888\n",
      "35/35 [==============================] - 0s 2ms/step - loss: 0.6881\n",
      "minvalLoss,  0.6880913376808167\n",
      "35/35 [==============================] - 0s 2ms/step - loss: 0.6890\n",
      "35/35 [==============================] - 0s 1ms/step - loss: 0.6887\n",
      "35/35 [==============================] - 0s 2ms/step - loss: 0.6886\n",
      "35/35 [==============================] - 0s 1ms/step - loss: 0.6875\n",
      "minvalLoss,  0.6874875426292419\n",
      "35/35 [==============================] - 0s 1ms/step - loss: 0.6884\n",
      "35/35 [==============================] - 0s 883us/step - loss: 0.6908\n",
      "35/35 [==============================] - 0s 1ms/step - loss: 0.6873\n",
      "minvalLoss,  0.6872770190238953\n",
      "35/35 [==============================] - 0s 752us/step - loss: 0.6872\n",
      "minvalLoss,  0.6872207522392273\n",
      "35/35 [==============================] - 0s 956us/step - loss: 0.6878\n",
      "35/35 [==============================] - 0s 1ms/step - loss: 0.6878\n",
      "35/35 [==============================] - 0s 1ms/step - loss: 0.6890\n",
      "35/35 [==============================] - 0s 779us/step - loss: 0.6893\n",
      "35/35 [==============================] - 0s 910us/step - loss: 0.6898\n",
      "35/35 [==============================] - 0s 2ms/step - loss: 0.6885\n",
      "35/35 [==============================] - 0s 2ms/step - loss: 0.6884\n",
      "35/35 [==============================] - 0s 2ms/step - loss: 0.6891\n",
      "35/35 [==============================] - 0s 1ms/step - loss: 0.6896\n",
      "35/35 [==============================] - 0s 880us/step - loss: 0.6903\n",
      "35/35 [==============================] - 0s 1ms/step - loss: 0.6909\n",
      "35/35 [==============================] - 0s 1ms/step - loss: 0.6897\n",
      "35/35 [==============================] - 0s 2ms/step - loss: 0.6913\n",
      "35/35 [==============================] - 0s 2ms/step - loss: 0.6902\n",
      "35/35 [==============================] - 0s 2ms/step - loss: 0.6882\n"
     ]
    },
    {
     "data": {
      "application/vnd.jupyter.widget-view+json": {
       "model_id": "12d02443bfea4fc5a18ef243e394ee16",
       "version_major": 2,
       "version_minor": 0
      },
      "text/plain": [
       "HBox(children=(FloatProgress(value=0.0, max=10000.0), HTML(value='')))"
      ]
     },
     "metadata": {},
     "output_type": "display_data"
    },
    {
     "name": "stdout",
     "output_type": "stream",
     "text": [
      "35/35 [==============================] - 0s 2ms/step - loss: 0.6928\n",
      "minvalLoss,  0.6928136944770813\n",
      "35/35 [==============================] - 0s 2ms/step - loss: 0.6888\n",
      "minvalLoss,  0.6887965798377991\n",
      "35/35 [==============================] - 0s 1ms/step - loss: 0.6881\n",
      "minvalLoss,  0.6881129145622253\n",
      "35/35 [==============================] - 0s 1ms/step - loss: 0.6872\n",
      "minvalLoss,  0.6872178316116333\n",
      "35/35 [==============================] - 0s 963us/step - loss: 0.6864\n",
      "minvalLoss,  0.6863704323768616\n",
      "35/35 [==============================] - 0s 1ms/step - loss: 0.6876\n",
      "35/35 [==============================] - 0s 813us/step - loss: 0.6871\n",
      "35/35 [==============================] - 0s 1ms/step - loss: 0.6872\n",
      "35/35 [==============================] - 0s 1ms/step - loss: 0.6875\n",
      "35/35 [==============================] - 0s 1ms/step - loss: 0.6866\n",
      "35/35 [==============================] - 0s 769us/step - loss: 0.6851\n",
      "minvalLoss,  0.6850988864898682\n",
      "35/35 [==============================] - 0s 1ms/step - loss: 0.6879\n",
      "35/35 [==============================] - 0s 2ms/step - loss: 0.6862\n",
      "35/35 [==============================] - 0s 1ms/step - loss: 0.6855\n",
      "35/35 [==============================] - 0s 2ms/step - loss: 0.6868\n",
      "35/35 [==============================] - 0s 2ms/step - loss: 0.6849\n",
      "minvalLoss,  0.6849006414413452\n",
      "35/35 [==============================] - 0s 2ms/step - loss: 0.6856\n",
      "35/35 [==============================] - 0s 1ms/step - loss: 0.6866\n",
      "35/35 [==============================] - 0s 2ms/step - loss: 0.6866\n",
      "35/35 [==============================] - 0s 2ms/step - loss: 0.6862\n",
      "35/35 [==============================] - 0s 2ms/step - loss: 0.6863\n",
      "35/35 [==============================] - 0s 2ms/step - loss: 0.6858\n",
      "35/35 [==============================] - 0s 2ms/step - loss: 0.6884\n",
      "35/35 [==============================] - 0s 1ms/step - loss: 0.6870\n",
      "35/35 [==============================] - 0s 1ms/step - loss: 0.6866\n",
      "35/35 [==============================] - 0s 2ms/step - loss: 0.6841\n",
      "minvalLoss,  0.6840513944625854\n",
      "35/35 [==============================] - 0s 2ms/step - loss: 0.6872\n",
      "35/35 [==============================] - 0s 2ms/step - loss: 0.6884\n",
      "35/35 [==============================] - 0s 2ms/step - loss: 0.6875\n",
      "35/35 [==============================] - 0s 2ms/step - loss: 0.6861\n",
      "35/35 [==============================] - 0s 2ms/step - loss: 0.6885\n",
      "35/35 [==============================] - 0s 1ms/step - loss: 0.6884\n",
      "35/35 [==============================] - 0s 1ms/step - loss: 0.6872\n",
      "35/35 [==============================] - 0s 1ms/step - loss: 0.6881\n",
      "35/35 [==============================] - 0s 1ms/step - loss: 0.6873\n",
      "35/35 [==============================] - 0s 1ms/step - loss: 0.6862\n",
      "35/35 [==============================] - 0s 1ms/step - loss: 0.6868\n",
      "35/35 [==============================] - 0s 1ms/step - loss: 0.6880\n",
      "35/35 [==============================] - 0s 1ms/step - loss: 0.6880\n",
      "35/35 [==============================] - 0s 880us/step - loss: 0.6851\n",
      "35/35 [==============================] - 0s 2ms/step - loss: 0.6860\n"
     ]
    },
    {
     "data": {
      "application/vnd.jupyter.widget-view+json": {
       "model_id": "fe00764e00ed411f91f33edec539f25c",
       "version_major": 2,
       "version_minor": 0
      },
      "text/plain": [
       "HBox(children=(FloatProgress(value=0.0, max=10000.0), HTML(value='')))"
      ]
     },
     "metadata": {},
     "output_type": "display_data"
    },
    {
     "name": "stdout",
     "output_type": "stream",
     "text": [
      "35/35 [==============================] - 0s 1ms/step - loss: 0.6970\n",
      "minvalLoss,  0.6969658136367798\n",
      "35/35 [==============================] - 0s 2ms/step - loss: 0.6915\n",
      "minvalLoss,  0.6914728879928589\n",
      "35/35 [==============================] - 0s 2ms/step - loss: 0.6902\n",
      "minvalLoss,  0.6901731491088867\n",
      "35/35 [==============================] - 0s 1ms/step - loss: 0.6879\n",
      "minvalLoss,  0.6879287362098694\n",
      "35/35 [==============================] - 0s 1ms/step - loss: 0.6885\n",
      "35/35 [==============================] - 0s 1ms/step - loss: 0.6876\n",
      "minvalLoss,  0.6875821352005005\n",
      "35/35 [==============================] - 0s 1ms/step - loss: 0.6867\n",
      "minvalLoss,  0.6867282390594482\n",
      "35/35 [==============================] - 0s 1ms/step - loss: 0.6872\n",
      "35/35 [==============================] - 0s 2ms/step - loss: 0.6869\n",
      "35/35 [==============================] - 0s 2ms/step - loss: 0.6851\n",
      "minvalLoss,  0.6850590705871582\n",
      "35/35 [==============================] - 0s 1ms/step - loss: 0.6877\n",
      "35/35 [==============================] - 0s 2ms/step - loss: 0.6870\n",
      "35/35 [==============================] - 0s 2ms/step - loss: 0.6881\n",
      "35/35 [==============================] - 0s 1ms/step - loss: 0.6869\n",
      "35/35 [==============================] - 0s 1ms/step - loss: 0.6864\n",
      "35/35 [==============================] - 0s 1ms/step - loss: 0.6861\n",
      "35/35 [==============================] - 0s 980us/step - loss: 0.6851\n",
      "35/35 [==============================] - 0s 1ms/step - loss: 0.6862\n",
      "35/35 [==============================] - 0s 1ms/step - loss: 0.6866\n",
      "35/35 [==============================] - 0s 1ms/step - loss: 0.6872\n",
      "35/35 [==============================] - 0s 768us/step - loss: 0.6859\n",
      "35/35 [==============================] - 0s 787us/step - loss: 0.6872\n",
      "35/35 [==============================] - 0s 1ms/step - loss: 0.6856\n",
      "35/35 [==============================] - 0s 1ms/step - loss: 0.6870\n",
      "35/35 [==============================] - 0s 1ms/step - loss: 0.6853\n"
     ]
    },
    {
     "data": {
      "application/vnd.jupyter.widget-view+json": {
       "model_id": "261ae7b85bc943229301ab7b8e1b39aa",
       "version_major": 2,
       "version_minor": 0
      },
      "text/plain": [
       "HBox(children=(FloatProgress(value=0.0, max=10000.0), HTML(value='')))"
      ]
     },
     "metadata": {},
     "output_type": "display_data"
    },
    {
     "name": "stdout",
     "output_type": "stream",
     "text": [
      "35/35 [==============================] - 0s 2ms/step - loss: 0.6958\n",
      "minvalLoss,  0.6958010196685791\n",
      "35/35 [==============================] - 0s 2ms/step - loss: 0.6914\n",
      "minvalLoss,  0.6913654804229736\n",
      "35/35 [==============================] - 0s 2ms/step - loss: 0.6893\n",
      "minvalLoss,  0.6892818808555603\n",
      "35/35 [==============================] - 0s 2ms/step - loss: 0.6883\n",
      "minvalLoss,  0.688262939453125\n",
      "35/35 [==============================] - 0s 2ms/step - loss: 0.6887\n",
      "35/35 [==============================] - 0s 1ms/step - loss: 0.6893\n",
      "35/35 [==============================] - 0s 2ms/step - loss: 0.6877\n",
      "minvalLoss,  0.6877198815345764\n",
      "35/35 [==============================] - 0s 2ms/step - loss: 0.6869\n",
      "minvalLoss,  0.6869292259216309\n",
      "35/35 [==============================] - 0s 2ms/step - loss: 0.6902\n",
      "35/35 [==============================] - 0s 2ms/step - loss: 0.6870\n",
      "35/35 [==============================] - 0s 1ms/step - loss: 0.6864\n",
      "minvalLoss,  0.6864089369773865\n",
      "35/35 [==============================] - 0s 1ms/step - loss: 0.6876\n",
      "35/35 [==============================] - 0s 1ms/step - loss: 0.6880\n",
      "35/35 [==============================] - 0s 1ms/step - loss: 0.6884\n",
      "35/35 [==============================] - 0s 1ms/step - loss: 0.6873\n",
      "35/35 [==============================] - 0s 1ms/step - loss: 0.6864\n",
      "minvalLoss,  0.6863593459129333\n",
      "35/35 [==============================] - 0s 1ms/step - loss: 0.6879\n",
      "35/35 [==============================] - 0s 1ms/step - loss: 0.6864\n",
      "35/35 [==============================] - 0s 1ms/step - loss: 0.6877\n",
      "35/35 [==============================] - 0s 925us/step - loss: 0.6893\n",
      "35/35 [==============================] - 0s 2ms/step - loss: 0.6885\n",
      "35/35 [==============================] - 0s 2ms/step - loss: 0.6875\n",
      "35/35 [==============================] - 0s 1ms/step - loss: 0.6857\n",
      "minvalLoss,  0.6856808066368103\n",
      "35/35 [==============================] - 0s 1ms/step - loss: 0.6888\n",
      "35/35 [==============================] - 0s 1ms/step - loss: 0.6891\n",
      "35/35 [==============================] - 0s 2ms/step - loss: 0.6874\n",
      "35/35 [==============================] - 0s 1ms/step - loss: 0.6858\n",
      "35/35 [==============================] - 0s 1ms/step - loss: 0.6859\n",
      "35/35 [==============================] - 0s 1ms/step - loss: 0.6861\n",
      "35/35 [==============================] - 0s 2ms/step - loss: 0.6873\n",
      "35/35 [==============================] - 0s 2ms/step - loss: 0.6875\n",
      "35/35 [==============================] - 0s 2ms/step - loss: 0.6869\n",
      "35/35 [==============================] - 0s 2ms/step - loss: 0.6874\n",
      "35/35 [==============================] - 0s 751us/step - loss: 0.6879\n",
      "35/35 [==============================] - 0s 1ms/step - loss: 0.6876\n",
      "35/35 [==============================] - 0s 997us/step - loss: 0.6892\n",
      "35/35 [==============================] - 0s 1ms/step - loss: 0.6895\n",
      "35/35 [==============================] - 0s 1ms/step - loss: 0.6904\n",
      "0.6635854\n"
     ]
    },
    {
     "data": {
      "text/plain": [
       "array([0.05745825, 0.5294652 , 0.01091731, ..., 0.0133664 , 0.00657031,\n",
       "       0.39796197])"
      ]
     },
     "execution_count": null,
     "metadata": {},
     "output_type": "execute_result"
    }
   ],
   "source": [
    "ranker2 = RankNetTies()\n",
    "ranker2.train(xPU,yPU)"
   ]
  },
  {
   "cell_type": "code",
   "execution_count": null,
   "metadata": {},
   "outputs": [
    {
     "data": {
      "text/plain": [
       "[<matplotlib.lines.Line2D at 0x7fc0b805c350>]"
      ]
     },
     "execution_count": null,
     "metadata": {},
     "output_type": "execute_result"
    },
    {
     "data": {
      "image/png": "[encoded data removed]",
      "text/plain": [
       "<Figure size 432x288 with 1 Axes>"
      ]
     },
     "metadata": {
      "needs_background": "light"
     },
     "output_type": "display_data"
    }
   ],
   "source": [
    "plt.scatter(ranker2.ranker(xPUTrain[~yPUTrain.astype(bool)])[0],dg.pn_posterior_cc(xPUTrain[~yPUTrain.astype(bool)]),color=\"blue\")\n",
    "plt.scatter(ranker2.ranker(xPUTrain[yPUTrain.astype(bool)])[0],dg.pn_posterior_cc(xPUTrain[yPUTrain.astype(bool)]),color=\"red\",alpha=.05)\n",
    "plt.plot([0,1],[0,1],color=\"black\")"
   ]
  },
  {
   "cell_type": "markdown",
   "metadata": {},
   "source": [
    "### PN Posterior"
   ]
  },
  {
   "cell_type": "code",
   "execution_count": null,
   "metadata": {},
   "outputs": [],
   "source": [
    "posts,net = getPosterior(xPU,yPU,dg.alpha,pupost=lambda x: ranker(x[:])[0],\n",
    "             distributions=EasyDict({\"true_posterior\" : dg.pn_posterior_cc,\n",
    "                                     \"f1\" : dg.dens_pos,\n",
    "                                     \"f0\" : dg.dens_neg}),\n",
    "             viz_freq=50,\n",
    "             absLoss=True,\n",
    "             yPN=yPN,\n",
    "             training_args=EasyDict({\"n_units\": 128,\n",
    "                                     \"n_hidden\":10,\n",
    "                                     \"dropout_rate\":0.15,\n",
    "                                     \"maxIter\":5000,\n",
    "                                     \"batch_size\":128}),)"
   ]
  },
  {
   "cell_type": "code",
   "execution_count": null,
   "metadata": {},
   "outputs": [],
   "source": [
    "print(roc_auc_score(yPNVal,dg.pn_posterior_cc(xPUVal)), roc_auc_score(yPNVal,net(ranker(xPUVal)[0])))"
   ]
  },
  {
   "cell_type": "markdown",
   "metadata": {},
   "source": [
    "# Compare to the univariate transform score"
   ]
  },
  {
   "cell_type": "code",
   "execution_count": null,
   "metadata": {},
   "outputs": [
    {
     "data": {
      "application/vnd.jupyter.widget-view+json": {
       "model_id": "",
       "version_major": 2,
       "version_minor": 0
      },
      "text/plain": [
       "HBox(children=(FloatProgress(value=0.0, description='Training univariate transforms', max=6.0, style=ProgressS…"
      ]
     },
     "metadata": {},
     "output_type": "display_data"
    }
   ],
   "source": [
    "scores,aucpu = getOptimalTransform(xPU,yPU.ravel())"
   ]
  },
  {
   "cell_type": "code",
   "execution_count": null,
   "metadata": {},
   "outputs": [
    {
     "data": {
      "text/plain": [
       "0.6362615"
      ]
     },
     "execution_count": null,
     "metadata": {},
     "output_type": "execute_result"
    }
   ],
   "source": [
    "aucpu"
   ]
  },
  {
   "cell_type": "code",
   "execution_count": null,
   "metadata": {},
   "outputs": [
    {
     "data": {
      "text/plain": [
       "[<matplotlib.lines.Line2D at 0x7fc150148250>]"
      ]
     },
     "execution_count": null,
     "metadata": {},
     "output_type": "execute_result"
    },
    {
     "data": {
      "image/png": "[encoded data removed]",
      "text/plain": [
       "<Figure size 432x288 with 1 Axes>"
      ]
     },
     "metadata": {
      "needs_background": "light"
     },
     "output_type": "display_data"
    }
   ],
   "source": [
    "plt.scatter(scores,dg.pu_posterior(xPU))\n",
    "plt.plot([0,1],[0,1],color=\"black\")"
   ]
  },
  {
   "cell_type": "code",
   "execution_count": null,
   "metadata": {},
   "outputs": [
    {
     "data": {
      "text/plain": [
       "0.6362615"
      ]
     },
     "execution_count": null,
     "metadata": {},
     "output_type": "execute_result"
    }
   ],
   "source": [
    "roc_auc_score(yPU,scores)"
   ]
  },
  {
   "cell_type": "markdown",
   "metadata": {},
   "source": [
    "### Training on scores"
   ]
  },
  {
   "cell_type": "code",
   "execution_count": null,
   "metadata": {},
   "outputs": [],
   "source": [
    "posts,net = getPosterior(xPU,yPU,dg.alpha,inputs=scores[:,None],\n",
    "             distributions=EasyDict({\"true_posterior\" : dg.pn_posterior_cc,\n",
    "                                     \"f1\" : dg.dens_pos,\n",
    "                                     \"f0\" : dg.dens_neg}),\n",
    "             viz_freq=50,\n",
    "             absLoss=True,\n",
    "             yPN=yPN,\n",
    "             training_args=EasyDict({\"n_units\": 128,\n",
    "                                     \"n_hidden\":10,\n",
    "                                     \"dropout_rate\":0.15,\n",
    "                                     \"maxIter\":5000,\n",
    "                                     \"batch_size\":128}),)"
   ]
  },
  {
   "cell_type": "code",
   "execution_count": null,
   "metadata": {},
   "outputs": [],
   "source": [
    "roc_auc_score(yPN, net(scores[:,None]))"
   ]
  },
  {
   "cell_type": "markdown",
   "metadata": {},
   "source": [
    "# No Transform"
   ]
  },
  {
   "cell_type": "code",
   "execution_count": null,
   "metadata": {},
   "outputs": [],
   "source": [
    "getPosterior(xPU,yPU,dg.alpha,\n",
    "             distributions=EasyDict({\"true_posterior\" : dg.pn_posterior_cc,\n",
    "                                     \"f1\" : dg.dens_pos,\n",
    "                                     \"f0\" : dg.dens_neg}),\n",
    "             viz_freq=50,\n",
    "             absLoss=True,\n",
    "             yPN=yPN,\n",
    "             training_args=EasyDict({\"n_units\": 128,\n",
    "                                     \"n_hidden\":10,\n",
    "                                     \"dropout_rate\":0.15,\n",
    "                                     \"maxIter\":5000,\n",
    "                                     \"batch_size\":128}),)"
   ]
  },
  {
   "cell_type": "code",
   "execution_count": null,
   "metadata": {},
   "outputs": [],
   "source": [
    "import scipy.stats as ss"
   ]
  },
  {
   "cell_type": "code",
   "execution_count": null,
   "metadata": {},
   "outputs": [],
   "source": [
    "from multiinstance.vpu import train"
   ]
  },
  {
   "cell_type": "markdown",
   "metadata": {},
   "source": [
    "# Train on True Ranks"
   ]
  },
  {
   "cell_type": "code",
   "execution_count": null,
   "metadata": {},
   "outputs": [],
   "source": [
    "ranks = ss.rankdata(dg.pu_posterior(xPU))[:,None]\n",
    "ranks = (ranks - ranks.min()) / (ranks.max() - ranks.min())\n",
    "p = getPosterior(xPU,yPU,dg.alpha,inputs=ranks[:,None],\n",
    "             distributions=EasyDict({\"true_posterior\" : dg.pn_posterior_cc,\n",
    "                                     \"f1\" : dg.dens_pos,\n",
    "                                     \"f0\" : dg.dens_neg}),\n",
    "             viz_freq=50,\n",
    "             absLoss=True,\n",
    "             yPN=yPN,\n",
    "             training_args=EasyDict({\"n_units\": 128,\n",
    "                                     \"n_hidden\":10,\n",
    "                                     \"dropout_rate\":0.15,\n",
    "                                     \"maxIter\":5000,\n",
    "                                     \"batch_size\":128}),)"
   ]
  },
  {
   "cell_type": "code",
   "execution_count": null,
   "metadata": {},
   "outputs": [],
   "source": [
    "roc_auc_score(yPN.astype(bool),p[0].ravel())"
   ]
  },
  {
   "cell_type": "markdown",
   "metadata": {},
   "source": [
    "# VPU"
   ]
  },
  {
   "cell_type": "code",
   "execution_count": null,
   "metadata": {},
   "outputs": [],
   "source": [
    "p = train(ranks[:,None],yPU.astype(bool),args=EasyDict({'hdim': 1024, 'lr': 0.0001, 'n_epochs': 500, 'batch_size': 32}),)"
   ]
  },
  {
   "cell_type": "code",
   "execution_count": null,
   "metadata": {},
   "outputs": [],
   "source": [
    "plt.scatter(p,dg.pn_posterior_cc(xPU))\n",
    "plt.plot([0,1],[0,1],color=\"black\")"
   ]
  },
  {
   "cell_type": "code",
   "execution_count": null,
   "metadata": {},
   "outputs": [],
   "source": [
    "roc_auc_score(yPN,p)"
   ]
  },
  {
   "cell_type": "markdown",
   "metadata": {},
   "source": [
    "# XGBoost"
   ]
  },
  {
   "cell_type": "code",
   "execution_count": null,
   "metadata": {},
   "outputs": [],
   "source": [
    "import xgboost"
   ]
  },
  {
   "cell_type": "code",
   "execution_count": null,
   "metadata": {},
   "outputs": [],
   "source": [
    "xgb = xgboost.XGBRanker(n_estimators=1000,)"
   ]
  },
  {
   "cell_type": "code",
   "execution_count": null,
   "metadata": {},
   "outputs": [],
   "source": [
    "xgb.fit(xPUTrain,yPUTrain[:,0],group=[yPUTrain.shape[0]])"
   ]
  },
  {
   "cell_type": "code",
   "execution_count": null,
   "metadata": {},
   "outputs": [],
   "source": [
    "roc_auc_score(yPUVal, dg.pu_posterior(xPUVal))"
   ]
  },
  {
   "cell_type": "code",
   "execution_count": null,
   "metadata": {},
   "outputs": [],
   "source": [
    "roc_auc_score(yPUVal,xgb.predict(xPUVal))"
   ]
  },
  {
   "cell_type": "code",
   "execution_count": null,
   "metadata": {},
   "outputs": [],
   "source": [
    "plt.scatter(xgb.predict(xPUVal),dg.pu_posterior(xPUVal))\n",
    "plt.plot([0,1],[0,1],color=\"black\")"
   ]
  },
  {
   "cell_type": "code",
   "execution_count": null,
   "metadata": {},
   "outputs": [],
   "source": [
    "xgbranks = xgb.predict(xPU)[:,None]\n",
    "xgbranks = (xgbranks - xgbranks.min()) / (xgbranks.max() - xgbranks.min())"
   ]
  },
  {
   "cell_type": "code",
   "execution_count": null,
   "metadata": {},
   "outputs": [],
   "source": [
    "getPosterior(xPU,yPU,dg.alpha,inputs=xgbranks,\n",
    "             distributions=EasyDict({\"true_posterior\" : dg.pn_posterior_cc,\n",
    "                                     \"f1\" : dg.dens_pos,\n",
    "                                     \"f0\" : dg.dens_neg}),\n",
    "             viz_freq=50,\n",
    "             absLoss=True,\n",
    "             yPN=yPN,\n",
    "             training_args=EasyDict({\"n_units\": 128,\n",
    "                                     \"n_hidden\":10,\n",
    "                                     \"dropout_rate\":0.15,\n",
    "                                     \"maxIter\":5000,\n",
    "                                     \"batch_size\":128}),)"
   ]
  },
  {
   "cell_type": "code",
   "execution_count": null,
   "metadata": {},
   "outputs": [],
   "source": []
  }
 ],
 "metadata": {
  "kernelspec": {
   "display_name": "tf",
   "language": "python",
   "name": "tf"
  }
 },
 "nbformat": 4,
 "nbformat_minor": 4
}
