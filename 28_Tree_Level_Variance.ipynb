{
 "cells": [
  {
   "cell_type": "code",
   "execution_count": null,
   "metadata": {},
   "outputs": [],
   "source": [
    "from multiinstance.data.realData import buildDataset as buildReal\n",
    "from multiinstance.utils import *"
   ]
  },
  {
   "cell_type": "code",
   "execution_count": null,
   "metadata": {},
   "outputs": [],
   "source": [
    "from multiinstance.ward_clustering import WardClustering"
   ]
  },
  {
   "cell_type": "code",
   "execution_count": null,
   "metadata": {},
   "outputs": [],
   "source": [
    "import matplotlib.pyplot as plt"
   ]
  },
  {
   "cell_type": "code",
   "execution_count": null,
   "metadata": {},
   "outputs": [],
   "source": [
    "from glob import glob\n",
    "from tqdm.notebook import tqdm"
   ]
  },
  {
   "cell_type": "code",
   "execution_count": null,
   "metadata": {},
   "outputs": [],
   "source": [
    "import numpy as np"
   ]
  },
  {
   "cell_type": "code",
   "execution_count": null,
   "metadata": {},
   "outputs": [],
   "source": [
    "for f in tqdm(glob(\"/ssdata/ClassPriorEstimationPrivate/data/rawDatasets/*.mat\")):\n",
    "    ds = buildReal(f,16,nPDistr=lambda: 1 + np.random.poisson(25),\n",
    "                   nUDistr=lambda: 1 + np.random.poisson(75))\n",
    "\n",
    "    ds = addTransformScores(ds)\n",
    "\n",
    "\n",
    "    ds.alphaHats,ds.curves = getBagAlphaHats(ds,numbootstraps=100)\n",
    "\n",
    "    ward = WardClustering(ds,randomPairing=True,numbootstraps=ds.alphaHats.shape[1])\n",
    "    ward.cluster()\n",
    "\n",
    "    meanvars = []\n",
    "    for level in range(ward.alphaHatMat.shape[0]):\n",
    "        c_labels = np.unique(ward.clusterAssignment[level]).astype(int)\n",
    "        meanvars.append(ward.alphaHatMat[level,c_labels].var(1).mean())\n",
    "\n",
    "    plt.plot(meanvars)\n",
    "    plt.show()"
   ]
  },
  {
   "cell_type": "code",
   "execution_count": null,
   "metadata": {},
   "outputs": [],
   "source": [
    "for f in tqdm(glob(\"/ssdata/ClassPriorEstimationPrivate/data/rawDatasets/*.mat\")):\n",
    "    ds = buildReal(f,16,nPDistr=lambda: 1 + np.random.poisson(25),\n",
    "                   nUDistr=lambda: 1 + np.random.poisson(75))\n",
    "\n",
    "    ds = addTransformScores(ds)\n",
    "\n",
    "\n",
    "    ds.alphaHats,ds.curves = getBagAlphaHats(ds,numbootstraps=100)\n",
    "\n",
    "    ward = WardClustering(ds,randomPairing=False,numbootstraps=ds.alphaHats.shape[1])\n",
    "    ward.cluster()\n",
    "\n",
    "    meanvars = []\n",
    "    for level in range(ward.alphaHatMat.shape[0]):\n",
    "        c_labels = np.unique(ward.clusterAssignment[level]).astype(int)\n",
    "        meanvars.append(ward.alphaHatMat[level,c_labels].var(1).mean())\n",
    "\n",
    "    plt.plot(meanvars)\n",
    "    plt.show()"
   ]
  },
  {
   "cell_type": "code",
   "execution_count": null,
   "metadata": {},
   "outputs": [],
   "source": []
  }
 ],
 "metadata": {
  "language_info": {
   "name": "python",
   "pygments_lexer": "ipython3"
  }
 },
 "nbformat": 4,
 "nbformat_minor": 4
}
