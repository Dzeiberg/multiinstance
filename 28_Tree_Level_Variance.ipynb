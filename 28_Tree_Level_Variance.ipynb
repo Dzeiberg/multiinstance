{
 "cells": [
  {
   "cell_type": "code",
   "execution_count": null,
   "metadata": {},
   "outputs": [],
   "source": [
    "from multiinstance.data.realData import buildDataset as buildReal\n",
    "from multiinstance.utils import *\n",
    "\n",
    "from multiinstance.ward_clustering import WardClustering\n",
    "\n",
    "import matplotlib.pyplot as plt\n",
    "\n",
    "from glob import glob\n",
    "from tqdm.notebook import tqdm\n",
    "\n",
    "import numpy as np"
   ]
  },
  {
   "cell_type": "code",
   "execution_count": null,
   "metadata": {},
   "outputs": [],
   "source": [
    "for f in tqdm(glob(\"/ssdata/ClassPriorEstimationPrivate/data/rawDatasets/*.mat\")):\n",
    "    ds = buildReal(f,16,nPDistr=lambda: 1 + np.random.poisson(25),\n",
    "                   nUDistr=lambda: 1 + np.random.poisson(75))\n",
    "\n",
    "    ds = addTransformScores(ds)\n",
    "\n",
    "\n",
    "    ds.alphaHats,ds.curves = getBagAlphaHats(ds,numbootstraps=100)\n",
    "\n",
    "    ward = WardClustering(ds,randomPairing=True,numbootstraps=ds.alphaHats.shape[1])\n",
    "    ward.cluster()\n",
    "\n",
    "    meanvars = []\n",
    "    for level in range(ward.alphaHatMat.shape[0]):\n",
    "        c_labels = np.unique(ward.clusterAssignment[level]).astype(int)\n",
    "        meanvars.append(ward.alphaHatMat[level,c_labels].var(1).mean())\n",
    "\n",
    "    plt.plot(meanvars)\n",
    "    plt.show()"
   ]
  },
  {
   "cell_type": "code",
   "execution_count": null,
   "metadata": {},
   "outputs": [],
   "source": [
    "ds= buildReal(\"/data/dzeiberg/ClassPriorEstimation/rawDatasets/abalone.mat\", 4)\n",
    "ds = addTransformScores(ds)\n",
    "ds.alphaHats, ds.curves = getBagAlphaHats(ds,numbootstraps=10)\n",
    "ward = WardClustering(ds,randomPairing=True,numbootstraps=ds.alphaHats.shape[1])\n",
    "ward.cluster()"
   ]
  },
  {
   "cell_type": "code",
   "execution_count": null,
   "metadata": {},
   "outputs": [],
   "source": [
    "for level in range(ward.clusterAssignment.shape[0]):\n",
    "    cs = np.unique(ward.clusterAssignment[level]).astype(int)\n",
    "    aes = []\n",
    "    for c in cs:\n",
    "        bags = np.where(ward.clusterAssignment[level] == c)[0]\n",
    "        alpha = np.dot(ds.trueAlphas.flatten()[bags],ds.numU[bags]) / ds.numU[bags].sum()\n",
    "        alphaHat= ward.alphaHatMat[level][c]\n",
    "        ae = np.abs(alpha - alphaHat)\n",
    "        aes.append(ae)\n",
    "    print(\"level: {}    MAE: {:.3f}\".format(level, np.mean(aes)))"
   ]
  },
  {
   "cell_type": "code",
   "execution_count": null,
   "metadata": {},
   "outputs": [],
   "source": []
  }
 ],
 "metadata": {
  "language_info": {
   "name": "python",
   "pygments_lexer": "ipython3"
  }
 },
 "nbformat": 4,
 "nbformat_minor": 4
}
