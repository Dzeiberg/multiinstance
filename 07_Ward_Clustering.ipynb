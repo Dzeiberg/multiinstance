{
 "cells": [
  {
   "cell_type": "code",
   "execution_count": null,
   "metadata": {},
   "outputs": [],
   "source": [
    "# default_exp ward_clustering"
   ]
  },
  {
   "cell_type": "code",
   "execution_count": null,
   "metadata": {},
   "outputs": [],
   "source": []
  },
  {
   "cell_type": "code",
   "execution_count": 1,
   "metadata": {
    "ExecuteTime": {
     "end_time": "2021-03-18T12:40:25.362878Z",
     "start_time": "2021-03-18T12:40:14.387209Z"
    }
   },
   "outputs": [],
   "source": [
    "# export\n",
    "from multiinstance.utils import *\n",
    "from multiinstance.distanceApproaches import *\n",
    "from multiinstance.data.syntheticData import buildDataset,getBag\n",
    "\n",
    "import seaborn as sns\n",
    "import matplotlib.pyplot as plt\n",
    "\n",
    "\n",
    "import numpy as np\n",
    "\n",
    "import scipy.stats as ss\n",
    "\n",
    "from tqdm.notebook import tqdm\n",
    "\n",
    "from numba import set_num_threads"
   ]
  },
  {
   "cell_type": "code",
   "execution_count": null,
   "metadata": {},
   "outputs": [],
   "source": [
    "set_num_threads(10)"
   ]
  },
  {
   "cell_type": "code",
   "execution_count": 12,
   "metadata": {
    "ExecuteTime": {
     "end_time": "2021-03-18T12:41:35.235685Z",
     "start_time": "2021-03-18T12:41:35.193850Z"
    }
   },
   "outputs": [],
   "source": [
    "# export\n",
    "class WardClustering:\n",
    "    def __init__(self, dsi,numbootstraps=10,randomPairing=False):\n",
    "        self.randomPairing = randomPairing\n",
    "        self.numbootstraps = numbootstraps\n",
    "        self.clusterAssignment = np.zeros((dsi.N, dsi.N))\n",
    "        self.clusterAssignment[0] = np.arange(dsi.N)\n",
    "        self.clusterAlphaHats = {i: dsi.alphaHats[i] for i in range(dsi.N)}\n",
    "        self.alphaHatMat = np.ones((dsi.N, dsi.N, numbootstraps)) * np.nan\n",
    "        for i in range(dsi.N):\n",
    "            self.alphaHatMat[0,i] = dsi.alphaHats[i]\n",
    "        self.ds = dsi\n",
    "        self.meanAbsErrs = np.zeros(dsi.N)\n",
    "        self.deltas = np.zeros(dsi.N - 1)\n",
    "        self.doLogging(0)\n",
    "        self.log = []\n",
    "        \n",
    "    def doLogging(self, c_iter):\n",
    "#         print(\"logging \",c_iter)\n",
    "        absErrs = []\n",
    "        clusters = np.unique(self.clusterAssignment[c_iter])\n",
    "#         print(self.clusterAssignment)\n",
    "        for ci in clusters:\n",
    "            bags = np.where(self.clusterAssignment[c_iter] == ci)[0]\n",
    "#             print(c_iter, ci)\n",
    "            aHat = self.alphaHatMat[int(c_iter), int(ci)].mean()\n",
    "            alphas = self.ds.trueAlphas[bags].flatten()\n",
    "            # log abs. err for this cluster\n",
    "            aes = np.abs(alphas - aHat)\n",
    "            absErrs.append(aes)\n",
    "        self.meanAbsErrs[c_iter] = np.mean(np.concatenate(absErrs))\n",
    "#         print(\"MAE after \",c_iter,\" merges: \",self.meanAbsErrs)\n",
    "    \n",
    "    def cluster(self):\n",
    "        for c_iter in tqdm(range(1, self.ds.N),desc=\"clustering iter\",total=self.ds.N-1):\n",
    "            clusters = np.unique(self.clusterAssignment[c_iter - 1]).astype(int)\n",
    "            Nc = len(clusters)\n",
    "            deltas = np.ones((Nc, Nc)) * np.inf\n",
    "            alphaHats_Merged_Clusters = np.zeros((Nc,Nc, self.numbootstraps))\n",
    "            if not self.randomPairing:\n",
    "                for i, ci in tqdm(enumerate(clusters), desc=\"ci\", total=Nc, leave=False):\n",
    "                    alphaHat_ci = self.alphaHatMat[c_iter - 1,ci]\n",
    "                    var_ci = np.sum((alphaHat_ci - alphaHat_ci.mean())**2)\n",
    "                    for j, cj in enumerate(set(clusters)):\n",
    "                        if i != j:\n",
    "                            alphaHat_cj = self.alphaHatMat[c_iter-1, cj]\n",
    "                            var_cj = np.sum((alphaHat_cj - alphaHat_cj.mean())**2)\n",
    "                            # alpha hats from i or j\n",
    "                            alphaHats = np.concatenate((alphaHat_ci,\n",
    "                                                           alphaHat_cj))\n",
    "                            # Get alphaHat for joint cluster\n",
    "                            bagIdxs = np.where(np.isin(self.clusterAssignment[c_iter - 1],[ci,cj]))[0]\n",
    "                            alphaHat_cij = self.getClusterEst(bagIdxs)\n",
    "                            alphaHats_Merged_Clusters[i,j] = alphaHat_cij\n",
    "                            var_cij = np.sum((alphaHats - alphaHat_cij.mean())**2)\n",
    "                            deltas[i,j]= var_cij - var_ci - var_cj\n",
    "                # find indices of bags to merge\n",
    "                idx = np.argmin(deltas)\n",
    "                i,j = int(idx / deltas.shape[0]), idx % deltas.shape[0]\n",
    "            else:\n",
    "                i = np.random.choice(np.arange(deltas.shape[0]))\n",
    "                j = np.random.choice(list(set(np.arange(deltas.shape[0])) - set([i])))\n",
    "                ci = clusters[i]\n",
    "                cj = clusters[j]\n",
    "                bagIdxs = np.where(np.isin(self.clusterAssignment[c_iter - 1],[ci,cj]))[0]\n",
    "                alphaHat_cij = self.getClusterEst(bagIdxs)\n",
    "                alphaHats_Merged_Clusters[i,j] = alphaHat_cij\n",
    "                \n",
    "                \n",
    "            \n",
    "            ci, cj = clusters[i], clusters[j]\n",
    "#             print(deltas)\n",
    "            self.log.append((ci,cj))\n",
    "            # deltas i indexed list of increase in cluster variance caused by the i+1_th merge\n",
    "            self.deltas[c_iter - 1] = deltas[i,j]\n",
    "            # set cluster assignment after this merge\n",
    "            self.clusterAssignment[c_iter] = self.clusterAssignment[c_iter - 1]\n",
    "            inI = np.where(self.clusterAssignment[c_iter] == ci)[0]\n",
    "            inJ = np.where(self.clusterAssignment[c_iter] == cj)[0]\n",
    "            self.clusterAssignment[c_iter, inJ] = ci\n",
    "            # update the alphaHat to that estimated from the newly formed cluster\n",
    "#             self.clusterAlphaHats[ci] = alphaHats_Merged_Clusters[i,j]\n",
    "            self.alphaHatMat[c_iter] = self.alphaHatMat[c_iter - 1]\n",
    "            self.alphaHatMat[c_iter, list(set(inI).union(set(inJ)))] = alphaHats_Merged_Clusters[i,j]\n",
    "            self.doLogging(c_iter)\n",
    "\n",
    "    def getClusterEst(self,bagIdxs):\n",
    "        _,U = list(zip(*[getTransformScores(self.ds,b) for b in bagIdxs]))\n",
    "        P, _ = list(zip(*[getTransformScores(self.ds,int(i)) for i in range(self.ds.N)]))\n",
    "        p = np.concatenate(P).reshape((-1,1))\n",
    "        u = np.concatenate(U).reshape((-1,1))\n",
    "        alphaHats, _ = getEsts(p,u,self.numbootstraps)\n",
    "        return alphaHats"
   ]
  },
  {
   "cell_type": "code",
   "execution_count": 3,
   "metadata": {
    "ExecuteTime": {
     "end_time": "2021-03-18T12:40:34.815723Z",
     "start_time": "2021-03-18T12:40:29.622457Z"
    }
   },
   "outputs": [
    {
     "data": {
      "application/vnd.jupyter.widget-view+json": {
       "model_id": "",
       "version_major": 2,
       "version_minor": 0
      },
      "text/plain": [
       "HBox(children=(FloatProgress(value=0.0, description='Training univariate transforms', max=6.0, style=ProgressS…"
      ]
     },
     "metadata": {},
     "output_type": "display_data"
    },
    {
     "data": {
      "application/vnd.jupyter.widget-view+json": {
       "model_id": "",
       "version_major": 2,
       "version_minor": 0
      },
      "text/plain": [
       "HBox(children=(FloatProgress(value=0.0, description='getting bag estimates', max=2.0, style=ProgressStyle(desc…"
      ]
     },
     "metadata": {},
     "output_type": "display_data"
    },
    {
     "data": {
      "application/vnd.jupyter.widget-view+json": {
       "model_id": "",
       "version_major": 2,
       "version_minor": 0
      },
      "text/plain": [
       "HBox(children=(FloatProgress(value=0.0, description='getting distCurve Estimates', max=5.0, style=ProgressStyl…"
      ]
     },
     "metadata": {},
     "output_type": "display_data"
    },
    {
     "data": {
      "application/vnd.jupyter.widget-view+json": {
       "model_id": "",
       "version_major": 2,
       "version_minor": 0
      },
      "text/plain": [
       "HBox(children=(FloatProgress(value=0.0, description='getting distCurve Estimates', max=5.0, style=ProgressStyl…"
      ]
     },
     "metadata": {},
     "output_type": "display_data"
    }
   ],
   "source": [
    "dsi = buildDataset(2,alphaDistr=lambda: np.random.uniform(.01,.5),\n",
    "                  nP=10,nU=25)\n",
    "\n",
    "dsi = addTransformScores(dsi)\n",
    "\n",
    "dsi.alphaHats,dsi.curves = getBagAlphaHats(dsi,numbootstraps=5)"
   ]
  },
  {
   "cell_type": "code",
   "execution_count": 13,
   "metadata": {
    "ExecuteTime": {
     "end_time": "2021-03-18T12:41:36.652139Z",
     "start_time": "2021-03-18T12:41:36.646539Z"
    }
   },
   "outputs": [],
   "source": [
    "ward = WardClustering(dsi,numbootstraps=5,randomPairing=True)"
   ]
  },
  {
   "cell_type": "code",
   "execution_count": 14,
   "metadata": {
    "ExecuteTime": {
     "end_time": "2021-03-18T12:41:36.969897Z",
     "start_time": "2021-03-18T12:41:36.853171Z"
    },
    "scrolled": true
   },
   "outputs": [
    {
     "data": {
      "application/vnd.jupyter.widget-view+json": {
       "model_id": "015a6787fdb948fda5f96196aeb1a9e4",
       "version_major": 2,
       "version_minor": 0
      },
      "text/plain": [
       "HBox(children=(FloatProgress(value=0.0, description='clustering iter', max=1.0, style=ProgressStyle(descriptio…"
      ]
     },
     "metadata": {},
     "output_type": "display_data"
    },
    {
     "data": {
      "application/vnd.jupyter.widget-view+json": {
       "model_id": "",
       "version_major": 2,
       "version_minor": 0
      },
      "text/plain": [
       "HBox(children=(FloatProgress(value=0.0, description='getting distCurve Estimates', max=5.0, style=ProgressStyl…"
      ]
     },
     "metadata": {},
     "output_type": "display_data"
    },
    {
     "name": "stdout",
     "output_type": "stream",
     "text": [
      "\n"
     ]
    }
   ],
   "source": [
    "ward.cluster()"
   ]
  },
  {
   "cell_type": "code",
   "execution_count": 24,
   "metadata": {
    "ExecuteTime": {
     "end_time": "2021-03-16T15:52:52.944751Z",
     "start_time": "2021-03-16T15:52:52.937497Z"
    }
   },
   "outputs": [
    {
     "data": {
      "text/plain": [
       "array([[0., 1., 2., 3.],\n",
       "       [2., 1., 2., 3.],\n",
       "       [1., 1., 1., 3.],\n",
       "       [1., 1., 1., 1.]])"
      ]
     },
     "execution_count": 24,
     "metadata": {},
     "output_type": "execute_result"
    }
   ],
   "source": [
    "ward.clusterAssignment"
   ]
  },
  {
   "cell_type": "code",
   "execution_count": 25,
   "metadata": {
    "ExecuteTime": {
     "end_time": "2021-03-16T15:53:18.494234Z",
     "start_time": "2021-03-16T15:53:18.486345Z"
    }
   },
   "outputs": [
    {
     "data": {
      "text/plain": [
       "array([[[0.46193406, 0.76291984, 0.14426553, 0.73199731, 0.59609532],\n",
       "        [0.10491978, 0.06560199, 0.5123148 , 0.21755122, 0.02948518],\n",
       "        [0.03841695, 0.08404145, 0.7840293 , 0.19662598, 0.19952682],\n",
       "        [0.25578064, 0.63771969, 0.66250992, 0.56453848, 0.65902776]],\n",
       "\n",
       "       [[0.59591758, 0.47613329, 0.65192902, 0.31243169, 0.3683635 ],\n",
       "        [0.10491978, 0.06560199, 0.5123148 , 0.21755122, 0.02948518],\n",
       "        [0.59591758, 0.47613329, 0.65192902, 0.31243169, 0.3683635 ],\n",
       "        [0.25578064, 0.63771969, 0.66250992, 0.56453848, 0.65902776]],\n",
       "\n",
       "       [[0.35314739, 0.31146836, 0.16127411, 0.52021706, 0.53153789],\n",
       "        [0.35314739, 0.31146836, 0.16127411, 0.52021706, 0.53153789],\n",
       "        [0.35314739, 0.31146836, 0.16127411, 0.52021706, 0.53153789],\n",
       "        [0.25578064, 0.63771969, 0.66250992, 0.56453848, 0.65902776]],\n",
       "\n",
       "       [[0.16790301, 0.57816184, 0.283622  , 0.53855836, 0.31681743],\n",
       "        [0.16790301, 0.57816184, 0.283622  , 0.53855836, 0.31681743],\n",
       "        [0.16790301, 0.57816184, 0.283622  , 0.53855836, 0.31681743],\n",
       "        [0.16790301, 0.57816184, 0.283622  , 0.53855836, 0.31681743]]])"
      ]
     },
     "execution_count": 25,
     "metadata": {},
     "output_type": "execute_result"
    }
   ],
   "source": [
    "ward.alphaHatMat"
   ]
  },
  {
   "cell_type": "code",
   "execution_count": 26,
   "metadata": {
    "ExecuteTime": {
     "end_time": "2021-03-16T15:53:20.607264Z",
     "start_time": "2021-03-16T15:53:20.313085Z"
    }
   },
   "outputs": [
    {
     "data": {
      "text/plain": [
       "[<matplotlib.lines.Line2D at 0x7f9d4659f710>]"
      ]
     },
     "execution_count": 26,
     "metadata": {},
     "output_type": "execute_result"
    },
    {
     "data": {
      "image/png": "[encoded data removed]",
      "text/plain": [
       "<Figure size 432x288 with 2 Axes>"
      ]
     },
     "metadata": {
      "needs_background": "light"
     },
     "output_type": "display_data"
    }
   ],
   "source": [
    "fig, ax= plt.subplots(2,1, sharex=True)\n",
    "ax[0].plot(ward.meanAbsErrs)\n",
    "ax[1].plot(np.arange(1, len(ward.deltas) + 1), ward.deltas)"
   ]
  },
  {
   "cell_type": "code",
   "execution_count": null,
   "metadata": {},
   "outputs": [],
   "source": []
  }
 ],
 "metadata": {
  "kernelspec": {
   "display_name": "tf",
   "language": "python",
   "name": "tf"
  },
  "language_info": {
   "codemirror_mode": {
    "name": "ipython",
    "version": 3
   },
   "file_extension": ".py",
   "mimetype": "text/x-python",
   "name": "python",
   "nbconvert_exporter": "python",
   "pygments_lexer": "ipython3",
   "version": "3.7.7"
  }
 },
 "nbformat": 4,
 "nbformat_minor": 4
}
