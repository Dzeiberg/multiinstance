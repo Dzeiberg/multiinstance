{
 "cells": [
  {
   "cell_type": "code",
   "execution_count": 1,
   "metadata": {
    "ExecuteTime": {
     "end_time": "2021-02-08T18:37:37.473908Z",
     "start_time": "2021-02-08T18:37:37.471456Z"
    }
   },
   "outputs": [],
   "source": [
    "# default_exp ward_clustering"
   ]
  },
  {
   "cell_type": "code",
   "execution_count": 2,
   "metadata": {
    "ExecuteTime": {
     "end_time": "2021-02-08T18:37:54.978079Z",
     "start_time": "2021-02-08T18:37:49.462829Z"
    }
   },
   "outputs": [
    {
     "name": "stderr",
     "output_type": "stream",
     "text": [
      "/home/dz/anaconda3/envs/tf/lib/python3.7/importlib/_bootstrap.py:219: RuntimeWarning: numpy.ufunc size changed, may indicate binary incompatibility. Expected 192 from C header, got 216 from PyObject\n",
      "  return f(*args, **kwds)\n",
      "/home/dz/anaconda3/envs/tf/lib/python3.7/importlib/_bootstrap.py:219: RuntimeWarning: numpy.ufunc size changed, may indicate binary incompatibility. Expected 192 from C header, got 216 from PyObject\n",
      "  return f(*args, **kwds)\n",
      "/home/dz/anaconda3/envs/tf/lib/python3.7/importlib/_bootstrap.py:219: RuntimeWarning: numpy.ufunc size changed, may indicate binary incompatibility. Expected 192 from C header, got 216 from PyObject\n",
      "  return f(*args, **kwds)\n",
      "/home/dz/anaconda3/envs/tf/lib/python3.7/importlib/_bootstrap.py:219: RuntimeWarning: numpy.ufunc size changed, may indicate binary incompatibility. Expected 192 from C header, got 216 from PyObject\n",
      "  return f(*args, **kwds)\n",
      "/home/dz/anaconda3/envs/tf/lib/python3.7/importlib/_bootstrap.py:219: RuntimeWarning: numpy.ufunc size changed, may indicate binary incompatibility. Expected 192 from C header, got 216 from PyObject\n",
      "  return f(*args, **kwds)\n",
      "/home/dz/anaconda3/envs/tf/lib/python3.7/importlib/_bootstrap.py:219: RuntimeWarning: numpy.ufunc size changed, may indicate binary incompatibility. Expected 192 from C header, got 216 from PyObject\n",
      "  return f(*args, **kwds)\n",
      "/home/dz/anaconda3/envs/tf/lib/python3.7/importlib/_bootstrap.py:219: RuntimeWarning: numpy.ufunc size changed, may indicate binary incompatibility. Expected 192 from C header, got 216 from PyObject\n",
      "  return f(*args, **kwds)\n"
     ]
    }
   ],
   "source": [
    "# export\n",
    "from multiinstance.utils import *\n",
    "from multiinstance.distanceApproaches import *\n",
    "from multiinstance.data.syntheticData import buildDataset,getBag\n",
    "\n",
    "import seaborn as sns\n",
    "import matplotlib.pyplot as plt\n",
    "\n",
    "\n",
    "import numpy as np\n",
    "\n",
    "import scipy.stats as ss\n",
    "\n",
    "from tqdm.notebook import tqdm\n",
    "\n",
    "from numba import set_num_threads"
   ]
  },
  {
   "cell_type": "code",
   "execution_count": 3,
   "metadata": {
    "ExecuteTime": {
     "end_time": "2021-02-08T18:37:56.728027Z",
     "start_time": "2021-02-08T18:37:56.725271Z"
    }
   },
   "outputs": [],
   "source": [
    "set_num_threads(10)"
   ]
  },
  {
   "cell_type": "code",
   "execution_count": 11,
   "metadata": {
    "ExecuteTime": {
     "end_time": "2021-02-08T19:40:47.355045Z",
     "start_time": "2021-02-08T19:40:47.323363Z"
    }
   },
   "outputs": [],
   "source": [
    "# export\n",
    "class WardClustering:\n",
    "    def __init__(self, dsi):\n",
    "        self.clusterAssignment = np.zeros((dsi.N, dsi.N))\n",
    "        self.clusterAssignment[0] = np.arange(dsi.N)\n",
    "        self.clusterAlphaHats = {i: dsi.alphaHats[i] for i in range(dsi.N)}\n",
    "        self.ds = dsi\n",
    "        self.meanAbsErrs = np.zeros(dsi.N)\n",
    "        self.deltas = np.zeros(dsi.N - 1)\n",
    "        self.doLogging(0)\n",
    "        self.log = []\n",
    "        \n",
    "    def doLogging(self, c_iter):\n",
    "#         print(\"logging \",c_iter)\n",
    "        absErrs = []\n",
    "        clusters = np.unique(self.clusterAssignment[c_iter])\n",
    "#         print(self.clusterAssignment)\n",
    "        for ci in clusters:\n",
    "            bags = np.where(self.clusterAssignment[c_iter] == ci)[0]\n",
    "#             print(bags)\n",
    "            aHat = self.clusterAlphaHats[ci].mean()\n",
    "            alphas = self.ds.trueAlphas[bags].flatten()\n",
    "            # log abs. err for this cluster\n",
    "            aes = np.abs(alphas - aHat)\n",
    "            absErrs.append(aes)\n",
    "        self.meanAbsErrs[c_iter] = np.mean(np.concatenate(absErrs))\n",
    "#         print(\"MAE after \",c_iter,\" merges: \",self.meanAbsErrs)\n",
    "    \n",
    "    def cluster(self):\n",
    "        for c_iter in tqdm(range(1, self.ds.N),desc=\"clustering iter\",total=self.ds.N-1):\n",
    "            clusters = np.unique(self.clusterAssignment[c_iter - 1])\n",
    "            Nc = len(clusters)\n",
    "            deltas = np.ones((Nc, Nc))\n",
    "            alphaHats_Merged_Clusters = np.zeros((Nc,Nc, 10))\n",
    "            for i, ci in tqdm(enumerate(clusters), desc=\"ci\", total=Nc, leave=False):\n",
    "                alphaHat_ci = self.clusterAlphaHats[ci]\n",
    "                var_ci = np.sum((alphaHat_ci - alphaHat_ci.mean())**2)\n",
    "                for j, cj in enumerate(set(clusters)):\n",
    "                    if i != j:\n",
    "                        alphaHat_cj = self.clusterAlphaHats[cj]\n",
    "                        var_cj = np.sum((alphaHat_cj - alphaHat_cj.mean())**2)\n",
    "                        # alpha hats from i or j\n",
    "                        alphaHats = np.concatenate((alphaHat_ci,\n",
    "                                                       alphaHat_cj))\n",
    "                        # Get alphaHat for joint cluster\n",
    "                        bagIdxs = np.where(np.isin(self.clusterAssignment[c_iter - 1],[ci,cj]))[0]\n",
    "                        alphaHat_cij = self.getClusterEst(bagIdxs)\n",
    "                        alphaHats_Merged_Clusters[i,j] = alphaHat_cij\n",
    "                        var_cij = np.sum((alphaHats - alphaHat_cij.mean())**2)\n",
    "                        deltas[i,j]= var_cij - var_ci - var_cj\n",
    "            # find indices of bags to merge\n",
    "            idx = np.argmin(deltas)\n",
    "            i,j = int(idx / deltas.shape[0]), idx % deltas.shape[0]\n",
    "            ci, cj = clusters[i], clusters[j]\n",
    "#             print(deltas)\n",
    "            self.log.append((ci,cj))\n",
    "            # deltas i indexed list of increase in cluster variance caused by the i+1_th merge\n",
    "            self.deltas[c_iter - 1] = deltas[i,j]\n",
    "            # set cluster assignment after this merge\n",
    "            self.clusterAssignment[c_iter] = self.clusterAssignment[c_iter - 1]\n",
    "            inJ = np.where(self.clusterAssignment[c_iter] == cj)[0]\n",
    "            self.clusterAssignment[c_iter, inJ] = ci\n",
    "            # update the alphaHat to that estimated from the newly formed cluster\n",
    "            self.clusterAlphaHats[ci] = alphaHats_Merged_Clusters[i,j]\n",
    "            self.doLogging(c_iter)\n",
    "\n",
    "    def getClusterEst(self,bagIdxs):\n",
    "        _,U = list(zip(*[self.ds.getBag(b) for b in bagIdxs]))\n",
    "        P, _ = list(zip(*[self.ds.getBag(int(i)) for i in range(self.ds.N)]))\n",
    "        p = np.concatenate(P)\n",
    "        u = np.concatenate(U)\n",
    "        alphaHats, _ = getEsts(p,u,10)\n",
    "        return alphaHats"
   ]
  },
  {
   "cell_type": "code",
   "execution_count": 12,
   "metadata": {
    "ExecuteTime": {
     "end_time": "2021-02-08T19:40:48.993588Z",
     "start_time": "2021-02-08T19:40:47.830257Z"
    }
   },
   "outputs": [
    {
     "data": {
      "application/vnd.jupyter.widget-view+json": {
       "model_id": "",
       "version_major": 2,
       "version_minor": 0
      },
      "text/plain": [
       "HBox(children=(FloatProgress(value=0.0, description='getting bag estimates', max=10.0, style=ProgressStyle(des…"
      ]
     },
     "metadata": {},
     "output_type": "display_data"
    }
   ],
   "source": [
    "dsi = buildDataset(10,alphaDistr=lambda: np.random.uniform(.01,.5),\n",
    "                  nP=10,nU=25)\n",
    "\n",
    "dsi = addTransformScores(dsi)\n",
    "\n",
    "dsi.alphaHats,dsi.curves = getBagAlphaHats(dsi,numbootstraps=10)"
   ]
  },
  {
   "cell_type": "code",
   "execution_count": 13,
   "metadata": {
    "ExecuteTime": {
     "end_time": "2021-02-08T19:40:49.780461Z",
     "start_time": "2021-02-08T19:40:49.774940Z"
    }
   },
   "outputs": [],
   "source": [
    "ward = WardClustering(dsi)"
   ]
  },
  {
   "cell_type": "code",
   "execution_count": 14,
   "metadata": {
    "ExecuteTime": {
     "end_time": "2021-02-08T19:41:18.541643Z",
     "start_time": "2021-02-08T19:40:50.130428Z"
    }
   },
   "outputs": [
    {
     "data": {
      "application/vnd.jupyter.widget-view+json": {
       "model_id": "feafa4453c54426ab2952f42754643e3",
       "version_major": 2,
       "version_minor": 0
      },
      "text/plain": [
       "HBox(children=(FloatProgress(value=0.0, description='clustering iter', max=9.0, style=ProgressStyle(descriptio…"
      ]
     },
     "metadata": {},
     "output_type": "display_data"
    },
    {
     "data": {
      "application/vnd.jupyter.widget-view+json": {
       "model_id": "",
       "version_major": 2,
       "version_minor": 0
      },
      "text/plain": [
       "HBox(children=(FloatProgress(value=0.0, description='ci', max=10.0, style=ProgressStyle(description_width='ini…"
      ]
     },
     "metadata": {},
     "output_type": "display_data"
    },
    {
     "data": {
      "application/vnd.jupyter.widget-view+json": {
       "model_id": "",
       "version_major": 2,
       "version_minor": 0
      },
      "text/plain": [
       "HBox(children=(FloatProgress(value=0.0, description='ci', max=9.0, style=ProgressStyle(description_width='init…"
      ]
     },
     "metadata": {},
     "output_type": "display_data"
    },
    {
     "data": {
      "application/vnd.jupyter.widget-view+json": {
       "model_id": "",
       "version_major": 2,
       "version_minor": 0
      },
      "text/plain": [
       "HBox(children=(FloatProgress(value=0.0, description='ci', max=8.0, style=ProgressStyle(description_width='init…"
      ]
     },
     "metadata": {},
     "output_type": "display_data"
    },
    {
     "data": {
      "application/vnd.jupyter.widget-view+json": {
       "model_id": "",
       "version_major": 2,
       "version_minor": 0
      },
      "text/plain": [
       "HBox(children=(FloatProgress(value=0.0, description='ci', max=7.0, style=ProgressStyle(description_width='init…"
      ]
     },
     "metadata": {},
     "output_type": "display_data"
    },
    {
     "data": {
      "application/vnd.jupyter.widget-view+json": {
       "model_id": "",
       "version_major": 2,
       "version_minor": 0
      },
      "text/plain": [
       "HBox(children=(FloatProgress(value=0.0, description='ci', max=6.0, style=ProgressStyle(description_width='init…"
      ]
     },
     "metadata": {},
     "output_type": "display_data"
    },
    {
     "data": {
      "application/vnd.jupyter.widget-view+json": {
       "model_id": "",
       "version_major": 2,
       "version_minor": 0
      },
      "text/plain": [
       "HBox(children=(FloatProgress(value=0.0, description='ci', max=5.0, style=ProgressStyle(description_width='init…"
      ]
     },
     "metadata": {},
     "output_type": "display_data"
    },
    {
     "data": {
      "application/vnd.jupyter.widget-view+json": {
       "model_id": "",
       "version_major": 2,
       "version_minor": 0
      },
      "text/plain": [
       "HBox(children=(FloatProgress(value=0.0, description='ci', max=4.0, style=ProgressStyle(description_width='init…"
      ]
     },
     "metadata": {},
     "output_type": "display_data"
    },
    {
     "data": {
      "application/vnd.jupyter.widget-view+json": {
       "model_id": "",
       "version_major": 2,
       "version_minor": 0
      },
      "text/plain": [
       "HBox(children=(FloatProgress(value=0.0, description='ci', max=3.0, style=ProgressStyle(description_width='init…"
      ]
     },
     "metadata": {},
     "output_type": "display_data"
    },
    {
     "data": {
      "application/vnd.jupyter.widget-view+json": {
       "model_id": "",
       "version_major": 2,
       "version_minor": 0
      },
      "text/plain": [
       "HBox(children=(FloatProgress(value=0.0, description='ci', max=2.0, style=ProgressStyle(description_width='init…"
      ]
     },
     "metadata": {},
     "output_type": "display_data"
    },
    {
     "name": "stdout",
     "output_type": "stream",
     "text": [
      "\n"
     ]
    }
   ],
   "source": [
    "ward.cluster()"
   ]
  },
  {
   "cell_type": "code",
   "execution_count": 15,
   "metadata": {
    "ExecuteTime": {
     "end_time": "2021-02-08T19:45:18.839210Z",
     "start_time": "2021-02-08T19:45:18.482632Z"
    },
    "scrolled": false
   },
   "outputs": [
    {
     "data": {
      "text/plain": [
       "[<matplotlib.lines.Line2D at 0x7ffa280e0d10>]"
      ]
     },
     "execution_count": 15,
     "metadata": {},
     "output_type": "execute_result"
    },
    {
     "data": {
      "image/png": "[encoded data removed]",
      "text/plain": [
       "<Figure size 432x288 with 2 Axes>"
      ]
     },
     "metadata": {
      "needs_background": "light"
     },
     "output_type": "display_data"
    }
   ],
   "source": [
    "fig, ax= plt.subplots(2,1, sharex=True)\n",
    "ax[0].plot(ward.meanAbsErrs)\n",
    "ax[1].plot(np.arange(1, len(ward.deltas) + 1), ward.deltas)"
   ]
  },
  {
   "cell_type": "code",
   "execution_count": null,
   "metadata": {},
   "outputs": [],
   "source": []
  }
 ],
 "metadata": {
  "kernelspec": {
   "display_name": "tf",
   "language": "python",
   "name": "tf"
  },
  "language_info": {
   "codemirror_mode": {
    "name": "ipython",
    "version": 3
   },
   "file_extension": ".py",
   "mimetype": "text/x-python",
   "name": "python",
   "nbconvert_exporter": "python",
   "pygments_lexer": "ipython3",
   "version": "3.7.7"
  }
 },
 "nbformat": 4,
 "nbformat_minor": 4
}
