{
 "cells": [
  {
   "cell_type": "code",
   "execution_count": 1,
   "metadata": {
    "ExecuteTime": {
     "end_time": "2021-04-15T20:46:08.708237Z",
     "start_time": "2021-04-15T20:46:08.177814Z"
    }
   },
   "outputs": [],
   "source": [
    "from multiinstance.em import generateBags\n",
    "import numpy as np\n",
    "import matplotlib.pyplot as plt"
   ]
  },
  {
   "cell_type": "code",
   "execution_count": 27,
   "metadata": {
    "ExecuteTime": {
     "end_time": "2021-04-15T21:38:59.330479Z",
     "start_time": "2021-04-15T21:38:59.325752Z"
    }
   },
   "outputs": [],
   "source": [
    "import chainer.functions as F"
   ]
  },
  {
   "cell_type": "code",
   "execution_count": 15,
   "metadata": {
    "ExecuteTime": {
     "end_time": "2021-04-15T20:46:09.415120Z",
     "start_time": "2021-04-15T20:46:09.410923Z"
    }
   },
   "outputs": [],
   "source": [
    "import copy"
   ]
  },
  {
   "cell_type": "code",
   "execution_count": 2,
   "metadata": {
    "ExecuteTime": {
     "end_time": "2021-04-15T20:46:09.278868Z",
     "start_time": "2021-04-15T20:46:08.709966Z"
    }
   },
   "outputs": [],
   "source": [
    "import chainer\n",
    "from easydict import EasyDict"
   ]
  },
  {
   "cell_type": "code",
   "execution_count": 3,
   "metadata": {
    "ExecuteTime": {
     "end_time": "2021-04-15T20:46:09.284479Z",
     "start_time": "2021-04-15T20:46:09.281491Z"
    }
   },
   "outputs": [],
   "source": [
    "args = EasyDict()\n",
    "args.beta=0\n",
    "args.gamma=1\n",
    "args.stepsize=1e-4"
   ]
  },
  {
   "cell_type": "code",
   "execution_count": 4,
   "metadata": {
    "ExecuteTime": {
     "end_time": "2021-04-15T20:46:09.293319Z",
     "start_time": "2021-04-15T20:46:09.285976Z"
    }
   },
   "outputs": [],
   "source": [
    "posMeans = [[-2,-6], [6,6]]\n",
    "negMeans = [[0,-2], [4,2]]"
   ]
  },
  {
   "cell_type": "code",
   "execution_count": 5,
   "metadata": {
    "ExecuteTime": {
     "end_time": "2021-04-15T20:46:09.330249Z",
     "start_time": "2021-04-15T20:46:09.294604Z"
    }
   },
   "outputs": [],
   "source": [
    "bags = generateBags(2,pos_means=posMeans,\n",
    "                    neg_means=negMeans,NPos=2000,NUnlabeled=5000)"
   ]
  },
  {
   "cell_type": "code",
   "execution_count": 6,
   "metadata": {
    "ExecuteTime": {
     "end_time": "2021-04-15T20:46:09.337061Z",
     "start_time": "2021-04-15T20:46:09.332154Z"
    }
   },
   "outputs": [],
   "source": [
    "pos = np.concatenate([b.X_pos for b in bags])\n",
    "unlabeled = np.concatenate([b.x_unlabeled for b in bags])"
   ]
  },
  {
   "cell_type": "code",
   "execution_count": 7,
   "metadata": {
    "ExecuteTime": {
     "end_time": "2021-04-15T20:46:09.346349Z",
     "start_time": "2021-04-15T20:46:09.339560Z"
    }
   },
   "outputs": [],
   "source": [
    "XTrain = np.concatenate([pos,unlabeled])\n",
    "YTrain = np.concatenate([np.ones(pos.shape[0]),\n",
    "                         np.ones(unlabeled.shape[0])*-1])"
   ]
  },
  {
   "cell_type": "code",
   "execution_count": 8,
   "metadata": {
    "ExecuteTime": {
     "end_time": "2021-04-15T20:46:09.355987Z",
     "start_time": "2021-04-15T20:46:09.350530Z"
    }
   },
   "outputs": [
    {
     "data": {
      "text/plain": [
       "((14000, 2), (14000,))"
      ]
     },
     "execution_count": 8,
     "metadata": {},
     "output_type": "execute_result"
    }
   ],
   "source": [
    "XTrain.shape, YTrain.shape"
   ]
  },
  {
   "cell_type": "code",
   "execution_count": 9,
   "metadata": {
    "ExecuteTime": {
     "end_time": "2021-04-15T20:46:09.361949Z",
     "start_time": "2021-04-15T20:46:09.358769Z"
    }
   },
   "outputs": [],
   "source": [
    "from chainer.datasets import TupleDataset"
   ]
  },
  {
   "cell_type": "code",
   "execution_count": 10,
   "metadata": {
    "ExecuteTime": {
     "end_time": "2021-04-15T20:46:09.368710Z",
     "start_time": "2021-04-15T20:46:09.363405Z"
    }
   },
   "outputs": [],
   "source": [
    "train_iter = chainer.iterators.SerialIterator(TupleDataset(XTrain.astype(np.float32),\n",
    "                                                           YTrain.astype(np.int32)),batch_size=16,)\n",
    "\n",
    "valid_iter = chainer.iterators.SerialIterator(TupleDataset(XTrain.astype(np.float32),\n",
    "                                                           YTrain.astype(np.int32)),batch_size=16,repeat=False,shuffle=False)"
   ]
  },
  {
   "cell_type": "code",
   "execution_count": 11,
   "metadata": {
    "ExecuteTime": {
     "end_time": "2021-04-15T20:46:09.392377Z",
     "start_time": "2021-04-15T20:46:09.369822Z"
    }
   },
   "outputs": [],
   "source": [
    "from nnPUlearning.train import select_loss,select_model, make_optimizer, MultiUpdater, MultiPUEvaluator\n",
    "\n",
    "from nnPUlearning.pu_loss import PULoss"
   ]
  },
  {
   "cell_type": "code",
   "execution_count": 13,
   "metadata": {
    "ExecuteTime": {
     "end_time": "2021-04-15T20:46:09.402835Z",
     "start_time": "2021-04-15T20:46:09.397777Z"
    }
   },
   "outputs": [],
   "source": [
    "loss_type = select_loss(\"sigmoid\")"
   ]
  },
  {
   "cell_type": "code",
   "execution_count": 14,
   "metadata": {
    "ExecuteTime": {
     "end_time": "2021-04-15T20:46:09.409325Z",
     "start_time": "2021-04-15T20:46:09.404378Z"
    }
   },
   "outputs": [],
   "source": [
    "prior = np.mean([b.alpha for b in bags])"
   ]
  },
  {
   "cell_type": "code",
   "execution_count": 16,
   "metadata": {
    "ExecuteTime": {
     "end_time": "2021-04-15T20:46:09.424644Z",
     "start_time": "2021-04-15T20:46:09.416741Z"
    }
   },
   "outputs": [],
   "source": [
    "selected_model = select_model(\"3lp\")\n",
    "model = selected_model(prior, XTrain.shape[1])\n",
    "model = copy.deepcopy(model)"
   ]
  },
  {
   "cell_type": "code",
   "execution_count": 17,
   "metadata": {
    "ExecuteTime": {
     "end_time": "2021-04-15T20:46:09.431124Z",
     "start_time": "2021-04-15T20:46:09.426959Z"
    }
   },
   "outputs": [],
   "source": [
    "loss = PULoss(prior, loss=loss_type, nnpu=True, gamma=args.gamma, beta=args.beta)"
   ]
  },
  {
   "cell_type": "code",
   "execution_count": 18,
   "metadata": {
    "ExecuteTime": {
     "end_time": "2021-04-15T20:46:09.437504Z",
     "start_time": "2021-04-15T20:46:09.433245Z"
    }
   },
   "outputs": [],
   "source": [
    "optimizer = make_optimizer(model, args.stepsize)"
   ]
  },
  {
   "cell_type": "code",
   "execution_count": 19,
   "metadata": {
    "ExecuteTime": {
     "end_time": "2021-04-15T20:46:09.444096Z",
     "start_time": "2021-04-15T20:46:09.439279Z"
    }
   },
   "outputs": [],
   "source": [
    "updater = MultiUpdater(train_iter, {\"nnPU\": optimizer},\n",
    "                       {\"nnPU\": model}, loss_func={\"nnPU\": loss})"
   ]
  },
  {
   "cell_type": "code",
   "execution_count": 20,
   "metadata": {
    "ExecuteTime": {
     "end_time": "2021-04-15T20:46:09.450725Z",
     "start_time": "2021-04-15T20:46:09.446108Z"
    }
   },
   "outputs": [],
   "source": [
    "trainer = chainer.training.Trainer(updater, (10,\"epoch\"))"
   ]
  },
  {
   "cell_type": "code",
   "execution_count": 21,
   "metadata": {
    "ExecuteTime": {
     "end_time": "2021-04-15T20:46:09.459878Z",
     "start_time": "2021-04-15T20:46:09.452687Z"
    }
   },
   "outputs": [],
   "source": [
    "train_01_loss_evaluator = MultiPUEvaluator(prior, valid_iter, {\"nnPU\":model}, device=-1)\n",
    "train_01_loss_evaluator.default_name = 'train'\n",
    "trainer.extend(train_01_loss_evaluator)\n",
    "trainer.extend(chainer.training.extensions.LogReport(trigger=(1, 'epoch')))\n",
    "# trainer.extend(chainer.training.extensions.ProgressBar())\n",
    "trainer.extend(chainer.training.extensions.PrintReport(\n",
    "    ['epoch', 'train/nnPU/error', 'test/nnPU/error', 'train/uPU/error', 'test/uPU/error', 'elapsed_time']))"
   ]
  },
  {
   "cell_type": "code",
   "execution_count": 22,
   "metadata": {
    "ExecuteTime": {
     "end_time": "2021-04-15T20:46:45.215705Z",
     "start_time": "2021-04-15T20:46:09.461685Z"
    }
   },
   "outputs": [
    {
     "name": "stdout",
     "output_type": "stream",
     "text": [
      "epoch       train/nnPU/error  test/nnPU/error  train/uPU/error  test/uPU/error  elapsed_time\n",
      "\u001b[J1           0.193586                                                            3.60447       \n",
      "\u001b[J2           0.193386                                                            7.1691        \n",
      "\u001b[J3           0.157986                                                            10.7555       \n",
      "\u001b[J4           0.128286                                                            14.2609       \n",
      "\u001b[J5           0.114492                                                            17.7811       \n",
      "\u001b[J6           0.109092                                                            21.3101       \n",
      "\u001b[J7           0.105892                                                            24.8552       \n",
      "\u001b[J8           0.0996923                                                           28.4551       \n",
      "\u001b[J9           0.0984923                                                           32.0771       \n",
      "\u001b[J10          0.0940923                                                           35.7472       \n"
     ]
    }
   ],
   "source": [
    "trainer.run()"
   ]
  },
  {
   "cell_type": "code",
   "execution_count": 26,
   "metadata": {
    "ExecuteTime": {
     "end_time": "2021-04-15T20:50:22.735118Z",
     "start_time": "2021-04-15T20:50:22.723529Z"
    }
   },
   "outputs": [
    {
     "data": {
      "text/plain": [
       "0.85271204"
      ]
     },
     "execution_count": 26,
     "metadata": {},
     "output_type": "execute_result"
    }
   ],
   "source": [
    "model.calculate(bags[0].X_pos.astype(np.float32)).array.min()"
   ]
  },
  {
   "cell_type": "code",
   "execution_count": null,
   "metadata": {},
   "outputs": [],
   "source": []
  }
 ],
 "metadata": {
  "kernelspec": {
   "display_name": "tf",
   "language": "python",
   "name": "tf"
  },
  "language_info": {
   "codemirror_mode": {
    "name": "ipython",
    "version": 3
   },
   "file_extension": ".py",
   "mimetype": "text/x-python",
   "name": "python",
   "nbconvert_exporter": "python",
   "pygments_lexer": "ipython3",
   "version": "3.7.7"
  }
 },
 "nbformat": 4,
 "nbformat_minor": 4
}
