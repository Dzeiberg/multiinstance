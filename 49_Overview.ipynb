{
 "cells": [
  {
   "cell_type": "markdown",
   "metadata": {},
   "source": [
    "# Bag J\n",
    "\n",
    "$X^J_U : x^j_u \\sim f^j(x) = \\sum_{i=1}^{K}\\alpha^j \\pi_i^j \\Phi^+_i(x) + (1 - \\alpha^j) \\rho_i^j \\Phi^-_i(x)$\n",
    "\n",
    "$\\sum_{i=1}^{K}\\pi_i^j = 1$\n",
    "\n",
    "$\\sum_{i=1}^{K}\\rho_i^j = 1$    \n",
    "\n",
    "$X^J_L : x^j_l \\sim f^j_+(x) = \\sum_{i=1}^{K}\\pi_i^j \\Phi_i^+(x)$ "
   ]
  },
  {
   "cell_type": "markdown",
   "metadata": {},
   "source": []
  },
  {
   "cell_type": "code",
   "execution_count": null,
   "metadata": {},
   "outputs": [],
   "source": [
    "from pgmpy.models import BayesianModel\n",
    "from pgmpy.inference import VariableElimination\n",
    "import daft\n",
    "from daft import PGM"
   ]
  },
  {
   "cell_type": "code",
   "execution_count": null,
   "metadata": {},
   "outputs": [],
   "source": [
    "def convert_pgm_to_pgmpy(pgm):\n",
    "    \"\"\"Takes a Daft PGM object and converts it to a pgmpy BayesianModel\"\"\"\n",
    "    edges = [(edge.node1.name, edge.node2.name) for edge in pgm._edges]\n",
    "    model = BayesianModel(edges)\n",
    "    return model"
   ]
  },
  {
   "cell_type": "code",
   "execution_count": null,
   "metadata": {},
   "outputs": [],
   "source": []
  },
  {
   "cell_type": "code",
   "execution_count": null,
   "metadata": {},
   "outputs": [],
   "source": []
  },
  {
   "cell_type": "code",
   "execution_count": null,
   "metadata": {},
   "outputs": [
    {
     "data": {
      "text/plain": [
       "<daft.Edge at 0x7fde4733cf10>"
      ]
     },
     "execution_count": null,
     "metadata": {},
     "output_type": "execute_result"
    }
   ],
   "source": [
    "pgm = PGM()\n",
    "\n",
    "pgm.add_node(daft.Node(\"bag\",r\"B\",2,1,observed=True))\n",
    "pgm.add_node(daft.Node(\"label\",r\"y\",3,1))\n",
    "pgm.add_node(daft.Node(\"cluster\",r\"c\",3,2))\n",
    "pgm.add_node(daft.Node(\"prior\",r\"a\",2,4))\n",
    "pgm.add_node(daft.Node(\"data\",r\"x\",4,2,observed=True))\n",
    "pgm.add_edge(\"bag\",\"label\",directed=True)\n",
    "pgm.add_edge(\"bag\",\"cluster\")\n",
    "pgm.add_edge(\"label\",\"cluster\")\n",
    "pgm.add_edge(\"label\",\"data\")\n",
    "pgm.add_edge(\"cluster\",\"data\")\n",
    "pgm.add_edge(\"prior\",\"label\")"
   ]
  },
  {
   "cell_type": "code",
   "execution_count": null,
   "metadata": {},
   "outputs": [
    {
     "data": {
      "text/plain": [
       "<matplotlib.axes._axes.Axes at 0x7fde472d9310>"
      ]
     },
     "execution_count": null,
     "metadata": {},
     "output_type": "execute_result"
    },
    {
     "data": {
      "image/png": "[encoded data removed]",
      "text/plain": [
       "<Figure size 153.071x209.764 with 1 Axes>"
      ]
     },
     "metadata": {},
     "output_type": "display_data"
    }
   ],
   "source": [
    "pgm.render()"
   ]
  },
  {
   "cell_type": "code",
   "execution_count": null,
   "metadata": {},
   "outputs": [],
   "source": [
    "model = convert_pgm_to_pgmpy(pgm)"
   ]
  },
  {
   "cell_type": "code",
   "execution_count": null,
   "metadata": {},
   "outputs": [],
   "source": []
  },
  {
   "cell_type": "markdown",
   "metadata": {},
   "source": [
    "$p(x) = \\sum_{b \\in Bags}p(b) \\sum_{y_i} p(y_i|b)\\sum_{i=1}^{K}p(c_i|b,y)p(x|c_i,y)$"
   ]
  },
  {
   "cell_type": "code",
   "execution_count": null,
   "metadata": {},
   "outputs": [
    {
     "data": {
      "text/plain": [
       "(bag ⟂ prior)\n",
       "(bag ⟂ data | label, cluster)\n",
       "(bag ⟂ data | label, cluster, prior)\n",
       "(cluster ⟂ prior | label, bag)\n",
       "(cluster ⟂ prior | label, bag, data)\n",
       "(data ⟂ prior | label, bag)\n",
       "(data ⟂ bag, prior | label, cluster)\n",
       "(data ⟂ prior | label, bag, cluster)\n",
       "(data ⟂ bag | label, cluster, prior)\n",
       "(prior ⟂ bag)\n",
       "(prior ⟂ cluster, data | label, bag)\n",
       "(prior ⟂ data | label, cluster)\n",
       "(prior ⟂ data | label, bag, cluster)\n",
       "(prior ⟂ cluster | label, bag, data)"
      ]
     },
     "execution_count": null,
     "metadata": {},
     "output_type": "execute_result"
    }
   ],
   "source": [
    "model.get_independencies()"
   ]
  },
  {
   "cell_type": "code",
   "execution_count": null,
   "metadata": {},
   "outputs": [],
   "source": [
    "model.fit()"
   ]
  },
  {
   "cell_type": "markdown",
   "metadata": {},
   "source": [
    "$p(x|b_i) = \\sum_{b\\in Bags}I[b_i = b][]$"
   ]
  },
  {
   "cell_type": "code",
   "execution_count": null,
   "metadata": {},
   "outputs": [
    {
     "data": {
      "text/plain": [
       "<daft.Edge at 0x7fde482b5110>"
      ]
     },
     "execution_count": null,
     "metadata": {},
     "output_type": "execute_result"
    }
   ],
   "source": [
    "pgm.add_node(daft.Node(\"bag\",r\"B\",2,1,observed=True))\n",
    "pgm.add_node(daft.Node(\"label\",r\"y\",3,1))\n",
    "pgm.add_node(daft.Node(\"cluster\",r\"c\",3,2))\n",
    "pgm.add_node(daft.Node(\"data\",r\"x\",4,2,observed=True))\n",
    "pgm.add_edge(\"bag\",\"label\")\n",
    "pgm.add_edge(\"bag\",\"cluster\")\n",
    "pgm.add_edge(\"label\",\"cluster\")\n",
    "pgm.add_edge(\"label\",\"data\")\n",
    "pgm.add_edge(\"cluster\",\"data\")"
   ]
  },
  {
   "cell_type": "code",
   "execution_count": null,
   "metadata": {},
   "outputs": [
    {
     "ename": "AttributeError",
     "evalue": "'BayesianModel' object has no attribute 'render'",
     "output_type": "error",
     "traceback": [
      "\u001b[0;31m---------------------------------------------------------------------------\u001b[0m",
      "\u001b[0;31mAttributeError\u001b[0m                            Traceback (most recent call last)",
      "\u001b[0;32m<ipython-input-105-a4d2c9933f30>\u001b[0m in \u001b[0;36m<module>\u001b[0;34m\u001b[0m\n\u001b[0;32m----> 1\u001b[0;31m \u001b[0mmodel\u001b[0m\u001b[0;34m.\u001b[0m\u001b[0mrender\u001b[0m\u001b[0;34m(\u001b[0m\u001b[0;34m)\u001b[0m\u001b[0;34m\u001b[0m\u001b[0;34m\u001b[0m\u001b[0m\n\u001b[0m",
      "\u001b[0;31mAttributeError\u001b[0m: 'BayesianModel' object has no attribute 'render'"
     ]
    }
   ],
   "source": [
    "model.render()"
   ]
  },
  {
   "cell_type": "markdown",
   "metadata": {},
   "source": [
    "$p(x) = \\sum_{b_i \\in {Bags}}I[b_i = b]$"
   ]
  },
  {
   "cell_type": "code",
   "execution_count": null,
   "metadata": {},
   "outputs": [],
   "source": [
    "def convert_pgm_to_pgmpy(pgm):\n",
    "    \"\"\"Takes a Daft PGM object and converts it to a pgmpy BayesianModel\"\"\"\n",
    "    edges = [(edge.node1.name, edge.node2.name) for edge in pgm._edges]\n",
    "    model = BayesianModel(edges)\n",
    "    return model"
   ]
  },
  {
   "cell_type": "code",
   "execution_count": null,
   "metadata": {},
   "outputs": [
    {
     "data": {
      "image/png": "[encoded data removed]",
      "text/plain": [
       "<Figure size 153.071x96.378 with 1 Axes>"
      ]
     },
     "metadata": {},
     "output_type": "display_data"
    }
   ],
   "source": [
    "pgm.render()\n",
    "plt.show()"
   ]
  },
  {
   "cell_type": "raw",
   "metadata": {},
   "source": [
    "model.to_daft(node_pos={\"bag\":(1,1),\n",
    "                        \"label\":(1,2),\n",
    "                        \"cluster\":(2,2),\n",
    "                        \"data\":(2,3)}).render()"
   ]
  },
  {
   "cell_type": "code",
   "execution_count": null,
   "metadata": {},
   "outputs": [
    {
     "data": {
      "text/plain": [
       "(bag ⟂ data | label, cluster)\n",
       "(data ⟂ bag | label, cluster)"
      ]
     },
     "execution_count": null,
     "metadata": {},
     "output_type": "execute_result"
    }
   ],
   "source": [
    "model.get_independencies()"
   ]
  },
  {
   "cell_type": "code",
   "execution_count": null,
   "metadata": {},
   "outputs": [],
   "source": [
    "model = BayesianModel([(\"bag\",'label'),\n",
    "                       (\"bag\",\"cluster\"),\n",
    "                       (\"label\",\"cluster\"),\n",
    "                       (\"label\",\"data\"),\n",
    "                       (\"cluster\",\"data\")])"
   ]
  },
  {
   "cell_type": "code",
   "execution_count": null,
   "metadata": {},
   "outputs": [],
   "source": [
    "pgm = PGM()"
   ]
  },
  {
   "cell_type": "code",
   "execution_count": null,
   "metadata": {},
   "outputs": [],
   "source": [
    "import daft\n",
    "from daft import PGM\n",
    "import matplotlib.pyplot as plt"
   ]
  },
  {
   "cell_type": "code",
   "execution_count": null,
   "metadata": {},
   "outputs": [],
   "source": [
    "import daft\n",
    "from daft import PGM\n",
    "import matplotlib.pyplot as plt"
   ]
  },
  {
   "cell_type": "code",
   "execution_count": null,
   "metadata": {},
   "outputs": [
    {
     "data": {
      "text/plain": [
       "{'bag': <daft.Node at 0x7fde47878210>,\n",
       " 'pn_label': <daft.Node at 0x7fde478781d0>,\n",
       " 'cluster': <daft.Node at 0x7fde47878250>,\n",
       " 'data': <daft.Node at 0x7fde47878310>}"
      ]
     },
     "execution_count": null,
     "metadata": {},
     "output_type": "execute_result"
    }
   ],
   "source": [
    "pgm._nodes"
   ]
  },
  {
   "cell_type": "code",
   "execution_count": null,
   "metadata": {},
   "outputs": [
    {
     "data": {
      "text/plain": [
       "OutEdgeView([('bag', 'pn_label'), ('bag', 'cluster'), ('pn_label', 'cluster'), ('pn_label', 'data'), ('cluster', 'data')])"
      ]
     },
     "execution_count": null,
     "metadata": {},
     "output_type": "execute_result"
    }
   ],
   "source": [
    "model.edges"
   ]
  }
 ],
 "metadata": {
  "kernelspec": {
   "display_name": "tf",
   "language": "python",
   "name": "tf"
  }
 },
 "nbformat": 4,
 "nbformat_minor": 4
}
