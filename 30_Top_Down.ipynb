{
 "cells": [
  {
   "cell_type": "code",
   "execution_count": null,
   "metadata": {},
   "outputs": [],
   "source": [
    "from multiinstance.data.realData import buildDataset as buildReal\n",
    "from multiinstance.utils import *\n",
    "\n",
    "from multiinstance.ward_clustering import WardClustering\n",
    "\n",
    "import matplotlib.pyplot as plt\n",
    "\n",
    "from glob import glob\n",
    "from tqdm.notebook import tqdm\n",
    "\n",
    "import numpy as np"
   ]
  },
  {
   "cell_type": "code",
   "execution_count": null,
   "metadata": {},
   "outputs": [],
   "source": [
    "import matplotlib.pyplot as plt"
   ]
  },
  {
   "cell_type": "code",
   "execution_count": null,
   "metadata": {},
   "outputs": [],
   "source": [
    "ds= buildReal(\"/data/dzeiberg/ClassPriorEstimation/rawDatasets/abalone.mat\", 4)\n",
    "ds = addTransformScores(ds)\n",
    "ds.alphaHats, ds.curves = getBagAlphaHats(ds,numbootstraps=100)\n",
    "ward = WardClustering(ds,randomPairing=True,numbootstraps=ds.alphaHats.shape[1])\n",
    "ward.cluster()"
   ]
  },
  {
   "cell_type": "code",
   "execution_count": null,
   "metadata": {},
   "outputs": [],
   "source": [
    "def moralize(row, clusterAssignment, alphaHatMat,numU):\n",
    "    # cluster j was merged into cluster i at this iteration\n",
    "    j = clusterAssignment[row-1,np.argmax(np.abs(clusterAssignment[row] - clusterAssignment[row - 1]))]\n",
    "    i = clusterAssignment[row-1,np.argmin(np.abs(clusterAssignment[row] - clusterAssignment[row - 1]))]\n",
    "    ai = alphaHatMat[row - 1, i].mean()\n",
    "    aj = alphaHatMat[row - 1, j].mean()\n",
    "    aij = alphaHatMat[row, i].mean()\n",
    "    inI = np.where(clusterAssignment[row - 1] == i)[0]\n",
    "    inJ = np.where(clusterAssignment[row - 1] == j)[0]\n",
    "    ni = numU[inI].sum()\n",
    "    nj = numU[inJ].sum()\n",
    "    wi = ni / (ni + nj)\n",
    "    ajHat = aij / (1 - wi) - wi / (1 - wi) * ai\n",
    "    aiHat = (aij / wi) - ((1 - wi) / wi * aj)\n",
    "    varI = alphaHatMat[row - 1,i].var()\n",
    "    varJ = alphaHatMat[row - 1,j].var()\n",
    "    if varI < varJ:\n",
    "        #print(wi*ai+(1-wi)*aj,aij)\n",
    "        print(\"update {j} from {aj:.3f} to {ajHat:.3f}\".format(j=j,aj=alphaHatMat[row-1,j].mean(),ajHat=ajHat))\n",
    "#         print(aij, wi*ai + (1-wi)*ajHat)\n",
    "        print(ai, aiHat, aj, ajHat)\n",
    "        alphaHatMat[row - 1,inJ] = ajHat\n",
    "    else:\n",
    "        print(\"update {i} from {ai:.3f} to {aiHat:.3f}\".format(i=i,ai=alphaHatMat[row-1,i].mean(),aiHat=aiHat))\n",
    "        alphaHatMat[row - 1,inI] = aiHat\n",
    "    return alphaHatMat"
   ]
  },
  {
   "cell_type": "code",
   "execution_count": null,
   "metadata": {},
   "outputs": [],
   "source": [
    "ahmat = np.copy(ward.alphaHatMat)\n",
    "for row in range(ward.clusterAssignment.shape[0]-1,0,-1):\n",
    "    ahmat = moralize(row, ward.clusterAssignment.astype(int), ahmat, ds.numU)"
   ]
  },
  {
   "cell_type": "code",
   "execution_count": null,
   "metadata": {},
   "outputs": [],
   "source": [
    "ward.clusterAssignment"
   ]
  },
  {
   "cell_type": "code",
   "execution_count": null,
   "metadata": {},
   "outputs": [],
   "source": [
    "plt.plot([np.mean(np.abs(ds.trueAlphas.flatten() - ahmat[i].mean(1))) for i in range(ahmat.shape[0]-1,-1,-1)])"
   ]
  },
  {
   "cell_type": "code",
   "execution_count": null,
   "metadata": {},
   "outputs": [],
   "source": []
  }
 ],
 "metadata": {
  "language_info": {
   "name": "python",
   "pygments_lexer": "ipython3"
  }
 },
 "nbformat": 4,
 "nbformat_minor": 4
}
