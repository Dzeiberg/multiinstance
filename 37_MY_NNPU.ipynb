{
 "cells": [
  {
   "cell_type": "code",
   "execution_count": 2,
   "metadata": {
    "ExecuteTime": {
     "end_time": "2021-04-15T21:43:22.371259Z",
     "start_time": "2021-04-15T21:43:21.834817Z"
    }
   },
   "outputs": [],
   "source": [
    "from multiinstance.em import generateBags\n",
    "import numpy as np\n",
    "import matplotlib.pyplot as plt"
   ]
  },
  {
   "cell_type": "code",
   "execution_count": 3,
   "metadata": {
    "ExecuteTime": {
     "end_time": "2021-04-15T21:43:22.980954Z",
     "start_time": "2021-04-15T21:43:22.373222Z"
    }
   },
   "outputs": [],
   "source": [
    "import chainer\n",
    "from easydict import EasyDict"
   ]
  },
  {
   "cell_type": "code",
   "execution_count": 4,
   "metadata": {
    "ExecuteTime": {
     "end_time": "2021-04-15T21:43:23.406921Z",
     "start_time": "2021-04-15T21:43:23.402058Z"
    }
   },
   "outputs": [],
   "source": [
    "import scipy.stats as ss"
   ]
  },
  {
   "cell_type": "code",
   "execution_count": 5,
   "metadata": {
    "ExecuteTime": {
     "end_time": "2021-04-15T21:43:23.995940Z",
     "start_time": "2021-04-15T21:43:23.983965Z"
    }
   },
   "outputs": [],
   "source": [
    "f1 = ss.norm(loc=0,scale=1)\n",
    "f0 = ss.norm(loc=-2,scale=1)\n",
    "alpha = .5\n",
    "\n",
    "posterior = lambda x: alpha * f1.pdf(x) / (alpha * f1.pdf(x) + (1 - alpha) * f0.pdf(x))"
   ]
  },
  {
   "cell_type": "code",
   "execution_count": 6,
   "metadata": {
    "ExecuteTime": {
     "end_time": "2021-04-15T21:43:24.785403Z",
     "start_time": "2021-04-15T21:43:24.616030Z"
    }
   },
   "outputs": [
    {
     "data": {
      "text/plain": [
       "[<matplotlib.lines.Line2D at 0x7f9d0791b510>]"
      ]
     },
     "execution_count": 6,
     "metadata": {},
     "output_type": "execute_result"
    },
    {
     "data": {
      "image/png": "[encoded data removed]",
      "text/plain": [
       "<Figure size 432x288 with 1 Axes>"
      ]
     },
     "metadata": {
      "needs_background": "light"
     },
     "output_type": "display_data"
    }
   ],
   "source": [
    "rng = np.arange(-5,5,.01)\n",
    "plt.plot(rng,f1.pdf(rng))\n",
    "plt.plot(rng,f0.pdf(rng))\n",
    "plt.plot(rng,posterior(rng))"
   ]
  },
  {
   "cell_type": "code",
   "execution_count": null,
   "metadata": {},
   "outputs": [],
   "source": [
    "def getData(NPos=100,NUnlabeled=1000):\n",
    "    alpha = np.random.beta(2,2)\n",
    "    bag = EasyDict()\n",
    "    bag.positive = f1.rvs(NPos)\n",
    "    n1U = int(NUnlabeled * alpha)\n",
    "    n0U = int(NUnlabeled *(1-alpha)))\n",
    "    bag.unlabeled = np.concatenate((f1.rvs(n1U),\n",
    "                                    f0.rvs(n0U))\n",
    "    bag.labels = np.concatenate((np.ones(n1U), np.zeros(n0U)))"
   ]
  }
 ],
 "metadata": {
  "kernelspec": {
   "display_name": "tf",
   "language": "python",
   "name": "tf"
  },
  "language_info": {
   "codemirror_mode": {
    "name": "ipython",
    "version": 3
   },
   "file_extension": ".py",
   "mimetype": "text/x-python",
   "name": "python",
   "nbconvert_exporter": "python",
   "pygments_lexer": "ipython3",
   "version": "3.7.7"
  }
 },
 "nbformat": 4,
 "nbformat_minor": 4
}
