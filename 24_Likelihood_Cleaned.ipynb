{
 "cells": [
  {
   "cell_type": "code",
   "execution_count": null,
   "metadata": {},
   "outputs": [],
   "source": [
    "import numpy as np\n",
    "from glob import glob\n",
    "from tqdm.notebook import tqdm\n",
    "import matplotlib.pyplot as plt"
   ]
  },
  {
   "cell_type": "code",
   "execution_count": null,
   "metadata": {},
   "outputs": [],
   "source": [
    "from multiinstance.likelihood_method import getChildren, treeNegativeLogLikelihood,runAlgorithm, plotDistrs, plotMAE\n",
    "from multiinstance.data.syntheticData import buildDataset\n",
    "import scipy.stats as ss"
   ]
  },
  {
   "cell_type": "code",
   "execution_count": null,
   "metadata": {},
   "outputs": [],
   "source": [
    "from multiinstance.data.realData import buildDataset as buildReal"
   ]
  },
  {
   "cell_type": "code",
   "execution_count": null,
   "metadata": {},
   "outputs": [],
   "source": [
    "from multiinstance.utils import addTransformScores, addGlobalEsts, getBagAlphaHats,getEsts,getTransformScores"
   ]
  },
  {
   "cell_type": "code",
   "execution_count": null,
   "metadata": {},
   "outputs": [],
   "source": [
    "# export likelihood_method\n",
    "def prepDS(dsi,numbootstraps=10, useAlphaMax=True):\n",
    "    dsi = addTransformScores(dsi)\n",
    "    dsi = addGlobalEsts(dsi,useAlphaMax=useAlphaMax,reps=numbootstraps)\n",
    "    dsi.alphaHats,dsi.curves = getBagAlphaHats(dsi,\n",
    "                                               numbootstraps=numbootstraps,\n",
    "                                               useAlphaMax=useAlphaMax)\n",
    "\n",
    "    dsi.numLeaves = dsi.alphaHats.shape[0]\n",
    "    dsi.numNodes = dsi.numLeaves + (dsi.numLeaves - 1)\n",
    "    dsi.numInternal = dsi.numNodes - dsi.numLeaves\n",
    "\n",
    "    dsi.mu = np.zeros(dsi.alphaHats.shape[0])\n",
    "    dsi.sigma = np.ones(dsi.numNodes)\n",
    "    dsi.leafN = np.ones_like(dsi.mu) * dsi.alphaHats.shape[1]\n",
    "    dsi.treeAlphaHats = [[] for _ in range(dsi.numNodes)]\n",
    "\n",
    "    for nodeNum in range(dsi.numInternal):\n",
    "        children = getChildren(nodeNum, dsi.numInternal)\n",
    "        leafNums = children - dsi.numInternal\n",
    "        _,unlabeled = list(zip(*[getTransformScores(dsi,n) for n in leafNums]))\n",
    "        pos,_ = list(zip(*[getTransformScores(dsi,n) for n in range(dsi.N)]))\n",
    "        pos = np.concatenate(pos).reshape((-1,1))\n",
    "        unlabeled = np.concatenate(unlabeled).reshape((-1,1))\n",
    "        NEstimates = int(np.sum([dsi.leafN[l] for l in leafNums]))\n",
    "        dsi.treeAlphaHats[nodeNum],_ = getEsts(pos, unlabeled, NEstimates,useAlphaMax=useAlphaMax)\n",
    "        _, dsi.sigma[nodeNum] = ss.norm.fit(dsi.treeAlphaHats[nodeNum])\n",
    "\n",
    "    for leafNum in range(dsi.numLeaves):\n",
    "        nodeNum = leafNum + dsi.numInternal\n",
    "        dsi.treeAlphaHats[nodeNum] = dsi.alphaHats[leafNum]\n",
    "        dsi.mu[leafNum],dsi.sigma[nodeNum] = ss.norm.fit(dsi.treeAlphaHats[nodeNum])\n",
    "    return dsi\n",
    "\n"
   ]
  },
  {
   "cell_type": "code",
   "execution_count": null,
   "metadata": {},
   "outputs": [],
   "source": [
    "dsi = buildDataset(1,nP=23,nU=100,posMean=1,negMean=2,cov=1,\n",
    "                   alphaDistr=lambda: np.random.choice([.10]))\n",
    "ds2 = buildDataset(1, nP=23,nU=100,posMean=1,negMean=2,cov=1,\n",
    "                   alphaDistr=lambda: np.random.choice([.90]))\n",
    "dsi.merge(ds2)\n",
    "\n",
    "dsi = prepDS(dsi,numbootstraps=2,useAlphaMax=False)\n",
    "dsi, mus,sigmas,maes,logLikelihood = runAlgorithm(dsi,\n",
    "                                                  NIter=1000,\n",
    "                                                  rlambda=1,)\n",
    "\n",
    "fig = plotDistrs(dsi,mus,sigmas)\n",
    "\n",
    "fig2 = plotMAE(maes,dsi)"
   ]
  },
  {
   "cell_type": "code",
   "execution_count": null,
   "metadata": {},
   "outputs": [],
   "source": [
    "def run(fileName,useAlphaMax=False):\n",
    "    dsn = fileName.split(\"/\")[-1].replace(\".mat\",\"\")\n",
    "    dsi = buildReal(fileName,4,\n",
    "                       alphaDistr=lambda: np.random.uniform(.05,.95),\n",
    "                      nPDistr=lambda: 1 + np.random.poisson(25),\n",
    "                      nUDistr=lambda: 1 + np.random.poisson(75))\n",
    "    dsi = prepDS(dsi,numbootstraps=25,useAlphaMax=useAlphaMax)\n",
    "    dsi, mus,sigmas,maes,NLL = runAlgorithm(dsi,\n",
    "                                            NIter=2500,\n",
    "                                            rlambda=1,)\n",
    "    localAE = maes[0] * dsi.N\n",
    "    likelihoodAE = maes[-1] * dsi.N\n",
    "    globalAE = np.abs(dsi.globalAlphaHats.mean() - dsi.trueAlphas.flatten()).sum()\n",
    "    maeFig = plotMAE(maes,dsi)\n",
    "    plt.show()\n",
    "    dstrFig = plotDistrs(dsi,mus,sigmas)\n",
    "    plt.show()\n",
    "    nllFig,ax= plt.subplots()\n",
    "    ax.plot(NLL)\n",
    "    plt.show()\n",
    "    if useAlphaMax:\n",
    "        mode = \"alphamax\"\n",
    "    else:\n",
    "        mode = \"distcurve\"\n",
    "    maeFig.savefig(\"figs/nb_24/{}_{}_mae.pdf\".format(dsn,mode),format=\"pdf\")\n",
    "    nllFig.savefig(\"figs/nb_24/{}_{}_nll.pdf\".format(dsn,mode),format=\"pdf\")\n",
    "    dstrFig.savefig(\"figs/nb_24/{}_{}_distr.pdf\".format(dsn,mode),format=\"pdf\")\n",
    "    return localAE, globalAE, likelihoodAE,dsi.N"
   ]
  },
  {
   "cell_type": "code",
   "execution_count": null,
   "metadata": {},
   "outputs": [],
   "source": [
    "# fileNames = glob(\"/data/dzeiberg/ClassPriorEstimation/rawDatasets/*.mat\")\n",
    "fileNames = glob(\"/ssdata/ClassPriorEstimationPrivate/data/rawDatasets/*.mat\")\n",
    "absErrs = {\"distcurve\":{\"local\":0,\n",
    "           \"global\":0,\n",
    "           \"likelihood\":0},\n",
    "           \"alphamax\":{\"local\":0,\n",
    "           \"global\":0,\n",
    "           \"likelihood\":0}}\n",
    "N = 0\n",
    "for fileName in tqdm(fileNames,total=len(fileNames)):\n",
    "    print(fileName)\n",
    "    # RUN DISTCURVE\n",
    "    print(\"DistCurve\")\n",
    "    localAE, globalAE, likelihoodAE,ni = run(fileName, useAlphaMax=False)\n",
    "    # Log Results\n",
    "    N += ni\n",
    "    absErrs[\"distcurve\"][\"local\"] += localAE\n",
    "    absErrs[\"distcurve\"][\"global\"] += globalAE\n",
    "    absErrs[\"distcurve\"][\"likelihood\"] += likelihoodAE\n",
    "    for k,v in absErrs[\"distcurve\"].items():\n",
    "        print(k, \"{:.3f}\".format(v/N))\n",
    "    # AlphaMax\n",
    "    print(\"Alphamax\")\n",
    "    localAE, globalAE, likelihoodAE,_ = run(fileName, useAlphaMax=True)\n",
    "    # Log Results\n",
    "    absErrs[\"alphamax\"][\"local\"] += localAE\n",
    "    absErrs[\"alphamax\"][\"global\"] += globalAE\n",
    "    absErrs[\"alphamax\"][\"likelihood\"] += likelihoodAE\n",
    "    for k,v in absErrs[\"alphamax\"].items():\n",
    "        print(k, \"{:.3f}\".format(v/N))\n",
    "    "
   ]
  },
  {
   "cell_type": "code",
   "execution_count": null,
   "metadata": {},
   "outputs": [],
   "source": [
    "fileNames"
   ]
  },
  {
   "cell_type": "code",
   "execution_count": null,
   "metadata": {},
   "outputs": [],
   "source": [
    "absErrs"
   ]
  },
  {
   "cell_type": "code",
   "execution_count": null,
   "metadata": {},
   "outputs": [],
   "source": []
  }
 ],
 "metadata": {
  "language_info": {
   "name": "python",
   "pygments_lexer": "ipython3"
  }
 },
 "nbformat": 4,
 "nbformat_minor": 5
}
