{
 "cells": [
  {
   "cell_type": "code",
   "execution_count": null,
   "metadata": {},
   "outputs": [],
   "source": [
    "# default_exp data.gene"
   ]
  },
  {
   "cell_type": "code",
   "execution_count": null,
   "metadata": {},
   "outputs": [],
   "source": [
    "# export\n",
    "import pandas as pd\n",
    "from easydict import EasyDict\n",
    "import numpy as np\n",
    "import ensembl_rest\n",
    "from tqdm.notebook import tqdm\n",
    "def getSequence(gene):\n",
    "    \"Get the protein sequence coded by the given gene\"\n",
    "    q = ensembl_rest.symbol_lookup(\n",
    "        species='homo sapiens',\n",
    "        symbol=gene,params={'expand':True})\n",
    "    try:\n",
    "        is_canonical = [t[\"is_canonical\"] for t in q[\"Transcript\"]]\n",
    "        t = q[\"Transcript\"][np.argmax(is_canonical)]\n",
    "        seq = ensembl_rest.sequence_id(t[\"Translation\"][\"id\"])[\"seq\"]\n",
    "        return seq\n",
    "    except:\n",
    "        return \"\""
   ]
  },
  {
   "cell_type": "code",
   "execution_count": null,
   "metadata": {},
   "outputs": [],
   "source": [
    "neutral_df = pd.read_excel(\"data/Neutral_dbSNP_build_131_mapped.xlsx\")"
   ]
  },
  {
   "cell_type": "code",
   "execution_count": null,
   "metadata": {},
   "outputs": [],
   "source": [
    "pathogenic_df = pd.read_excel(\"data/Pathogenic_SNP_mapped.xlsx\")"
   ]
  },
  {
   "cell_type": "code",
   "execution_count": null,
   "metadata": {},
   "outputs": [],
   "source": [
    "neutral_df"
   ]
  },
  {
   "cell_type": "code",
   "execution_count": null,
   "metadata": {},
   "outputs": [],
   "source": [
    "gene_symbols = pd.DataFrame({\"symbol\":neutral_df[\"HGNC Gene Symbol\"].unique()}).set_index(\"symbol\")\n",
    "\n",
    "gene_symbols[\"seq\"] = np.nan"
   ]
  },
  {
   "cell_type": "code",
   "execution_count": null,
   "metadata": {},
   "outputs": [],
   "source": [
    "for symbol in tqdm(gene_symbols.index,total=gene_symbols.shape[0]):\n",
    "    if pd.isna(gene_symbols.loc[symbol,\"seq\"]):\n",
    "        try:\n",
    "            gene_symbols.loc[symbol,\"seq\"] = getSequence(symbol)\n",
    "        except:\n",
    "            pass"
   ]
  },
  {
   "cell_type": "code",
   "execution_count": null,
   "metadata": {},
   "outputs": [],
   "source": [
    "def checkVariant(idx, df, gene_df):\n",
    "    ref = df.loc[idx,\"RefProtResidue(One-letter)\"]\n",
    "    loc = df.loc[idx,\"AminoAcidPosition(0 based)\"]\n",
    "    missense = df.loc[idx,\"MissenseResidue(One_Letter)\"]\n",
    "    symbol = df.loc[idx, \"HGNC Gene Symbol\"]\n",
    "    seq= gene_df.loc[symbol,\"seq\"]\n",
    "    try:\n",
    "        return seq[loc] == ref\n",
    "    except:\n",
    "        return False"
   ]
  },
  {
   "cell_type": "code",
   "execution_count": null,
   "metadata": {},
   "outputs": [],
   "source": [
    "for row in tqdm(range(neutral_df.shape[0]),total=neutral_df.shape[0]):\n",
    "    neutral_df.loc[row,\"valid_ref_allele\"] = checkVariant(row,neutral_df, gene_symbols) "
   ]
  },
  {
   "cell_type": "code",
   "execution_count": null,
   "metadata": {},
   "outputs": [],
   "source": [
    "neutral_df[\"valid_ref_allele\"].value_counts()"
   ]
  },
  {
   "cell_type": "code",
   "execution_count": null,
   "metadata": {},
   "outputs": [],
   "source": [
    "valid_neutral = neutral_df[neutral_df[\"valid_ref_allele\"]]"
   ]
  },
  {
   "cell_type": "code",
   "execution_count": null,
   "metadata": {},
   "outputs": [],
   "source": [
    "import matlab.engine\n",
    "import matlab\n",
    "eng = matlab.engine.start_matlab()\n",
    "path = eng.addpath(\"~/Documents/research/mutpred2/all_functions/\")"
   ]
  },
  {
   "cell_type": "code",
   "execution_count": null,
   "metadata": {},
   "outputs": [],
   "source": [
    "import pickle"
   ]
  },
  {
   "cell_type": "code",
   "execution_count": null,
   "metadata": {},
   "outputs": [],
   "source": [
    "for symbol in tqdm(gene_symbols.index,total=gene_symbols.shape[0]):\n",
    "    try:\n",
    "        gene_symbols.loc[symbol,\"pssm\"] = pickle.dumps(np.array(eng.get_pssm(gene_symbols.loc[symbol,\"seq\"],\n",
    "                                                                             \"~/Documents/research/mutpred2/\")))\n",
    "    except:\n",
    "        pass"
   ]
  },
  {
   "cell_type": "code",
   "execution_count": null,
   "metadata": {},
   "outputs": [],
   "source": [
    "for p in gene_symbols.index:\n",
    "    mat = pickle.loads(gene_symbols.loc[p,\"pssm\"])\n",
    "    if (mat == 0).all():        \n",
    "        gene_symbols.loc[p,\"pssm\"] = np.nan"
   ]
  },
  {
   "cell_type": "code",
   "execution_count": null,
   "metadata": {},
   "outputs": [],
   "source": [
    "gene_symbols.to_pickle(\"data/neutral_gene_symbol_df.pkl\")\n",
    "\n",
    "neutral_df.to_pickle(\"data/neutral_df.pkl\")"
   ]
  },
  {
   "cell_type": "markdown",
   "metadata": {},
   "source": [
    "# Repeat for pathogenic"
   ]
  },
  {
   "cell_type": "code",
   "execution_count": null,
   "metadata": {},
   "outputs": [],
   "source": [
    "pathogenic_genes = pd.DataFrame({\"symbol\":pathogenic_df[\"HGNC Gene Symbol\"].str.strip().drop_duplicates()}).set_index(\"symbol\")"
   ]
  },
  {
   "cell_type": "code",
   "execution_count": null,
   "metadata": {},
   "outputs": [],
   "source": [
    "pathogenic_genes[\"seq\"] = np.nan\n",
    "pathogenic_genes[\"pssm\"] = np.nan"
   ]
  },
  {
   "cell_type": "code",
   "execution_count": null,
   "metadata": {},
   "outputs": [],
   "source": [
    "pathogenic_genes"
   ]
  },
  {
   "cell_type": "code",
   "execution_count": null,
   "metadata": {},
   "outputs": [],
   "source": [
    "for symbol in tqdm(pathogenic_genes.index,total=pathogenic_genes.shape[0]):\n",
    "    try:\n",
    "        pathogenic_genes.loc[symbol,\"seq\"] = getSequence(symbol)\n",
    "    except Exception as e:\n",
    "        print(\"skipping \",symbol)"
   ]
  },
  {
   "cell_type": "code",
   "execution_count": null,
   "metadata": {},
   "outputs": [],
   "source": [
    "for symbol in tqdm(pathogenic_genes.index,total=pathogenic_genes.shape[0]):\n",
    "    if not pd.isna(pathogenic_genes.loc[symbol,\"seq\"]):\n",
    "        try:\n",
    "            pathogenic_genes.loc[symbol,\"pssm\"] = pickle.dumps(np.array(eng.get_pssm(pathogenic_genes.loc[symbol,\"seq\"],\n",
    "                                                                                 \"~/Documents/research/mutpred2/\")))\n",
    "        except:\n",
    "            print(\"cannot find PSSM for \",symbol,seq)\n",
    "    else:\n",
    "        print(\"no sequence found for \",symbol)"
   ]
  },
  {
   "cell_type": "code",
   "execution_count": null,
   "metadata": {},
   "outputs": [],
   "source": [
    "for p in pathogenic_genes.index:\n",
    "    if not pd.isna(pathogenic_genes.loc[p,\"pssm\"]):\n",
    "        mat = pickle.loads(pathogenic_genes.loc[p,\"pssm\"])\n",
    "        if (mat == 0).all():        \n",
    "            pathogenic_genes.loc[p,\"pssm\"] = np.nan"
   ]
  },
  {
   "cell_type": "code",
   "execution_count": null,
   "metadata": {},
   "outputs": [],
   "source": [
    "pathogenic_genes[\"pssm\"].isna().value_counts()"
   ]
  },
  {
   "cell_type": "code",
   "execution_count": null,
   "metadata": {},
   "outputs": [],
   "source": [
    "for row in tqdm(range(pathogenic_df.shape[0]),total=pathogenic_df.shape[0]):\n",
    "    variant = pathogenic_df.loc[row,\"Variation- HGVS format\"].replace(\"p.\",\"\")\n",
    "    ref = variant[0]\n",
    "    loc = int(variant[1:-1])\n",
    "    try:\n",
    "        symbol = pathogenic_df.loc[row, \"HGNC Gene Symbol\"]\n",
    "        sequence = pathogenic_genes.loc[symbol,\"seq\"]\n",
    "        pathogenic_df.loc[row,\"valid_ref_allele\"] = sequence[loc-1] == ref\n",
    "    except Exception as e:\n",
    "        if type(e) is not KeyError:\n",
    "            print(type(e))\n",
    "        pathogenic_df.loc[row, \"valid_ref_allele\"] = False"
   ]
  },
  {
   "cell_type": "code",
   "execution_count": null,
   "metadata": {},
   "outputs": [],
   "source": [
    "pathogenic_df[\"HGNC Gene Symbol\"].isin(pathogenic_genes.index).value_counts()"
   ]
  },
  {
   "cell_type": "code",
   "execution_count": null,
   "metadata": {},
   "outputs": [],
   "source": [
    "pathogenic_genes.to_pickle(\"data/pathogenic_gene_symbol_df.pkl\")\n",
    "\n",
    "pathogenic_df.to_pickle(\"data/pathogenic_df.pkl\")"
   ]
  },
  {
   "cell_type": "markdown",
   "metadata": {},
   "source": [
    "# Summarize"
   ]
  },
  {
   "cell_type": "code",
   "execution_count": null,
   "metadata": {},
   "outputs": [],
   "source": [
    "neutral_df = pd.read_pickle(\"data/neutral_df.pkl\")\n",
    "neutral_genes = pd.read_pickle(\"data/neutral_gene_symbol_df.pkl\")\n",
    "\n",
    "pathogenic_genes = pd.read_pickle(\"data/pathogenic_gene_symbol_df.pkl\")\n",
    "pathogenic_df = pd.read_pickle(\"data/pathogenic_df.pkl\")"
   ]
  },
  {
   "cell_type": "markdown",
   "metadata": {},
   "source": [
    "Total Variant Counts"
   ]
  },
  {
   "cell_type": "code",
   "execution_count": null,
   "metadata": {},
   "outputs": [],
   "source": [
    "neutral_df[\"valid_ref_allele\"].value_counts()"
   ]
  },
  {
   "cell_type": "code",
   "execution_count": null,
   "metadata": {},
   "outputs": [],
   "source": [
    "pathogenic_df[\"valid ref allele\"].value_counts()"
   ]
  },
  {
   "cell_type": "markdown",
   "metadata": {},
   "source": [
    "Gene Type Counts"
   ]
  },
  {
   "cell_type": "code",
   "execution_count": null,
   "metadata": {},
   "outputs": [],
   "source": [
    "mixedGenes = set(neutral_genes.index).intersection(set(pathogenic_genes.index))"
   ]
  },
  {
   "cell_type": "code",
   "execution_count": null,
   "metadata": {},
   "outputs": [],
   "source": [
    "len(mixedGenes)"
   ]
  },
  {
   "cell_type": "code",
   "execution_count": null,
   "metadata": {},
   "outputs": [],
   "source": [
    "len(set(pathogenic_genes.index).difference(mixedGenes)),pathogenic_genes.shape[0]"
   ]
  },
  {
   "cell_type": "code",
   "execution_count": null,
   "metadata": {},
   "outputs": [],
   "source": [
    "len(set(neutral_genes.index).difference(mixedGenes)),neutral_genes.shape[0]"
   ]
  },
  {
   "cell_type": "code",
   "execution_count": null,
   "metadata": {},
   "outputs": [],
   "source": [
    "genes = pd.concat((neutral_genes,pathogenic_genes)).drop_duplicates()"
   ]
  },
  {
   "cell_type": "code",
   "execution_count": null,
   "metadata": {},
   "outputs": [],
   "source": [
    "genes"
   ]
  },
  {
   "cell_type": "code",
   "execution_count": null,
   "metadata": {},
   "outputs": [],
   "source": [
    "import matplotlib.pyplot as plt"
   ]
  },
  {
   "cell_type": "code",
   "execution_count": null,
   "metadata": {},
   "outputs": [],
   "source": [
    "plt.hist(neutral_df[neutral_df[\"valid_ref_allele\"]].groupby(\"HGNC Gene Symbol\").size().values, bins=25)"
   ]
  },
  {
   "cell_type": "code",
   "execution_count": null,
   "metadata": {},
   "outputs": [],
   "source": [
    "plt.hist(pathogenic_df[pathogenic_df[\"valid ref allele\"]].groupby(\"HGNC Gene Symbol\").size().values, bins=25)"
   ]
  },
  {
   "cell_type": "code",
   "execution_count": null,
   "metadata": {},
   "outputs": [],
   "source": [
    "pathogenic_df[\"pathogenic\"] = True"
   ]
  },
  {
   "cell_type": "code",
   "execution_count": null,
   "metadata": {},
   "outputs": [],
   "source": [
    "neutral_df[\"pathogenic\"] = False"
   ]
  },
  {
   "cell_type": "code",
   "execution_count": null,
   "metadata": {},
   "outputs": [],
   "source": [
    "pathogenic_df.head()"
   ]
  },
  {
   "cell_type": "code",
   "execution_count": null,
   "metadata": {},
   "outputs": [],
   "source": [
    "neutral_df.head()"
   ]
  },
  {
   "cell_type": "code",
   "execution_count": null,
   "metadata": {},
   "outputs": [],
   "source": [
    "neutral_df[[\"MissenseResidue(One_Letter)\", \"AminoAcidPosition(0 based)\",\"RefProtResidue(One-letter)\"]]"
   ]
  },
  {
   "cell_type": "code",
   "execution_count": null,
   "metadata": {},
   "outputs": [],
   "source": [
    "pathogenic_df = pd.concat((pathogenic_df,\n",
    "           pd.DataFrame(pathogenic_df[\"Variation- HGVS format\"].str.replace(\"p.\",\"\").str.split(pat=r\"(\\d+)\").to_list(),columns=[\"missense\", \"position\", \"reference\"])),axis=1)"
   ]
  },
  {
   "cell_type": "code",
   "execution_count": null,
   "metadata": {},
   "outputs": [],
   "source": [
    "pathogenic_df[\"position\"] = pathogenic_df[\"position\"].astype(int) -1"
   ]
  },
  {
   "cell_type": "code",
   "execution_count": null,
   "metadata": {},
   "outputs": [],
   "source": [
    "neutral_df = neutral_df.rename(columns={\"MissenseResidue(One_Letter)\":\"missense\",\n",
    "                   \"AminoAcidPosition(0 based)\":\"position\",\n",
    "                   \"RefProtResidue(One-letter)\":\"reference\"})"
   ]
  },
  {
   "cell_type": "code",
   "execution_count": null,
   "metadata": {},
   "outputs": [],
   "source": [
    "variant_df = pd.concat((neutral_df[[\"valid_ref_allele\", \"pathogenic\", \"HGNC Gene Symbol\",\"missense\",\"position\",\"reference\"]],\n",
    "                        pathogenic_df[[\"valid_ref_allele\", \"pathogenic\", \"HGNC Gene Symbol\",\"missense\",\"position\",\"reference\"]]))"
   ]
  },
  {
   "cell_type": "code",
   "execution_count": null,
   "metadata": {},
   "outputs": [],
   "source": [
    "variant_df"
   ]
  },
  {
   "cell_type": "code",
   "execution_count": null,
   "metadata": {},
   "outputs": [],
   "source": [
    "plt.hist(variant_df[variant_df[\"valid_ref_allele\"]].groupby(\"HGNC Gene Symbol\").size().values,bins=np.arange(0,50,2))"
   ]
  },
  {
   "cell_type": "code",
   "execution_count": null,
   "metadata": {},
   "outputs": [],
   "source": [
    "variant_df"
   ]
  },
  {
   "cell_type": "code",
   "execution_count": null,
   "metadata": {},
   "outputs": [],
   "source": [
    "genes"
   ]
  },
  {
   "cell_type": "code",
   "execution_count": null,
   "metadata": {},
   "outputs": [],
   "source": [
    "variant_df.to_pickle(\"data/variant_df_mixed.pkl\")"
   ]
  },
  {
   "cell_type": "code",
   "execution_count": null,
   "metadata": {},
   "outputs": [],
   "source": [
    "genes.to_pickle(\"data/gene_df_mixed.pkl\")"
   ]
  },
  {
   "cell_type": "code",
   "execution_count": null,
   "metadata": {},
   "outputs": [],
   "source": [
    "pickle.loads(genes.loc[\"A2M\",\"pssm\"]).shape"
   ]
  },
  {
   "cell_type": "code",
   "execution_count": null,
   "metadata": {},
   "outputs": [],
   "source": [
    "q = ensembl_rest.variation_id(id=\"rs903331232\",species=\"homo_sapiens\",fields=[\"hgvsc\"],params={\"expand\":True,\n",
    "                                                                                               \"fields\":[\"hgvsc\"]})"
   ]
  },
  {
   "cell_type": "code",
   "execution_count": null,
   "metadata": {},
   "outputs": [],
   "source": [
    "q"
   ]
  },
  {
   "cell_type": "code",
   "execution_count": null,
   "metadata": {},
   "outputs": [],
   "source": [
    "getSequence(\"SAMD11\")"
   ]
  },
  {
   "cell_type": "code",
   "execution_count": null,
   "metadata": {},
   "outputs": [],
   "source": [
    "import requests, sys\n",
    " \n",
    "server = \"https://rest.ensembl.org\"\n",
    "ext = \"/variant_recoder/human/rs903331232?\"\n",
    " \n",
    "r = requests.get(server+ext, headers={ \"Content-Type\" : \"application/json\"})\n",
    " \n",
    "if not r.ok:\n",
    "    r.raise_for_status()\n",
    "    sys.exit()\n",
    "\n",
    "decoded = r.json()\n",
    "# print(repr(decoded))"
   ]
  },
  {
   "cell_type": "code",
   "execution_count": null,
   "metadata": {},
   "outputs": [],
   "source": [
    "ensembl_rest.lookup(id=\"NM_152486\")"
   ]
  },
  {
   "cell_type": "code",
   "execution_count": null,
   "metadata": {},
   "outputs": [],
   "source": []
  }
 ],
 "metadata": {
  "language_info": {
   "name": "python",
   "pygments_lexer": "ipython3"
  }
 },
 "nbformat": 4,
 "nbformat_minor": 2
}
