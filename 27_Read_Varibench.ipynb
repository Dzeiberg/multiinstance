{
 "cells": [
  {
   "cell_type": "code",
   "execution_count": null,
   "metadata": {},
   "outputs": [],
   "source": [
    "# default_exp data.gene"
   ]
  },
  {
   "cell_type": "code",
   "execution_count": null,
   "metadata": {},
   "outputs": [],
   "source": [
    "# export\n",
    "import pandas as pd\n",
    "from easydict import EasyDict\n",
    "import numpy as np\n",
    "import ensembl_rest\n",
    "from tqdm.notebook import tqdm\n",
    "def getSequence(gene):\n",
    "    \"Get the protein sequence coded by the given gene\"\n",
    "    q = ensembl_rest.symbol_lookup(\n",
    "        species='homo sapiens',\n",
    "        symbol=gene,params={'expand':True})\n",
    "    try:\n",
    "        is_canonical = [t[\"is_canonical\"] for t in q[\"Transcript\"]]\n",
    "        t = q[\"Transcript\"][np.argmax(is_canonical)]\n",
    "        seq = ensembl_rest.sequence_id(t[\"Translation\"][\"id\"])[\"seq\"]\n",
    "        return seq\n",
    "    except:\n",
    "        return \"\""
   ]
  },
  {
   "cell_type": "code",
   "execution_count": null,
   "metadata": {},
   "outputs": [],
   "source": [
    "neutral_df = pd.read_excel(\"data/Neutral_dbSNP_build_131_mapped.xlsx\")"
   ]
  },
  {
   "cell_type": "code",
   "execution_count": null,
   "metadata": {},
   "outputs": [],
   "source": [
    "neutral_df"
   ]
  },
  {
   "cell_type": "code",
   "execution_count": null,
   "metadata": {},
   "outputs": [],
   "source": [
    "gene_symbols = pd.DataFrame({\"symbol\":neutral_df[\"HGNC Gene Symbol\"].unique()}).set_index(\"symbol\")\n",
    "\n",
    "gene_symbols[\"seq\"] = np.nan"
   ]
  },
  {
   "cell_type": "code",
   "execution_count": null,
   "metadata": {},
   "outputs": [],
   "source": [
    "for symbol in tqdm(gene_symbols.index,total=gene_symbols.shape[0]):\n",
    "    if pd.isna(gene_symbols.loc[symbol,\"seq\"]):\n",
    "        try:\n",
    "            gene_symbols.loc[symbol,\"seq\"] = getSequence(symbol)\n",
    "        except:\n",
    "            pass"
   ]
  },
  {
   "cell_type": "code",
   "execution_count": null,
   "metadata": {},
   "outputs": [],
   "source": [
    "def checkVariant(idx):\n",
    "    ref = neutral_df.loc[idx,\"RefProtResidue(One-letter)\"]\n",
    "    loc = neutral_df.loc[idx,\"AminoAcidPosition(0 based)\"]\n",
    "    missense = neutral_df.loc[idx,\"MissenseResidue(One_Letter)\"]\n",
    "    symbol = neutral_df.loc[idx, \"HGNC Gene Symbol\"]\n",
    "    seq= test.loc[symbol,\"seq\"]\n",
    "    assert seq[loc] == ref"
   ]
  },
  {
   "cell_type": "code",
   "execution_count": null,
   "metadata": {},
   "outputs": [],
   "source": [
    "for i in range(100):\n",
    "    print(i)\n",
    "    checkVariant(i)"
   ]
  },
  {
   "cell_type": "code",
   "execution_count": null,
   "metadata": {},
   "outputs": [],
   "source": []
  }
 ],
 "metadata": {
  "language_info": {
   "name": "python",
   "pygments_lexer": "ipython3"
  }
 },
 "nbformat": 4,
 "nbformat_minor": 2
}
