{
 "cells": [
  {
   "cell_type": "code",
   "execution_count": null,
   "metadata": {},
   "outputs": [],
   "source": [
    "# default_exp lambdaRank"
   ]
  },
  {
   "cell_type": "markdown",
   "metadata": {},
   "source": [
    "https://github.com/louislung/ranknet_lambdarank_tensorflow/blob/main/LambdaRank.ipynb"
   ]
  },
  {
   "cell_type": "code",
   "execution_count": null,
   "metadata": {},
   "outputs": [],
   "source": [
    "# export\n",
    "import tensorflow as tf\n",
    "from tensorflow.keras import layers, activations, losses, Model, Input\n",
    "from tensorflow.nn import leaky_relu\n",
    "import numpy as np\n",
    "from itertools import combinations\n",
    "from tensorflow.keras.utils import plot_model\n",
    "import time\n",
    "from tensorflow.keras.utils import Progbar\n",
    "import matplotlib.pyplot as plt\n",
    "from sklearn.model_selection import train_test_split\n",
    "import json\n",
    "import math\n",
    "\n",
    "from scipy import ndimage\n",
    "import pandas as pd"
   ]
  },
  {
   "cell_type": "code",
   "execution_count": null,
   "metadata": {},
   "outputs": [],
   "source": [
    "def plot_metrics(train_metric, val_metric=None, metric_name1=None, metric_name12=None, title=None, ylim=5, ylim_low=0):\n",
    "    plt.title(title)\n",
    "    plt.ylim(ylim_low,ylim)\n",
    "    plt.plot(train_metric, color='blue',label=metric_name1)\n",
    "    if val_metric is not None: plt.plot(val_metric,color='green',label=metric_name12)\n",
    "    plt.legend(loc=\"upper right\")\n",
    "    plt.show()"
   ]
  },
  {
   "cell_type": "code",
   "execution_count": null,
   "metadata": {},
   "outputs": [],
   "source": [
    "def generate_scores(x, seed=None):\n",
    "    np.random.seed(seed)\n",
    "    d = x.shape[1]\n",
    "    rng = np.random.default_rng(seed)\n",
    "    term1 = x.dot(np.random.uniform(low=-1, high=1, size=(d)))\n",
    "    term2 = np.sum(np.multiply(x, rng.permutation(x, 1)), 1)\n",
    "    term3 = np.sum(np.multiply(np.multiply(x, rng.permutation(x, 1)), rng.permutation(x, 1)), 1)\n",
    "    # normalize\n",
    "    term1 = (term1 - np.mean(term1)) / np.std(term1)\n",
    "    term2 = (term2 - np.mean(term2)) / np.std(term2)\n",
    "    term3 = (term3 - np.mean(term3)) / np.std(term3)\n",
    "    scores = (term1 + term2 + term3) / 3\n",
    "    #scores = (term1 + term2) / 2\n",
    "    scores = np.digitize(scores, bins = np.array([-1, -0.5, 0, 0.5, 1]), right=False)\n",
    "    return np.clip(np.round(scores), 0., 5.).astype(np.float32)"
   ]
  },
  {
   "cell_type": "code",
   "execution_count": null,
   "metadata": {},
   "outputs": [],
   "source": []
  }
 ],
 "metadata": {
  "kernelspec": {
   "display_name": "tf",
   "language": "python",
   "name": "tf"
  }
 },
 "nbformat": 4,
 "nbformat_minor": 4
}
