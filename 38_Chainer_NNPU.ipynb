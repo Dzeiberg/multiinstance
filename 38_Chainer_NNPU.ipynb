{
 "cells": [
  {
   "cell_type": "code",
   "execution_count": null,
   "metadata": {},
   "outputs": [],
   "source": [
    "# default_exp nnpu"
   ]
  },
  {
   "cell_type": "code",
   "execution_count": null,
   "metadata": {},
   "outputs": [],
   "source": [
    "# export\n",
    "import chainer as ch\n",
    "from chainer import datasets\n",
    "import chainer.functions as F\n",
    "import chainer.links as L\n",
    "from chainer import training, function, Variable\n",
    "from chainer.training import extensions\n",
    "from chainer.backend import cuda\n",
    "from chainer.utils import type_check\n",
    "\n",
    "import numpy as np\n",
    "import matplotlib\n",
    "import scipy.stats as ss\n",
    "import matplotlib.pyplot as plt\n",
    "from IPython.display import Image\n",
    "from easydict import EasyDict\n",
    "from copy import deepcopy\n",
    "\n",
    "# from nnPU_demo.model import ThreeLayerPerceptron"
   ]
  },
  {
   "cell_type": "markdown",
   "metadata": {},
   "source": [
    "# Define positive and negative distributions"
   ]
  },
  {
   "cell_type": "code",
   "execution_count": null,
   "metadata": {},
   "outputs": [],
   "source": [
    "f1 = ss.norm(loc=0,scale=1)\n",
    "f0 = ss.norm(loc=-2,scale=1)\n",
    "alpha = .5\n",
    "\n",
    "posterior = lambda x: alpha * f1.pdf(x) / (alpha * f1.pdf(x) + (1 - alpha) * f0.pdf(x))"
   ]
  },
  {
   "cell_type": "code",
   "execution_count": null,
   "metadata": {},
   "outputs": [
    {
     "data": {
      "image/png": "[encoded data removed]",
      "text/plain": [
       "<Figure size 432x288 with 1 Axes>"
      ]
     },
     "metadata": {
      "needs_background": "light"
     },
     "output_type": "display_data"
    }
   ],
   "source": [
    "rng = np.arange(-5,5,.01)\n",
    "plt.plot(rng,f1.pdf(rng),label=r\"$f_1(x)$\")\n",
    "plt.plot(rng,f0.pdf(rng),label=r\"$f_0(x)$\")\n",
    "plt.plot(rng,posterior(rng),label=r\"p(y|x)\")\n",
    "plt.plot(rng, alpha * f1.pdf(rng) + (1 - alpha) *f0.pdf(rng),label=r\"$f(x)$\")\n",
    "plt.legend()\n",
    "plt.show()"
   ]
  },
  {
   "cell_type": "markdown",
   "metadata": {},
   "source": [
    "# Create Dataset"
   ]
  },
  {
   "cell_type": "code",
   "execution_count": null,
   "metadata": {},
   "outputs": [],
   "source": [
    "def getData(NPos=1000,NUnlabeled=30000, mixup=False):\n",
    "#     alpha = np.random.beta(2,2)\n",
    "    bag = EasyDict()\n",
    "    bag.alpha = alpha\n",
    "    positive = f1.rvs(NPos)\n",
    "    n1U = int(NUnlabeled * alpha)\n",
    "    n0U = int(NUnlabeled *(1-alpha))\n",
    "    unlabeled = np.concatenate((f1.rvs(n1U),\n",
    "                                f0.rvs(n0U)))\n",
    "    bag.x = np.concatenate((positive, unlabeled))[:,None].astype(np.float32)\n",
    "    bag.N = bag.x.shape[0]\n",
    "    bag.y = np.concatenate((np.ones(NPos), np.ones(n1U+n0U)*-1)).astype(np.int32)\n",
    "    #Add mixup points\n",
    "    if mixup:\n",
    "        NMixup = 20000\n",
    "        betas = np.random.beta(2,2,size=NMixup)[:,None]\n",
    "        idx1 = np.random.randint(0,bag.x.shape[0],size=NMixup)\n",
    "        idx2 = np.random.randint(0,bag.x.shape[0],size=NMixup)\n",
    "        xPrime = np.multiply(bag.x[idx1],betas) + np.multiply((1 - betas),bag.x[idx2])\n",
    "        yPrime = np.multiply(bag.y[idx1],betas[:,0]) + np.multiply((1 - betas)[:,0],bag.y[idx2])\n",
    "        bag.x = np.concatenate((bag.x, xPrime)).astype(np.float32)\n",
    "        bag.y = np.concatenate((bag.y, yPrime)).astype(np.int32)\n",
    "    return bag"
   ]
  },
  {
   "cell_type": "code",
   "execution_count": null,
   "metadata": {},
   "outputs": [],
   "source": [
    "bag = getData(mixup=False)"
   ]
  },
  {
   "cell_type": "code",
   "execution_count": null,
   "metadata": {},
   "outputs": [],
   "source": [
    "train,test = datasets.split_dataset_random(\n",
    "    datasets.TupleDataset(bag.x, bag.y), int(bag.N * 0.7))"
   ]
  },
  {
   "cell_type": "markdown",
   "metadata": {},
   "source": [
    "# Setup Iterator"
   ]
  },
  {
   "cell_type": "code",
   "execution_count": null,
   "metadata": {},
   "outputs": [],
   "source": [
    "args = EasyDict()\n",
    "args.batchsize=128\n",
    "args.hdim = 1000"
   ]
  },
  {
   "cell_type": "code",
   "execution_count": null,
   "metadata": {},
   "outputs": [],
   "source": [
    "train_iter = ch.iterators.SerialIterator(train, args.batchsize)\n",
    "test_iter = ch.iterators.SerialIterator(\n",
    "    test, args.batchsize, repeat=False, shuffle=False)"
   ]
  },
  {
   "cell_type": "markdown",
   "metadata": {},
   "source": [
    "# NNPU Loss"
   ]
  },
  {
   "cell_type": "code",
   "execution_count": null,
   "metadata": {},
   "outputs": [],
   "source": [
    "# export\n",
    "class PULoss(function.Function):\n",
    "    \"\"\"wrapper of loss function for PU learning\"\"\"\n",
    "\n",
    "    def __init__(self, prior, loss=(lambda x: F.sigmoid(-x)), gamma=1, beta=0, nnpu=False):\n",
    "        if not 0 < prior < 1:\n",
    "            raise NotImplementedError(\"The class prior should be in (0, 1)\")\n",
    "        self.prior = prior\n",
    "        self.gamma = gamma\n",
    "        self.beta = beta\n",
    "        self.loss_func = loss\n",
    "        self.nnpu = nnpu\n",
    "        self.x_in = None\n",
    "        self.x_out = None\n",
    "        self.loss = None\n",
    "        self.positive = 1\n",
    "        self.unlabeled = -1\n",
    "\n",
    "    def check_type_forward(self, in_types):\n",
    "        type_check.expect(in_types.size() == 2)\n",
    "\n",
    "        x_type, t_type = in_types\n",
    "        type_check.expect(\n",
    "            x_type.dtype == np.float32,\n",
    "            t_type.dtype == np.int32,\n",
    "            t_type.ndim == 1,\n",
    "            x_type.shape[0] == t_type.shape[0],\n",
    "        )\n",
    "\n",
    "    def forward(self, inputs):\n",
    "        xp = cuda.get_array_module(*inputs)\n",
    "        x, t = inputs\n",
    "        t = t[:, None]\n",
    "        positive, unlabeled = t == self.positive, t == self.unlabeled\n",
    "        n_positive, n_unlabeled = max([1., xp.sum(positive)]), max([1., xp.sum(unlabeled)])\n",
    "        self.x_in = Variable(x)\n",
    "        y_positive = self.loss_func(self.x_in)\n",
    "        y_unlabeled = self.loss_func(-self.x_in)\n",
    "        positive_risk = F.sum(self.prior * positive / n_positive * y_positive)\n",
    "        negative_risk = F.sum((unlabeled / n_unlabeled - self.prior * positive / n_positive) * y_unlabeled)\n",
    "#         negative_risk = F.absolute(F.sum((unlabeled / n_unlabeled - self.prior * positive / n_positive) * y_unlabeled))\n",
    "        objective = positive_risk + negative_risk\n",
    "        if self.nnpu:\n",
    "            if negative_risk.data < -self.beta:\n",
    "                objective = positive_risk - self.beta\n",
    "                self.x_out = -self.gamma * negative_risk\n",
    "            else:\n",
    "                self.x_out = objective\n",
    "        else:\n",
    "            self.x_out = objective\n",
    "        self.loss = xp.array(objective.data, dtype=self.x_out.data.dtype)\n",
    "        return self.loss,\n",
    "\n",
    "    def backward(self, inputs, gy):\n",
    "        self.x_out.backward()\n",
    "        gx = gy[0].reshape(gy[0].shape + (1,) * (self.x_in.data.ndim - 1)) * self.x_in.grad\n",
    "        return gx, None\n",
    "\n",
    "\n",
    "def pu_loss(x, t, prior, loss=(lambda x: F.sigmoid(-x)), nnpu=True):\n",
    "    \"\"\"wrapper of loss function for non-negative/unbiased PU learning\n",
    "\n",
    "        .. math::\n",
    "            \\\\begin{array}{lc}\n",
    "            L_[\\\\pi E_1[l(f(x))]+\\\\max(E_X[l(-f(x))]-\\\\pi E_1[l(-f(x))], \\\\beta) & {\\\\rm if nnPU learning}\\\\\\\\\n",
    "            L_[\\\\pi E_1[l(f(x))]+E_X[l(-f(x))]-\\\\pi E_1[l(-f(x))] & {\\\\rm otherwise}\n",
    "            \\\\end{array}\n",
    "\n",
    "    Args:\n",
    "        x (~chainer.Variable): Input variable.\n",
    "            The shape of ``x`` should be (:math:`N`, 1).\n",
    "        t (~chainer.Variable): Target variable for regression.\n",
    "            The shape of ``t`` should be (:math:`N`, ).\n",
    "        prior (float): Constant variable for class prior.\n",
    "        loss (~chainer.function): loss function.\n",
    "            The loss function should be non-increasing.\n",
    "        nnpu (bool): Whether use non-negative PU learning or unbiased PU learning.\n",
    "            In default setting, non-negative PU learning will be used.\n",
    "\n",
    "    Returns:\n",
    "        ~chainer.Variable: A variable object holding a scalar array of the\n",
    "            PU loss.\n",
    "\n",
    "    See:\n",
    "        Ryuichi Kiryo, Gang Niu, Marthinus Christoffel du Plessis, and Masashi Sugiyama.\n",
    "        \"Positive-Unlabeled Learning with Non-Negative Risk Estimator.\"\n",
    "        Advances in neural information processing systems. 2017.\n",
    "        du Plessis, Marthinus Christoffel, Gang Niu, and Masashi Sugiyama.\n",
    "        \"Convex formulation for learning from positive and unlabeled data.\"\n",
    "        Proceedings of The 32nd International Conference on Machine Learning. 2015.\n",
    "    \"\"\"\n",
    "    return PULoss(prior=prior, loss=loss, nnpu=nnpu)(x, t)"
   ]
  },
  {
   "cell_type": "markdown",
   "metadata": {},
   "source": [
    "# Model"
   ]
  },
  {
   "cell_type": "code",
   "execution_count": null,
   "metadata": {},
   "outputs": [],
   "source": [
    "# export\n",
    "def MLP(n_units, n_out):\n",
    "    layer = ch.Sequential(L.Linear(n_units), L.BatchNormalization(n_units), F.relu)\n",
    "    model = layer.repeat(4)\n",
    "    model.append(L.Linear(n_out))\n",
    "\n",
    "    return model"
   ]
  },
  {
   "cell_type": "code",
   "execution_count": null,
   "metadata": {},
   "outputs": [],
   "source": [
    "model = L.Classifier(\n",
    "    MLP(args.hdim, 1), lossfun=PULoss(bag.alpha, nnpu=True), accfun=F.accuracy)"
   ]
  },
  {
   "cell_type": "markdown",
   "metadata": {},
   "source": [
    "# Optimizer"
   ]
  },
  {
   "cell_type": "code",
   "execution_count": null,
   "metadata": {},
   "outputs": [],
   "source": [
    "optimizer = ch.optimizers.Adam(alpha=1e-5).setup(model)\n",
    "optimizer.add_hook(ch.optimizer.WeightDecay(0.005))"
   ]
  },
  {
   "cell_type": "markdown",
   "metadata": {},
   "source": [
    "# Updater"
   ]
  },
  {
   "cell_type": "code",
   "execution_count": null,
   "metadata": {},
   "outputs": [],
   "source": [
    "updater = training.StandardUpdater(train_iter, optimizer,device=0)"
   ]
  },
  {
   "cell_type": "markdown",
   "metadata": {},
   "source": [
    "# Trainer"
   ]
  },
  {
   "cell_type": "code",
   "execution_count": null,
   "metadata": {},
   "outputs": [],
   "source": [
    "trainer = training.Trainer(updater, (100, 'epoch'), out='result')"
   ]
  },
  {
   "cell_type": "markdown",
   "metadata": {},
   "source": [
    "# Extensions"
   ]
  },
  {
   "cell_type": "code",
   "execution_count": null,
   "metadata": {},
   "outputs": [],
   "source": [
    "trainer.extend(extensions.Evaluator(test_iter, model, device=0))"
   ]
  },
  {
   "cell_type": "code",
   "execution_count": null,
   "metadata": {},
   "outputs": [],
   "source": [
    "trainer.extend(extensions.DumpGraph('main/loss'))"
   ]
  },
  {
   "cell_type": "code",
   "execution_count": null,
   "metadata": {},
   "outputs": [],
   "source": [
    "trainer.extend(extensions.snapshot(), trigger=(20, 'epoch'))"
   ]
  },
  {
   "cell_type": "code",
   "execution_count": null,
   "metadata": {},
   "outputs": [],
   "source": [
    "trainer.extend(extensions.LogReport())"
   ]
  },
  {
   "cell_type": "code",
   "execution_count": null,
   "metadata": {},
   "outputs": [],
   "source": [
    "# Save two plot images to the result dir\n",
    "trainer.extend(\n",
    "    extensions.PlotReport(['main/loss', 'validation/main/loss'],\n",
    "                          'epoch', file_name='loss.png'))\n",
    "trainer.extend(\n",
    "    extensions.PlotReport(\n",
    "        ['main/accuracy', 'validation/main/accuracy'],\n",
    "        'epoch', file_name='accuracy.png'))"
   ]
  },
  {
   "cell_type": "code",
   "execution_count": null,
   "metadata": {},
   "outputs": [],
   "source": [
    "trainer.extend(extensions.PrintReport(\n",
    "    ['epoch', 'main/loss', 'validation/main/loss',\n",
    "     'main/accuracy', 'validation/main/accuracy', 'elapsed_time']))"
   ]
  },
  {
   "cell_type": "markdown",
   "metadata": {},
   "source": [
    "# Main Loop"
   ]
  },
  {
   "cell_type": "code",
   "execution_count": null,
   "metadata": {},
   "outputs": [
    {
     "name": "stdout",
     "output_type": "stream",
     "text": [
      "epoch       main/loss   validation/main/loss  main/accuracy  validation/main/accuracy  elapsed_time\n",
      "\u001b[J1           0.218089    0.154396              0              0                         2.35173       \n",
      "\u001b[J2           0.161296    0.153173              0              0                         5.20668       \n",
      "\u001b[J3           0.191107    0.151845              0              0                         8.0645        \n",
      "\u001b[J4           0.170774    0.149887              0              0                         11.8894       \n",
      "\u001b[J5           0.175894    0.152848              0              0                         15.6054       \n",
      "\u001b[J6           0.170126    0.15                  0              0                         19.359        \n",
      "\u001b[J7           0.164306    0.149018              0              0                         23.0032       \n",
      "\u001b[J8           0.17442     0.146794              0              0                         27.8763       \n",
      "\u001b[J9           0.17443     0.148552              0              0                         31.3516       \n",
      "\u001b[J10          0.176325    0.153476              0              0                         35.1032       \n",
      "\u001b[J11          0.153128    0.145804              0              0                         38.7436       \n",
      "\u001b[J12          0.155025    0.145411              0              0                         43.3364       \n",
      "\u001b[J13          0.174599    0.145287              0              0                         47.6428       \n",
      "\u001b[J14          0.173597    0.146876              0              0                         50.8202       \n",
      "\u001b[J15          0.170255    0.145184              0              0                         53.9009       \n",
      "\u001b[J16          0.16446     0.153856              0              0                         57.6997       \n",
      "\u001b[J17          0.176358    0.153217              0              0                         61.4444       \n",
      "\u001b[J18          0.166351    0.144629              0              0                         65.1778       \n",
      "\u001b[J19          0.170554    0.145447              0              0                         68.8416       \n",
      "\u001b[J20          0.157921    0.145069              0              0                         72.5105       \n",
      "\u001b[J21          0.186384    0.147311              0              0                         79.3426       \n",
      "\u001b[J22          0.177636    0.152036              0              0                         83.1428       \n",
      "\u001b[J23          0.175384    0.147397              0              0                         86.9506       \n",
      "\u001b[J24          0.170673    0.145689              0              0                         91.6848       \n",
      "\u001b[J25          0.174829    0.15305               0              0                         96.259        \n",
      "\u001b[J26          0.178392    0.15119               0              0                         99.7581       \n",
      "\u001b[J27          0.167417    0.144841              0              0                         102.978       \n",
      "\u001b[J28          0.178383    0.145207              0              0                         106.168       \n",
      "\u001b[J29          0.178531    0.149068              0              0                         109.722       \n",
      "\u001b[J30          0.152713    0.153929              0              0                         112.104       \n",
      "\u001b[J31          0.154708    0.14495               0              0                         114.501       \n",
      "\u001b[J32          0.162037    0.154585              0              0                         116.896       \n",
      "\u001b[J33          0.167178    0.148713              0              0                         119.29        \n",
      "\u001b[J34          0.168394    0.153363              0              0                         121.688       \n",
      "\u001b[J35          0.17165     0.145661              0              0                         124.208       \n",
      "\u001b[J36          0.171218    0.146914              0              0                         126.598       \n",
      "\u001b[J37          0.166607    0.153878              0              0                         129.004       \n",
      "\u001b[J38          0.16424     0.150255              0              0                         131.411       \n",
      "\u001b[J39          0.173854    0.152944              0              0                         133.802       \n",
      "\u001b[J40          0.175811    0.145366              0              0                         136.211       \n",
      "\u001b[J41          0.18499     0.157181              0              0                         140.57        \n",
      "\u001b[J42          0.157186    0.149166              0              0                         142.989       \n",
      "\u001b[J43          0.165507    0.145078              0              0                         145.374       \n",
      "\u001b[J44          0.176568    0.145142              0              0                         147.768       \n",
      "\u001b[J45          0.169248    0.144613              0              0                         150.149       \n",
      "\u001b[J46          0.160079    0.145966              0              0                         152.538       \n",
      "\u001b[J47          0.165157    0.144661              0              0                         155.1         \n",
      "\u001b[J48          0.171557    0.151639              0              0                         157.496       \n",
      "\u001b[J49          0.171714    0.144822              0              0                         159.93        \n",
      "\u001b[J50          0.181279    0.145028              0              0                         162.32        \n",
      "\u001b[J51          0.15931     0.144695              0              0                         164.715       \n",
      "\u001b[J52          0.182107    0.145608              0              0                         167.101       \n",
      "\u001b[J53          0.176046    0.152239              0              0                         169.491       \n",
      "\u001b[J54          0.169882    0.148763              0              0                         171.878       \n",
      "\u001b[J55          0.171324    0.153196              0              0                         174.272       \n",
      "\u001b[J56          0.141714    0.144851              0              0                         176.657       \n",
      "\u001b[J57          0.176056    0.144719              0              0                         179.068       \n",
      "\u001b[J58          0.187866    0.144559              0              0                         181.469       \n",
      "\u001b[J59          0.184407    0.149238              0              0                         183.895       \n",
      "\u001b[J60          0.179074    0.150706              0              0                         186.314       \n",
      "\u001b[J61          0.178935    0.149405              0              0                         190.703       \n",
      "\u001b[J62          0.173578    0.14493               0              0                         193.118       \n",
      "\u001b[J63          0.170233    0.152452              0              0                         195.755       \n",
      "\u001b[J64          0.166466    0.154383              0              0                         198.311       \n",
      "\u001b[J65          0.176309    0.154291              0              0                         200.727       \n",
      "\u001b[J66          0.16612     0.144587              0              0                         203.145       \n",
      "\u001b[J67          0.166768    0.144747              0              0                         205.545       \n",
      "\u001b[J68          0.167649    0.151512              0              0                         207.966       \n",
      "\u001b[J69          0.172258    0.144611              0              0                         210.366       \n",
      "\u001b[J70          0.163297    0.144633              0              0                         212.778       \n",
      "\u001b[J71          0.181018    0.153301              0              0                         215.195       \n",
      "\u001b[J72          0.172547    0.153099              0              0                         217.635       \n",
      "\u001b[J73          0.181522    0.146915              0              0                         220.048       \n",
      "\u001b[J74          0.181935    0.151698              0              0                         222.467       \n",
      "\u001b[J75          0.168031    0.145361              0              0                         224.879       \n",
      "\u001b[J76          0.181993    0.144711              0              0                         227.305       \n",
      "\u001b[J77          0.174208    0.144537              0              0                         229.712       \n",
      "\u001b[J78          0.168419    0.151276              0              0                         232.137       \n"
     ]
    },
    {
     "name": "stdout",
     "output_type": "stream",
     "text": [
      "\u001b[J79          0.17723     0.147894              0              0                         234.554       \n",
      "\u001b[J80          0.17648     0.151178              0              0                         237.025       \n",
      "\u001b[J81          0.16738     0.144598              0              0                         241.658       \n",
      "\u001b[J82          0.164639    0.14467               0              0                         244.081       \n",
      "\u001b[J83          0.16871     0.144632              0              0                         246.496       \n",
      "\u001b[J84          0.168132    0.145999              0              0                         248.89        \n",
      "\u001b[J85          0.168444    0.15051               0              0                         251.282       \n",
      "\u001b[J86          0.160315    0.146927              0              0                         253.686       \n",
      "\u001b[J87          0.179621    0.148041              0              0                         256.066       \n",
      "\u001b[J88          0.165495    0.14711               0              0                         258.44        \n",
      "\u001b[J89          0.178515    0.15328               0              0                         260.822       \n",
      "\u001b[J90          0.170524    0.146747              0              0                         263.203       \n",
      "\u001b[J91          0.171826    0.145055              0              0                         265.589       \n",
      "\u001b[J92          0.169847    0.148275              0              0                         267.979       \n",
      "\u001b[J93          0.178264    0.155834              0              0                         270.376       \n",
      "\u001b[J94          0.19328     0.153911              0              0                         272.779       \n",
      "\u001b[J95          0.186251    0.150443              0              0                         275.169       \n",
      "\u001b[J96          0.17294     0.150728              0              0                         277.549       \n",
      "\u001b[J97          0.173946    0.152676              0              0                         279.956       \n",
      "\u001b[J98          0.159309    0.153294              0              0                         282.346       \n",
      "\u001b[J99          0.172961    0.160257              0              0                         284.744       \n",
      "\u001b[J100         0.187594    0.151206              0              0                         287.139       \n"
     ]
    }
   ],
   "source": [
    "trainer.run()"
   ]
  },
  {
   "cell_type": "code",
   "execution_count": null,
   "metadata": {},
   "outputs": [
    {
     "data": {
      "image/png": "[encoded data removed]",
      "text/plain": [
       "<IPython.core.display.Image object>"
      ]
     },
     "execution_count": null,
     "metadata": {},
     "output_type": "execute_result"
    }
   ],
   "source": [
    "\n",
    "Image(filename='result/loss.png') "
   ]
  },
  {
   "cell_type": "markdown",
   "metadata": {},
   "source": [
    "# Inference"
   ]
  },
  {
   "cell_type": "code",
   "execution_count": null,
   "metadata": {},
   "outputs": [],
   "source": [
    "x = rng[:,None].astype(np.float32)"
   ]
  },
  {
   "cell_type": "code",
   "execution_count": null,
   "metadata": {},
   "outputs": [],
   "source": [
    "predict = model.predictor(cuda.to_gpu(x,device=0)).array"
   ]
  },
  {
   "cell_type": "code",
   "execution_count": null,
   "metadata": {},
   "outputs": [],
   "source": [
    "estimated = cuda.to_cpu(F.sigmoid(predict).array)"
   ]
  },
  {
   "cell_type": "code",
   "execution_count": null,
   "metadata": {},
   "outputs": [
    {
     "data": {
      "text/plain": [
       "<matplotlib.legend.Legend at 0x7f30f4892f50>"
      ]
     },
     "execution_count": null,
     "metadata": {},
     "output_type": "execute_result"
    },
    {
     "data": {
      "image/png": "[encoded data removed]",
      "text/plain": [
       "<Figure size 432x288 with 1 Axes>"
      ]
     },
     "metadata": {
      "needs_background": "light"
     },
     "output_type": "display_data"
    }
   ],
   "source": [
    "plt.plot(rng,estimated,label=r\"$\\hat{p}(y|x)$\")\n",
    "plt.plot(rng, posterior(rng),label=r\"$p(y|x)$\")\n",
    "plt.plot(rng, f1.pdf(rng),label=r\"$f_1(x)$\")\n",
    "plt.plot(rng, f0.pdf(rng),label=r\"$f_0(x)$\")\n",
    "plt.plot(rng, alpha * f1.pdf(rng) + (1 - alpha) *f0.pdf(rng),label=r\"$f(x)$\")\n",
    "plt.legend()"
   ]
  },
  {
   "cell_type": "code",
   "execution_count": null,
   "metadata": {},
   "outputs": [],
   "source": [
    "ss.entropy(posterior(rng).flatten(), estimated.flatten())"
   ]
  },
  {
   "cell_type": "code",
   "execution_count": null,
   "metadata": {},
   "outputs": [],
   "source": [
    "# export\n",
    "def getPosterior(x,y,alpha,args=EasyDict({\"batchsize\":128,\n",
    "                                    \"hdim\":300,\n",
    "                                    \"epochs\":250,\n",
    "                                    \"lr\":1e-5,\n",
    "                                    \"weightDecayRate\":0.005,\n",
    "                                    })):\n",
    "    # Data\n",
    "    train = datasets.TupleDataset(x,y)\n",
    "    # Iterator\n",
    "    train_iter = ch.iterators.SerialIterator(train, args.batchsize)\n",
    "    # model\n",
    "    model = L.Classifier(MLP(args.hdim, 1,x.shape[1]),\n",
    "                         lossfun=PULoss(alpha, nnpu=False),\n",
    "                         accfun=F.accuracy)\n",
    "    # optimizer\n",
    "    optimizer = ch.optimizers.Adam(alpha=args.lr).setup(model)\n",
    "    optimizer.add_hook(ch.optimizer.WeightDecay(args.weightDecayRate))\n",
    "    updater = training.StandardUpdater(train_iter, optimizer,device=-1)\n",
    "    trainer = training.Trainer(updater, (args.epochs, 'epoch'), out='result')\n",
    "    trainer.run()\n",
    "    return F.sigmoid(model.predictor(x)).array"
   ]
  },
  {
   "cell_type": "code",
   "execution_count": null,
   "metadata": {},
   "outputs": [],
   "source": [
    "getPosterior(bag.x, bag.y,bag.alpha)"
   ]
  },
  {
   "cell_type": "code",
   "execution_count": null,
   "metadata": {},
   "outputs": [],
   "source": []
  }
 ],
 "metadata": {
  "kernelspec": {
   "display_name": "tf",
   "language": "python",
   "name": "tf"
  }
 },
 "nbformat": 4,
 "nbformat_minor": 4
}
