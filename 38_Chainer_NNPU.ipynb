{
 "cells": [
  {
   "cell_type": "code",
   "execution_count": null,
   "metadata": {},
   "outputs": [],
   "source": [
    "# default_exp nnpu_original"
   ]
  },
  {
   "cell_type": "code",
   "execution_count": null,
   "metadata": {},
   "outputs": [],
   "source": [
    "# export\n",
    "import chainer as ch\n",
    "from chainer import datasets\n",
    "import chainer.functions as F\n",
    "import chainer.links as L\n",
    "from chainer import training, function, Variable\n",
    "from chainer.training import extensions\n",
    "from chainer.backend import cuda\n",
    "from chainer.utils import type_check\n",
    "\n",
    "import numpy as np\n",
    "import matplotlib\n",
    "import scipy.stats as ss\n",
    "import matplotlib.pyplot as plt\n",
    "from IPython.display import Image\n",
    "from easydict import EasyDict\n",
    "from copy import deepcopy\n",
    "\n",
    "# from nnPU_demo.model import ThreeLayerPerceptron"
   ]
  },
  {
   "cell_type": "markdown",
   "metadata": {},
   "source": [
    "# Define positive and negative distributions"
   ]
  },
  {
   "cell_type": "code",
   "execution_count": null,
   "metadata": {},
   "outputs": [],
   "source": [
    "f1 = ss.norm(loc=0,scale=1)\n",
    "f0 = ss.norm(loc=-2,scale=1)\n",
    "alpha = .5\n",
    "\n",
    "posterior = lambda x: alpha * f1.pdf(x) / (alpha * f1.pdf(x) + (1 - alpha) * f0.pdf(x))"
   ]
  },
  {
   "cell_type": "code",
   "execution_count": null,
   "metadata": {},
   "outputs": [
    {
     "data": {
      "image/png": "[encoded data removed]",
      "text/plain": [
       "<Figure size 432x288 with 1 Axes>"
      ]
     },
     "metadata": {
      "needs_background": "light"
     },
     "output_type": "display_data"
    }
   ],
   "source": [
    "rng = np.arange(-5,5,.01)\n",
    "plt.plot(rng,f1.pdf(rng),label=r\"$f_1(x)$\")\n",
    "plt.plot(rng,f0.pdf(rng),label=r\"$f_0(x)$\")\n",
    "plt.plot(rng,posterior(rng),label=r\"p(y|x)\")\n",
    "plt.plot(rng, alpha * f1.pdf(rng) + (1 - alpha) *f0.pdf(rng),label=r\"$f(x)$\")\n",
    "plt.legend()\n",
    "plt.show()"
   ]
  },
  {
   "cell_type": "markdown",
   "metadata": {},
   "source": [
    "# Create Dataset"
   ]
  },
  {
   "cell_type": "code",
   "execution_count": null,
   "metadata": {},
   "outputs": [],
   "source": [
    "def getData(NPos=1000,NUnlabeled=30000, mixup=False):\n",
    "#     alpha = np.random.beta(2,2)\n",
    "    bag = EasyDict()\n",
    "    bag.alpha = alpha\n",
    "    positive = f1.rvs(NPos)\n",
    "    n1U = int(NUnlabeled * alpha)\n",
    "    n0U = int(NUnlabeled *(1-alpha))\n",
    "    unlabeled = np.concatenate((f1.rvs(n1U),\n",
    "                                f0.rvs(n0U)))\n",
    "    bag.x = np.concatenate((positive, unlabeled))[:,None].astype(np.float32)\n",
    "    bag.N = bag.x.shape[0]\n",
    "    bag.y = np.concatenate((np.ones(NPos), np.ones(n1U+n0U)*-1)).astype(np.int32)\n",
    "    #Add mixup points\n",
    "    if mixup:\n",
    "        NMixup = 20000\n",
    "        betas = np.random.beta(2,2,size=NMixup)[:,None]\n",
    "        idx1 = np.random.randint(0,bag.x.shape[0],size=NMixup)\n",
    "        idx2 = np.random.randint(0,bag.x.shape[0],size=NMixup)\n",
    "        xPrime = np.multiply(bag.x[idx1],betas) + np.multiply((1 - betas),bag.x[idx2])\n",
    "        yPrime = np.multiply(bag.y[idx1],betas[:,0]) + np.multiply((1 - betas)[:,0],bag.y[idx2])\n",
    "        bag.x = np.concatenate((bag.x, xPrime)).astype(np.float32)\n",
    "        bag.y = np.concatenate((bag.y, yPrime)).astype(np.int32)\n",
    "    return bag"
   ]
  },
  {
   "cell_type": "code",
   "execution_count": null,
   "metadata": {},
   "outputs": [],
   "source": [
    "bag = getData(mixup=False)"
   ]
  },
  {
   "cell_type": "code",
   "execution_count": null,
   "metadata": {},
   "outputs": [],
   "source": [
    "train,test = datasets.split_dataset_random(\n",
    "    datasets.TupleDataset(bag.x, bag.y), int(bag.N * 0.7))"
   ]
  },
  {
   "cell_type": "markdown",
   "metadata": {},
   "source": [
    "# Setup Iterator"
   ]
  },
  {
   "cell_type": "code",
   "execution_count": null,
   "metadata": {},
   "outputs": [],
   "source": [
    "args = EasyDict()\n",
    "args.batchsize=128\n",
    "args.hdim = 1000"
   ]
  },
  {
   "cell_type": "code",
   "execution_count": null,
   "metadata": {},
   "outputs": [],
   "source": [
    "train_iter = ch.iterators.SerialIterator(train, args.batchsize)\n",
    "test_iter = ch.iterators.SerialIterator(\n",
    "    test, args.batchsize, repeat=False, shuffle=False)"
   ]
  },
  {
   "cell_type": "markdown",
   "metadata": {},
   "source": [
    "# NNPU Loss"
   ]
  },
  {
   "cell_type": "code",
   "execution_count": null,
   "metadata": {},
   "outputs": [],
   "source": [
    "# export\n",
    "class PULoss(function.Function):\n",
    "    \"\"\"wrapper of loss function for PU learning\"\"\"\n",
    "\n",
    "    def __init__(self, prior, loss=(lambda x: F.sigmoid(-x)), gamma=1, beta=0, nnpu=False):\n",
    "        if not 0 < prior < 1:\n",
    "            raise NotImplementedError(\"The class prior should be in (0, 1)\")\n",
    "        self.prior = prior\n",
    "        self.gamma = gamma\n",
    "        self.beta = beta\n",
    "        self.loss_func = loss\n",
    "        self.nnpu = nnpu\n",
    "        self.x_in = None\n",
    "        self.x_out = None\n",
    "        self.loss = None\n",
    "        self.positive = 1\n",
    "        self.unlabeled = -1\n",
    "\n",
    "    def check_type_forward(self, in_types):\n",
    "        type_check.expect(in_types.size() == 2)\n",
    "\n",
    "        x_type, t_type = in_types\n",
    "        type_check.expect(\n",
    "            x_type.dtype == np.float32,\n",
    "            t_type.dtype == np.int32,\n",
    "            t_type.ndim == 1,\n",
    "            x_type.shape[0] == t_type.shape[0],\n",
    "        )\n",
    "\n",
    "    def forward(self, inputs):\n",
    "        xp = cuda.get_array_module(*inputs)\n",
    "        x, t = inputs\n",
    "        t = t[:, None]\n",
    "        positive, unlabeled = t == self.positive, t == self.unlabeled\n",
    "        n_positive, n_unlabeled = max([1., xp.sum(positive)]), max([1., xp.sum(unlabeled)])\n",
    "        self.x_in = Variable(x)\n",
    "        y_positive = self.loss_func(self.x_in)\n",
    "        y_unlabeled = self.loss_func(-self.x_in)\n",
    "        positive_risk = F.sum(self.prior * positive / n_positive * y_positive)\n",
    "#         negative_risk = F.sum((unlabeled / n_unlabeled - self.prior * positive / n_positive) * y_unlabeled)\n",
    "        negative_risk = F.absolute(F.sum((unlabeled / n_unlabeled - self.prior * positive / n_positive) * y_unlabeled))\n",
    "        objective = positive_risk + negative_risk\n",
    "        if self.nnpu:\n",
    "            if negative_risk.data < -self.beta:\n",
    "                objective = positive_risk - self.beta\n",
    "                self.x_out = -self.gamma * negative_risk\n",
    "            else:\n",
    "                self.x_out = objective\n",
    "        else:\n",
    "            self.x_out = objective\n",
    "        self.loss = xp.array(objective.data, dtype=self.x_out.data.dtype)\n",
    "        return self.loss,\n",
    "\n",
    "    def backward(self, inputs, gy):\n",
    "        self.x_out.backward()\n",
    "        gx = gy[0].reshape(gy[0].shape + (1,) * (self.x_in.data.ndim - 1)) * self.x_in.grad\n",
    "        return gx, None\n",
    "\n",
    "\n",
    "def pu_loss(x, t, prior, loss=(lambda x: F.sigmoid(-x)), nnpu=True):\n",
    "    \"\"\"wrapper of loss function for non-negative/unbiased PU learning\n",
    "\n",
    "        .. math::\n",
    "            \\\\begin{array}{lc}\n",
    "            L_[\\\\pi E_1[l(f(x))]+\\\\max(E_X[l(-f(x))]-\\\\pi E_1[l(-f(x))], \\\\beta) & {\\\\rm if nnPU learning}\\\\\\\\\n",
    "            L_[\\\\pi E_1[l(f(x))]+E_X[l(-f(x))]-\\\\pi E_1[l(-f(x))] & {\\\\rm otherwise}\n",
    "            \\\\end{array}\n",
    "\n",
    "    Args:\n",
    "        x (~chainer.Variable): Input variable.\n",
    "            The shape of ``x`` should be (:math:`N`, 1).\n",
    "        t (~chainer.Variable): Target variable for regression.\n",
    "            The shape of ``t`` should be (:math:`N`, ).\n",
    "        prior (float): Constant variable for class prior.\n",
    "        loss (~chainer.function): loss function.\n",
    "            The loss function should be non-increasing.\n",
    "        nnpu (bool): Whether use non-negative PU learning or unbiased PU learning.\n",
    "            In default setting, non-negative PU learning will be used.\n",
    "\n",
    "    Returns:\n",
    "        ~chainer.Variable: A variable object holding a scalar array of the\n",
    "            PU loss.\n",
    "\n",
    "    See:\n",
    "        Ryuichi Kiryo, Gang Niu, Marthinus Christoffel du Plessis, and Masashi Sugiyama.\n",
    "        \"Positive-Unlabeled Learning with Non-Negative Risk Estimator.\"\n",
    "        Advances in neural information processing systems. 2017.\n",
    "        du Plessis, Marthinus Christoffel, Gang Niu, and Masashi Sugiyama.\n",
    "        \"Convex formulation for learning from positive and unlabeled data.\"\n",
    "        Proceedings of The 32nd International Conference on Machine Learning. 2015.\n",
    "    \"\"\"\n",
    "    return PULoss(prior=prior, loss=loss, nnpu=nnpu)(x, t)"
   ]
  },
  {
   "cell_type": "markdown",
   "metadata": {},
   "source": [
    "# Model"
   ]
  },
  {
   "cell_type": "code",
   "execution_count": null,
   "metadata": {},
   "outputs": [],
   "source": [
    "# export\n",
    "def MLP(n_units, n_out):\n",
    "    layer = ch.Sequential(L.Linear(n_units), F.relu)\n",
    "    model = layer.repeat(4)\n",
    "    model.append(L.Linear(n_out))\n",
    "\n",
    "    return model"
   ]
  },
  {
   "cell_type": "code",
   "execution_count": null,
   "metadata": {},
   "outputs": [],
   "source": [
    "model = L.Classifier(\n",
    "    MLP(args.hdim, 1), lossfun=PULoss(bag.alpha, nnpu=False), accfun=F.accuracy)"
   ]
  },
  {
   "cell_type": "markdown",
   "metadata": {},
   "source": [
    "# Optimizer"
   ]
  },
  {
   "cell_type": "code",
   "execution_count": null,
   "metadata": {},
   "outputs": [],
   "source": [
    "optimizer = ch.optimizers.Adam(alpha=1e-3).setup(model)\n",
    "optimizer.add_hook(ch.optimizer.WeightDecay(0.005))"
   ]
  },
  {
   "cell_type": "markdown",
   "metadata": {},
   "source": [
    "# Updater"
   ]
  },
  {
   "cell_type": "code",
   "execution_count": null,
   "metadata": {},
   "outputs": [],
   "source": [
    "updater = training.StandardUpdater(train_iter, optimizer,device=0)"
   ]
  },
  {
   "cell_type": "markdown",
   "metadata": {},
   "source": [
    "# Trainer"
   ]
  },
  {
   "cell_type": "code",
   "execution_count": null,
   "metadata": {},
   "outputs": [],
   "source": [
    "trainer = training.Trainer(updater, (100, 'epoch'), out='result')"
   ]
  },
  {
   "cell_type": "markdown",
   "metadata": {},
   "source": [
    "# Extensions"
   ]
  },
  {
   "cell_type": "code",
   "execution_count": null,
   "metadata": {},
   "outputs": [],
   "source": [
    "trainer.extend(extensions.Evaluator(test_iter, model, device=0))"
   ]
  },
  {
   "cell_type": "code",
   "execution_count": null,
   "metadata": {},
   "outputs": [],
   "source": [
    "trainer.extend(extensions.DumpGraph('main/loss'))"
   ]
  },
  {
   "cell_type": "code",
   "execution_count": null,
   "metadata": {},
   "outputs": [],
   "source": [
    "trainer.extend(extensions.snapshot(), trigger=(20, 'epoch'))"
   ]
  },
  {
   "cell_type": "code",
   "execution_count": null,
   "metadata": {},
   "outputs": [],
   "source": [
    "trainer.extend(extensions.LogReport())"
   ]
  },
  {
   "cell_type": "code",
   "execution_count": null,
   "metadata": {},
   "outputs": [],
   "source": [
    "# Save two plot images to the result dir\n",
    "trainer.extend(\n",
    "    extensions.PlotReport(['main/loss', 'validation/main/loss'],\n",
    "                          'epoch', file_name='loss.png'))\n",
    "trainer.extend(\n",
    "    extensions.PlotReport(\n",
    "        ['main/accuracy', 'validation/main/accuracy'],\n",
    "        'epoch', file_name='accuracy.png'))"
   ]
  },
  {
   "cell_type": "code",
   "execution_count": null,
   "metadata": {},
   "outputs": [],
   "source": [
    "trainer.extend(extensions.PrintReport(\n",
    "    ['epoch', 'main/loss', 'validation/main/loss',\n",
    "     'main/accuracy', 'validation/main/accuracy', 'elapsed_time']))"
   ]
  },
  {
   "cell_type": "markdown",
   "metadata": {},
   "source": [
    "# Main Loop"
   ]
  },
  {
   "cell_type": "code",
   "execution_count": null,
   "metadata": {},
   "outputs": [
    {
     "name": "stdout",
     "output_type": "stream",
     "text": [
      "epoch       main/loss   validation/main/loss  main/accuracy  validation/main/accuracy  elapsed_time\n",
      "\u001b[J1           0.471109    0.502102              0              0                         1.38282       \n",
      "\u001b[J2           0.51381     0.502266              0              0                         3.48865       \n",
      "\u001b[J3           0.49393     0.255555              0              0                         4.95743       \n",
      "\u001b[J4           0.50409     0.50254               0              0                         6.5556        \n",
      "\u001b[J5           0.509808    0.502214              0              0                         8.3318        \n",
      "\u001b[J6           0.51241     0.504986              0              0                         9.90448       \n",
      "\u001b[J7           0.519604    0.501889              0              0                         11.4144       \n",
      "\u001b[J8           0.508917    0.503238              0              0                         13.0292       \n",
      "\u001b[J9           0.516267    0.502178              0              0                         14.5558       \n",
      "\u001b[J10          0.515413    0.503256              0              0                         16.0787       \n",
      "\u001b[J11          0.515659    0.502934              0              0                         17.6926       \n",
      "\u001b[J12          0.509716    0.502614              0              0                         19.1618       \n",
      "\u001b[J13          0.512869    0.501554              0              0                         20.6977       \n",
      "\u001b[J14          0.511944    0.496901              0              0                         22.2548       \n",
      "\u001b[J15          0.244746    0.264204              0              0                         23.8364       \n",
      "\u001b[J16          0.219051    0.174278              0              0                         25.408        \n",
      "\u001b[J17          0.205458    0.164743              0              0                         26.9315       \n",
      "\u001b[J18          0.214589    0.180828              0              0                         28.4946       \n",
      "\u001b[J19          0.216366    0.17179               0              0                         30.1343       \n",
      "\u001b[J20          0.211934    0.172318              0              0                         31.7224       \n",
      "\u001b[J21          0.206191    0.163455              0              0                         33.855        \n",
      "\u001b[J22          0.207041    0.181517              0              0                         35.4778       \n",
      "\u001b[J23          0.200684    0.160915              0              0                         36.9956       \n",
      "\u001b[J24          0.20067     0.173105              0              0                         38.4994       \n",
      "\u001b[J25          0.198094    0.160765              0              0                         40.0298       \n",
      "\u001b[J26          0.19488     0.164078              0              0                         41.5593       \n",
      "\u001b[J27          0.194342    0.164463              0              0                         43.0625       \n",
      "\u001b[J28          0.201575    0.174072              0              0                         44.6028       \n",
      "\u001b[J29          0.213784    0.175321              0              0                         46.1214       \n",
      "\u001b[J30          0.200032    0.163948              0              0                         47.5992       \n",
      "\u001b[J31          0.197737    0.185391              0              0                         49.1024       \n",
      "\u001b[J32          0.202831    0.184822              0              0                         50.6023       \n",
      "\u001b[J33          0.212303    0.167433              0              0                         52.0927       \n",
      "\u001b[J34          0.211726    0.191775              0              0                         53.6299       \n",
      "\u001b[J35          0.193476    0.174153              0              0                         55.3522       \n",
      "\u001b[J36          0.213993    0.179493              0              0                         56.9118       \n",
      "\u001b[J37          0.215036    0.176064              0              0                         58.4415       \n",
      "\u001b[J38          0.217607    0.165304              0              0                         59.9629       \n",
      "\u001b[J39          0.217827    0.171827              0              0                         61.4693       \n",
      "\u001b[J40          0.197712    0.169493              0              0                         62.9916       \n",
      "\u001b[J41          0.204805    0.170063              0              0                         65.046        \n",
      "\u001b[J42          0.205643    0.181372              0              0                         66.625        \n",
      "\u001b[J43          0.205742    0.159964              0              0                         68.1317       \n",
      "\u001b[J44          0.202743    0.164193              0              0                         69.6111       \n",
      "\u001b[J45          0.20263     0.162165              0              0                         71.0817       \n",
      "\u001b[J46          0.198734    0.16454               0              0                         72.5617       \n",
      "\u001b[J47          0.222014    0.177293              0              0                         74.0232       \n",
      "\u001b[J48          0.208328    0.179119              0              0                         75.5014       \n",
      "\u001b[J49          0.215733    0.179262              0              0                         76.9839       \n",
      "\u001b[J50          0.197049    0.159279              0              0                         78.4543       \n",
      "\u001b[J51          0.223654    0.163073              0              0                         79.9473       \n",
      "\u001b[J52          0.219046    0.162095              0              0                         81.6299       \n",
      "\u001b[J53          0.201012    0.169708              0              0                         83.1086       \n",
      "\u001b[J54          0.209861    0.166003              0              0                         84.5788       \n",
      "\u001b[J55          0.200402    0.163623              0              0                         86.0573       \n",
      "\u001b[J56          0.198803    0.177221              0              0                         87.5456       \n",
      "\u001b[J57          0.200217    0.184613              0              0                         89.0227       \n",
      "\u001b[J58          0.200416    0.179343              0              0                         90.4961       \n",
      "\u001b[J59          0.203606    0.179957              0              0                         91.9799       \n",
      "\u001b[J60          0.186269    0.162318              0              0                         93.4769       \n",
      "\u001b[J61          0.192692    0.176247              0              0                         95.4901       \n",
      "\u001b[J62          0.217888    0.178726              0              0                         96.9628       \n",
      "\u001b[J63          0.21779     0.17736               0              0                         98.443        \n",
      "\u001b[J64          0.214434    0.177493              0              0                         99.931        \n",
      "\u001b[J65          0.217082    0.178404              0              0                         101.472       \n",
      "\u001b[J66          0.200744    0.169571              0              0                         102.996       \n",
      "\u001b[J67          0.211559    0.180658              0              0                         104.509       \n",
      "\u001b[J68          0.193632    0.168027              0              0                         106.051       \n",
      "\u001b[J69          0.204736    0.164387              0              0                         107.6         \n",
      "\u001b[J70          0.194737    0.183449              0              0                         109.094       \n",
      "\u001b[J71          0.212743    0.177231              0              0                         110.596       \n",
      "\u001b[J72          0.200438    0.172227              0              0                         112.373       \n",
      "\u001b[J73          0.205682    0.172521              0              0                         113.861       \n",
      "\u001b[J74          0.20901     0.170613              0              0                         115.351       \n",
      "\u001b[J75          0.202084    0.168236              0              0                         116.844       \n",
      "\u001b[J76          0.208388    0.164932              0              0                         118.338       \n",
      "\u001b[J77          0.199436    0.169913              0              0                         119.847       \n",
      "\u001b[J78          0.211365    0.169436              0              0                         121.354       \n"
     ]
    },
    {
     "name": "stdout",
     "output_type": "stream",
     "text": [
      "\u001b[J79          0.21162     0.162374              0              0                         122.853       \n",
      "\u001b[J80          0.202738    0.185413              0              0                         124.511       \n",
      "\u001b[J81          0.211463    0.169533              0              0                         126.682       \n",
      "\u001b[J82          0.201377    0.176346              0              0                         128.185       \n",
      "\u001b[J83          0.202245    0.163231              0              0                         129.804       \n",
      "\u001b[J84          0.195842    0.178048              0              0                         131.341       \n",
      "\u001b[J85          0.201214    0.190765              0              0                         132.816       \n",
      "\u001b[J86          0.206708    0.180692              0              0                         134.299       \n",
      "\u001b[J87          0.206008    0.164416              0              0                         135.789       \n",
      "\u001b[J88          0.200108    0.170457              0              0                         137.293       \n",
      "\u001b[J89          0.205545    0.171455              0              0                         138.822       \n",
      "\u001b[J90          0.202897    0.16364               0              0                         140.404       \n",
      "\u001b[J91          0.2153      0.183772              0              0                         141.88        \n",
      "\u001b[J92          0.217477    0.165641              0              0                         143.353       \n",
      "\u001b[J93          0.21597     0.19744               0              0                         144.833       \n",
      "\u001b[J94          0.206033    0.170459              0              0                         146.302       \n",
      "\u001b[J95          0.210573    0.170847              0              0                         147.782       \n",
      "\u001b[J96          0.204071    0.174963              0              0                         149.601       \n",
      "\u001b[J97          0.198469    0.174164              0              0                         151.115       \n",
      "\u001b[J98          0.20768     0.1689                0              0                         152.651       \n",
      "\u001b[J99          0.195704    0.171894              0              0                         154.17        \n",
      "\u001b[J100         0.196557    0.187295              0              0                         155.749       \n"
     ]
    }
   ],
   "source": [
    "trainer.run()"
   ]
  },
  {
   "cell_type": "code",
   "execution_count": null,
   "metadata": {},
   "outputs": [
    {
     "data": {
      "image/png": "[encoded data removed]",
      "text/plain": [
       "<IPython.core.display.Image object>"
      ]
     },
     "execution_count": null,
     "metadata": {},
     "output_type": "execute_result"
    }
   ],
   "source": [
    "\n",
    "Image(filename='result/loss.png') "
   ]
  },
  {
   "cell_type": "markdown",
   "metadata": {},
   "source": [
    "# Inference"
   ]
  },
  {
   "cell_type": "code",
   "execution_count": null,
   "metadata": {},
   "outputs": [],
   "source": [
    "x = rng[:,None].astype(np.float32)"
   ]
  },
  {
   "cell_type": "code",
   "execution_count": null,
   "metadata": {},
   "outputs": [],
   "source": [
    "predict = model.predictor(cuda.to_gpu(x,device=0)).array"
   ]
  },
  {
   "cell_type": "code",
   "execution_count": null,
   "metadata": {},
   "outputs": [],
   "source": [
    "estimated = cuda.to_cpu(F.sigmoid(predict).array)"
   ]
  },
  {
   "cell_type": "code",
   "execution_count": null,
   "metadata": {},
   "outputs": [
    {
     "data": {
      "text/plain": [
       "<matplotlib.legend.Legend at 0x7f36b2bb0f90>"
      ]
     },
     "execution_count": null,
     "metadata": {},
     "output_type": "execute_result"
    },
    {
     "data": {
      "image/png": "[encoded data removed]",
      "text/plain": [
       "<Figure size 432x288 with 1 Axes>"
      ]
     },
     "metadata": {
      "needs_background": "light"
     },
     "output_type": "display_data"
    }
   ],
   "source": [
    "plt.plot(rng,estimated,label=r\"$\\hat{p}(y|x)$\")\n",
    "plt.plot(rng, posterior(rng),label=r\"$p(y|x)$\")\n",
    "plt.plot(rng, f1.pdf(rng),label=r\"$f_1(x)$\")\n",
    "plt.plot(rng, f0.pdf(rng),label=r\"$f_0(x)$\")\n",
    "plt.plot(rng, alpha * f1.pdf(rng) + (1 - alpha) *f0.pdf(rng),label=r\"$f(x)$\")\n",
    "plt.legend()"
   ]
  },
  {
   "cell_type": "code",
   "execution_count": null,
   "metadata": {},
   "outputs": [
    {
     "data": {
      "text/plain": [
       "0.05079583577706942"
      ]
     },
     "execution_count": null,
     "metadata": {},
     "output_type": "execute_result"
    }
   ],
   "source": [
    "ss.entropy(posterior(rng).flatten(), estimated.flatten())"
   ]
  },
  {
   "cell_type": "code",
   "execution_count": null,
   "metadata": {},
   "outputs": [],
   "source": [
    "# export\n",
    "def getPosterior(x,y,alpha,args=EasyDict({\"batchsize\":128,\n",
    "                                    \"hdim\":300,\n",
    "                                    \"epochs\":250,\n",
    "                                    \"lr\":1e-5,\n",
    "                                    \"weightDecayRate\":0.005,\n",
    "                                    })):\n",
    "    # Data\n",
    "    train = datasets.TupleDataset(x,y)\n",
    "    # Iterator\n",
    "    train_iter = ch.iterators.SerialIterator(train, args.batchsize)\n",
    "    # model\n",
    "    model = L.Classifier(MLP(args.hdim, 1),\n",
    "                         lossfun=PULoss(alpha, nnpu=False),\n",
    "                         accfun=F.accuracy)\n",
    "    # optimizer\n",
    "    optimizer = ch.optimizers.Adam(alpha=args.lr).setup(model)\n",
    "    optimizer.add_hook(ch.optimizer.WeightDecay(args.weightDecayRate))\n",
    "    updater = training.StandardUpdater(train_iter, optimizer,device=-1)\n",
    "    trainer = training.Trainer(updater, (args.epochs, 'epoch'), out='result')\n",
    "    trainer.run()\n",
    "    return F.sigmoid(model.predictor(x)).array"
   ]
  },
  {
   "cell_type": "code",
   "execution_count": null,
   "metadata": {},
   "outputs": [
    {
     "data": {
      "text/plain": [
       "array([[0.36114752],\n",
       "       [0.17936492],\n",
       "       [0.3611475 ],\n",
       "       ...,\n",
       "       [0.01283932],\n",
       "       [0.2831468 ],\n",
       "       [0.13350049]], dtype=float32)"
      ]
     },
     "execution_count": null,
     "metadata": {},
     "output_type": "execute_result"
    }
   ],
   "source": [
    "getPosterior(bag.x, bag.y,bag.alpha)"
   ]
  },
  {
   "cell_type": "code",
   "execution_count": null,
   "metadata": {},
   "outputs": [],
   "source": []
  }
 ],
 "metadata": {
  "kernelspec": {
   "display_name": "tf",
   "language": "python",
   "name": "tf"
  }
 },
 "nbformat": 4,
 "nbformat_minor": 4
}
