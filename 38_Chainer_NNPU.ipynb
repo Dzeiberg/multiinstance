{
 "cells": [
  {
   "cell_type": "code",
   "execution_count": null,
   "metadata": {},
   "outputs": [],
   "source": [
    "# default_exp nnpu"
   ]
  },
  {
   "cell_type": "code",
   "execution_count": 1,
   "metadata": {
    "ExecuteTime": {
     "end_time": "2021-04-16T16:55:51.235516Z",
     "start_time": "2021-04-16T16:55:50.206388Z"
    }
   },
   "outputs": [],
   "source": [
    "# export\n",
    "import chainer as ch\n",
    "from chainer import datasets\n",
    "import chainer.functions as F\n",
    "import chainer.links as L\n",
    "from chainer import training, function, Variable\n",
    "from chainer.training import extensions\n",
    "from chainer.backend import cuda\n",
    "from chainer.utils import type_check\n",
    "\n",
    "import numpy as np\n",
    "import matplotlib\n",
    "import scipy.stats as ss\n",
    "import matplotlib.pyplot as plt\n",
    "from IPython.display import Image\n",
    "from easydict import EasyDict\n",
    "from copy import deepcopy\n",
    "\n",
    "# from nnPU_demo.model import ThreeLayerPerceptron"
   ]
  },
  {
   "cell_type": "markdown",
   "metadata": {},
   "source": [
    "# Define positive and negative distributions"
   ]
  },
  {
   "cell_type": "code",
   "execution_count": 2,
   "metadata": {
    "ExecuteTime": {
     "end_time": "2021-04-16T16:55:51.242169Z",
     "start_time": "2021-04-16T16:55:51.237205Z"
    }
   },
   "outputs": [],
   "source": [
    "f1 = ss.norm(loc=0,scale=1)\n",
    "f0 = ss.norm(loc=-2,scale=1)\n",
    "alpha = .5\n",
    "\n",
    "posterior = lambda x: alpha * f1.pdf(x) / (alpha * f1.pdf(x) + (1 - alpha) * f0.pdf(x))"
   ]
  },
  {
   "cell_type": "code",
   "execution_count": 3,
   "metadata": {
    "ExecuteTime": {
     "end_time": "2021-04-16T16:55:51.563658Z",
     "start_time": "2021-04-16T16:55:51.243727Z"
    }
   },
   "outputs": [
    {
     "data": {
      "image/png": "[encoded data removed]",
      "text/plain": [
       "<Figure size 432x288 with 1 Axes>"
      ]
     },
     "metadata": {
      "needs_background": "light"
     },
     "output_type": "display_data"
    }
   ],
   "source": [
    "rng = np.arange(-5,5,.01)\n",
    "plt.plot(rng,f1.pdf(rng),label=r\"$f_1(x)$\")\n",
    "plt.plot(rng,f0.pdf(rng),label=r\"$f_0(x)$\")\n",
    "plt.plot(rng,posterior(rng),label=r\"p(y|x)\")\n",
    "plt.plot(rng, alpha * f1.pdf(rng) + (1 - alpha) *f0.pdf(rng),label=r\"$f(x)$\")\n",
    "plt.legend()\n",
    "plt.show()"
   ]
  },
  {
   "cell_type": "markdown",
   "metadata": {},
   "source": [
    "# Create Dataset"
   ]
  },
  {
   "cell_type": "code",
   "execution_count": 4,
   "metadata": {
    "ExecuteTime": {
     "end_time": "2021-04-16T16:55:51.574248Z",
     "start_time": "2021-04-16T16:55:51.565317Z"
    }
   },
   "outputs": [],
   "source": [
    "def getData(NPos=1000,NUnlabeled=30000, mixup=False):\n",
    "#     alpha = np.random.beta(2,2)\n",
    "    bag = EasyDict()\n",
    "    bag.alpha = alpha\n",
    "    positive = f1.rvs(NPos)\n",
    "    n1U = int(NUnlabeled * alpha)\n",
    "    n0U = int(NUnlabeled *(1-alpha))\n",
    "    unlabeled = np.concatenate((f1.rvs(n1U),\n",
    "                                f0.rvs(n0U)))\n",
    "    bag.x = np.concatenate((positive, unlabeled))[:,None].astype(np.float32)\n",
    "    bag.N = bag.x.shape[0]\n",
    "    bag.y = np.concatenate((np.ones(NPos), np.ones(n1U+n0U)*-1)).astype(np.int32)\n",
    "    #Add mixup points\n",
    "    if mixup:\n",
    "        NMixup = 20000\n",
    "        betas = np.random.beta(2,2,size=NMixup)[:,None]\n",
    "        idx1 = np.random.randint(0,bag.x.shape[0],size=NMixup)\n",
    "        idx2 = np.random.randint(0,bag.x.shape[0],size=NMixup)\n",
    "        xPrime = np.multiply(bag.x[idx1],betas) + np.multiply((1 - betas),bag.x[idx2])\n",
    "        yPrime = np.multiply(bag.y[idx1],betas[:,0]) + np.multiply((1 - betas)[:,0],bag.y[idx2])\n",
    "        bag.x = np.concatenate((bag.x, xPrime)).astype(np.float32)\n",
    "        bag.y = np.concatenate((bag.y, yPrime)).astype(np.int32)\n",
    "    return bag"
   ]
  },
  {
   "cell_type": "code",
   "execution_count": 5,
   "metadata": {
    "ExecuteTime": {
     "end_time": "2021-04-16T16:55:51.585091Z",
     "start_time": "2021-04-16T16:55:51.575618Z"
    }
   },
   "outputs": [],
   "source": [
    "bag = getData(mixup=False)"
   ]
  },
  {
   "cell_type": "code",
   "execution_count": 6,
   "metadata": {
    "ExecuteTime": {
     "end_time": "2021-04-16T16:55:51.592310Z",
     "start_time": "2021-04-16T16:55:51.586408Z"
    }
   },
   "outputs": [],
   "source": [
    "train,test = datasets.split_dataset_random(\n",
    "    datasets.TupleDataset(bag.x, bag.y), int(bag.N * 0.7))"
   ]
  },
  {
   "cell_type": "markdown",
   "metadata": {},
   "source": [
    "# Setup Iterator"
   ]
  },
  {
   "cell_type": "code",
   "execution_count": 7,
   "metadata": {
    "ExecuteTime": {
     "end_time": "2021-04-16T16:55:51.598035Z",
     "start_time": "2021-04-16T16:55:51.593925Z"
    }
   },
   "outputs": [],
   "source": [
    "args = EasyDict()\n",
    "args.batchsize=128\n",
    "args.hdim = 4"
   ]
  },
  {
   "cell_type": "code",
   "execution_count": 8,
   "metadata": {
    "ExecuteTime": {
     "end_time": "2021-04-16T16:55:51.606720Z",
     "start_time": "2021-04-16T16:55:51.601041Z"
    }
   },
   "outputs": [],
   "source": [
    "train_iter = ch.iterators.SerialIterator(train, args.batchsize)\n",
    "test_iter = ch.iterators.SerialIterator(\n",
    "    test, args.batchsize, repeat=False, shuffle=False)"
   ]
  },
  {
   "cell_type": "markdown",
   "metadata": {},
   "source": [
    "# NNPU Loss"
   ]
  },
  {
   "cell_type": "code",
   "execution_count": 9,
   "metadata": {
    "ExecuteTime": {
     "end_time": "2021-04-16T16:55:51.628720Z",
     "start_time": "2021-04-16T16:55:51.609723Z"
    },
    "code_folding": [
     0,
     57
    ]
   },
   "outputs": [],
   "source": [
    "# export\n",
    "class PULoss(function.Function):\n",
    "    \"\"\"wrapper of loss function for PU learning\"\"\"\n",
    "\n",
    "    def __init__(self, prior, loss=(lambda x: F.sigmoid(-x)), gamma=1, beta=0, nnpu=True):\n",
    "        if not 0 < prior < 1:\n",
    "            raise NotImplementedError(\"The class prior should be in (0, 1)\")\n",
    "        self.prior = prior\n",
    "        self.gamma = gamma\n",
    "        self.beta = beta\n",
    "        self.loss_func = loss\n",
    "        self.nnpu = nnpu\n",
    "        self.x_in = None\n",
    "        self.x_out = None\n",
    "        self.loss = None\n",
    "        self.positive = 1\n",
    "        self.unlabeled = -1\n",
    "\n",
    "    def check_type_forward(self, in_types):\n",
    "        type_check.expect(in_types.size() == 2)\n",
    "\n",
    "        x_type, t_type = in_types\n",
    "        type_check.expect(\n",
    "            x_type.dtype == np.float32,\n",
    "            t_type.dtype == np.int32,\n",
    "            t_type.ndim == 1,\n",
    "            x_type.shape[0] == t_type.shape[0],\n",
    "        )\n",
    "\n",
    "    def forward(self, inputs):\n",
    "        xp = cuda.get_array_module(*inputs)\n",
    "        x, t = inputs\n",
    "        t = t[:, None]\n",
    "        positive, unlabeled = t == self.positive, t == self.unlabeled\n",
    "        n_positive, n_unlabeled = max([1., xp.sum(positive)]), max([1., xp.sum(unlabeled)])\n",
    "        self.x_in = Variable(x)\n",
    "        y_positive = self.loss_func(self.x_in)\n",
    "        y_unlabeled = self.loss_func(-self.x_in)\n",
    "        positive_risk = F.sum(self.prior * positive / n_positive * y_positive)\n",
    "        negative_risk = F.sum((unlabeled / n_unlabeled - self.prior * positive / n_positive) * y_unlabeled)\n",
    "        objective = positive_risk + negative_risk\n",
    "        if self.nnpu:\n",
    "            if negative_risk.data < -self.beta:\n",
    "                objective = positive_risk - self.beta\n",
    "                self.x_out = -self.gamma * negative_risk\n",
    "            else:\n",
    "                self.x_out = objective\n",
    "        else:\n",
    "            self.x_out = objective\n",
    "        self.loss = xp.array(objective.data, dtype=self.x_out.data.dtype)\n",
    "        return self.loss,\n",
    "\n",
    "    def backward(self, inputs, gy):\n",
    "        self.x_out.backward()\n",
    "        gx = gy[0].reshape(gy[0].shape + (1,) * (self.x_in.data.ndim - 1)) * self.x_in.grad\n",
    "        return gx, None\n",
    "\n",
    "\n",
    "def pu_loss(x, t, prior, loss=(lambda x: F.sigmoid(-x)), nnpu=True):\n",
    "    \"\"\"wrapper of loss function for non-negative/unbiased PU learning\n",
    "\n",
    "        .. math::\n",
    "            \\\\begin{array}{lc}\n",
    "            L_[\\\\pi E_1[l(f(x))]+\\\\max(E_X[l(-f(x))]-\\\\pi E_1[l(-f(x))], \\\\beta) & {\\\\rm if nnPU learning}\\\\\\\\\n",
    "            L_[\\\\pi E_1[l(f(x))]+E_X[l(-f(x))]-\\\\pi E_1[l(-f(x))] & {\\\\rm otherwise}\n",
    "            \\\\end{array}\n",
    "\n",
    "    Args:\n",
    "        x (~chainer.Variable): Input variable.\n",
    "            The shape of ``x`` should be (:math:`N`, 1).\n",
    "        t (~chainer.Variable): Target variable for regression.\n",
    "            The shape of ``t`` should be (:math:`N`, ).\n",
    "        prior (float): Constant variable for class prior.\n",
    "        loss (~chainer.function): loss function.\n",
    "            The loss function should be non-increasing.\n",
    "        nnpu (bool): Whether use non-negative PU learning or unbiased PU learning.\n",
    "            In default setting, non-negative PU learning will be used.\n",
    "\n",
    "    Returns:\n",
    "        ~chainer.Variable: A variable object holding a scalar array of the\n",
    "            PU loss.\n",
    "\n",
    "    See:\n",
    "        Ryuichi Kiryo, Gang Niu, Marthinus Christoffel du Plessis, and Masashi Sugiyama.\n",
    "        \"Positive-Unlabeled Learning with Non-Negative Risk Estimator.\"\n",
    "        Advances in neural information processing systems. 2017.\n",
    "        du Plessis, Marthinus Christoffel, Gang Niu, and Masashi Sugiyama.\n",
    "        \"Convex formulation for learning from positive and unlabeled data.\"\n",
    "        Proceedings of The 32nd International Conference on Machine Learning. 2015.\n",
    "    \"\"\"\n",
    "    return PULoss(prior=prior, loss=loss, nnpu=nnpu)(x, t)"
   ]
  },
  {
   "cell_type": "markdown",
   "metadata": {},
   "source": [
    "# Model"
   ]
  },
  {
   "cell_type": "code",
   "execution_count": 10,
   "metadata": {
    "ExecuteTime": {
     "end_time": "2021-04-16T16:55:51.636936Z",
     "start_time": "2021-04-16T16:55:51.630268Z"
    }
   },
   "outputs": [],
   "source": [
    "# export\n",
    "def MLP(n_units, n_out):\n",
    "    layer = ch.Sequential(L.Linear(n_units), F.relu)\n",
    "    model = layer.repeat(2)\n",
    "    model.append(L.Linear(n_out))\n",
    "\n",
    "    return model"
   ]
  },
  {
   "cell_type": "code",
   "execution_count": 11,
   "metadata": {
    "ExecuteTime": {
     "end_time": "2021-04-16T16:55:51.647215Z",
     "start_time": "2021-04-16T16:55:51.638349Z"
    }
   },
   "outputs": [],
   "source": [
    "model = L.Classifier(\n",
    "    MLP(args.hdim, 1), lossfun=PULoss(bag.alpha, nnpu=True), accfun=F.accuracy)"
   ]
  },
  {
   "cell_type": "markdown",
   "metadata": {},
   "source": [
    "# Optimizer"
   ]
  },
  {
   "cell_type": "code",
   "execution_count": 12,
   "metadata": {
    "ExecuteTime": {
     "end_time": "2021-04-16T16:55:51.654240Z",
     "start_time": "2021-04-16T16:55:51.648816Z"
    }
   },
   "outputs": [],
   "source": [
    "optimizer = ch.optimizers.Adam(alpha=1e-3).setup(model)\n",
    "optimizer.add_hook(ch.optimizer.WeightDecay(0.005))"
   ]
  },
  {
   "cell_type": "markdown",
   "metadata": {},
   "source": [
    "# Updater"
   ]
  },
  {
   "cell_type": "code",
   "execution_count": 13,
   "metadata": {
    "ExecuteTime": {
     "end_time": "2021-04-16T16:55:51.782411Z",
     "start_time": "2021-04-16T16:55:51.656150Z"
    }
   },
   "outputs": [],
   "source": [
    "updater = training.StandardUpdater(train_iter, optimizer,device=0)"
   ]
  },
  {
   "cell_type": "markdown",
   "metadata": {},
   "source": [
    "# Trainer"
   ]
  },
  {
   "cell_type": "code",
   "execution_count": 14,
   "metadata": {
    "ExecuteTime": {
     "end_time": "2021-04-16T16:55:51.787091Z",
     "start_time": "2021-04-16T16:55:51.784314Z"
    }
   },
   "outputs": [],
   "source": [
    "trainer = training.Trainer(updater, (100, 'epoch'), out='result')"
   ]
  },
  {
   "cell_type": "markdown",
   "metadata": {},
   "source": [
    "# Extensions"
   ]
  },
  {
   "cell_type": "code",
   "execution_count": 15,
   "metadata": {
    "ExecuteTime": {
     "end_time": "2021-04-16T16:55:51.796378Z",
     "start_time": "2021-04-16T16:55:51.788426Z"
    }
   },
   "outputs": [],
   "source": [
    "trainer.extend(extensions.Evaluator(test_iter, model, device=0))"
   ]
  },
  {
   "cell_type": "code",
   "execution_count": 16,
   "metadata": {
    "ExecuteTime": {
     "end_time": "2021-04-16T16:55:51.802677Z",
     "start_time": "2021-04-16T16:55:51.797688Z"
    }
   },
   "outputs": [],
   "source": [
    "trainer.extend(extensions.DumpGraph('main/loss'))"
   ]
  },
  {
   "cell_type": "code",
   "execution_count": 17,
   "metadata": {
    "ExecuteTime": {
     "end_time": "2021-04-16T16:55:51.808903Z",
     "start_time": "2021-04-16T16:55:51.804226Z"
    }
   },
   "outputs": [],
   "source": [
    "trainer.extend(extensions.snapshot(), trigger=(20, 'epoch'))"
   ]
  },
  {
   "cell_type": "code",
   "execution_count": 18,
   "metadata": {
    "ExecuteTime": {
     "end_time": "2021-04-16T16:55:51.815698Z",
     "start_time": "2021-04-16T16:55:51.810518Z"
    }
   },
   "outputs": [],
   "source": [
    "trainer.extend(extensions.LogReport())"
   ]
  },
  {
   "cell_type": "code",
   "execution_count": 19,
   "metadata": {
    "ExecuteTime": {
     "end_time": "2021-04-16T16:55:51.822237Z",
     "start_time": "2021-04-16T16:55:51.817666Z"
    }
   },
   "outputs": [],
   "source": [
    "# Save two plot images to the result dir\n",
    "trainer.extend(\n",
    "    extensions.PlotReport(['main/loss', 'validation/main/loss'],\n",
    "                          'epoch', file_name='loss.png'))\n",
    "trainer.extend(\n",
    "    extensions.PlotReport(\n",
    "        ['main/accuracy', 'validation/main/accuracy'],\n",
    "        'epoch', file_name='accuracy.png'))"
   ]
  },
  {
   "cell_type": "code",
   "execution_count": 20,
   "metadata": {
    "ExecuteTime": {
     "end_time": "2021-04-16T16:55:51.829050Z",
     "start_time": "2021-04-16T16:55:51.824199Z"
    }
   },
   "outputs": [],
   "source": [
    "trainer.extend(extensions.PrintReport(\n",
    "    ['epoch', 'main/loss', 'validation/main/loss',\n",
    "     'main/accuracy', 'validation/main/accuracy', 'elapsed_time']))"
   ]
  },
  {
   "cell_type": "markdown",
   "metadata": {},
   "source": [
    "# Main Loop"
   ]
  },
  {
   "cell_type": "code",
   "execution_count": 21,
   "metadata": {
    "ExecuteTime": {
     "end_time": "2021-04-16T16:58:30.324417Z",
     "start_time": "2021-04-16T16:55:51.831212Z"
    },
    "scrolled": true
   },
   "outputs": [
    {
     "name": "stdout",
     "output_type": "stream",
     "text": [
      "epoch       main/loss   validation/main/loss  main/accuracy  validation/main/accuracy  elapsed_time\n",
      "\u001b[J1           0.414889    0.326086              0              0                         2.55554       \n",
      "\u001b[J2           0.300098    0.277346              0              0                         4.11185       \n",
      "\u001b[J3           0.27841     0.249426              0              0                         5.62125       \n",
      "\u001b[J4           0.257252    0.232573              0              0                         7.21733       \n",
      "\u001b[J5           0.234362    0.214575              0              0                         8.88473       \n",
      "\u001b[J6           0.223839    0.20788               0              0                         10.5667       \n",
      "\u001b[J7           0.22375     0.197365              0              0                         12.1375       \n",
      "\u001b[J8           0.211556    0.191436              0              0                         13.8272       \n",
      "\u001b[J9           0.205616    0.187132              0              0                         15.3543       \n",
      "\u001b[J10          0.213617    0.186411              0              0                         16.9231       \n",
      "\u001b[J11          0.220401    0.182927              0              0                         18.4524       \n",
      "\u001b[J12          0.196725    0.181924              0              0                         19.9862       \n",
      "\u001b[J13          0.196502    0.17793               0              0                         21.5196       \n",
      "\u001b[J14          0.198237    0.176319              0              0                         23.1257       \n",
      "\u001b[J15          0.194102    0.175122              0              0                         24.7295       \n",
      "\u001b[J16          0.196397    0.171538              0              0                         26.2783       \n",
      "\u001b[J17          0.185801    0.170693              0              0                         27.8012       \n",
      "\u001b[J18          0.187395    0.169454              0              0                         29.3222       \n",
      "\u001b[J19          0.195896    0.169764              0              0                         30.8459       \n",
      "\u001b[J20          0.185676    0.17308               0              0                         32.357        \n",
      "\u001b[J21          0.181099    0.168228              0              0                         33.935        \n",
      "\u001b[J22          0.194442    0.169438              0              0                         35.4755       \n",
      "\u001b[J23          0.197994    0.168745              0              0                         37.1059       \n",
      "\u001b[J24          0.209657    0.169685              0              0                         38.6524       \n",
      "\u001b[J25          0.182556    0.16841               0              0                         40.275        \n",
      "\u001b[J26          0.190425    0.167815              0              0                         41.8301       \n",
      "\u001b[J27          0.190717    0.168732              0              0                         43.4027       \n",
      "\u001b[J28          0.178083    0.168502              0              0                         44.9584       \n",
      "\u001b[J29          0.191043    0.168894              0              0                         46.4864       \n",
      "\u001b[J30          0.183542    0.167449              0              0                         48.0085       \n",
      "\u001b[J31          0.174177    0.167692              0              0                         49.5384       \n",
      "\u001b[J32          0.195778    0.16867               0              0                         51.2245       \n",
      "\u001b[J33          0.186543    0.169153              0              0                         52.8383       \n",
      "\u001b[J34          0.188197    0.168544              0              0                         54.4804       \n",
      "\u001b[J35          0.181867    0.167513              0              0                         56.0213       \n",
      "\u001b[J36          0.18745     0.168659              0              0                         57.5656       \n",
      "\u001b[J37          0.19408     0.167605              0              0                         59.096        \n",
      "\u001b[J38          0.166192    0.167809              0              0                         60.6307       \n",
      "\u001b[J39          0.179068    0.167709              0              0                         62.1498       \n",
      "\u001b[J40          0.184839    0.170307              0              0                         63.7049       \n",
      "\u001b[J41          0.180172    0.168187              0              0                         65.2559       \n",
      "\u001b[J42          0.178779    0.167144              0              0                         66.7862       \n",
      "\u001b[J43          0.188954    0.167859              0              0                         68.3446       \n",
      "\u001b[J44          0.210193    0.16932               0              0                         69.8607       \n",
      "\u001b[J45          0.194985    0.169684              0              0                         71.356        \n",
      "\u001b[J46          0.20058     0.16844               0              0                         72.8562       \n",
      "\u001b[J47          0.184588    0.167994              0              0                         74.5149       \n",
      "\u001b[J48          0.189822    0.167505              0              0                         76.0119       \n",
      "\u001b[J49          0.182001    0.169352              0              0                         77.5232       \n",
      "\u001b[J50          0.190163    0.169013              0              0                         79.0352       \n",
      "\u001b[J51          0.194254    0.169736              0              0                         80.5454       \n",
      "\u001b[J52          0.205974    0.170649              0              0                         82.0446       \n",
      "\u001b[J53          0.184164    0.16958               0              0                         83.5443       \n",
      "\u001b[J54          0.179957    0.166576              0              0                         85.0518       \n",
      "\u001b[J55          0.176483    0.167746              0              0                         86.5578       \n",
      "\u001b[J56          0.188953    0.167923              0              0                         88.0519       \n",
      "\u001b[J57          0.194937    0.167843              0              0                         89.6093       \n",
      "\u001b[J58          0.180536    0.167913              0              0                         91.2524       \n",
      "\u001b[J59          0.202868    0.168438              0              0                         92.826        \n",
      "\u001b[J60          0.193568    0.167713              0              0                         94.355        \n",
      "\u001b[J61          0.183181    0.169127              0              0                         96.1103       \n",
      "\u001b[J62          0.192602    0.16881               0              0                         97.7276       \n",
      "\u001b[J63          0.183555    0.16897               0              0                         99.5287       \n",
      "\u001b[J64          0.179037    0.167391              0              0                         101.05        \n",
      "\u001b[J65          0.185264    0.16913               0              0                         102.582       \n",
      "\u001b[J66          0.189472    0.166984              0              0                         104.144       \n",
      "\u001b[J67          0.187407    0.168377              0              0                         105.69        \n",
      "\u001b[J68          0.185161    0.169804              0              0                         107.229       \n",
      "\u001b[J69          0.182356    0.167991              0              0                         108.761       \n",
      "\u001b[J70          0.201747    0.168326              0              0                         110.325       \n",
      "\u001b[J71          0.186855    0.16781               0              0                         111.91        \n",
      "\u001b[J72          0.189667    0.167275              0              0                         113.47        \n",
      "\u001b[J73          0.196366    0.169531              0              0                         115.1         \n",
      "\u001b[J74          0.184307    0.167961              0              0                         116.843       \n",
      "\u001b[J75          0.202101    0.168167              0              0                         118.366       \n",
      "\u001b[J76          0.185498    0.167038              0              0                         119.884       \n",
      "\u001b[J77          0.180919    0.167359              0              0                         121.564       \n",
      "\u001b[J78          0.19952     0.167467              0              0                         123.217       \n"
     ]
    },
    {
     "name": "stdout",
     "output_type": "stream",
     "text": [
      "\u001b[J79          0.198676    0.167715              0              0                         124.843       \n",
      "\u001b[J80          0.184838    0.169064              0              0                         126.396       \n",
      "\u001b[J81          0.189768    0.168019              0              0                         128.022       \n",
      "\u001b[J82          0.187925    0.167362              0              0                         129.824       \n",
      "\u001b[J83          0.182723    0.168259              0              0                         131.455       \n",
      "\u001b[J84          0.188884    0.169924              0              0                         133.009       \n",
      "\u001b[J85          0.19498     0.167978              0              0                         134.563       \n",
      "\u001b[J86          0.185981    0.167854              0              0                         136.138       \n",
      "\u001b[J87          0.189686    0.167311              0              0                         137.69        \n",
      "\u001b[J88          0.187066    0.169021              0              0                         139.228       \n",
      "\u001b[J89          0.187252    0.168795              0              0                         140.768       \n",
      "\u001b[J90          0.186171    0.168355              0              0                         142.41        \n",
      "\u001b[J91          0.186129    0.170598              0              0                         144.032       \n",
      "\u001b[J92          0.192303    0.169338              0              0                         145.677       \n",
      "\u001b[J93          0.182818    0.168334              0              0                         147.262       \n",
      "\u001b[J94          0.184936    0.166978              0              0                         148.83        \n",
      "\u001b[J95          0.181404    0.167475              0              0                         150.387       \n",
      "\u001b[J96          0.188815    0.168212              0              0                         151.961       \n",
      "\u001b[J97          0.186985    0.167018              0              0                         153.546       \n",
      "\u001b[J98          0.193735    0.168094              0              0                         155.147       \n",
      "\u001b[J99          0.189584    0.166957              0              0                         156.713       \n",
      "\u001b[J100         0.192789    0.167116              0              0                         158.24        \n"
     ]
    }
   ],
   "source": [
    "trainer.run()"
   ]
  },
  {
   "cell_type": "code",
   "execution_count": 22,
   "metadata": {
    "ExecuteTime": {
     "end_time": "2021-04-16T16:58:30.331403Z",
     "start_time": "2021-04-16T16:58:30.326053Z"
    }
   },
   "outputs": [
    {
     "data": {
      "image/png": "[encoded data removed]",
      "text/plain": [
       "<IPython.core.display.Image object>"
      ]
     },
     "execution_count": 22,
     "metadata": {},
     "output_type": "execute_result"
    }
   ],
   "source": [
    "\n",
    "Image(filename='result/loss.png') "
   ]
  },
  {
   "cell_type": "markdown",
   "metadata": {},
   "source": [
    "# Inference"
   ]
  },
  {
   "cell_type": "code",
   "execution_count": 23,
   "metadata": {
    "ExecuteTime": {
     "end_time": "2021-04-16T16:58:30.337880Z",
     "start_time": "2021-04-16T16:58:30.334583Z"
    }
   },
   "outputs": [],
   "source": [
    "x = rng[:,None].astype(np.float32)"
   ]
  },
  {
   "cell_type": "code",
   "execution_count": 24,
   "metadata": {
    "ExecuteTime": {
     "end_time": "2021-04-16T16:58:30.345023Z",
     "start_time": "2021-04-16T16:58:30.339855Z"
    }
   },
   "outputs": [],
   "source": [
    "predict = model.predictor(cuda.to_gpu(x,device=0)).array"
   ]
  },
  {
   "cell_type": "code",
   "execution_count": 25,
   "metadata": {
    "ExecuteTime": {
     "end_time": "2021-04-16T16:58:30.349997Z",
     "start_time": "2021-04-16T16:58:30.346704Z"
    }
   },
   "outputs": [],
   "source": [
    "estimated = cuda.to_cpu(F.sigmoid(predict).array)"
   ]
  },
  {
   "cell_type": "code",
   "execution_count": 26,
   "metadata": {
    "ExecuteTime": {
     "end_time": "2021-04-16T16:58:30.563164Z",
     "start_time": "2021-04-16T16:58:30.351604Z"
    }
   },
   "outputs": [
    {
     "data": {
      "text/plain": [
       "<matplotlib.legend.Legend at 0x7ff12cc46bd0>"
      ]
     },
     "execution_count": 26,
     "metadata": {},
     "output_type": "execute_result"
    },
    {
     "data": {
      "image/png": "[encoded data removed]",
      "text/plain": [
       "<Figure size 432x288 with 1 Axes>"
      ]
     },
     "metadata": {
      "needs_background": "light"
     },
     "output_type": "display_data"
    }
   ],
   "source": [
    "plt.plot(rng,estimated,label=r\"$\\hat{p}(y|x)$\")\n",
    "plt.plot(rng, posterior(rng),label=r\"$p(y|x)$\")\n",
    "plt.plot(rng, f1.pdf(rng),label=r\"$f_1(x)$\")\n",
    "plt.plot(rng, f0.pdf(rng),label=r\"$f_0(x)$\")\n",
    "plt.plot(rng, alpha * f1.pdf(rng) + (1 - alpha) *f0.pdf(rng),label=r\"$f(x)$\")\n",
    "plt.legend()"
   ]
  },
  {
   "cell_type": "code",
   "execution_count": 27,
   "metadata": {
    "ExecuteTime": {
     "end_time": "2021-04-16T16:58:30.569463Z",
     "start_time": "2021-04-16T16:58:30.564462Z"
    }
   },
   "outputs": [
    {
     "data": {
      "text/plain": [
       "0.041499468078270436"
      ]
     },
     "execution_count": 27,
     "metadata": {},
     "output_type": "execute_result"
    }
   ],
   "source": [
    "ss.entropy(posterior(rng).flatten(), estimated.flatten())"
   ]
  },
  {
   "cell_type": "code",
   "execution_count": 35,
   "metadata": {
    "ExecuteTime": {
     "end_time": "2021-04-16T17:15:27.062105Z",
     "start_time": "2021-04-16T17:15:27.047019Z"
    }
   },
   "outputs": [],
   "source": [
    "# export\n",
    "def getPosterior(x,y,alpha,args=EasyDict({\"batchsize\":32,\n",
    "                                    \"hdim\":4,\n",
    "                                    \"epochs\":10,\n",
    "                                    \"lr\":1e-3,\n",
    "                                    \"weightDecayRate\":0.005,\n",
    "                                    })):\n",
    "    # Data\n",
    "    train = datasets.TupleDataset(x,y)\n",
    "    # Iterator\n",
    "    train_iter = ch.iterators.SerialIterator(train, args.batchsize)\n",
    "    # model\n",
    "    model = L.Classifier(MLP(args.hdim, 1),\n",
    "                         lossfun=PULoss(alpha, nnpu=True),\n",
    "                         accfun=F.accuracy)\n",
    "    # optimizer\n",
    "    optimizer = ch.optimizers.Adam(alpha=args.lr).setup(model)\n",
    "    optimizer.add_hook(ch.optimizer.WeightDecay(args.weightDecayRate))\n",
    "    updater = training.StandardUpdater(train_iter, optimizer,device=-1)\n",
    "    trainer = training.Trainer(updater, (args.epochs, 'epoch'), out='result')\n",
    "    trainer.run()\n",
    "    return F.sigmoid(model.predictor(x)).array"
   ]
  },
  {
   "cell_type": "code",
   "execution_count": 33,
   "metadata": {
    "ExecuteTime": {
     "end_time": "2021-04-16T17:07:21.991618Z",
     "start_time": "2021-04-16T17:06:44.563531Z"
    }
   },
   "outputs": [
    {
     "data": {
      "text/plain": [
       "array([[0.04636163],\n",
       "       [0.04595825],\n",
       "       [0.03888562],\n",
       "       ...,\n",
       "       [0.00236657],\n",
       "       [0.00487468],\n",
       "       [0.01068425]], dtype=float32)"
      ]
     },
     "execution_count": 33,
     "metadata": {},
     "output_type": "execute_result"
    }
   ],
   "source": [
    "getPosterior(bag.x, bag.y)"
   ]
  },
  {
   "cell_type": "code",
   "execution_count": null,
   "metadata": {},
   "outputs": [],
   "source": []
  }
 ],
 "metadata": {
  "kernelspec": {
   "display_name": "tf",
   "language": "python",
   "name": "tf"
  },
  "language_info": {
   "codemirror_mode": {
    "name": "ipython",
    "version": 3
   },
   "file_extension": ".py",
   "mimetype": "text/x-python",
   "name": "python",
   "nbconvert_exporter": "python",
   "pygments_lexer": "ipython3",
   "version": "3.7.7"
  }
 },
 "nbformat": 4,
 "nbformat_minor": 4
}
