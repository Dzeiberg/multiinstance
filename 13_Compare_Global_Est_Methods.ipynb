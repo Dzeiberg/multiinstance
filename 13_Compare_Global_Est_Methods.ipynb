{
 "cells": [
  {
   "cell_type": "code",
   "execution_count": null,
   "metadata": {},
   "outputs": [],
   "source": [
    "from tqdm.notebook import tqdm\n",
    "import numpy as np\n",
    "from multiinstance.data.syntheticData import buildDataset\n",
    "\n",
    "from multiinstance.utils import getBootstrapSample, estimate\n",
    "\n",
    "from multiinstance.gradientMethod import getGlobalAlphaHat, initDS, addEsts, g1"
   ]
  },
  {
   "cell_type": "code",
   "execution_count": null,
   "metadata": {},
   "outputs": [],
   "source": [
    "def estGlobal(ds, bootstrapLocally=True, reps=10):\n",
    "    alphaHats = np.zeros(reps)\n",
    "    for rep in tqdm(range(reps),total=reps,desc=\"getting global estimates\"):\n",
    "        if bootstrapLocally:\n",
    "            P, U = list(zip(*[getBootstrapSample(*dsi.getBag(int(i))) for i in range(dsi.N)]))\n",
    "            ps = np.concatenate(P)\n",
    "            us = np.concatenate(U)\n",
    "        else:\n",
    "            P,U = list(zip(*[dsi.getBag(i) for i in range(ds.N)]))\n",
    "            p = np.concatenate(P)\n",
    "            u = np.concatenate(U)\n",
    "            ps,us = getBootstrapSample(p,u)\n",
    "        alphaHats[rep],_ = estimate(ps,us)\n",
    "    return alphaHats"
   ]
  },
  {
   "cell_type": "code",
   "execution_count": null,
   "metadata": {},
   "outputs": [],
   "source": [
    "def getTrueGlobal(ds):\n",
    "    return ds.trueAlphas.flatten().dot(ds.numU) / ds.numU.sum()\n",
    "\n",
    "def getEstimatedGlobal(ds, res):\n",
    "    return np.sum(np.multiply(np.multiply(res[\"alphaHats\"],\n",
    "                               res[\"weights\"][0]),\n",
    "                   ds.numU.reshape((-1,1)))) / res[\"weights\"].flatten().dot(ds.numU)"
   ]
  },
  {
   "cell_type": "code",
   "execution_count": null,
   "metadata": {},
   "outputs": [],
   "source": [
    "absErrsLocal = []\n",
    "absErrsGlobal = []\n",
    "for _ in tqdm(range(100)):\n",
    "    dsi = buildDataset(100)\n",
    "\n",
    "    dsi.globalAlphaHatsBLocally = estGlobal(dsi,bootstrapLocally=True, reps=10)\n",
    "    dsi.globalAlphaHatsBGlobally = estGlobal(dsi,bootstrapLocally=False, reps=10)\n",
    "\n",
    "    absErrsLocal.append(np.abs(dsi.globalAlphaHatsBLocally - getTrueGlobal(dsi)))\n",
    "\n",
    "    absErrsGlobal.append(np.abs(dsi.globalAlphaHatsBGlobally - getTrueGlobal(dsi)))"
   ]
  },
  {
   "cell_type": "code",
   "execution_count": null,
   "metadata": {},
   "outputs": [],
   "source": [
    "absErrsLocal = np.concatenate(absErrsLocal)\n",
    "absErrsGlobal = np.concatenate(absErrsGlobal)"
   ]
  },
  {
   "cell_type": "code",
   "execution_count": null,
   "metadata": {},
   "outputs": [],
   "source": [
    "np.mean(absErrsLocal), np.mean(absErrsGlobal)"
   ]
  },
  {
   "cell_type": "code",
   "execution_count": null,
   "metadata": {},
   "outputs": [],
   "source": [
    "from scipy.stats import ks_2samp"
   ]
  },
  {
   "cell_type": "code",
   "execution_count": null,
   "metadata": {},
   "outputs": [],
   "source": [
    "ks_2samp(absErrsLocal, absErrsGlobal)"
   ]
  },
  {
   "cell_type": "code",
   "execution_count": null,
   "metadata": {},
   "outputs": [],
   "source": []
  }
 ],
 "metadata": {
  "language_info": {
   "name": "python",
   "pygments_lexer": "ipython3"
  }
 },
 "nbformat": 4,
 "nbformat_minor": 4
}
