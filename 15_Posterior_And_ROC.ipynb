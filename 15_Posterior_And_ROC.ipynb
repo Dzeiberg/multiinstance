{
 "cells": [
  {
   "cell_type": "code",
   "execution_count": 1,
   "metadata": {
    "ExecuteTime": {
     "end_time": "2021-03-16T18:40:09.863704Z",
     "start_time": "2021-03-16T18:39:59.130863Z"
    }
   },
   "outputs": [],
   "source": [
    "from multiinstance.data.realData import buildDataset\n",
    "from multiinstance.utils import *\n",
    "from multiinstance.gradientMethod import g1\n",
    "import numpy as np\n",
    "import matplotlib.pyplot as plt\n",
    "from sklearn.metrics import roc_auc_score"
   ]
  },
  {
   "cell_type": "code",
   "execution_count": 3,
   "metadata": {
    "ExecuteTime": {
     "end_time": "2021-03-16T18:40:27.256433Z",
     "start_time": "2021-03-16T18:40:20.807213Z"
    }
   },
   "outputs": [
    {
     "data": {
      "application/vnd.jupyter.widget-view+json": {
       "model_id": "",
       "version_major": 2,
       "version_minor": 0
      },
      "text/plain": [
       "HBox(children=(FloatProgress(value=0.0, description='Training univariate transforms', max=6.0, style=ProgressS…"
      ]
     },
     "metadata": {},
     "output_type": "display_data"
    },
    {
     "data": {
      "application/vnd.jupyter.widget-view+json": {
       "model_id": "",
       "version_major": 2,
       "version_minor": 0
      },
      "text/plain": [
       "HBox(children=(FloatProgress(value=0.0, description='getting global estimates', max=10.0, style=ProgressStyle(…"
      ]
     },
     "metadata": {},
     "output_type": "display_data"
    },
    {
     "data": {
      "application/vnd.jupyter.widget-view+json": {
       "model_id": "",
       "version_major": 2,
       "version_minor": 0
      },
      "text/plain": [
       "HBox(children=(FloatProgress(value=0.0, description='getting bag estimates', max=2.0, style=ProgressStyle(desc…"
      ]
     },
     "metadata": {},
     "output_type": "display_data"
    },
    {
     "data": {
      "application/vnd.jupyter.widget-view+json": {
       "model_id": "",
       "version_major": 2,
       "version_minor": 0
      },
      "text/plain": [
       "HBox(children=(FloatProgress(value=0.0, description='getting distCurve Estimates', max=10.0, style=ProgressSty…"
      ]
     },
     "metadata": {},
     "output_type": "display_data"
    },
    {
     "data": {
      "application/vnd.jupyter.widget-view+json": {
       "model_id": "",
       "version_major": 2,
       "version_minor": 0
      },
      "text/plain": [
       "HBox(children=(FloatProgress(value=0.0, description='getting distCurve Estimates', max=10.0, style=ProgressSty…"
      ]
     },
     "metadata": {},
     "output_type": "display_data"
    }
   ],
   "source": [
    "ds = buildDataset(\"/ssdata/ClassPriorEstimationPrivate/data/rawDatasets/abalone.mat\",size=2,\n",
    "                  nPDistr=lambda:np.random.choice([10]),\n",
    "                  nUDistr=lambda:np.random.choice([50]),)\n",
    "\n",
    "ds = addTransformScores(ds)\n",
    "ds = addGlobalEsts(ds)\n",
    "ds = addBagAlphaHats(ds)"
   ]
  },
  {
   "cell_type": "code",
   "execution_count": 4,
   "metadata": {
    "ExecuteTime": {
     "end_time": "2021-03-16T18:40:28.652451Z",
     "start_time": "2021-03-16T18:40:27.744049Z"
    }
   },
   "outputs": [
    {
     "data": {
      "application/vnd.jupyter.widget-view+json": {
       "model_id": "",
       "version_major": 2,
       "version_minor": 0
      },
      "text/plain": [
       "HBox(children=(FloatProgress(value=0.0), HTML(value='')))"
      ]
     },
     "metadata": {},
     "output_type": "display_data"
    }
   ],
   "source": [
    "res = g1(ds)"
   ]
  },
  {
   "cell_type": "code",
   "execution_count": null,
   "metadata": {},
   "outputs": [],
   "source": [
    "np.mean(np.abs(res[\"alphaHats\"].mean(1) - ds.trueAlphas.flatten()))"
   ]
  },
  {
   "cell_type": "code",
   "execution_count": null,
   "metadata": {},
   "outputs": [],
   "source": [
    "np.mean(np.abs(ds.alphaHats.mean(1) - ds.trueAlphas.flatten()))"
   ]
  },
  {
   "cell_type": "code",
   "execution_count": 5,
   "metadata": {
    "ExecuteTime": {
     "end_time": "2021-03-16T18:40:29.852912Z",
     "start_time": "2021-03-16T18:40:29.408669Z"
    }
   },
   "outputs": [
    {
     "data": {
      "image/png": "[encoded data removed]",
      "text/plain": [
       "<Figure size 432x288 with 1 Axes>"
      ]
     },
     "metadata": {
      "needs_background": "light"
     },
     "output_type": "display_data"
    },
    {
     "data": {
      "image/png": "[encoded data removed]",
      "text/plain": [
       "<Figure size 432x288 with 1 Axes>"
      ]
     },
     "metadata": {
      "needs_background": "light"
     },
     "output_type": "display_data"
    },
    {
     "data": {
      "text/plain": [
       "Text(0.5, 1.0, 'Transform Scores')"
      ]
     },
     "execution_count": 5,
     "metadata": {},
     "output_type": "execute_result"
    },
    {
     "data": {
      "image/png": "[encoded data removed]",
      "text/plain": [
       "<Figure size 432x288 with 1 Axes>"
      ]
     },
     "metadata": {
      "needs_background": "light"
     },
     "output_type": "display_data"
    }
   ],
   "source": [
    "def posteriorCorrection(tau, alpha, S0S1):\n",
    "    post =  alpha * S0S1 * (tau / (1 - tau))\n",
    "    post[np.isinf(post)] = 1\n",
    "    return post\n",
    "\n",
    "def getROCInputs(ds,res):\n",
    "    bagAlphaHats = ds.trueAlphas.flatten()#.mean(1)\n",
    "    posTransforms, unlabeledTransforms = list(zip(*[getTransformScores(ds,i) for i in range(ds.N)]))\n",
    "    S0S1 = ds.numU / ds.numP\n",
    "    posteriors = [posteriorCorrection(tau,alphaHat, s0s1) for tau,alphaHat,s0s1 in zip(unlabeledTransforms,\n",
    "                                                                                       bagAlphaHats,\n",
    "                                                                                       S0S1)]\n",
    "    posteriorVals = np.concatenate(posteriors)\n",
    "    hiddenLabels = np.concatenate([ds.hiddenLabels[i][:ds.numU[i]] for i in range(ds.N)])\n",
    "    return hiddenLabels, posteriorVals\n",
    "\n",
    "def getAUCPU(Pprobs, Uprobs):\n",
    "    labels = np.concatenate((np.ones_like(Pprobs),\n",
    "                             np.zeros_like(Uprobs)))\n",
    "    p = np.concatenate((Pprobs, Uprobs))\n",
    "    return roc_auc_score(labels,p)\n",
    "\n",
    "hL, posteriors = getROCInputs(ds,{})\n",
    "alphaHats = res[\"alphaHats\"].mean(1)\n",
    "aucPU = np.array([getAUCPU(*getTransformScores(ds,i)) for i in range(ds.N)])\n",
    "plt.hist((aucPU - (alphaHats/2)) / (1 - alphaHats))\n",
    "plt.title(\"Bag Level Corrected AUC\")\n",
    "plt.show()\n",
    "plt.clf()\n",
    "plt.hist(posteriors)\n",
    "plt.title(\"posteriors\")\n",
    "plt.show()\n",
    "tauVals = np.concatenate([getTransformScores(ds,i)[1] for i in range(ds.N)])\n",
    "plt.hist(tauVals)\n",
    "plt.title(\"Transform Scores\")"
   ]
  },
  {
   "cell_type": "code",
   "execution_count": null,
   "metadata": {},
   "outputs": [],
   "source": [
    "tauVals.min(),tauVals.max()"
   ]
  },
  {
   "cell_type": "code",
   "execution_count": null,
   "metadata": {},
   "outputs": [],
   "source": [
    "ds.numU / ds.numP"
   ]
  },
  {
   "cell_type": "code",
   "execution_count": null,
   "metadata": {},
   "outputs": [],
   "source": [
    ".92 /.08 * "
   ]
  },
  {
   "cell_type": "code",
   "execution_count": null,
   "metadata": {},
   "outputs": [],
   "source": [
    ".085/.228"
   ]
  },
  {
   "cell_type": "code",
   "execution_count": null,
   "metadata": {},
   "outputs": [],
   "source": []
  }
 ],
 "metadata": {
  "kernelspec": {
   "display_name": "tf",
   "language": "python",
   "name": "tf"
  },
  "language_info": {
   "codemirror_mode": {
    "name": "ipython",
    "version": 3
   },
   "file_extension": ".py",
   "mimetype": "text/x-python",
   "name": "python",
   "nbconvert_exporter": "python",
   "pygments_lexer": "ipython3",
   "version": "3.7.7"
  }
 },
 "nbformat": 4,
 "nbformat_minor": 4
}
