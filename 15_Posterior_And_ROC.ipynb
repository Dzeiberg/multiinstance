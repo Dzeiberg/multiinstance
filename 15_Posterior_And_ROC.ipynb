{
 "cells": [
  {
   "cell_type": "code",
   "execution_count": null,
   "metadata": {},
   "outputs": [],
   "source": [
    "from multiinstance.data.realData import buildDataset\n",
    "from multiinstance.utils import *\n",
    "from multiinstance.gradientMethod import g1\n",
    "import numpy as np\n",
    "import matplotlib.pyplot as plt\n",
    "from sklearn.metrics import roc_auc_score"
   ]
  },
  {
   "cell_type": "code",
   "execution_count": null,
   "metadata": {},
   "outputs": [],
   "source": [
    "ds = buildDataset(\"/ssdata/ClassPriorEstimationPrivate/data/rawDatasets/abalone.mat\",size=2,\n",
    "                  nPDistr=lambda:np.random.choice([100]),\n",
    "                  nUDistr=lambda:np.random.choice([1000]),)\n",
    "\n",
    "ds = addTransformScores(ds)\n",
    "ds = addGlobalEsts(ds)\n",
    "ds = addBagAlphaHats(ds)"
   ]
  },
  {
   "cell_type": "code",
   "execution_count": null,
   "metadata": {},
   "outputs": [],
   "source": [
    "res = g1(ds)"
   ]
  },
  {
   "cell_type": "code",
   "execution_count": null,
   "metadata": {},
   "outputs": [],
   "source": [
    "np.mean(np.abs(res[\"alphaHats\"].mean(1) - ds.trueAlphas.flatten()))"
   ]
  },
  {
   "cell_type": "code",
   "execution_count": null,
   "metadata": {},
   "outputs": [],
   "source": [
    "np.mean(np.abs(ds.alphaHats.mean(1) - ds.trueAlphas.flatten()))"
   ]
  },
  {
   "cell_type": "code",
   "execution_count": null,
   "metadata": {},
   "outputs": [],
   "source": [
    "def posteriorCorrection(tau, alpha, S0S1):\n",
    "    post =  alpha * S0S1 * (tau / (1 - tau))\n",
    "    post[np.isinf(post)] = 1\n",
    "    return post\n",
    "\n",
    "def getROCInputs(ds,res):\n",
    "    bagAlphaHats = ds.trueAlphas.flatten()#.mean(1)\n",
    "    posTransforms, unlabeledTransforms = list(zip(*[getTransformScores(ds,i) for i in range(ds.N)]))\n",
    "    S0S1 = ds.numU / ds.numP\n",
    "    posteriors = [posteriorCorrection(tau,alphaHat, s0s1) for tau,alphaHat,s0s1 in zip(unlabeledTransforms,\n",
    "                                                                                       bagAlphaHats,\n",
    "                                                                                       S0S1)]\n",
    "    posteriorVals = np.concatenate(posteriors)\n",
    "    hiddenLabels = np.concatenate([ds.hiddenLabels[i][:ds.numU[i]] for i in range(ds.N)])\n",
    "    return hiddenLabels, posteriorVals\n",
    "\n",
    "def getAUCPU(Pprobs, Uprobs):\n",
    "    labels = np.concatenate((np.ones_like(Pprobs),\n",
    "                             np.zeros_like(Uprobs)))\n",
    "    p = np.concatenate((Pprobs, Uprobs))\n",
    "    return roc_auc_score(labels,p)\n",
    "\n",
    "hL, posteriors = getROCInputs(ds,{})\n",
    "alphaHats = res[\"alphaHats\"].mean(1)\n",
    "aucPU = np.array([getAUCPU(*getTransformScores(ds,i)) for i in range(ds.N)])\n",
    "plt.hist((aucPU - (alphaHats/2)) / (1 - alphaHats))\n",
    "plt.title(\"Bag Level Corrected AUC\")\n",
    "plt.show()\n",
    "plt.clf()\n",
    "plt.hist(posteriors)\n",
    "plt.title(\"posteriors\")\n",
    "plt.show()\n",
    "tauVals = np.concatenate([getTransformScores(ds,i)[1] for i in range(ds.N)])\n",
    "plt.hist(tauVals)\n",
    "plt.title(\"Transform Scores\")"
   ]
  },
  {
   "cell_type": "code",
   "execution_count": null,
   "metadata": {},
   "outputs": [],
   "source": [
    "tauVals.min(),tauVals.max()"
   ]
  },
  {
   "cell_type": "code",
   "execution_count": null,
   "metadata": {},
   "outputs": [],
   "source": [
    "ds.numU / ds.numP"
   ]
  },
  {
   "cell_type": "code",
   "execution_count": null,
   "metadata": {},
   "outputs": [],
   "source": [
    ".92 /.08 * "
   ]
  },
  {
   "cell_type": "code",
   "execution_count": null,
   "metadata": {},
   "outputs": [],
   "source": [
    ".085/.228"
   ]
  },
  {
   "cell_type": "code",
   "execution_count": null,
   "metadata": {},
   "outputs": [],
   "source": []
  }
 ],
 "metadata": {
  "language_info": {
   "name": "python",
   "pygments_lexer": "ipython3"
  }
 },
 "nbformat": 4,
 "nbformat_minor": 4
}
