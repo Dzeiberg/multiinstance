{
 "cells": [
  {
   "cell_type": "code",
   "execution_count": null,
   "metadata": {},
   "outputs": [],
   "source": [
    "import numpy as np\n",
    "import matplotlib.pyplot as plt\n",
    "from sklearn.metrics import roc_auc_score\n",
    "\n",
    "from easydict import EasyDict\n",
    "\n",
    "import scipy.stats as ss"
   ]
  },
  {
   "cell_type": "code",
   "execution_count": null,
   "metadata": {},
   "outputs": [],
   "source": [
    "from glob import glob"
   ]
  },
  {
   "cell_type": "code",
   "execution_count": null,
   "metadata": {},
   "outputs": [],
   "source": [
    "from multiinstance.data.realData import buildDataset as buildReal\n",
    "from multiinstance.utils import addTransformScores, addGlobalEsts, getBagAlphaHats,getTransformScores"
   ]
  },
  {
   "cell_type": "code",
   "execution_count": null,
   "metadata": {},
   "outputs": [],
   "source": [
    "mu1 = 2\n",
    "mu0 = 1"
   ]
  },
  {
   "cell_type": "code",
   "execution_count": null,
   "metadata": {},
   "outputs": [],
   "source": [
    "NP= 2\n",
    "NU = 10\n",
    "alpha=.25\n",
    "S0 = NP / (NP + NU)\n",
    "S1 = 1 - S0\n",
    "C = np.random.normal(loc=5,scale=1, size=NP)\n",
    "M,mL = getM(NU,alpha)"
   ]
  },
  {
   "cell_type": "code",
   "execution_count": null,
   "metadata": {},
   "outputs": [],
   "source": [
    "def getM(NU,alpha):\n",
    "    M = np.concatenate((np.random.normal(loc=mu1,size=int(alpha*NU)),\n",
    "                        np.random.normal(loc=mu0, size=int((1-alpha) * NU))))\n",
    "    mL = np.concatenate((np.ones(int(alpha*NU)),\n",
    "                                   np.zeros(int((1-alpha) * NU))))\n",
    "    return M, mL"
   ]
  },
  {
   "cell_type": "code",
   "execution_count": null,
   "metadata": {},
   "outputs": [],
   "source": [
    "def f(x,alpha_):\n",
    "    return alpha_ * ss.norm.pdf(x,loc=mu1,scale=1) + (1 - alpha_) * ss.norm.pdf(x,loc=mu0)\n",
    "\n",
    "def g(x):\n",
    "    return ss.norm.pdf(x,loc=mu1)\n",
    "\n",
    "def tau(x,alpha_):\n",
    "    return S1 / ((f(x,alpha_) / g(x)) * S0 + S1)\n",
    "\n",
    "def posterior(x,alpha_,tau_=None, sos1=None):\n",
    "    if tau_ is None:\n",
    "        tau_ = tau(x,alpha_)\n",
    "    if sos1 is None:\n",
    "        sos1 = S0/S1\n",
    "    return alpha_ * sos1 * (tau_ / (1 - tau_))\n",
    "\n",
    "def truePosterior(x,alpha_):\n",
    "    f0 = ss.norm.pdf(x,loc=mu0)\n",
    "    f1 = ss.norm.pdf(x,loc=mu1)\n",
    "    return (f1 * alpha_) / (alpha_ * f1 + (1 - alpha_) * f0)"
   ]
  },
  {
   "cell_type": "code",
   "execution_count": null,
   "metadata": {},
   "outputs": [],
   "source": [
    "np.allclose(posterior(C,alpha), truePosterior(C,alpha)), np.allclose(posterior(M,alpha), truePosterior(M,alpha))"
   ]
  },
  {
   "cell_type": "code",
   "execution_count": null,
   "metadata": {},
   "outputs": [],
   "source": [
    "def auc(scores, alphas, ds):\n",
    "    posts = [posterior(xi,alphai) for xi, alphai in zip(scores, alphas)]\n",
    "    posteriors = np.concatenate(posts)\n",
    "    labels = np.concatenate([ds.hiddenLabels[i][:ds.numU[i]] for i in range(ds.N)])\n",
    "    return roc_auc_score(labels, posteriors)"
   ]
  },
  {
   "cell_type": "code",
   "execution_count": null,
   "metadata": {},
   "outputs": [],
   "source": [
    "dsi = EasyDict()\n",
    "dsi.hiddenLabels = [np.concatenate((np.ones(int(alpha*NU)),\n",
    "                                   np.zeros(int((1-alpha) * NU))))]\n",
    "dsi.numU = [dsi.hiddenLabels[i].shape[0] for i in range(len(dsi.hiddenLabels))]\n",
    "dsi.N = 1\n",
    "\n",
    "auc([M], [alpha], dsi)"
   ]
  },
  {
   "cell_type": "code",
   "execution_count": null,
   "metadata": {},
   "outputs": [],
   "source": [
    "d2 = EasyDict()\n",
    "d2.N = 100\n",
    "alphas = np.random.beta(2,2,size=d2.N)\n",
    "d2.numU = 1 + np.random.poisson(lam=100,size=d2.N)\n",
    "scores, d2.hiddenLabels = list(zip(*[getM(n,a) for n,a in zip(d2.numU, alphas)]))\n",
    "print(\"local: {:.3f}\".format(auc(scores, alphas+ np.random.normal(0,.1,size=d2.N), d2)))\n",
    "gAlpha = np.dot(alphas, d2.numU) / np.sum(d2.numU) + np.random.normal(0,.06)\n",
    "print(\"global: {:.3f}\".format(auc(scores, np.ones(d2.N)*gAlpha, d2)))"
   ]
  },
  {
   "cell_type": "markdown",
   "metadata": {},
   "source": [
    "`<<<<<<< HEAD`"
   ]
  },
  {
   "cell_type": "code",
   "execution_count": null,
   "metadata": {},
   "outputs": [],
   "source": [
    "def aucReal(ds, alphas_):\n",
    "    _,taus = list(zip(*[getTransformScores(ds,i) for i in range(ds.N)]))\n",
    "    s0s1 = ds.numU / ds.numP\n",
    "#     pvals = [a * s * (t / (1 - t)) for a,s,t in zip(alphas_, s0s1, taus)]\n",
    "    pvals = []\n",
    "    for a,s,t in zip(alphas_,s0s1, taus):\n",
    "        p = a * s * (t / (1-t))\n",
    "        p[np.isinf(p)] = 1\n",
    "        pvals.append(p)\n",
    "    posteriors = np.concatenate(pvals)\n",
    "    labels = np.concatenate([ds.hiddenLabels[i][:ds.numU[i]] for i in range(ds.N)])\n",
    "    return roc_auc_score(labels,posteriors)"
   ]
  },
  {
   "cell_type": "markdown",
   "metadata": {},
   "source": [
    "`=======`"
   ]
  },
  {
   "cell_type": "code",
   "execution_count": null,
   "metadata": {},
   "outputs": [],
   "source": [
    "ds = buildDataset(\"/ssdata/ClassPriorEstimationPrivate/data/rawDatasets/abalone.mat\",size=2,\n",
    "                  nPDistr=lambda:np.random.choice([10]),\n",
    "                  nUDistr=lambda:np.random.choice([50]),)\n",
    "\n",
    "ds = addTransformScores(ds)\n",
    "ds = addGlobalEsts(ds)\n",
    "ds = addBagAlphaHats(ds)"
   ]
  },
  {
   "cell_type": "code",
   "execution_count": null,
   "metadata": {},
   "outputs": [],
   "source": [
    "def aucReal(ds, alphas_):\n",
    "    _,taus = list(zip(*[getTransformScores(ds,i) for i in range(ds.N)]))\n",
    "    s0s1 = ds.numU / ds.numP\n",
    "#     pvals = [a * s * (t / (1 - t)) for a,s,t in zip(alphas_, s0s1, taus)]\n",
    "    pvals = []\n",
    "    for a,s,t in zip(alphas_,s0s1, taus):\n",
    "        p = a * s * (t / (1-t))\n",
    "        p[np.isinf(p)] = 1\n",
    "        pvals.append(p)\n",
    "    posteriors = np.concatenate(pvals)\n",
    "    labels = np.concatenate([ds.hiddenLabels[i][:ds.numU[i]] for i in range(ds.N)])\n",
    "    return roc_auc_score(labels,posteriors)"
   ]
  },
  {
   "cell_type": "markdown",
   "metadata": {},
   "source": [
    "`>>>>>>> 76a8683cdc145054e4f8b6a1f4525a5b89f04434`"
   ]
  },
  {
   "cell_type": "markdown",
   "metadata": {},
   "source": [
    "`<<<<<<< HEAD`"
   ]
  },
  {
   "cell_type": "code",
   "execution_count": null,
   "metadata": {},
   "outputs": [],
   "source": [
    "a = {\"local\":[],\n",
    "     \"global\":[]}\n",
    "     \n",
    "for f in glob(\"/ssdata/ClassPriorEstimationPrivate/data/rawDatasets/*.mat\"):\n",
    "    dsi = buildReal(f,16,\n",
    "                    alphaDistr=lambda: np.random.uniform(.25,.75),\n",
    "                    nPDistr=lambda: 1 + np.random.poisson(25),\n",
    "                    nUDistr=lambda: 1 + np.random.poisson(50))\n",
    "    dsi = addTransformScores(dsi)\n",
    "    dsi = addGlobalEsts(dsi,reps=100)\n",
    "    dsi.alphaHats, dsi.curves = getBagAlphaHats(dsi,\n",
    "                                                numbootstraps=100)\n",
    "    a[\"local\"].append(aucReal(dsi, dsi.alphaHats.mean(1)))\n",
    "    a[\"global\"].append(aucReal(dsi, dsi.globalAlphaHats.mean() * np.ones(dsi.N)))\n",
    "    print(\"local: {:.3f}    global: {:.3f}\".format(a[\"local\"][-1],\n",
    "                                                   a[\"global\"][-1]))\n",
    "    print(\"~~~~ AVG: local: {:.3f}    global: {:.3f}\".format(np.mean(a[\"local\"]),\n",
    "                                                   np.mean(a[\"global\"])))"
   ]
  },
  {
   "cell_type": "markdown",
   "metadata": {},
   "source": [
    "`=======`"
   ]
  },
  {
   "cell_type": "code",
   "execution_count": null,
   "metadata": {},
   "outputs": [],
   "source": [
    "res = g1(ds)"
   ]
  },
  {
   "cell_type": "code",
   "execution_count": null,
   "metadata": {},
   "outputs": [],
   "source": [
    "np.mean(np.abs(res[\"alphaHats\"].mean(1) - ds.trueAlphas.flatten()))"
   ]
  },
  {
   "cell_type": "code",
   "execution_count": null,
   "metadata": {},
   "outputs": [],
   "source": [
    "a = {\"local\":[],\n",
    "     \"global\":[]}\n",
    "     \n",
    "for f in glob(\"/ssdata/ClassPriorEstimationPrivate/data/rawDatasets/*.mat\"):\n",
    "    dsi = buildReal(f,16,\n",
    "                    alphaDistr=lambda: np.random.uniform(.25,.75),\n",
    "                    nPDistr=lambda: 1 + np.random.poisson(25),\n",
    "                    nUDistr=lambda: 1 + np.random.poisson(50))\n",
    "    dsi = addTransformScores(dsi)\n",
    "    dsi = addGlobalEsts(dsi,reps=100)\n",
    "    dsi.alphaHats, dsi.curves = getBagAlphaHats(dsi,\n",
    "                                                numbootstraps=100)\n",
    "    a[\"local\"].append(aucReal(dsi, dsi.alphaHats.mean(1)))\n",
    "    a[\"global\"].append(aucReal(dsi, dsi.globalAlphaHats.mean() * np.ones(dsi.N)))\n",
    "    print(\"local: {:.3f}    global: {:.3f}\".format(a[\"local\"][-1],\n",
    "                                                   a[\"global\"][-1]))\n",
    "    print(\"~~~~ AVG: local: {:.3f}    global: {:.3f}\".format(np.mean(a[\"local\"]),\n",
    "                                                   np.mean(a[\"global\"])))"
   ]
  },
  {
   "cell_type": "markdown",
   "metadata": {},
   "source": [
    "`>>>>>>> 76a8683cdc145054e4f8b6a1f4525a5b89f04434`"
   ]
  },
  {
   "cell_type": "markdown",
   "metadata": {},
   "source": [
    "`>>>>>>> 7a09ce788d5b4cc25e59ea0f95ecc79cebaa4bd8`"
   ]
  },
  {
   "cell_type": "markdown",
   "metadata": {},
   "source": [
    "`<<<<<<< HEAD`"
   ]
  },
  {
   "cell_type": "code",
   "execution_count": null,
   "metadata": {},
   "outputs": [],
   "source": [
    "np.mean(np.abs(ds.alphaHats.mean(1) - ds.trueAlphas.flatten()))"
   ]
  },
  {
   "cell_type": "code",
   "execution_count": null,
   "metadata": {},
   "outputs": [],
   "source": [
    "a = {\"local\":[],\n",
    "     \"global\":[]}\n",
    "     \n",
    "for f in glob(\"/ssdata/ClassPriorEstimationPrivate/data/rawDatasets/*.mat\"):\n",
    "    dsi = buildReal(f,16,\n",
    "                    alphaDistr=lambda: np.random.uniform(.25,.75),\n",
    "                    nPDistr=lambda: 1 + np.random.poisson(25),\n",
    "                    nUDistr=lambda: 1 + np.random.poisson(50))\n",
    "    dsi = addTransformScores(dsi)\n",
    "    #dsi = addGlobalEsts(dsi,reps=100)\n",
    "    #dsi.alphaHats, dsi.curves = getBagAlphaHats(dsi,\n",
    "                                                #numbootstraps=100)\n",
    "    globalAlpha = np.dot(dsi.trueAlphas.flatten(), dsi.numU) / np.sum(dsi.numU)\n",
    "    \n",
    "    a[\"local\"].append(aucReal(dsi, dsi.trueAlphas.flatten()))\n",
    "    a[\"global\"].append(aucReal(dsi, globalAlpha * np.ones(dsi.N)))\n",
    "    print(\"local: {:.3f}    global: {:.3f}\".format(a[\"local\"][-1],\n",
    "                                                   a[\"global\"][-1]))\n",
    "    print(\"~~~~ AVG: local: {:.3f}    global: {:.3f}\".format(np.mean(a[\"local\"]),\n",
    "                                                   np.mean(a[\"global\"])))"
   ]
  },
  {
   "cell_type": "markdown",
   "metadata": {},
   "source": [
    "`=======`"
   ]
  },
  {
   "cell_type": "code",
   "execution_count": null,
   "metadata": {},
   "outputs": [],
   "source": [
    "a = {\"local\":[],\n",
    "     \"global\":[]}\n",
    "     \n",
    "for f in glob(\"/ssdata/ClassPriorEstimationPrivate/data/rawDatasets/*.mat\"):\n",
    "    dsi = buildReal(f,16,\n",
    "                    alphaDistr=lambda: np.random.uniform(.25,.75),\n",
    "                    nPDistr=lambda: 1 + np.random.poisson(25),\n",
    "                    nUDistr=lambda: 1 + np.random.poisson(50))\n",
    "    dsi = addTransformScores(dsi)\n",
    "    #dsi = addGlobalEsts(dsi,reps=100)\n",
    "    #dsi.alphaHats, dsi.curves = getBagAlphaHats(dsi,\n",
    "                                                #numbootstraps=100)\n",
    "    globalAlpha = np.dot(dsi.trueAlphas.flatten(), dsi.numU) / np.sum(dsi.numU)\n",
    "    \n",
    "    a[\"local\"].append(aucReal(dsi, dsi.trueAlphas.flatten()))\n",
    "    a[\"global\"].append(aucReal(dsi, globalAlpha * np.ones(dsi.N)))\n",
    "    print(\"local: {:.3f}    global: {:.3f}\".format(a[\"local\"][-1],\n",
    "                                                   a[\"global\"][-1]))\n",
    "    print(\"~~~~ AVG: local: {:.3f}    global: {:.3f}\".format(np.mean(a[\"local\"]),\n",
    "                                                   np.mean(a[\"global\"])))"
   ]
  },
  {
   "cell_type": "code",
   "execution_count": null,
   "metadata": {},
   "outputs": [],
   "source": [
    "np.abs(dsi.alphaHats.mean(1) - dsi.trueAlphas.flatten()).max()"
   ]
  },
  {
   "cell_type": "code",
   "execution_count": null,
   "metadata": {},
   "outputs": [],
   "source": [
    "np.abs(globalAlpha - dsi.trueAlphas.flatten()).max()"
   ]
  },
  {
   "cell_type": "code",
   "execution_count": null,
   "metadata": {},
   "outputs": [],
   "source": []
  }
 ],
 "metadata": {
  "language_info": {
   "name": "python",
   "pygments_lexer": "ipython3"
  }
 },
 "nbformat": 4,
 "nbformat_minor": 4
}
