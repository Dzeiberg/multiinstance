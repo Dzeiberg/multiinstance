{
 "cells": [
  {
   "cell_type": "code",
   "execution_count": null,
   "metadata": {},
   "outputs": [],
   "source": [
    "from multiinstance.gradientMethod import g1, initRealDS, addEsts, plotResults\n",
    "from glob import glob\n",
    "import numpy as np\n",
    "from tqdm.notebook import tqdm\n",
    "from multiinstance.data.realData import buildDataset\n",
    "import matplotlib.pyplot as plt\n",
    "# from multiinstance.distanceApproaches import addTransformScores,getTransformScores\n",
    "from multiinstance.utils import *\n",
    "from sklearn.neural_network import MLPClassifier\n",
    "from sklearn.tree import DecisionTreeClassifier\n",
    "from sklearn.linear_model import LogisticRegression\n",
    "from sklearn.metrics import roc_auc_score"
   ]
  },
  {
   "cell_type": "code",
   "execution_count": null,
   "metadata": {},
   "outputs": [],
   "source": [
    "def plotGlobalEstResults(dsi):\n",
    "    fig,ax = plt.subplots(1,2,figsize=(16,4))\n",
    "    trueGlobalClassPrior = dsi.trueAlphas.flatten().dot(dsi.numU) / dsi.numU.sum()\n",
    "    ax[0].vlines(trueGlobalClassPrior, 0, 1, color=\"red\",alpha=.5,label=r\"$\\alpha_c$\")\n",
    "    ax[0].fill_between(np.quantile(dsi.globalAlphaHats,[0,1]),0,1,color=\"blue\",alpha=.5)\n",
    "#     ax[0].vlines(dsi.globalAlphaHats.mean(), 0, .5, color=\"blue\",alpha=.5,label=r\"$\\hat{\\alpha_c}$\")\n",
    "    ax[0].set_xlim(-.10,1)\n",
    "    ax[0].legend(bbox_to_anchor=(1.05,1),loc=\"upper right\")\n",
    "    plt.show()"
   ]
  },
  {
   "cell_type": "code",
   "execution_count": null,
   "metadata": {},
   "outputs": [],
   "source": [
    "globalEstAES =[]\n",
    "localEstAES = []\n",
    "ae0,ae1,bae,lae = 0, 0, 0, 0\n",
    "N = 0\n",
    "datasets = []\n",
    "results = []\n",
    "# fileNames = glob(\"/home/dzeiberg/ClassPriorEstimation/rawDatasets/*.mat\")[1:]\n",
    "fileNames = [g for g in glob(\"/ssdata/ClassPriorEstimationPrivate/data/rawDatasets/*.mat\") if \"mushroom\" not in g]\n",
    "fileNames = [fileNames[i] for i in np.random.choice(np.arange(len(fileNames)),replace=False, size=10)]\n",
    "\n",
    "for fileName in tqdm(fileNames, total=len(fileNames),desc=\"reps\"):\n",
    "    name = fileName.split(\"/\")[-1].replace(\".mat\",\"\")\n",
    "    print(fileName)\n",
    "    # build dataset\n",
    "    size = 2\n",
    "    n_epochs = 100\n",
    "    dsi = buildDataset(fileName,size=size,alphaDistr=lambda: np.random.uniform(0.05,.95))\n",
    "    dsi = addTransformScores(dsi,)\n",
    "    dsi = addGlobalEsts(dsi,reps=10)\n",
    "    dsi = addBagAlphaHats(dsi,reps=50)\n",
    "    dsi.trueGlobalClassPrior = dsi.trueAlphas.flatten().dot(dsi.numU) / dsi.numU.sum()\n",
    "    globalEstAES.append(np.abs(dsi.trueGlobalClassPrior - dsi.globalAlphaHats.mean()))\n",
    "    localEstAES.append(np.abs(dsi.trueAlphas.flatten() - dsi.alphaHats.mean(1)))\n",
    "#     # Run gradient method\n",
    "    g1Results = g1(dsi,n_epochs=n_epochs, varLambda=0, anchorLambda=0, regLambda=0, wOneLambda=0.1)\n",
    "    plotResults(dsi,g1Results)\n",
    "    plotGlobalEstResults(dsi)\n",
    "    ae0 += g1Results[\"maes\"][-1] * dsi.N\n",
    "    bae += g1Results[\"baseline_mae\"] * dsi.N\n",
    "    lae += g1Results[\"maes\"][0] * dsi.N\n",
    "    N += dsi.N\n",
    "    datasets.append(dsi)\n",
    "    results.append(g1Results)"
   ]
  },
  {
   "cell_type": "code",
   "execution_count": null,
   "metadata": {},
   "outputs": [],
   "source": [
    "plt.scatter([d.aucPU for d in datasets], [r[\"maes\"][-1] for r in results])\n",
    "plt.ylabel(\"Bag Class Prior MAE\")\n",
    "plt.xlabel(\"Transform AUCPU\")"
   ]
  },
  {
   "cell_type": "code",
   "execution_count": null,
   "metadata": {},
   "outputs": [],
   "source": [
    "plt.scatter(globalEstAES, [r[\"maes\"][-1] for r in results])\n",
    "plt.xlabel(\"Abs. Err. in global estimate\")\n",
    "plt.ylabel(\"Bag Class Prior MAE\")"
   ]
  },
  {
   "cell_type": "code",
   "execution_count": null,
   "metadata": {},
   "outputs": [],
   "source": [
    "plt.scatter([d.aucPU for d in datasets], globalEstAES)"
   ]
  },
  {
   "cell_type": "code",
   "execution_count": null,
   "metadata": {},
   "outputs": [],
   "source": [
    "np.mean(globalEstAES)"
   ]
  },
  {
   "cell_type": "code",
   "execution_count": null,
   "metadata": {},
   "outputs": [],
   "source": [
    "np.mean(localEstAES)"
   ]
  },
  {
   "cell_type": "code",
   "execution_count": null,
   "metadata": {},
   "outputs": [],
   "source": [
    "print(\" Gradient Method: {:.3f}\\n Global Baseline: {:.3f}\\n  Local Baseline: {:.3f}\".format(ae0/N, bae/N, lae/N))"
   ]
  },
  {
   "cell_type": "code",
   "execution_count": null,
   "metadata": {},
   "outputs": [],
   "source": [
    "((lae/N) - (ae0/N)) / (lae/N)"
   ]
  },
  {
   "cell_type": "markdown",
   "metadata": {},
   "source": [
    "## ROC Curve"
   ]
  },
  {
   "cell_type": "code",
   "execution_count": null,
   "metadata": {},
   "outputs": [],
   "source": []
  },
  {
   "cell_type": "code",
   "execution_count": null,
   "metadata": {},
   "outputs": [],
   "source": []
  }
 ],
 "metadata": {
  "language_info": {
   "name": "python",
   "pygments_lexer": "ipython3"
  }
 },
 "nbformat": 4,
 "nbformat_minor": 4
}
